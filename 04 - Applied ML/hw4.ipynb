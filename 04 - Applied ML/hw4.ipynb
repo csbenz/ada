{
 "cells": [
  {
   "cell_type": "code",
   "execution_count": 1,
   "metadata": {
    "collapsed": false
   },
   "outputs": [],
   "source": [
    "import pandas as pd\n",
    "import numpy as np\n",
    "import matplotlib.pyplot as plt\n",
    "from sklearn.linear_model import LinearRegression, LogisticRegression\n",
    "#from sklearn.preprocessing import OneHotEncoder\n",
    "#from pandas.plotting import scatter_matrix\n",
    "#from sklearn.model_selection import cross_val_predict\n",
    "#from sklearn.model_selection import cross_val_score\n",
    "#import seaborn as sns\n",
    "import networkx as nx\n",
    "from networkx.algorithms import bipartite\n",
    "%matplotlib inline"
   ]
  },
  {
   "cell_type": "markdown",
   "metadata": {},
   "source": [
    "# Question 1"
   ]
  },
  {
   "cell_type": "markdown",
   "metadata": {},
   "source": [
    "### 1. A naive analysis\n",
    "\n",
    "Compare the distribution of the outcome variable (`re78`) between the two groups, using plots and numbers.\n",
    "To summarize and compare the distributions, you may use the techniques we discussed in lectures 4 (\"Read the stats carefully\") and 6 (\"Data visualization\").\n",
    "\n",
    "What might a naive \"researcher\" conclude from this superficial analysis?"
   ]
  },
  {
   "cell_type": "markdown",
   "metadata": {},
   "source": [
    "#### Loading the data"
   ]
  },
  {
   "cell_type": "code",
   "execution_count": 2,
   "metadata": {
    "collapsed": false
   },
   "outputs": [
    {
     "data": {
      "text/html": [
       "<div>\n",
       "<table border=\"1\" class=\"dataframe\">\n",
       "  <thead>\n",
       "    <tr style=\"text-align: right;\">\n",
       "      <th></th>\n",
       "      <th>treat</th>\n",
       "      <th>age</th>\n",
       "      <th>educ</th>\n",
       "      <th>black</th>\n",
       "      <th>hispan</th>\n",
       "      <th>married</th>\n",
       "      <th>nodegree</th>\n",
       "      <th>re74</th>\n",
       "      <th>re75</th>\n",
       "      <th>re78</th>\n",
       "    </tr>\n",
       "    <tr>\n",
       "      <th>id</th>\n",
       "      <th></th>\n",
       "      <th></th>\n",
       "      <th></th>\n",
       "      <th></th>\n",
       "      <th></th>\n",
       "      <th></th>\n",
       "      <th></th>\n",
       "      <th></th>\n",
       "      <th></th>\n",
       "      <th></th>\n",
       "    </tr>\n",
       "  </thead>\n",
       "  <tbody>\n",
       "    <tr>\n",
       "      <th>NSW1</th>\n",
       "      <td>1</td>\n",
       "      <td>37</td>\n",
       "      <td>11</td>\n",
       "      <td>1</td>\n",
       "      <td>0</td>\n",
       "      <td>1</td>\n",
       "      <td>1</td>\n",
       "      <td>0.0</td>\n",
       "      <td>0.0</td>\n",
       "      <td>9930.0460</td>\n",
       "    </tr>\n",
       "    <tr>\n",
       "      <th>NSW2</th>\n",
       "      <td>1</td>\n",
       "      <td>22</td>\n",
       "      <td>9</td>\n",
       "      <td>0</td>\n",
       "      <td>1</td>\n",
       "      <td>0</td>\n",
       "      <td>1</td>\n",
       "      <td>0.0</td>\n",
       "      <td>0.0</td>\n",
       "      <td>3595.8940</td>\n",
       "    </tr>\n",
       "    <tr>\n",
       "      <th>NSW3</th>\n",
       "      <td>1</td>\n",
       "      <td>30</td>\n",
       "      <td>12</td>\n",
       "      <td>1</td>\n",
       "      <td>0</td>\n",
       "      <td>0</td>\n",
       "      <td>0</td>\n",
       "      <td>0.0</td>\n",
       "      <td>0.0</td>\n",
       "      <td>24909.4500</td>\n",
       "    </tr>\n",
       "    <tr>\n",
       "      <th>NSW4</th>\n",
       "      <td>1</td>\n",
       "      <td>27</td>\n",
       "      <td>11</td>\n",
       "      <td>1</td>\n",
       "      <td>0</td>\n",
       "      <td>0</td>\n",
       "      <td>1</td>\n",
       "      <td>0.0</td>\n",
       "      <td>0.0</td>\n",
       "      <td>7506.1460</td>\n",
       "    </tr>\n",
       "    <tr>\n",
       "      <th>NSW5</th>\n",
       "      <td>1</td>\n",
       "      <td>33</td>\n",
       "      <td>8</td>\n",
       "      <td>1</td>\n",
       "      <td>0</td>\n",
       "      <td>0</td>\n",
       "      <td>1</td>\n",
       "      <td>0.0</td>\n",
       "      <td>0.0</td>\n",
       "      <td>289.7899</td>\n",
       "    </tr>\n",
       "  </tbody>\n",
       "</table>\n",
       "</div>"
      ],
      "text/plain": [
       "      treat  age  educ  black  hispan  married  nodegree  re74  re75  \\\n",
       "id                                                                     \n",
       "NSW1      1   37    11      1       0        1         1   0.0   0.0   \n",
       "NSW2      1   22     9      0       1        0         1   0.0   0.0   \n",
       "NSW3      1   30    12      1       0        0         0   0.0   0.0   \n",
       "NSW4      1   27    11      1       0        0         1   0.0   0.0   \n",
       "NSW5      1   33     8      1       0        0         1   0.0   0.0   \n",
       "\n",
       "            re78  \n",
       "id                \n",
       "NSW1   9930.0460  \n",
       "NSW2   3595.8940  \n",
       "NSW3  24909.4500  \n",
       "NSW4   7506.1460  \n",
       "NSW5    289.7899  "
      ]
     },
     "execution_count": 2,
     "metadata": {},
     "output_type": "execute_result"
    }
   ],
   "source": [
    "data = pd.read_csv('lalonde.csv', index_col=0)\n",
    "\n",
    "data.head()"
   ]
  },
  {
   "cell_type": "markdown",
   "metadata": {},
   "source": [
    "#### Data split\n",
    "To do our naive aproach, we split our data regarding if the subject participated in the job training program or not."
   ]
  },
  {
   "cell_type": "code",
   "execution_count": 3,
   "metadata": {
    "collapsed": true
   },
   "outputs": [],
   "source": [
    "treated_group = data[data['treat'] == 1]\n",
    "untreated_group = data[data['treat'] == 0]"
   ]
  },
  {
   "cell_type": "code",
   "execution_count": 4,
   "metadata": {
    "collapsed": false
   },
   "outputs": [
    {
     "data": {
      "text/html": [
       "<div>\n",
       "<table border=\"1\" class=\"dataframe\">\n",
       "  <thead>\n",
       "    <tr style=\"text-align: right;\">\n",
       "      <th></th>\n",
       "      <th>Treated</th>\n",
       "      <th>Unreated</th>\n",
       "    </tr>\n",
       "  </thead>\n",
       "  <tbody>\n",
       "    <tr>\n",
       "      <th>count</th>\n",
       "      <td>185.000000</td>\n",
       "      <td>429.000000</td>\n",
       "    </tr>\n",
       "    <tr>\n",
       "      <th>mean</th>\n",
       "      <td>6349.143530</td>\n",
       "      <td>6984.169742</td>\n",
       "    </tr>\n",
       "    <tr>\n",
       "      <th>std</th>\n",
       "      <td>7867.402218</td>\n",
       "      <td>7294.161791</td>\n",
       "    </tr>\n",
       "    <tr>\n",
       "      <th>min</th>\n",
       "      <td>0.000000</td>\n",
       "      <td>0.000000</td>\n",
       "    </tr>\n",
       "    <tr>\n",
       "      <th>25%</th>\n",
       "      <td>485.229800</td>\n",
       "      <td>220.181300</td>\n",
       "    </tr>\n",
       "    <tr>\n",
       "      <th>50%</th>\n",
       "      <td>4232.309000</td>\n",
       "      <td>4975.505000</td>\n",
       "    </tr>\n",
       "    <tr>\n",
       "      <th>75%</th>\n",
       "      <td>9642.999000</td>\n",
       "      <td>11688.820000</td>\n",
       "    </tr>\n",
       "    <tr>\n",
       "      <th>max</th>\n",
       "      <td>60307.930000</td>\n",
       "      <td>25564.670000</td>\n",
       "    </tr>\n",
       "    <tr>\n",
       "      <th>median</th>\n",
       "      <td>4232.309000</td>\n",
       "      <td>4975.505000</td>\n",
       "    </tr>\n",
       "  </tbody>\n",
       "</table>\n",
       "</div>"
      ],
      "text/plain": [
       "             Treated      Unreated\n",
       "count     185.000000    429.000000\n",
       "mean     6349.143530   6984.169742\n",
       "std      7867.402218   7294.161791\n",
       "min         0.000000      0.000000\n",
       "25%       485.229800    220.181300\n",
       "50%      4232.309000   4975.505000\n",
       "75%      9642.999000  11688.820000\n",
       "max     60307.930000  25564.670000\n",
       "median   4232.309000   4975.505000"
      ]
     },
     "execution_count": 4,
     "metadata": {},
     "output_type": "execute_result"
    }
   ],
   "source": [
    "treated_desc = treated_group['re78'].describe().rename(\"Treated\")\n",
    "treated_desc.set_value('median', treated_group['re78'].median())\n",
    "\n",
    "untreated_desc = untreated_group['re78'].describe().rename(\"Unreated\")\n",
    "untreated_desc.set_value('median', untreated_group['re78'].median())\n",
    "\n",
    "stats_df = pd.concat([treated_desc, untreated_desc], axis=1)\n",
    "stats_df"
   ]
  },
  {
   "cell_type": "markdown",
   "metadata": {},
   "source": [
    "#### Some observations:\n",
    "- The max earning value for the treated group is way higher than the max earning for the untreated group, but the mean and median values are higher for the untreated group, which leads us to think that the treated group overall didn't get better results, even though some outliers did get a very good outcome from the trainee program. We can also observe the higher standard deviation for the treated group, which goes in the same direction.\n",
    "\n",
    "Now lets display some plots of the distribution to visually see what it looks like."
   ]
  },
  {
   "cell_type": "code",
   "execution_count": 5,
   "metadata": {
    "collapsed": false
   },
   "outputs": [
    {
     "data": {
      "text/plain": [
       "<matplotlib.text.Text at 0x2810736e5c0>"
      ]
     },
     "execution_count": 5,
     "metadata": {},
     "output_type": "execute_result"
    },
    {
     "data": {
      "image/png": "[encoded data removed]",
      "text/plain": [
       "<matplotlib.figure.Figure at 0x2810731f7b8>"
      ]
     },
     "metadata": {},
     "output_type": "display_data"
    }
   ],
   "source": [
    "plt.figure(figsize=(12,1))\n",
    "plt.scatter(data['re78'], data['treat'], alpha=0.5)\n",
    "plt.xlabel('real earnings in 1978')\n",
    "plt.ylabel('Participated in job training')"
   ]
  },
  {
   "cell_type": "code",
   "execution_count": 6,
   "metadata": {
    "collapsed": false
   },
   "outputs": [
    {
     "data": {
      "image/png": "[encoded data removed]",
      "text/plain": [
       "<matplotlib.figure.Figure at 0x28107c0a828>"
      ]
     },
     "metadata": {},
     "output_type": "display_data"
    }
   ],
   "source": [
    "bins = np.linspace(0,70000, 50)\n",
    "\n",
    "plt.figure(figsize=(15,8))\n",
    "plt.hist(treated_group['re78'], bins, alpha=0.8, label='treated')\n",
    "plt.hist(untreated_group['re78'], bins, alpha=0.5, label='untreated')\n",
    "plt.legend(loc='upper right')\n",
    "plt.xlabel('real earnings in 1978')\n",
    "plt.ylabel('Number of people')\n",
    "plt.show()"
   ]
  },
  {
   "cell_type": "code",
   "execution_count": 7,
   "metadata": {
    "collapsed": false
   },
   "outputs": [
    {
     "data": {
      "image/png": "[encoded data removed]",
      "text/plain": [
       "<matplotlib.figure.Figure at 0x28107c87828>"
      ]
     },
     "metadata": {},
     "output_type": "display_data"
    }
   ],
   "source": [
    "def draw_hists(data1, data2, title, xlabel, ylabel, column):\n",
    "    fig, (ax1, ax2) = plt.subplots(1,2, figsize=(15,6), sharex=True, sharey=True)\n",
    "    data1.hist(column, bins=bins, label='treated', ax=ax1)\n",
    "    data2.hist(column, bins=bins, label='untreated', ax=ax2)\n",
    "    set_axis(ax1, True, title, xlabel)\n",
    "    set_axis(ax2, False, title, xlabel)\n",
    "    ax1.set_ylabel(ylabel)\n",
    "\n",
    "def set_axis(ax, treated, title, xlabel=None):\n",
    "    if treated:\n",
    "        ax.set_title('Treated '+ title)\n",
    "    else:\n",
    "        ax.set_title('Untreated ' + title)\n",
    "    if xlabel is not None:\n",
    "        ax.set_xlabel(xlabel)\n",
    "    return\n",
    "\n",
    "\n",
    "draw_hists(treated_group, untreated_group, 'subjects - 1978 real earnings distribution', \n",
    "          '1978 real earnings', 'Number of people', 're78')\n",
    "\n",
    "#TODO create function and set all configs for axis etc. for both histograms # Complete?"
   ]
  },
  {
   "cell_type": "markdown",
   "metadata": {
    "collapsed": true
   },
   "source": [
    "#### Conclusion on our naive analisis\n",
    "\n",
    "We can directly notice two big difference between the two groups:\n",
    "- The untreated group has a larger and flatter distribution on the earning. And it deacrise less than the treated group.\n",
    "- There exist a few very high earning on the treated group.\n",
    "\n",
    "Both groups appears to have a quit similar plot. However, regarding the median and the mean, the untreated groups seems to have a higher value of income.\n",
    "##### mean\n",
    "- Treated \t6349.143530\n",
    "- Untreated 6984.169742\n",
    "\n",
    "##### median \t \t\n",
    "- Treated \t4232.309000\n",
    "- Untreated 4975.505000\n",
    "\n",
    "In conclusion of this naive analisi, we can say that the trainging program don't work. It only give the possibility to a tiny part to earn the jacpot."
   ]
  },
  {
   "cell_type": "markdown",
   "metadata": {},
   "source": [
    "### 2. A closer look at the data\n",
    "\n",
    "You're not naive, of course (and even if you are, you've learned certain things in ADA), so you aren't content with a superficial analysis such as the above.\n",
    "You're aware of the dangers of observational studies, so you take a closer look at the data before jumping to conclusions.\n",
    "\n",
    "For each feature in the dataset, compare its distribution in the treated group with its distribution in the control group, using plots and numbers.\n",
    "As above, you may use the techniques we discussed in class for summarizing and comparing the distributions.\n",
    "\n",
    "What do you observe?\n",
    "Describe what your observations mean for the conclusions drawn by the naive \"researcher\" from his superficial analysis."
   ]
  },
  {
   "cell_type": "code",
   "execution_count": 8,
   "metadata": {
    "collapsed": false,
    "scrolled": true
   },
   "outputs": [
    {
     "data": {
      "text/html": [
       "<div>\n",
       "<table border=\"1\" class=\"dataframe\">\n",
       "  <thead>\n",
       "    <tr style=\"text-align: right;\">\n",
       "      <th></th>\n",
       "      <th>treat</th>\n",
       "      <th>age</th>\n",
       "      <th>educ</th>\n",
       "      <th>black</th>\n",
       "      <th>hispan</th>\n",
       "      <th>married</th>\n",
       "      <th>nodegree</th>\n",
       "      <th>re74</th>\n",
       "      <th>re75</th>\n",
       "      <th>re78</th>\n",
       "    </tr>\n",
       "  </thead>\n",
       "  <tbody>\n",
       "    <tr>\n",
       "      <th>count</th>\n",
       "      <td>185.0</td>\n",
       "      <td>185.000000</td>\n",
       "      <td>185.000000</td>\n",
       "      <td>185.000000</td>\n",
       "      <td>185.000000</td>\n",
       "      <td>185.000000</td>\n",
       "      <td>185.000000</td>\n",
       "      <td>185.000000</td>\n",
       "      <td>185.000000</td>\n",
       "      <td>185.000000</td>\n",
       "    </tr>\n",
       "    <tr>\n",
       "      <th>mean</th>\n",
       "      <td>1.0</td>\n",
       "      <td>25.816216</td>\n",
       "      <td>10.345946</td>\n",
       "      <td>0.843243</td>\n",
       "      <td>0.059459</td>\n",
       "      <td>0.189189</td>\n",
       "      <td>0.708108</td>\n",
       "      <td>2095.573689</td>\n",
       "      <td>1532.055314</td>\n",
       "      <td>6349.143530</td>\n",
       "    </tr>\n",
       "    <tr>\n",
       "      <th>std</th>\n",
       "      <td>0.0</td>\n",
       "      <td>7.155019</td>\n",
       "      <td>2.010650</td>\n",
       "      <td>0.364558</td>\n",
       "      <td>0.237124</td>\n",
       "      <td>0.392722</td>\n",
       "      <td>0.455867</td>\n",
       "      <td>4886.620353</td>\n",
       "      <td>3219.250870</td>\n",
       "      <td>7867.402218</td>\n",
       "    </tr>\n",
       "    <tr>\n",
       "      <th>min</th>\n",
       "      <td>1.0</td>\n",
       "      <td>17.000000</td>\n",
       "      <td>4.000000</td>\n",
       "      <td>0.000000</td>\n",
       "      <td>0.000000</td>\n",
       "      <td>0.000000</td>\n",
       "      <td>0.000000</td>\n",
       "      <td>0.000000</td>\n",
       "      <td>0.000000</td>\n",
       "      <td>0.000000</td>\n",
       "    </tr>\n",
       "    <tr>\n",
       "      <th>25%</th>\n",
       "      <td>1.0</td>\n",
       "      <td>20.000000</td>\n",
       "      <td>9.000000</td>\n",
       "      <td>1.000000</td>\n",
       "      <td>0.000000</td>\n",
       "      <td>0.000000</td>\n",
       "      <td>0.000000</td>\n",
       "      <td>0.000000</td>\n",
       "      <td>0.000000</td>\n",
       "      <td>485.229800</td>\n",
       "    </tr>\n",
       "    <tr>\n",
       "      <th>50%</th>\n",
       "      <td>1.0</td>\n",
       "      <td>25.000000</td>\n",
       "      <td>11.000000</td>\n",
       "      <td>1.000000</td>\n",
       "      <td>0.000000</td>\n",
       "      <td>0.000000</td>\n",
       "      <td>1.000000</td>\n",
       "      <td>0.000000</td>\n",
       "      <td>0.000000</td>\n",
       "      <td>4232.309000</td>\n",
       "    </tr>\n",
       "    <tr>\n",
       "      <th>75%</th>\n",
       "      <td>1.0</td>\n",
       "      <td>29.000000</td>\n",
       "      <td>12.000000</td>\n",
       "      <td>1.000000</td>\n",
       "      <td>0.000000</td>\n",
       "      <td>0.000000</td>\n",
       "      <td>1.000000</td>\n",
       "      <td>1291.468000</td>\n",
       "      <td>1817.284000</td>\n",
       "      <td>9642.999000</td>\n",
       "    </tr>\n",
       "    <tr>\n",
       "      <th>max</th>\n",
       "      <td>1.0</td>\n",
       "      <td>48.000000</td>\n",
       "      <td>16.000000</td>\n",
       "      <td>1.000000</td>\n",
       "      <td>1.000000</td>\n",
       "      <td>1.000000</td>\n",
       "      <td>1.000000</td>\n",
       "      <td>35040.070000</td>\n",
       "      <td>25142.240000</td>\n",
       "      <td>60307.930000</td>\n",
       "    </tr>\n",
       "  </tbody>\n",
       "</table>\n",
       "</div>"
      ],
      "text/plain": [
       "       treat         age        educ       black      hispan     married  \\\n",
       "count  185.0  185.000000  185.000000  185.000000  185.000000  185.000000   \n",
       "mean     1.0   25.816216   10.345946    0.843243    0.059459    0.189189   \n",
       "std      0.0    7.155019    2.010650    0.364558    0.237124    0.392722   \n",
       "min      1.0   17.000000    4.000000    0.000000    0.000000    0.000000   \n",
       "25%      1.0   20.000000    9.000000    1.000000    0.000000    0.000000   \n",
       "50%      1.0   25.000000   11.000000    1.000000    0.000000    0.000000   \n",
       "75%      1.0   29.000000   12.000000    1.000000    0.000000    0.000000   \n",
       "max      1.0   48.000000   16.000000    1.000000    1.000000    1.000000   \n",
       "\n",
       "         nodegree          re74          re75          re78  \n",
       "count  185.000000    185.000000    185.000000    185.000000  \n",
       "mean     0.708108   2095.573689   1532.055314   6349.143530  \n",
       "std      0.455867   4886.620353   3219.250870   7867.402218  \n",
       "min      0.000000      0.000000      0.000000      0.000000  \n",
       "25%      0.000000      0.000000      0.000000    485.229800  \n",
       "50%      1.000000      0.000000      0.000000   4232.309000  \n",
       "75%      1.000000   1291.468000   1817.284000   9642.999000  \n",
       "max      1.000000  35040.070000  25142.240000  60307.930000  "
      ]
     },
     "execution_count": 8,
     "metadata": {},
     "output_type": "execute_result"
    }
   ],
   "source": [
    "treated_group.describe()"
   ]
  },
  {
   "cell_type": "code",
   "execution_count": 9,
   "metadata": {
    "collapsed": false
   },
   "outputs": [
    {
     "data": {
      "text/html": [
       "<div>\n",
       "<table border=\"1\" class=\"dataframe\">\n",
       "  <thead>\n",
       "    <tr style=\"text-align: right;\">\n",
       "      <th></th>\n",
       "      <th>treat</th>\n",
       "      <th>age</th>\n",
       "      <th>educ</th>\n",
       "      <th>black</th>\n",
       "      <th>hispan</th>\n",
       "      <th>married</th>\n",
       "      <th>nodegree</th>\n",
       "      <th>re74</th>\n",
       "      <th>re75</th>\n",
       "      <th>re78</th>\n",
       "    </tr>\n",
       "  </thead>\n",
       "  <tbody>\n",
       "    <tr>\n",
       "      <th>count</th>\n",
       "      <td>429.0</td>\n",
       "      <td>429.000000</td>\n",
       "      <td>429.000000</td>\n",
       "      <td>429.000000</td>\n",
       "      <td>429.000000</td>\n",
       "      <td>429.000000</td>\n",
       "      <td>429.000000</td>\n",
       "      <td>429.000000</td>\n",
       "      <td>429.000000</td>\n",
       "      <td>429.000000</td>\n",
       "    </tr>\n",
       "    <tr>\n",
       "      <th>mean</th>\n",
       "      <td>0.0</td>\n",
       "      <td>28.030303</td>\n",
       "      <td>10.235431</td>\n",
       "      <td>0.202797</td>\n",
       "      <td>0.142191</td>\n",
       "      <td>0.512821</td>\n",
       "      <td>0.596737</td>\n",
       "      <td>5619.236506</td>\n",
       "      <td>2466.484443</td>\n",
       "      <td>6984.169742</td>\n",
       "    </tr>\n",
       "    <tr>\n",
       "      <th>std</th>\n",
       "      <td>0.0</td>\n",
       "      <td>10.786653</td>\n",
       "      <td>2.855238</td>\n",
       "      <td>0.402552</td>\n",
       "      <td>0.349654</td>\n",
       "      <td>0.500419</td>\n",
       "      <td>0.491126</td>\n",
       "      <td>6788.750796</td>\n",
       "      <td>3291.996183</td>\n",
       "      <td>7294.161791</td>\n",
       "    </tr>\n",
       "    <tr>\n",
       "      <th>min</th>\n",
       "      <td>0.0</td>\n",
       "      <td>16.000000</td>\n",
       "      <td>0.000000</td>\n",
       "      <td>0.000000</td>\n",
       "      <td>0.000000</td>\n",
       "      <td>0.000000</td>\n",
       "      <td>0.000000</td>\n",
       "      <td>0.000000</td>\n",
       "      <td>0.000000</td>\n",
       "      <td>0.000000</td>\n",
       "    </tr>\n",
       "    <tr>\n",
       "      <th>25%</th>\n",
       "      <td>0.0</td>\n",
       "      <td>19.000000</td>\n",
       "      <td>9.000000</td>\n",
       "      <td>0.000000</td>\n",
       "      <td>0.000000</td>\n",
       "      <td>0.000000</td>\n",
       "      <td>0.000000</td>\n",
       "      <td>0.000000</td>\n",
       "      <td>0.000000</td>\n",
       "      <td>220.181300</td>\n",
       "    </tr>\n",
       "    <tr>\n",
       "      <th>50%</th>\n",
       "      <td>0.0</td>\n",
       "      <td>25.000000</td>\n",
       "      <td>11.000000</td>\n",
       "      <td>0.000000</td>\n",
       "      <td>0.000000</td>\n",
       "      <td>1.000000</td>\n",
       "      <td>1.000000</td>\n",
       "      <td>2547.047000</td>\n",
       "      <td>1086.726000</td>\n",
       "      <td>4975.505000</td>\n",
       "    </tr>\n",
       "    <tr>\n",
       "      <th>75%</th>\n",
       "      <td>0.0</td>\n",
       "      <td>35.000000</td>\n",
       "      <td>12.000000</td>\n",
       "      <td>0.000000</td>\n",
       "      <td>0.000000</td>\n",
       "      <td>1.000000</td>\n",
       "      <td>1.000000</td>\n",
       "      <td>9277.128000</td>\n",
       "      <td>3881.419000</td>\n",
       "      <td>11688.820000</td>\n",
       "    </tr>\n",
       "    <tr>\n",
       "      <th>max</th>\n",
       "      <td>0.0</td>\n",
       "      <td>55.000000</td>\n",
       "      <td>18.000000</td>\n",
       "      <td>1.000000</td>\n",
       "      <td>1.000000</td>\n",
       "      <td>1.000000</td>\n",
       "      <td>1.000000</td>\n",
       "      <td>25862.320000</td>\n",
       "      <td>18347.230000</td>\n",
       "      <td>25564.670000</td>\n",
       "    </tr>\n",
       "  </tbody>\n",
       "</table>\n",
       "</div>"
      ],
      "text/plain": [
       "       treat         age        educ       black      hispan     married  \\\n",
       "count  429.0  429.000000  429.000000  429.000000  429.000000  429.000000   \n",
       "mean     0.0   28.030303   10.235431    0.202797    0.142191    0.512821   \n",
       "std      0.0   10.786653    2.855238    0.402552    0.349654    0.500419   \n",
       "min      0.0   16.000000    0.000000    0.000000    0.000000    0.000000   \n",
       "25%      0.0   19.000000    9.000000    0.000000    0.000000    0.000000   \n",
       "50%      0.0   25.000000   11.000000    0.000000    0.000000    1.000000   \n",
       "75%      0.0   35.000000   12.000000    0.000000    0.000000    1.000000   \n",
       "max      0.0   55.000000   18.000000    1.000000    1.000000    1.000000   \n",
       "\n",
       "         nodegree          re74          re75          re78  \n",
       "count  429.000000    429.000000    429.000000    429.000000  \n",
       "mean     0.596737   5619.236506   2466.484443   6984.169742  \n",
       "std      0.491126   6788.750796   3291.996183   7294.161791  \n",
       "min      0.000000      0.000000      0.000000      0.000000  \n",
       "25%      0.000000      0.000000      0.000000    220.181300  \n",
       "50%      1.000000   2547.047000   1086.726000   4975.505000  \n",
       "75%      1.000000   9277.128000   3881.419000  11688.820000  \n",
       "max      1.000000  25862.320000  18347.230000  25564.670000  "
      ]
     },
     "execution_count": 9,
     "metadata": {},
     "output_type": "execute_result"
    }
   ],
   "source": [
    "untreated_group.describe()"
   ]
  },
  {
   "cell_type": "markdown",
   "metadata": {},
   "source": [
    "It's always easier to look at pictures than numbers, so let us start with continious data of age and years of education. We will build the box plots to observe that the treated group is generally younger and that the distribution of years of education is similar, except that the untreated group has a couple of outliers more."
   ]
  },
  {
   "cell_type": "code",
   "execution_count": 10,
   "metadata": {
    "collapsed": false
   },
   "outputs": [
    {
     "data": {
      "image/png": "[encoded data removed]",
      "text/plain": [
       "<matplotlib.figure.Figure at 0x28107e1e7b8>"
      ]
     },
     "metadata": {},
     "output_type": "display_data"
    }
   ],
   "source": [
    "def drawBoxPlot (data1, data2, title, col):\n",
    "    fig, (ax1, ax2) = plt.subplots(1,2, figsize=(6,6), sharex=True, sharey=True)\n",
    "    treated_group[col].plot.box(ax=ax1)\n",
    "    untreated_group[col].plot.box(ax=ax2)\n",
    "    set_axis(ax1, True, title)\n",
    "    set_axis(ax2, False, title)\n",
    "\n",
    "drawBoxPlot(treated_group, untreated_group, 'Age Distribution', 'age')"
   ]
  },
  {
   "cell_type": "code",
   "execution_count": 11,
   "metadata": {
    "collapsed": false
   },
   "outputs": [
    {
     "data": {
      "image/png": "[encoded data removed]",
      "text/plain": [
       "<matplotlib.figure.Figure at 0x281026832e8>"
      ]
     },
     "metadata": {},
     "output_type": "display_data"
    }
   ],
   "source": [
    "drawBoxPlot(treated_group, untreated_group, 'Educ. Distribution', 'educ')"
   ]
  },
  {
   "cell_type": "markdown",
   "metadata": {},
   "source": [
    "Now let's have a look at the distribution of real earnings before the treatment."
   ]
  },
  {
   "cell_type": "code",
   "execution_count": 12,
   "metadata": {
    "collapsed": false
   },
   "outputs": [
    {
     "data": {
      "image/png": "[encoded data removed]",
      "text/plain": [
       "<matplotlib.figure.Figure at 0x28107e631d0>"
      ]
     },
     "metadata": {},
     "output_type": "display_data"
    },
    {
     "data": {
      "image/png": "[encoded data removed]",
      "text/plain": [
       "<matplotlib.figure.Figure at 0x28107e63cf8>"
      ]
     },
     "metadata": {},
     "output_type": "display_data"
    }
   ],
   "source": [
    "drawBoxPlot(treated_group, untreated_group, 'RE 1974 Distribution', 're74')\n",
    "drawBoxPlot(treated_group, untreated_group, 'RE 1975 Distribution', 're75')"
   ]
  },
  {
   "cell_type": "markdown",
   "metadata": {},
   "source": [
    "Here is something interesting: before the trearment the treated group was earning significantly less then untreated group. Moreover there are a couple of outliers in the treated group that earned a lot more then the mean of the group, that might explain the outliers in the real earnings distribution after the treatment."
   ]
  },
  {
   "cell_type": "markdown",
   "metadata": {},
   "source": [
    "Below, we compare the percent of true/false values for features concerning race ('black' and 'hispan'), marriage and degree for each group and compare in bar charts.\n",
    "\n",
    "We also plot the distributions for the age, education and income prior to the experience to compare between the two groups.\n",
    "\n",
    "These observations will let us determine if the two groups are equivalently distributed."
   ]
  },
  {
   "cell_type": "code",
   "execution_count": 13,
   "metadata": {
    "collapsed": false
   },
   "outputs": [
    {
     "name": "stdout",
     "output_type": "stream",
     "text": [
      "black percent for treated group: 84.32%\n",
      "black percent for untreated group: 20.28%\n",
      "\n"
     ]
    },
    {
     "data": {
      "image/png": "[encoded data removed]",
      "text/plain": [
       "<matplotlib.figure.Figure at 0x28107f1eac8>"
      ]
     },
     "metadata": {},
     "output_type": "display_data"
    },
    {
     "name": "stdout",
     "output_type": "stream",
     "text": [
      "hispan percent for treated group: 5.95%\n",
      "hispan percent for untreated group: 14.22%\n",
      "\n"
     ]
    },
    {
     "data": {
      "image/png": "[encoded data removed]",
      "text/plain": [
       "<matplotlib.figure.Figure at 0x28108051cc0>"
      ]
     },
     "metadata": {},
     "output_type": "display_data"
    },
    {
     "name": "stdout",
     "output_type": "stream",
     "text": [
      "married percent for treated group: 18.92%\n",
      "married percent for untreated group: 51.28%\n",
      "\n"
     ]
    },
    {
     "data": {
      "image/png": "[encoded data removed]",
      "text/plain": [
       "<matplotlib.figure.Figure at 0x281080baa90>"
      ]
     },
     "metadata": {},
     "output_type": "display_data"
    },
    {
     "name": "stdout",
     "output_type": "stream",
     "text": [
      "nodegree percent for treated group: 70.81%\n",
      "nodegree percent for untreated group: 59.67%\n",
      "\n"
     ]
    },
    {
     "data": {
      "image/png": "[encoded data removed]",
      "text/plain": [
       "<matplotlib.figure.Figure at 0x2810811ee48>"
      ]
     },
     "metadata": {},
     "output_type": "display_data"
    },
    {
     "data": {
      "text/plain": [
       "[None, None, None, None]"
      ]
     },
     "execution_count": 13,
     "metadata": {},
     "output_type": "execute_result"
    }
   ],
   "source": [
    "def percentage_comparison(treated_g, untreated_g, feature):\n",
    "    treated_percent = 100 * np.sum(treated_g[feature]) / treated_g[feature].size\n",
    "    untreated_percent = 100 * np.sum(untreated_g[feature]) / untreated_g[feature].size\n",
    "    print('{} percent for treated group: {:0.2f}%'.format(feature, treated_percent))\n",
    "    print('{} percent for untreated group: {:0.2f}%'.format(feature, untreated_percent))\n",
    "    print()\n",
    "    \n",
    "    x = [u'True', u'False']\n",
    "    y = [treated_percent, untreated_percent]\n",
    "    fig, ax = plt.subplots() \n",
    "    plt.bar([0,1], [treated_percent, untreated_percent])\n",
    "    plt.title(feature)\n",
    "    plt.xlabel(feature)\n",
    "    plt.ylabel('Percentage (%)')\n",
    "    \n",
    "    ax.set_ylim([0,100])\n",
    "    \n",
    "    plt.show()\n",
    "\n",
    "features_to_compare = ['black', 'hispan', 'married', 'nodegree']\n",
    "[percentage_comparison(treated_group, untreated_group, f) for f in features_to_compare]\n",
    "\n",
    "# TODO plot values above in small bar charts with yaxis 100% to compare visually\n",
    "# TODO plot in subplots side by side, nicer\n",
    "# Display bar value in each bar\n",
    "# TODO plot age distribution, plot years of education, display income before exp\n",
    "# TODO box plots?\n",
    "# TODO new column with 'race_other' (if black and hispan == 0)"
   ]
  },
  {
   "cell_type": "code",
   "execution_count": 14,
   "metadata": {
    "collapsed": false
   },
   "outputs": [
    {
     "data": {
      "image/png": "[encoded data removed]",
      "text/plain": [
       "<matplotlib.figure.Figure at 0x28108041160>"
      ]
     },
     "metadata": {},
     "output_type": "display_data"
    }
   ],
   "source": [
    "#create two dataset for the percent\n",
    "temp_data = {\n",
    "    'categories':['Black', 'Hispanic', 'Married', 'No degree'],\n",
    "    'Treated':  [100 * np.sum(treated_group['black']) / treated_group['black'].size,\n",
    "                 100 * np.sum(treated_group['hispan']) / treated_group['hispan'].size,\n",
    "                 100 * np.sum(treated_group['married']) / treated_group['married'].size,\n",
    "                 100 * np.sum(treated_group['nodegree']) / treated_group['nodegree'].size],\n",
    "    'Untreated': [100 * np.sum(untreated_group['black']) / untreated_group['black'].size,\n",
    "                  100 * np.sum(untreated_group['hispan']) / untreated_group['hispan'].size,\n",
    "                  100 * np.sum(untreated_group['married']) / untreated_group['married'].size,\n",
    "                  100 * np.sum(untreated_group['nodegree']) / untreated_group['nodegree'].size]  \n",
    "}\n",
    "\n",
    "percent_df = pd.DataFrame(temp_data, columns = ['categories', 'Treated', 'Untreated'])\n",
    "\n",
    "# Setting the positions and width for the bars\n",
    "pos = list(range(len(percent_df['Treated']))) \n",
    "width = 0.25 \n",
    "\n",
    "# Creating the plot of both groups\n",
    "fig, ax = fig, ax = plt.subplots(figsize=(10,5))\n",
    "\n",
    "plt.bar(pos, \n",
    "        percent_df['Treated'], \n",
    "        width, \n",
    "        alpha=0.5, \n",
    "        color='#ff9900')\n",
    "\n",
    "plt.bar([ p + width for p in pos ], \n",
    "        percent_df['Untreated'], \n",
    "        width, \n",
    "        alpha=0.5, \n",
    "        color='#9966ff')\n",
    "\n",
    "ax.set_ylabel('Percentage (%)')\n",
    "ax.set_title('Percents on our groups')\n",
    "ax.set_xticks([p + 0.5 * width for p in pos])\n",
    "ax.set_xticklabels(percent_df['categories'])\n",
    "plt.ylim([0, 100])\n",
    "plt.legend(['Treated group', 'Untreated group'], loc='upper right')\n",
    "plt.grid(color='w', linestyle='-', linewidth=1)\n",
    "plt.show()"
   ]
  },
  {
   "cell_type": "markdown",
   "metadata": {},
   "source": [
    "- Proportionally, the number of blacks in the control group is way higher than in the treated group.\n",
    "- There is also a disreptancy in the percentage of married people in each group\n",
    "\n",
    "\n",
    "These observations show that the treatment assignment isn't random and there is a huge bias between the two groups in some of the covariates, such as the number of blacks. This doesn't correspond to a randomized experiment. Such disruptancies cause major differences in the groups, which alone is enough to invalidate the naive conclusions made in part 1, or at least put the above findings into question."
   ]
  },
  {
   "cell_type": "markdown",
   "metadata": {},
   "source": [
    "### 3. A propensity score model\n",
    "\n",
    "Use logistic regression to estimate propensity scores for all points in the dataset.\n",
    "You may use `sklearn` to fit the logistic regression model and apply it to each data point to obtain propensity scores:\n",
    "\n",
    "```python\n",
    "from sklearn import linear_model\n",
    "logistic = linear_model.LogisticRegression()\n",
    "```\n",
    "\n",
    "Recall that the propensity score of a data point represents its probability of receiving the treatment, based on its pre-treatment features (in this case, age, education, pre-treatment income, etc.).\n",
    "To brush up on propensity scores, you may read chapter 3.3 of the above-cited book by Rosenbaum or [this article](https://drive.google.com/file/d/0B4jctQY-uqhzTlpBaTBJRTJFVFE/view).\n",
    "\n",
    "Note: you do not need a train/test split here. Train and apply the model on the entire dataset. If you're wondering why this is the right thing to do in this situation, recall that the propensity score model is not used in order to make predictions about unseen data. Its sole purpose is to balance the dataset across treatment groups.\n",
    "(See p. 74 of Rosenbaum's book for an explanation why slight overfitting is even good for propensity scores.\n",
    "If you want even more information, read [this article](https://drive.google.com/file/d/0B4jctQY-uqhzTlpBaTBJRTJFVFE/view).)"
   ]
  },
  {
   "cell_type": "code",
   "execution_count": 15,
   "metadata": {
    "collapsed": false
   },
   "outputs": [
    {
     "data": {
      "text/html": [
       "<div>\n",
       "<table border=\"1\" class=\"dataframe\">\n",
       "  <thead>\n",
       "    <tr style=\"text-align: right;\">\n",
       "      <th></th>\n",
       "      <th>treat</th>\n",
       "      <th>age</th>\n",
       "      <th>educ</th>\n",
       "      <th>black</th>\n",
       "      <th>hispan</th>\n",
       "      <th>married</th>\n",
       "      <th>nodegree</th>\n",
       "      <th>re74</th>\n",
       "      <th>re75</th>\n",
       "      <th>re78</th>\n",
       "      <th>prop_score</th>\n",
       "    </tr>\n",
       "    <tr>\n",
       "      <th>id</th>\n",
       "      <th></th>\n",
       "      <th></th>\n",
       "      <th></th>\n",
       "      <th></th>\n",
       "      <th></th>\n",
       "      <th></th>\n",
       "      <th></th>\n",
       "      <th></th>\n",
       "      <th></th>\n",
       "      <th></th>\n",
       "      <th></th>\n",
       "    </tr>\n",
       "  </thead>\n",
       "  <tbody>\n",
       "    <tr>\n",
       "      <th>NSW1</th>\n",
       "      <td>1</td>\n",
       "      <td>37</td>\n",
       "      <td>11</td>\n",
       "      <td>1</td>\n",
       "      <td>0</td>\n",
       "      <td>1</td>\n",
       "      <td>1</td>\n",
       "      <td>0.0</td>\n",
       "      <td>0.0</td>\n",
       "      <td>9930.0460</td>\n",
       "      <td>0.443350</td>\n",
       "    </tr>\n",
       "    <tr>\n",
       "      <th>NSW2</th>\n",
       "      <td>1</td>\n",
       "      <td>22</td>\n",
       "      <td>9</td>\n",
       "      <td>0</td>\n",
       "      <td>1</td>\n",
       "      <td>0</td>\n",
       "      <td>1</td>\n",
       "      <td>0.0</td>\n",
       "      <td>0.0</td>\n",
       "      <td>3595.8940</td>\n",
       "      <td>0.144660</td>\n",
       "    </tr>\n",
       "    <tr>\n",
       "      <th>NSW3</th>\n",
       "      <td>1</td>\n",
       "      <td>30</td>\n",
       "      <td>12</td>\n",
       "      <td>1</td>\n",
       "      <td>0</td>\n",
       "      <td>0</td>\n",
       "      <td>0</td>\n",
       "      <td>0.0</td>\n",
       "      <td>0.0</td>\n",
       "      <td>24909.4500</td>\n",
       "      <td>0.722355</td>\n",
       "    </tr>\n",
       "    <tr>\n",
       "      <th>NSW4</th>\n",
       "      <td>1</td>\n",
       "      <td>27</td>\n",
       "      <td>11</td>\n",
       "      <td>1</td>\n",
       "      <td>0</td>\n",
       "      <td>0</td>\n",
       "      <td>1</td>\n",
       "      <td>0.0</td>\n",
       "      <td>0.0</td>\n",
       "      <td>7506.1460</td>\n",
       "      <td>0.664151</td>\n",
       "    </tr>\n",
       "    <tr>\n",
       "      <th>NSW5</th>\n",
       "      <td>1</td>\n",
       "      <td>33</td>\n",
       "      <td>8</td>\n",
       "      <td>1</td>\n",
       "      <td>0</td>\n",
       "      <td>0</td>\n",
       "      <td>1</td>\n",
       "      <td>0.0</td>\n",
       "      <td>0.0</td>\n",
       "      <td>289.7899</td>\n",
       "      <td>0.698286</td>\n",
       "    </tr>\n",
       "  </tbody>\n",
       "</table>\n",
       "</div>"
      ],
      "text/plain": [
       "      treat  age  educ  black  hispan  married  nodegree  re74  re75  \\\n",
       "id                                                                     \n",
       "NSW1      1   37    11      1       0        1         1   0.0   0.0   \n",
       "NSW2      1   22     9      0       1        0         1   0.0   0.0   \n",
       "NSW3      1   30    12      1       0        0         0   0.0   0.0   \n",
       "NSW4      1   27    11      1       0        0         1   0.0   0.0   \n",
       "NSW5      1   33     8      1       0        0         1   0.0   0.0   \n",
       "\n",
       "            re78  prop_score  \n",
       "id                            \n",
       "NSW1   9930.0460    0.443350  \n",
       "NSW2   3595.8940    0.144660  \n",
       "NSW3  24909.4500    0.722355  \n",
       "NSW4   7506.1460    0.664151  \n",
       "NSW5    289.7899    0.698286  "
      ]
     },
     "execution_count": 15,
     "metadata": {},
     "output_type": "execute_result"
    }
   ],
   "source": [
    "logistic = LogisticRegression()\n",
    "\n",
    "confounders = ['age', 'educ', 'black', 'hispan', 'married', 'nodegree', 're74', 're75']\n",
    "\n",
    "y = data['treat']\n",
    "X = data[confounders]\n",
    "logistic.fit(X, y)\n",
    "\n",
    "prop_score = [e for (_,e) in logistic.predict_proba(X)]\n",
    "\n",
    "data['prop_score'] = prop_score\n",
    "data.head()\n",
    "\n",
    "# TODO way to ignore re74 and re75 when zero?"
   ]
  },
  {
   "cell_type": "markdown",
   "metadata": {},
   "source": [
    "Which means, for example, that the second person in the above array has a 14.5% chance of being in the treated group."
   ]
  },
  {
   "cell_type": "markdown",
   "metadata": {},
   "source": [
    "### 4. Balancing the dataset via matching\n",
    "\n",
    "Use the propensity scores to match each data point from the treated group with exactly one data point from the control group, while ensuring that each data point from the control group is matched with at most one data point from the treated group.\n",
    "(Hint: you may explore the `networkx` package in Python for predefined matching functions.)\n",
    "\n",
    "Your matching should maximize the similarity between matched subjects, as captured by their propensity scores.\n",
    "In other words, the sum (over all matched pairs) of absolute propensity-score differences between the two matched subjects should be minimized.\n",
    "\n",
    "After matching, you have as many treated as you have control subjects.\n",
    "Compare the outcomes (`re78`) between the two groups (treated and control).\n",
    "\n",
    "Also, compare again the feature-value distributions between the two groups, as you've done in part 2 above, but now only for the matched subjects.\n",
    "What do you observe?\n",
    "Are you closer to being able to draw valid conclusions now than you were before?"
   ]
  },
  {
   "cell_type": "code",
   "execution_count": 16,
   "metadata": {
    "collapsed": false,
    "scrolled": true
   },
   "outputs": [
    {
     "data": {
      "text/plain": [
       "{'NSW1': 'PSID352',\n",
       " 'NSW10': 'PSID72',\n",
       " 'NSW100': 'PSID338',\n",
       " 'NSW101': 'PSID357',\n",
       " 'NSW102': 'PSID112',\n",
       " 'NSW103': 'PSID408',\n",
       " 'NSW104': 'PSID208',\n",
       " 'NSW105': 'PSID35',\n",
       " 'NSW106': 'PSID409',\n",
       " 'NSW107': 'PSID292',\n",
       " 'NSW108': 'PSID150',\n",
       " 'NSW109': 'PSID417',\n",
       " 'NSW11': 'PSID385',\n",
       " 'NSW110': 'PSID99',\n",
       " 'NSW111': 'PSID24',\n",
       " 'NSW112': 'PSID75',\n",
       " 'NSW113': 'PSID97',\n",
       " 'NSW114': 'PSID68',\n",
       " 'NSW115': 'PSID194',\n",
       " 'NSW116': 'PSID213',\n",
       " 'NSW117': 'PSID300',\n",
       " 'NSW118': 'PSID411',\n",
       " 'NSW119': 'PSID79',\n",
       " 'NSW12': 'PSID172',\n",
       " 'NSW120': 'PSID332',\n",
       " 'NSW121': 'PSID162',\n",
       " 'NSW122': 'PSID18',\n",
       " 'NSW123': 'PSID100',\n",
       " 'NSW124': 'PSID298',\n",
       " 'NSW125': 'PSID173',\n",
       " 'NSW126': 'PSID155',\n",
       " 'NSW127': 'PSID149',\n",
       " 'NSW128': 'PSID294',\n",
       " 'NSW129': 'PSID22',\n",
       " 'NSW13': 'PSID405',\n",
       " 'NSW130': 'PSID427',\n",
       " 'NSW131': 'PSID304',\n",
       " 'NSW132': 'PSID219',\n",
       " 'NSW133': 'PSID340',\n",
       " 'NSW134': 'PSID47',\n",
       " 'NSW135': 'PSID217',\n",
       " 'NSW136': 'PSID58',\n",
       " 'NSW137': 'PSID396',\n",
       " 'NSW138': 'PSID161',\n",
       " 'NSW139': 'PSID71',\n",
       " 'NSW14': 'PSID254',\n",
       " 'NSW140': 'PSID78',\n",
       " 'NSW141': 'PSID360',\n",
       " 'NSW142': 'PSID398',\n",
       " 'NSW143': 'PSID4',\n",
       " 'NSW144': 'PSID113',\n",
       " 'NSW145': 'PSID201',\n",
       " 'NSW146': 'PSID420',\n",
       " 'NSW147': 'PSID209',\n",
       " 'NSW148': 'PSID227',\n",
       " 'NSW149': 'PSID363',\n",
       " 'NSW15': 'PSID383',\n",
       " 'NSW150': 'PSID20',\n",
       " 'NSW151': 'PSID160',\n",
       " 'NSW152': 'PSID343',\n",
       " 'NSW153': 'PSID243',\n",
       " 'NSW154': 'PSID336',\n",
       " 'NSW155': 'PSID285',\n",
       " 'NSW156': 'PSID267',\n",
       " 'NSW157': 'PSID288',\n",
       " 'NSW158': 'PSID1',\n",
       " 'NSW159': 'PSID187',\n",
       " 'NSW16': 'PSID252',\n",
       " 'NSW160': 'PSID349',\n",
       " 'NSW161': 'PSID183',\n",
       " 'NSW162': 'PSID54',\n",
       " 'NSW163': 'PSID380',\n",
       " 'NSW164': 'PSID66',\n",
       " 'NSW165': 'PSID184',\n",
       " 'NSW166': 'PSID356',\n",
       " 'NSW167': 'PSID229',\n",
       " 'NSW168': 'PSID124',\n",
       " 'NSW169': 'PSID198',\n",
       " 'NSW17': 'PSID235',\n",
       " 'NSW170': 'PSID312',\n",
       " 'NSW171': 'PSID205',\n",
       " 'NSW172': 'PSID286',\n",
       " 'NSW173': 'PSID274',\n",
       " 'NSW174': 'PSID140',\n",
       " 'NSW175': 'PSID353',\n",
       " 'NSW176': 'PSID390',\n",
       " 'NSW177': 'PSID157',\n",
       " 'NSW178': 'PSID237',\n",
       " 'NSW179': 'PSID362',\n",
       " 'NSW18': 'PSID190',\n",
       " 'NSW180': 'PSID117',\n",
       " 'NSW181': 'PSID386',\n",
       " 'NSW182': 'PSID275',\n",
       " 'NSW183': 'PSID226',\n",
       " 'NSW184': 'PSID197',\n",
       " 'NSW185': 'PSID168',\n",
       " 'NSW19': 'PSID44',\n",
       " 'NSW2': 'PSID403',\n",
       " 'NSW20': 'PSID30',\n",
       " 'NSW21': 'PSID43',\n",
       " 'NSW22': 'PSID86',\n",
       " 'NSW23': 'PSID329',\n",
       " 'NSW24': 'PSID310',\n",
       " 'NSW25': 'PSID303',\n",
       " 'NSW26': 'PSID203',\n",
       " 'NSW27': 'PSID295',\n",
       " 'NSW28': 'PSID55',\n",
       " 'NSW29': 'PSID69',\n",
       " 'NSW3': 'PSID381',\n",
       " 'NSW30': 'PSID87',\n",
       " 'NSW31': 'PSID207',\n",
       " 'NSW32': 'PSID189',\n",
       " 'NSW33': 'PSID320',\n",
       " 'NSW34': 'PSID324',\n",
       " 'NSW35': 'PSID218',\n",
       " 'NSW36': 'PSID123',\n",
       " 'NSW37': 'PSID271',\n",
       " 'NSW38': 'PSID158',\n",
       " 'NSW39': 'PSID165',\n",
       " 'NSW4': 'PSID419',\n",
       " 'NSW40': 'PSID212',\n",
       " 'NSW41': 'PSID103',\n",
       " 'NSW42': 'PSID371',\n",
       " 'NSW43': 'PSID38',\n",
       " 'NSW44': 'PSID307',\n",
       " 'NSW45': 'PSID257',\n",
       " 'NSW46': 'PSID166',\n",
       " 'NSW47': 'PSID339',\n",
       " 'NSW48': 'PSID141',\n",
       " 'NSW49': 'PSID316',\n",
       " 'NSW5': 'PSID415',\n",
       " 'NSW50': 'PSID108',\n",
       " 'NSW51': 'PSID270',\n",
       " 'NSW52': 'PSID51',\n",
       " 'NSW53': 'PSID46',\n",
       " 'NSW54': 'PSID104',\n",
       " 'NSW55': 'PSID125',\n",
       " 'NSW56': 'PSID346',\n",
       " 'NSW57': 'PSID180',\n",
       " 'NSW58': 'PSID265',\n",
       " 'NSW59': 'PSID225',\n",
       " 'NSW6': 'PSID96',\n",
       " 'NSW60': 'PSID261',\n",
       " 'NSW61': 'PSID334',\n",
       " 'NSW62': 'PSID223',\n",
       " 'NSW63': 'PSID247',\n",
       " 'NSW64': 'PSID234',\n",
       " 'NSW65': 'PSID152',\n",
       " 'NSW66': 'PSID402',\n",
       " 'NSW67': 'PSID26',\n",
       " 'NSW68': 'PSID202',\n",
       " 'NSW69': 'PSID25',\n",
       " 'NSW7': 'PSID263',\n",
       " 'NSW70': 'PSID287',\n",
       " 'NSW71': 'PSID233',\n",
       " 'NSW72': 'PSID266',\n",
       " 'NSW73': 'PSID70',\n",
       " 'NSW74': 'PSID98',\n",
       " 'NSW75': 'PSID135',\n",
       " 'NSW76': 'PSID52',\n",
       " 'NSW77': 'PSID331',\n",
       " 'NSW78': 'PSID191',\n",
       " 'NSW79': 'PSID41',\n",
       " 'NSW8': 'PSID37',\n",
       " 'NSW80': 'PSID177',\n",
       " 'NSW81': 'PSID422',\n",
       " 'NSW82': 'PSID330',\n",
       " 'NSW83': 'PSID337',\n",
       " 'NSW84': 'PSID276',\n",
       " 'NSW85': 'PSID73',\n",
       " 'NSW86': 'PSID365',\n",
       " 'NSW87': 'PSID144',\n",
       " 'NSW88': 'PSID308',\n",
       " 'NSW89': 'PSID48',\n",
       " 'NSW9': 'PSID132',\n",
       " 'NSW90': 'PSID57',\n",
       " 'NSW91': 'PSID245',\n",
       " 'NSW92': 'PSID389',\n",
       " 'NSW93': 'PSID428',\n",
       " 'NSW94': 'PSID342',\n",
       " 'NSW95': 'PSID156',\n",
       " 'NSW96': 'PSID366',\n",
       " 'NSW97': 'PSID120',\n",
       " 'NSW98': 'PSID137',\n",
       " 'NSW99': 'PSID262',\n",
       " 'PSID1': 'NSW158',\n",
       " 'PSID100': 'NSW123',\n",
       " 'PSID103': 'NSW41',\n",
       " 'PSID104': 'NSW54',\n",
       " 'PSID108': 'NSW50',\n",
       " 'PSID112': 'NSW102',\n",
       " 'PSID113': 'NSW144',\n",
       " 'PSID117': 'NSW180',\n",
       " 'PSID120': 'NSW97',\n",
       " 'PSID123': 'NSW36',\n",
       " 'PSID124': 'NSW168',\n",
       " 'PSID125': 'NSW55',\n",
       " 'PSID132': 'NSW9',\n",
       " 'PSID135': 'NSW75',\n",
       " 'PSID137': 'NSW98',\n",
       " 'PSID140': 'NSW174',\n",
       " 'PSID141': 'NSW48',\n",
       " 'PSID144': 'NSW87',\n",
       " 'PSID149': 'NSW127',\n",
       " 'PSID150': 'NSW108',\n",
       " 'PSID152': 'NSW65',\n",
       " 'PSID155': 'NSW126',\n",
       " 'PSID156': 'NSW95',\n",
       " 'PSID157': 'NSW177',\n",
       " 'PSID158': 'NSW38',\n",
       " 'PSID160': 'NSW151',\n",
       " 'PSID161': 'NSW138',\n",
       " 'PSID162': 'NSW121',\n",
       " 'PSID165': 'NSW39',\n",
       " 'PSID166': 'NSW46',\n",
       " 'PSID168': 'NSW185',\n",
       " 'PSID172': 'NSW12',\n",
       " 'PSID173': 'NSW125',\n",
       " 'PSID177': 'NSW80',\n",
       " 'PSID18': 'NSW122',\n",
       " 'PSID180': 'NSW57',\n",
       " 'PSID183': 'NSW161',\n",
       " 'PSID184': 'NSW165',\n",
       " 'PSID187': 'NSW159',\n",
       " 'PSID189': 'NSW32',\n",
       " 'PSID190': 'NSW18',\n",
       " 'PSID191': 'NSW78',\n",
       " 'PSID194': 'NSW115',\n",
       " 'PSID197': 'NSW184',\n",
       " 'PSID198': 'NSW169',\n",
       " 'PSID20': 'NSW150',\n",
       " 'PSID201': 'NSW145',\n",
       " 'PSID202': 'NSW68',\n",
       " 'PSID203': 'NSW26',\n",
       " 'PSID205': 'NSW171',\n",
       " 'PSID207': 'NSW31',\n",
       " 'PSID208': 'NSW104',\n",
       " 'PSID209': 'NSW147',\n",
       " 'PSID212': 'NSW40',\n",
       " 'PSID213': 'NSW116',\n",
       " 'PSID217': 'NSW135',\n",
       " 'PSID218': 'NSW35',\n",
       " 'PSID219': 'NSW132',\n",
       " 'PSID22': 'NSW129',\n",
       " 'PSID223': 'NSW62',\n",
       " 'PSID225': 'NSW59',\n",
       " 'PSID226': 'NSW183',\n",
       " 'PSID227': 'NSW148',\n",
       " 'PSID229': 'NSW167',\n",
       " 'PSID233': 'NSW71',\n",
       " 'PSID234': 'NSW64',\n",
       " 'PSID235': 'NSW17',\n",
       " 'PSID237': 'NSW178',\n",
       " 'PSID24': 'NSW111',\n",
       " 'PSID243': 'NSW153',\n",
       " 'PSID245': 'NSW91',\n",
       " 'PSID247': 'NSW63',\n",
       " 'PSID25': 'NSW69',\n",
       " 'PSID252': 'NSW16',\n",
       " 'PSID254': 'NSW14',\n",
       " 'PSID257': 'NSW45',\n",
       " 'PSID26': 'NSW67',\n",
       " 'PSID261': 'NSW60',\n",
       " 'PSID262': 'NSW99',\n",
       " 'PSID263': 'NSW7',\n",
       " 'PSID265': 'NSW58',\n",
       " 'PSID266': 'NSW72',\n",
       " 'PSID267': 'NSW156',\n",
       " 'PSID270': 'NSW51',\n",
       " 'PSID271': 'NSW37',\n",
       " 'PSID274': 'NSW173',\n",
       " 'PSID275': 'NSW182',\n",
       " 'PSID276': 'NSW84',\n",
       " 'PSID285': 'NSW155',\n",
       " 'PSID286': 'NSW172',\n",
       " 'PSID287': 'NSW70',\n",
       " 'PSID288': 'NSW157',\n",
       " 'PSID292': 'NSW107',\n",
       " 'PSID294': 'NSW128',\n",
       " 'PSID295': 'NSW27',\n",
       " 'PSID298': 'NSW124',\n",
       " 'PSID30': 'NSW20',\n",
       " 'PSID300': 'NSW117',\n",
       " 'PSID303': 'NSW25',\n",
       " 'PSID304': 'NSW131',\n",
       " 'PSID307': 'NSW44',\n",
       " 'PSID308': 'NSW88',\n",
       " 'PSID310': 'NSW24',\n",
       " 'PSID312': 'NSW170',\n",
       " 'PSID316': 'NSW49',\n",
       " 'PSID320': 'NSW33',\n",
       " 'PSID324': 'NSW34',\n",
       " 'PSID329': 'NSW23',\n",
       " 'PSID330': 'NSW82',\n",
       " 'PSID331': 'NSW77',\n",
       " 'PSID332': 'NSW120',\n",
       " 'PSID334': 'NSW61',\n",
       " 'PSID336': 'NSW154',\n",
       " 'PSID337': 'NSW83',\n",
       " 'PSID338': 'NSW100',\n",
       " 'PSID339': 'NSW47',\n",
       " 'PSID340': 'NSW133',\n",
       " 'PSID342': 'NSW94',\n",
       " 'PSID343': 'NSW152',\n",
       " 'PSID346': 'NSW56',\n",
       " 'PSID349': 'NSW160',\n",
       " 'PSID35': 'NSW105',\n",
       " 'PSID352': 'NSW1',\n",
       " 'PSID353': 'NSW175',\n",
       " 'PSID356': 'NSW166',\n",
       " 'PSID357': 'NSW101',\n",
       " 'PSID360': 'NSW141',\n",
       " 'PSID362': 'NSW179',\n",
       " 'PSID363': 'NSW149',\n",
       " 'PSID365': 'NSW86',\n",
       " 'PSID366': 'NSW96',\n",
       " 'PSID37': 'NSW8',\n",
       " 'PSID371': 'NSW42',\n",
       " 'PSID38': 'NSW43',\n",
       " 'PSID380': 'NSW163',\n",
       " 'PSID381': 'NSW3',\n",
       " 'PSID383': 'NSW15',\n",
       " 'PSID385': 'NSW11',\n",
       " 'PSID386': 'NSW181',\n",
       " 'PSID389': 'NSW92',\n",
       " 'PSID390': 'NSW176',\n",
       " 'PSID396': 'NSW137',\n",
       " 'PSID398': 'NSW142',\n",
       " 'PSID4': 'NSW143',\n",
       " 'PSID402': 'NSW66',\n",
       " 'PSID403': 'NSW2',\n",
       " 'PSID405': 'NSW13',\n",
       " 'PSID408': 'NSW103',\n",
       " 'PSID409': 'NSW106',\n",
       " 'PSID41': 'NSW79',\n",
       " 'PSID411': 'NSW118',\n",
       " 'PSID415': 'NSW5',\n",
       " 'PSID417': 'NSW109',\n",
       " 'PSID419': 'NSW4',\n",
       " 'PSID420': 'NSW146',\n",
       " 'PSID422': 'NSW81',\n",
       " 'PSID427': 'NSW130',\n",
       " 'PSID428': 'NSW93',\n",
       " 'PSID43': 'NSW21',\n",
       " 'PSID44': 'NSW19',\n",
       " 'PSID46': 'NSW53',\n",
       " 'PSID47': 'NSW134',\n",
       " 'PSID48': 'NSW89',\n",
       " 'PSID51': 'NSW52',\n",
       " 'PSID52': 'NSW76',\n",
       " 'PSID54': 'NSW162',\n",
       " 'PSID55': 'NSW28',\n",
       " 'PSID57': 'NSW90',\n",
       " 'PSID58': 'NSW136',\n",
       " 'PSID66': 'NSW164',\n",
       " 'PSID68': 'NSW114',\n",
       " 'PSID69': 'NSW29',\n",
       " 'PSID70': 'NSW73',\n",
       " 'PSID71': 'NSW139',\n",
       " 'PSID72': 'NSW10',\n",
       " 'PSID73': 'NSW85',\n",
       " 'PSID75': 'NSW112',\n",
       " 'PSID78': 'NSW140',\n",
       " 'PSID79': 'NSW119',\n",
       " 'PSID86': 'NSW22',\n",
       " 'PSID87': 'NSW30',\n",
       " 'PSID96': 'NSW6',\n",
       " 'PSID97': 'NSW113',\n",
       " 'PSID98': 'NSW74',\n",
       " 'PSID99': 'NSW110'}"
      ]
     },
     "execution_count": 16,
     "metadata": {},
     "output_type": "execute_result"
    }
   ],
   "source": [
    "treat_prop = data[data['treat'] == 1]['prop_score']\n",
    "untreat_prop = data[data['treat'] == 0]['prop_score']\n",
    "\n",
    "#B = nx.complete_bipartite_graph(treat_prop.size, untreat_prop.size)\n",
    "\n",
    "B = nx.Graph()\n",
    "\n",
    "B.add_nodes_from(treat_prop.index, bipartite=0)\n",
    "B.add_nodes_from(untreat_prop.index, bipartite=1)\n",
    "\n",
    "for l_idx, l in treat_prop.iteritems():\n",
    "    for r_idx, r in untreat_prop.iteritems():\n",
    "        w = abs(l - r)\n",
    "        B.add_edge(l_idx, r_idx, weigth=w)\n",
    "\n",
    "max_matching = nx.max_weight_matching(B, True)\n",
    "max_matching\n",
    "\n",
    "# TODO is this matching correct? Histogram seems fishy, too many high values??"
   ]
  },
  {
   "cell_type": "markdown",
   "metadata": {},
   "source": [
    "To check how good our matching performed, we compute the absolute difference between the two propensity scores for each pair in the matching and display a histogram of all the values."
   ]
  },
  {
   "cell_type": "code",
   "execution_count": 17,
   "metadata": {
    "collapsed": false,
    "scrolled": false
   },
   "outputs": [
    {
     "ename": "KeyError",
     "evalue": "'PSID104'",
     "output_type": "error",
     "traceback": [
      "\u001b[0;31m---------------------------------------------------------------------------\u001b[0m",
      "\u001b[0;31mTypeError\u001b[0m                                 Traceback (most recent call last)",
      "\u001b[0;32mD:\\Program\\Anaconda3\\lib\\site-packages\\pandas\\indexes\\base.py\u001b[0m in \u001b[0;36mget_value\u001b[0;34m(self, series, key)\u001b[0m\n\u001b[1;32m   1985\u001b[0m             \u001b[1;32mtry\u001b[0m\u001b[1;33m:\u001b[0m\u001b[1;33m\u001b[0m\u001b[0m\n\u001b[0;32m-> 1986\u001b[0;31m                 \u001b[1;32mreturn\u001b[0m \u001b[0mtslib\u001b[0m\u001b[1;33m.\u001b[0m\u001b[0mget_value_box\u001b[0m\u001b[1;33m(\u001b[0m\u001b[0ms\u001b[0m\u001b[1;33m,\u001b[0m \u001b[0mkey\u001b[0m\u001b[1;33m)\u001b[0m\u001b[1;33m\u001b[0m\u001b[0m\n\u001b[0m\u001b[1;32m   1987\u001b[0m             \u001b[1;32mexcept\u001b[0m \u001b[0mIndexError\u001b[0m\u001b[1;33m:\u001b[0m\u001b[1;33m\u001b[0m\u001b[0m\n",
      "\u001b[0;32mpandas\\tslib.pyx\u001b[0m in \u001b[0;36mpandas.tslib.get_value_box (pandas\\tslib.c:17017)\u001b[0;34m()\u001b[0m\n",
      "\u001b[0;32mpandas\\tslib.pyx\u001b[0m in \u001b[0;36mpandas.tslib.get_value_box (pandas\\tslib.c:16691)\u001b[0;34m()\u001b[0m\n",
      "\u001b[0;31mTypeError\u001b[0m: 'str' object cannot be interpreted as an integer",
      "\nDuring handling of the above exception, another exception occurred:\n",
      "\u001b[0;31mKeyError\u001b[0m                                  Traceback (most recent call last)",
      "\u001b[0;32m<ipython-input-17-b67ee7876098>\u001b[0m in \u001b[0;36m<module>\u001b[0;34m()\u001b[0m\n\u001b[1;32m      3\u001b[0m     \u001b[1;32mreturn\u001b[0m \u001b[1;33m[\u001b[0m\u001b[0mabs\u001b[0m\u001b[1;33m(\u001b[0m\u001b[0mtreat_prop\u001b[0m\u001b[1;33m[\u001b[0m\u001b[0ml\u001b[0m\u001b[1;33m]\u001b[0m \u001b[1;33m-\u001b[0m \u001b[0muntreat_prop\u001b[0m\u001b[1;33m[\u001b[0m\u001b[0mmatching\u001b[0m\u001b[1;33m[\u001b[0m\u001b[0ml\u001b[0m\u001b[1;33m]\u001b[0m\u001b[1;33m]\u001b[0m\u001b[1;33m)\u001b[0m \u001b[1;32mfor\u001b[0m \u001b[0ml\u001b[0m \u001b[1;32min\u001b[0m \u001b[0mleft\u001b[0m\u001b[1;33m]\u001b[0m\u001b[1;33m\u001b[0m\u001b[0m\n\u001b[1;32m      4\u001b[0m \u001b[1;33m\u001b[0m\u001b[0m\n\u001b[0;32m----> 5\u001b[0;31m \u001b[0mabs_diffs\u001b[0m \u001b[1;33m=\u001b[0m \u001b[0mget_scores\u001b[0m\u001b[1;33m(\u001b[0m\u001b[0mmax_matching\u001b[0m\u001b[1;33m)\u001b[0m\u001b[1;33m\u001b[0m\u001b[0m\n\u001b[0m\u001b[1;32m      6\u001b[0m \u001b[0mprint\u001b[0m\u001b[1;33m(\u001b[0m\u001b[1;34m'Mean absolute propensity score: {}'\u001b[0m\u001b[1;33m.\u001b[0m\u001b[0mformat\u001b[0m\u001b[1;33m(\u001b[0m\u001b[0mnp\u001b[0m\u001b[1;33m.\u001b[0m\u001b[0mmean\u001b[0m\u001b[1;33m(\u001b[0m\u001b[0mabs_diffs\u001b[0m\u001b[1;33m)\u001b[0m\u001b[1;33m)\u001b[0m\u001b[1;33m)\u001b[0m\u001b[1;33m\u001b[0m\u001b[0m\n\u001b[1;32m      7\u001b[0m \u001b[1;33m\u001b[0m\u001b[0m\n",
      "\u001b[0;32m<ipython-input-17-b67ee7876098>\u001b[0m in \u001b[0;36mget_scores\u001b[0;34m(matching)\u001b[0m\n\u001b[1;32m      1\u001b[0m \u001b[1;32mdef\u001b[0m \u001b[0mget_scores\u001b[0m\u001b[1;33m(\u001b[0m\u001b[0mmatching\u001b[0m\u001b[1;33m)\u001b[0m\u001b[1;33m:\u001b[0m\u001b[1;33m\u001b[0m\u001b[0m\n\u001b[1;32m      2\u001b[0m     \u001b[1;33m(\u001b[0m\u001b[0mleft\u001b[0m\u001b[1;33m,\u001b[0m \u001b[0m_\u001b[0m\u001b[1;33m)\u001b[0m \u001b[1;33m=\u001b[0m \u001b[0mbipartite\u001b[0m\u001b[1;33m.\u001b[0m\u001b[0msets\u001b[0m\u001b[1;33m(\u001b[0m\u001b[0mB\u001b[0m\u001b[1;33m)\u001b[0m\u001b[1;33m\u001b[0m\u001b[0m\n\u001b[0;32m----> 3\u001b[0;31m     \u001b[1;32mreturn\u001b[0m \u001b[1;33m[\u001b[0m\u001b[0mabs\u001b[0m\u001b[1;33m(\u001b[0m\u001b[0mtreat_prop\u001b[0m\u001b[1;33m[\u001b[0m\u001b[0ml\u001b[0m\u001b[1;33m]\u001b[0m \u001b[1;33m-\u001b[0m \u001b[0muntreat_prop\u001b[0m\u001b[1;33m[\u001b[0m\u001b[0mmatching\u001b[0m\u001b[1;33m[\u001b[0m\u001b[0ml\u001b[0m\u001b[1;33m]\u001b[0m\u001b[1;33m]\u001b[0m\u001b[1;33m)\u001b[0m \u001b[1;32mfor\u001b[0m \u001b[0ml\u001b[0m \u001b[1;32min\u001b[0m \u001b[0mleft\u001b[0m\u001b[1;33m]\u001b[0m\u001b[1;33m\u001b[0m\u001b[0m\n\u001b[0m\u001b[1;32m      4\u001b[0m \u001b[1;33m\u001b[0m\u001b[0m\n\u001b[1;32m      5\u001b[0m \u001b[0mabs_diffs\u001b[0m \u001b[1;33m=\u001b[0m \u001b[0mget_scores\u001b[0m\u001b[1;33m(\u001b[0m\u001b[0mmax_matching\u001b[0m\u001b[1;33m)\u001b[0m\u001b[1;33m\u001b[0m\u001b[0m\n",
      "\u001b[0;32m<ipython-input-17-b67ee7876098>\u001b[0m in \u001b[0;36m<listcomp>\u001b[0;34m(.0)\u001b[0m\n\u001b[1;32m      1\u001b[0m \u001b[1;32mdef\u001b[0m \u001b[0mget_scores\u001b[0m\u001b[1;33m(\u001b[0m\u001b[0mmatching\u001b[0m\u001b[1;33m)\u001b[0m\u001b[1;33m:\u001b[0m\u001b[1;33m\u001b[0m\u001b[0m\n\u001b[1;32m      2\u001b[0m     \u001b[1;33m(\u001b[0m\u001b[0mleft\u001b[0m\u001b[1;33m,\u001b[0m \u001b[0m_\u001b[0m\u001b[1;33m)\u001b[0m \u001b[1;33m=\u001b[0m \u001b[0mbipartite\u001b[0m\u001b[1;33m.\u001b[0m\u001b[0msets\u001b[0m\u001b[1;33m(\u001b[0m\u001b[0mB\u001b[0m\u001b[1;33m)\u001b[0m\u001b[1;33m\u001b[0m\u001b[0m\n\u001b[0;32m----> 3\u001b[0;31m     \u001b[1;32mreturn\u001b[0m \u001b[1;33m[\u001b[0m\u001b[0mabs\u001b[0m\u001b[1;33m(\u001b[0m\u001b[0mtreat_prop\u001b[0m\u001b[1;33m[\u001b[0m\u001b[0ml\u001b[0m\u001b[1;33m]\u001b[0m \u001b[1;33m-\u001b[0m \u001b[0muntreat_prop\u001b[0m\u001b[1;33m[\u001b[0m\u001b[0mmatching\u001b[0m\u001b[1;33m[\u001b[0m\u001b[0ml\u001b[0m\u001b[1;33m]\u001b[0m\u001b[1;33m]\u001b[0m\u001b[1;33m)\u001b[0m \u001b[1;32mfor\u001b[0m \u001b[0ml\u001b[0m \u001b[1;32min\u001b[0m \u001b[0mleft\u001b[0m\u001b[1;33m]\u001b[0m\u001b[1;33m\u001b[0m\u001b[0m\n\u001b[0m\u001b[1;32m      4\u001b[0m \u001b[1;33m\u001b[0m\u001b[0m\n\u001b[1;32m      5\u001b[0m \u001b[0mabs_diffs\u001b[0m \u001b[1;33m=\u001b[0m \u001b[0mget_scores\u001b[0m\u001b[1;33m(\u001b[0m\u001b[0mmax_matching\u001b[0m\u001b[1;33m)\u001b[0m\u001b[1;33m\u001b[0m\u001b[0m\n",
      "\u001b[0;32mD:\\Program\\Anaconda3\\lib\\site-packages\\pandas\\core\\series.py\u001b[0m in \u001b[0;36m__getitem__\u001b[0;34m(self, key)\u001b[0m\n\u001b[1;32m    581\u001b[0m         \u001b[0mkey\u001b[0m \u001b[1;33m=\u001b[0m \u001b[0mcom\u001b[0m\u001b[1;33m.\u001b[0m\u001b[0m_apply_if_callable\u001b[0m\u001b[1;33m(\u001b[0m\u001b[0mkey\u001b[0m\u001b[1;33m,\u001b[0m \u001b[0mself\u001b[0m\u001b[1;33m)\u001b[0m\u001b[1;33m\u001b[0m\u001b[0m\n\u001b[1;32m    582\u001b[0m         \u001b[1;32mtry\u001b[0m\u001b[1;33m:\u001b[0m\u001b[1;33m\u001b[0m\u001b[0m\n\u001b[0;32m--> 583\u001b[0;31m             \u001b[0mresult\u001b[0m \u001b[1;33m=\u001b[0m \u001b[0mself\u001b[0m\u001b[1;33m.\u001b[0m\u001b[0mindex\u001b[0m\u001b[1;33m.\u001b[0m\u001b[0mget_value\u001b[0m\u001b[1;33m(\u001b[0m\u001b[0mself\u001b[0m\u001b[1;33m,\u001b[0m \u001b[0mkey\u001b[0m\u001b[1;33m)\u001b[0m\u001b[1;33m\u001b[0m\u001b[0m\n\u001b[0m\u001b[1;32m    584\u001b[0m \u001b[1;33m\u001b[0m\u001b[0m\n\u001b[1;32m    585\u001b[0m             \u001b[1;32mif\u001b[0m \u001b[1;32mnot\u001b[0m \u001b[0mlib\u001b[0m\u001b[1;33m.\u001b[0m\u001b[0misscalar\u001b[0m\u001b[1;33m(\u001b[0m\u001b[0mresult\u001b[0m\u001b[1;33m)\u001b[0m\u001b[1;33m:\u001b[0m\u001b[1;33m\u001b[0m\u001b[0m\n",
      "\u001b[0;32mD:\\Program\\Anaconda3\\lib\\site-packages\\pandas\\indexes\\base.py\u001b[0m in \u001b[0;36mget_value\u001b[0;34m(self, series, key)\u001b[0m\n\u001b[1;32m   1992\u001b[0m                     \u001b[1;32mraise\u001b[0m \u001b[0mInvalidIndexError\u001b[0m\u001b[1;33m(\u001b[0m\u001b[0mkey\u001b[0m\u001b[1;33m)\u001b[0m\u001b[1;33m\u001b[0m\u001b[0m\n\u001b[1;32m   1993\u001b[0m                 \u001b[1;32melse\u001b[0m\u001b[1;33m:\u001b[0m\u001b[1;33m\u001b[0m\u001b[0m\n\u001b[0;32m-> 1994\u001b[0;31m                     \u001b[1;32mraise\u001b[0m \u001b[0me1\u001b[0m\u001b[1;33m\u001b[0m\u001b[0m\n\u001b[0m\u001b[1;32m   1995\u001b[0m             \u001b[1;32mexcept\u001b[0m \u001b[0mException\u001b[0m\u001b[1;33m:\u001b[0m  \u001b[1;31m# pragma: no cover\u001b[0m\u001b[1;33m\u001b[0m\u001b[0m\n\u001b[1;32m   1996\u001b[0m                 \u001b[1;32mraise\u001b[0m \u001b[0me1\u001b[0m\u001b[1;33m\u001b[0m\u001b[0m\n",
      "\u001b[0;32mD:\\Program\\Anaconda3\\lib\\site-packages\\pandas\\indexes\\base.py\u001b[0m in \u001b[0;36mget_value\u001b[0;34m(self, series, key)\u001b[0m\n\u001b[1;32m   1978\u001b[0m         \u001b[1;32mtry\u001b[0m\u001b[1;33m:\u001b[0m\u001b[1;33m\u001b[0m\u001b[0m\n\u001b[1;32m   1979\u001b[0m             return self._engine.get_value(s, k,\n\u001b[0;32m-> 1980\u001b[0;31m                                           tz=getattr(series.dtype, 'tz', None))\n\u001b[0m\u001b[1;32m   1981\u001b[0m         \u001b[1;32mexcept\u001b[0m \u001b[0mKeyError\u001b[0m \u001b[1;32mas\u001b[0m \u001b[0me1\u001b[0m\u001b[1;33m:\u001b[0m\u001b[1;33m\u001b[0m\u001b[0m\n\u001b[1;32m   1982\u001b[0m             \u001b[1;32mif\u001b[0m \u001b[0mlen\u001b[0m\u001b[1;33m(\u001b[0m\u001b[0mself\u001b[0m\u001b[1;33m)\u001b[0m \u001b[1;33m>\u001b[0m \u001b[1;36m0\u001b[0m \u001b[1;32mand\u001b[0m \u001b[0mself\u001b[0m\u001b[1;33m.\u001b[0m\u001b[0minferred_type\u001b[0m \u001b[1;32min\u001b[0m \u001b[1;33m[\u001b[0m\u001b[1;34m'integer'\u001b[0m\u001b[1;33m,\u001b[0m \u001b[1;34m'boolean'\u001b[0m\u001b[1;33m]\u001b[0m\u001b[1;33m:\u001b[0m\u001b[1;33m\u001b[0m\u001b[0m\n",
      "\u001b[0;32mpandas\\index.pyx\u001b[0m in \u001b[0;36mpandas.index.IndexEngine.get_value (pandas\\index.c:3332)\u001b[0;34m()\u001b[0m\n",
      "\u001b[0;32mpandas\\index.pyx\u001b[0m in \u001b[0;36mpandas.index.IndexEngine.get_value (pandas\\index.c:3035)\u001b[0;34m()\u001b[0m\n",
      "\u001b[0;32mpandas\\index.pyx\u001b[0m in \u001b[0;36mpandas.index.IndexEngine.get_loc (pandas\\index.c:4018)\u001b[0;34m()\u001b[0m\n",
      "\u001b[0;32mpandas\\hashtable.pyx\u001b[0m in \u001b[0;36mpandas.hashtable.PyObjectHashTable.get_item (pandas\\hashtable.c:12368)\u001b[0;34m()\u001b[0m\n",
      "\u001b[0;32mpandas\\hashtable.pyx\u001b[0m in \u001b[0;36mpandas.hashtable.PyObjectHashTable.get_item (pandas\\hashtable.c:12322)\u001b[0;34m()\u001b[0m\n",
      "\u001b[0;31mKeyError\u001b[0m: 'PSID104'"
     ]
    }
   ],
   "source": [
    "def get_scores(matching):\n",
    "    (left, _) = bipartite.sets(B)\n",
    "    return [abs(treat_prop[l] - untreat_prop[matching[l]]) for l in left]\n",
    "\n",
    "abs_diffs = get_scores(max_matching)\n",
    "print('Mean absolute propensity score: {}'.format(np.mean(abs_diffs)))\n",
    "\n",
    "plt.hist(abs_diffs,bins=25)\n",
    "plt.title('Histogram of absolute propensity score difference for each pair in the matching')\n",
    "plt.xlabel('absolute difference in propensity score')\n",
    "plt.ylabel('# of elements')\n",
    "plt.show()"
   ]
  },
  {
   "cell_type": "markdown",
   "metadata": {},
   "source": [
    "As we can see, the algorithm found many good matchings, but there is a lot of pairs that have a big difference in propensity score, due to the fact that strictly each score has to be matched with one from the other group."
   ]
  },
  {
   "cell_type": "code",
   "execution_count": null,
   "metadata": {
    "collapsed": false
   },
   "outputs": [],
   "source": [
    "#left side is the treated nodes, right side is untreated nodes (size)\n",
    "(left, right) = bipartite.sets(B)\n",
    "\n",
    "print('Left (treated): {}'.format(len(left)))\n",
    "print('Right (untreated): {}'.format(len(right)))"
   ]
  },
  {
   "cell_type": "markdown",
   "metadata": {},
   "source": [
    "The left side of the bipartite graph is the smallest, thus the matching contains all nodes on the left side (185) and has matched with 185 nodes on the right side (untreated patients)."
   ]
  },
  {
   "cell_type": "code",
   "execution_count": null,
   "metadata": {
    "collapsed": false
   },
   "outputs": [],
   "source": [
    "treated_matched_index = left #are all matched\n",
    "untreated_matched_index = [max_matching[l] for l in left]\n",
    "len(untreated_matched_index)\n",
    "\n",
    "# Get only the matched proensity scores for each group\n",
    "matched_treated_group = data.loc[treated_matched_index]\n",
    "matched_untreated_group = data.loc[untreated_matched_index]\n",
    "\n",
    "draw_hists(matched_treated_group, matched_untreated_group, 'subjects - 1978 real earnings distribution', \n",
    "          '1978 real earnings', 'Number of people', 're78')"
   ]
  },
  {
   "cell_type": "markdown",
   "metadata": {},
   "source": [
    "Now, with the propensity score matching, we have an observational study and looking at the results of 1978 earnings, we could conclude that the treatment did work well for the outliers that earned a lot more than the rest. There is also less people with no income in the treated group."
   ]
  },
  {
   "cell_type": "code",
   "execution_count": null,
   "metadata": {
    "collapsed": false
   },
   "outputs": [],
   "source": [
    "features_to_compare = ['black', 'hispan', 'married', 'nodegree']\n",
    "[percentage_comparison(matched_treated_group, matched_untreated_group, f) for f in features_to_compare]\n",
    "\n",
    "# TODO other features, like above"
   ]
  },
  {
   "cell_type": "markdown",
   "metadata": {},
   "source": [
    "\n",
    "Even though the number of blacks, for example, is still relatively different in each group, the differences are smaller for each feature and the groups look better distributed."
   ]
  },
  {
   "cell_type": "markdown",
   "metadata": {},
   "source": [
    "### 5. Balancing the groups further\n",
    "\n",
    "Based on your comparison of feature-value distributions from part 4, are you fully satisfied with your matching?\n",
    "Would you say your dataset is sufficiently balanced?\n",
    "If not, in what ways could the \"balanced\" dataset you have obtained still not allow you to draw valid conclusions?\n",
    "\n",
    "Improve your matching by explicitly making sure that you match only subjects that have the same value for the problematic feature.\n",
    "Argue with numbers and plots that the two groups (treated and control) are now better balanced than after part 4.\n"
   ]
  },
  {
   "cell_type": "code",
   "execution_count": null,
   "metadata": {
    "collapsed": true
   },
   "outputs": [],
   "source": [
    "# TODO"
   ]
  },
  {
   "cell_type": "markdown",
   "metadata": {},
   "source": [
    "### 6. A less naive analysis\n",
    "\n",
    "Compare the outcomes (`re78`) between treated and control subjects, as you've done in part 1, but now only for the matched dataset you've obtained from part 5.\n",
    "What do you conclude about the effectiveness of the job training program?"
   ]
  },
  {
   "cell_type": "code",
   "execution_count": null,
   "metadata": {
    "collapsed": true
   },
   "outputs": [],
   "source": [
    "# TODO"
   ]
  },
  {
   "cell_type": "markdown",
   "metadata": {},
   "source": [
    "## Question 2: Applied ML\n",
    "We are going to build a classifier of news to directly assign them to 20 news categories. Note that the pipeline that you will build in this exercise could be of great help during your project if you plan to work with text!\n"
   ]
  },
  {
   "cell_type": "markdown",
   "metadata": {},
   "source": [
    "### 1\n",
    "Load the 20newsgroup dataset. It is, again, a classic dataset that can directly be loaded using sklearn ([link](http://scikit-learn.org/stable/datasets/twenty_newsgroups.html)).  \n",
    "[TF-IDF](https://en.wikipedia.org/wiki/Tf%E2%80%93idf), short for term frequency-inverse document frequency, is of great help when if comes to compute textual features. Indeed, it gives more importance to terms that are more specific to the considered articles (TF) but reduces the importance of terms that are very frequent in the entire corpus (IDF). Compute TF-IDF features for every article using [TfidfVectorizer](http://scikit-learn.org/stable/modules/generated/sklearn.feature_extraction.text.TfidfVectorizer.html). Then, split your dataset into a training, a testing and a validation set (10% for validation and 10% for testing). Each observation should be paired with its corresponding label (the article category)."
   ]
  },
  {
   "cell_type": "code",
   "execution_count": null,
   "metadata": {
    "collapsed": false
   },
   "outputs": [],
   "source": [
    "from sklearn.datasets import fetch_20newsgroups\n",
    "from pprint import pprint\n",
    "from sklearn.feature_extraction.text import TfidfVectorizer\n",
    "from sklearn.model_selection import train_test_split\n",
    "from sklearn.ensemble import RandomForestClassifier\n",
    "from sklearn.model_selection import GridSearchCV"
   ]
  },
  {
   "cell_type": "code",
   "execution_count": null,
   "metadata": {
    "collapsed": false
   },
   "outputs": [],
   "source": [
    "newsgroups_train = fetch_20newsgroups(subset='train')\n",
    "newsgroups_test = fetch_20newsgroups(subset=\"test\")\n",
    "\n",
    "#pprint(list(newsgroups_train.target_names))\n",
    "\n",
    "# .target contains category id\n",
    "# .target_name contains category name\n",
    "# .filenames contains file name\n",
    "# .data contains the text\n",
    "\n",
    "# TODO display result"
   ]
  },
  {
   "cell_type": "code",
   "execution_count": null,
   "metadata": {
    "collapsed": true
   },
   "outputs": [],
   "source": [
    "# Compute the tf-idf score for each data point\n",
    "vectorizer = TfidfVectorizer()\n",
    "vectors = vectorizer.fit_transform(newsgroups_train.data)\n",
    "tfidf_score = vectors.data"
   ]
  },
  {
   "cell_type": "markdown",
   "metadata": {},
   "source": [
    "In this problem the label of a data point is the news category assigned to it ('target' attribute in the newsgroup dataset) and the features are tf-idf values of the text of the news article."
   ]
  },
  {
   "cell_type": "code",
   "execution_count": null,
   "metadata": {
    "collapsed": false
   },
   "outputs": [],
   "source": [
    "# We first split into 0.8 train, then split the remaining (0.2) into half test half validation set\n",
    "X = vectors\n",
    "y = newsgroups_train.target\n",
    "\n",
    "X_train, X_test, y_train, y_test = train_test_split(X, y, test_size=0.2, random_state=69)\n",
    "X_val, X_test, y_val, y_test = train_test_split(X_test, y_test, test_size=0.5, random_state=69)\n",
    "\n",
    "print('X Train / Test / Validation size : {} / {} / {}'.format(X_train.shape, X_test.shape, X_val.shape))\n",
    "print('y Train / Test / Validation size : {} / {} / {}'.format(y_train.shape, y_test.shape, y_val.shape))\n"
   ]
  },
  {
   "cell_type": "markdown",
   "metadata": {},
   "source": [
    "### 2. \n",
    "Train a random forest on your training set. Try to fine-tune the parameters of your predictor on your validation set using a simple grid search on the number of estimator \"n_estimators\" and the max depth of the trees \"max_depth\". Then, display a confusion matrix of your classification pipeline. Lastly, once you assessed your model, inspect the `feature_importances_` attribute of your random forest and discuss the obtained results.\n",
    "\n"
   ]
  },
  {
   "cell_type": "code",
   "execution_count": null,
   "metadata": {
    "collapsed": false
   },
   "outputs": [],
   "source": [
    "clf = RandomForestClassifier(random_state=5)\n",
    "clf.fit(X_train, y_train)"
   ]
  },
  {
   "cell_type": "code",
   "execution_count": null,
   "metadata": {
    "collapsed": false
   },
   "outputs": [],
   "source": [
    "def get_accuracy(y_pred):\n",
    "    y_diff = [y_pred == y_test]\n",
    "    y_correct = np.sum(y_diff) / y_pred.size\n",
    "    return y_correct\n",
    "\n",
    "y_pred = clf.predict(X_test)\n",
    "y_corr = get_accuracy(y_pred)\n",
    "print('{:0.2f}%'.format(y_corr))"
   ]
  },
  {
   "cell_type": "code",
   "execution_count": null,
   "metadata": {
    "collapsed": true
   },
   "outputs": [],
   "source": [
    "n_estimators_range = np.logspace(1, 4, 2, dtype='int')\n",
    "max_depth_range = np.logspace(1, 4, 2, dtype='int')\n",
    "\n",
    "parameters = {'n_estimators':n_estimators_range,\n",
    "              'max_depth':max_depth_range }\n",
    "\n",
    "grid_search_clf = GridSearchCV(clf, parameters)"
   ]
  },
  {
   "cell_type": "code",
   "execution_count": null,
   "metadata": {
    "collapsed": true
   },
   "outputs": [],
   "source": [
    "grid_search_clf.fit(X_train, y_train)"
   ]
  },
  {
   "cell_type": "code",
   "execution_count": null,
   "metadata": {
    "collapsed": false
   },
   "outputs": [],
   "source": [
    "print(grid_search_clf.best_params_)\n",
    "#print(grid_search_clf.feature_importances_)\n",
    "\n"
   ]
  },
  {
   "cell_type": "code",
   "execution_count": null,
   "metadata": {
    "collapsed": true
   },
   "outputs": [],
   "source": [
    "# TODO test with validation set "
   ]
  },
  {
   "cell_type": "code",
   "execution_count": null,
   "metadata": {
    "collapsed": true
   },
   "outputs": [],
   "source": []
  }
 ],
 "metadata": {
  "anaconda-cloud": {},
  "kernelspec": {
   "display_name": "Python [conda root]",
   "language": "python",
   "name": "conda-root-py"
  },
  "language_info": {
   "codemirror_mode": {
    "name": "ipython",
    "version": 3
   },
   "file_extension": ".py",
   "mimetype": "text/x-python",
   "name": "python",
   "nbconvert_exporter": "python",
   "pygments_lexer": "ipython3",
   "version": "3.5.2"
  }
 },
 "nbformat": 4,
 "nbformat_minor": 2
}
