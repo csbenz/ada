{
 "cells": [
  {
   "cell_type": "code",
   "execution_count": 1,
   "metadata": {},
   "outputs": [],
   "source": [
    "import pandas as pd\n",
    "import numpy as np\n",
    "import matplotlib.pyplot as plt\n",
    "from sklearn.linear_model import LinearRegression, LogisticRegression\n",
    "#from sklearn.preprocessing import OneHotEncoder\n",
    "#from pandas.plotting import scatter_matrix\n",
    "#from sklearn.model_selection import cross_val_predict\n",
    "#from sklearn.model_selection import cross_val_score\n",
    "#import seaborn as sns\n",
    "import networkx as nx\n",
    "from networkx.algorithms import bipartite\n",
    "%matplotlib inline"
   ]
  },
  {
   "cell_type": "markdown",
   "metadata": {},
   "source": [
    "# Question 1"
   ]
  },
  {
   "cell_type": "markdown",
   "metadata": {},
   "source": [
    "#### 1. A naive analysis\n",
    "\n",
    "Compare the distribution of the outcome variable (`re78`) between the two groups, using plots and numbers.\n",
    "To summarize and compare the distributions, you may use the techniques we discussed in lectures 4 (\"Read the stats carefully\") and 6 (\"Data visualization\").\n",
    "\n",
    "What might a naive \"researcher\" conclude from this superficial analysis?"
   ]
  },
  {
   "cell_type": "code",
   "execution_count": 2,
   "metadata": {},
   "outputs": [
    {
     "data": {
      "text/html": [
       "<div>\n",
       "<style>\n",
       "    .dataframe thead tr:only-child th {\n",
       "        text-align: right;\n",
       "    }\n",
       "\n",
       "    .dataframe thead th {\n",
       "        text-align: left;\n",
       "    }\n",
       "\n",
       "    .dataframe tbody tr th {\n",
       "        vertical-align: top;\n",
       "    }\n",
       "</style>\n",
       "<table border=\"1\" class=\"dataframe\">\n",
       "  <thead>\n",
       "    <tr style=\"text-align: right;\">\n",
       "      <th></th>\n",
       "      <th>treat</th>\n",
       "      <th>age</th>\n",
       "      <th>educ</th>\n",
       "      <th>black</th>\n",
       "      <th>hispan</th>\n",
       "      <th>married</th>\n",
       "      <th>nodegree</th>\n",
       "      <th>re74</th>\n",
       "      <th>re75</th>\n",
       "      <th>re78</th>\n",
       "    </tr>\n",
       "    <tr>\n",
       "      <th>id</th>\n",
       "      <th></th>\n",
       "      <th></th>\n",
       "      <th></th>\n",
       "      <th></th>\n",
       "      <th></th>\n",
       "      <th></th>\n",
       "      <th></th>\n",
       "      <th></th>\n",
       "      <th></th>\n",
       "      <th></th>\n",
       "    </tr>\n",
       "  </thead>\n",
       "  <tbody>\n",
       "    <tr>\n",
       "      <th>NSW1</th>\n",
       "      <td>1</td>\n",
       "      <td>37</td>\n",
       "      <td>11</td>\n",
       "      <td>1</td>\n",
       "      <td>0</td>\n",
       "      <td>1</td>\n",
       "      <td>1</td>\n",
       "      <td>0.0</td>\n",
       "      <td>0.0</td>\n",
       "      <td>9930.0460</td>\n",
       "    </tr>\n",
       "    <tr>\n",
       "      <th>NSW2</th>\n",
       "      <td>1</td>\n",
       "      <td>22</td>\n",
       "      <td>9</td>\n",
       "      <td>0</td>\n",
       "      <td>1</td>\n",
       "      <td>0</td>\n",
       "      <td>1</td>\n",
       "      <td>0.0</td>\n",
       "      <td>0.0</td>\n",
       "      <td>3595.8940</td>\n",
       "    </tr>\n",
       "    <tr>\n",
       "      <th>NSW3</th>\n",
       "      <td>1</td>\n",
       "      <td>30</td>\n",
       "      <td>12</td>\n",
       "      <td>1</td>\n",
       "      <td>0</td>\n",
       "      <td>0</td>\n",
       "      <td>0</td>\n",
       "      <td>0.0</td>\n",
       "      <td>0.0</td>\n",
       "      <td>24909.4500</td>\n",
       "    </tr>\n",
       "    <tr>\n",
       "      <th>NSW4</th>\n",
       "      <td>1</td>\n",
       "      <td>27</td>\n",
       "      <td>11</td>\n",
       "      <td>1</td>\n",
       "      <td>0</td>\n",
       "      <td>0</td>\n",
       "      <td>1</td>\n",
       "      <td>0.0</td>\n",
       "      <td>0.0</td>\n",
       "      <td>7506.1460</td>\n",
       "    </tr>\n",
       "    <tr>\n",
       "      <th>NSW5</th>\n",
       "      <td>1</td>\n",
       "      <td>33</td>\n",
       "      <td>8</td>\n",
       "      <td>1</td>\n",
       "      <td>0</td>\n",
       "      <td>0</td>\n",
       "      <td>1</td>\n",
       "      <td>0.0</td>\n",
       "      <td>0.0</td>\n",
       "      <td>289.7899</td>\n",
       "    </tr>\n",
       "  </tbody>\n",
       "</table>\n",
       "</div>"
      ],
      "text/plain": [
       "      treat  age  educ  black  hispan  married  nodegree  re74  re75  \\\n",
       "id                                                                     \n",
       "NSW1      1   37    11      1       0        1         1   0.0   0.0   \n",
       "NSW2      1   22     9      0       1        0         1   0.0   0.0   \n",
       "NSW3      1   30    12      1       0        0         0   0.0   0.0   \n",
       "NSW4      1   27    11      1       0        0         1   0.0   0.0   \n",
       "NSW5      1   33     8      1       0        0         1   0.0   0.0   \n",
       "\n",
       "            re78  \n",
       "id                \n",
       "NSW1   9930.0460  \n",
       "NSW2   3595.8940  \n",
       "NSW3  24909.4500  \n",
       "NSW4   7506.1460  \n",
       "NSW5    289.7899  "
      ]
     },
     "execution_count": 2,
     "metadata": {},
     "output_type": "execute_result"
    }
   ],
   "source": [
    "data = pd.read_csv('lalonde.csv', index_col=0)\n",
    "\n",
    "data.head()"
   ]
  },
  {
   "cell_type": "code",
   "execution_count": 3,
   "metadata": {},
   "outputs": [],
   "source": [
    "treated_group = data[data['treat'] == 1]\n",
    "untreated_group = data[data['treat'] == 0]"
   ]
  },
  {
   "cell_type": "code",
   "execution_count": 4,
   "metadata": {},
   "outputs": [
    {
     "data": {
      "text/html": [
       "<div>\n",
       "<style>\n",
       "    .dataframe thead tr:only-child th {\n",
       "        text-align: right;\n",
       "    }\n",
       "\n",
       "    .dataframe thead th {\n",
       "        text-align: left;\n",
       "    }\n",
       "\n",
       "    .dataframe tbody tr th {\n",
       "        vertical-align: top;\n",
       "    }\n",
       "</style>\n",
       "<table border=\"1\" class=\"dataframe\">\n",
       "  <thead>\n",
       "    <tr style=\"text-align: right;\">\n",
       "      <th></th>\n",
       "      <th>Treated</th>\n",
       "      <th>Untreated</th>\n",
       "    </tr>\n",
       "  </thead>\n",
       "  <tbody>\n",
       "    <tr>\n",
       "      <th>count</th>\n",
       "      <td>185.000000</td>\n",
       "      <td>429.000000</td>\n",
       "    </tr>\n",
       "    <tr>\n",
       "      <th>mean</th>\n",
       "      <td>6349.143530</td>\n",
       "      <td>6984.169742</td>\n",
       "    </tr>\n",
       "    <tr>\n",
       "      <th>std</th>\n",
       "      <td>7867.402218</td>\n",
       "      <td>7294.161791</td>\n",
       "    </tr>\n",
       "    <tr>\n",
       "      <th>min</th>\n",
       "      <td>0.000000</td>\n",
       "      <td>0.000000</td>\n",
       "    </tr>\n",
       "    <tr>\n",
       "      <th>25%</th>\n",
       "      <td>485.229800</td>\n",
       "      <td>220.181300</td>\n",
       "    </tr>\n",
       "    <tr>\n",
       "      <th>50%</th>\n",
       "      <td>4232.309000</td>\n",
       "      <td>4975.505000</td>\n",
       "    </tr>\n",
       "    <tr>\n",
       "      <th>75%</th>\n",
       "      <td>9642.999000</td>\n",
       "      <td>11688.820000</td>\n",
       "    </tr>\n",
       "    <tr>\n",
       "      <th>max</th>\n",
       "      <td>60307.930000</td>\n",
       "      <td>25564.670000</td>\n",
       "    </tr>\n",
       "    <tr>\n",
       "      <th>median</th>\n",
       "      <td>4232.309000</td>\n",
       "      <td>4975.505000</td>\n",
       "    </tr>\n",
       "  </tbody>\n",
       "</table>\n",
       "</div>"
      ],
      "text/plain": [
       "             Treated     Untreated\n",
       "count     185.000000    429.000000\n",
       "mean     6349.143530   6984.169742\n",
       "std      7867.402218   7294.161791\n",
       "min         0.000000      0.000000\n",
       "25%       485.229800    220.181300\n",
       "50%      4232.309000   4975.505000\n",
       "75%      9642.999000  11688.820000\n",
       "max     60307.930000  25564.670000\n",
       "median   4232.309000   4975.505000"
      ]
     },
     "execution_count": 4,
     "metadata": {},
     "output_type": "execute_result"
    }
   ],
   "source": [
    "'''\n",
    "print('Treated group statistics:')\n",
    "print(treated_group['re78'].describe())\n",
    "print('\\nMedian value for treated group:')\n",
    "print(treated_group['re78'].median())\n",
    "\n",
    "print('\\n\\nUntreated group statistics:')\n",
    "print(untreated_group['re78'].describe())\n",
    "print('\\nMedian value for untreated group:')\n",
    "print(untreated_group['re78'].median())\n",
    "'''\n",
    "\n",
    "treated_desc = treated_group['re78'].describe().rename(\"Treated\")\n",
    "treated_desc.set_value('median', treated_group['re78'].median())\n",
    "\n",
    "untreated_desc = untreated_group['re78'].describe().rename(\"Untreated\")\n",
    "untreated_desc.set_value('median', untreated_group['re78'].median())\n",
    "\n",
    "stats_df = pd.concat([treated_desc, untreated_desc], axis=1)\n",
    "stats_df"
   ]
  },
  {
   "cell_type": "markdown",
   "metadata": {},
   "source": [
    "Some observations:\n",
    "- The max earning value for the treated group is way higher than the max earning for the untreated group, but the mean and median values are higher for the untreated group, which leads us to think that the treated group overall didn't get better results, even though some outliers did get a very good outcome from the trainee program. We can also observe the higher standard deviation for the treated group, which goes in the same direction.\n",
    "\n",
    "Now lets display some plots of the distribution to visually see what it looks like."
   ]
  },
  {
   "cell_type": "code",
   "execution_count": 5,
   "metadata": {},
   "outputs": [
    {
     "data": {
      "text/plain": [
       "<matplotlib.text.Text at 0x11277e0f0>"
      ]
     },
     "execution_count": 5,
     "metadata": {},
     "output_type": "execute_result"
    },
    {
     "data": {
      "image/png": "[encoded data removed]",
      "text/plain": [
       "<matplotlib.figure.Figure at 0x112721668>"
      ]
     },
     "metadata": {},
     "output_type": "display_data"
    }
   ],
   "source": [
    "plt.figure(figsize=(12,1))\n",
    "plt.scatter(data['re78'], data['treat'], alpha=0.5)\n",
    "plt.xlabel('real earnings in 1978')\n",
    "plt.ylabel('Participated in job training')"
   ]
  },
  {
   "cell_type": "code",
   "execution_count": 6,
   "metadata": {},
   "outputs": [
    {
     "data": {
      "image/png": "[encoded data removed]",
      "text/plain": [
       "<matplotlib.figure.Figure at 0x115900390>"
      ]
     },
     "metadata": {},
     "output_type": "display_data"
    }
   ],
   "source": [
    "bins = np.linspace(0,70000, 50)\n",
    "\n",
    "plt.figure(figsize=(15,8))\n",
    "plt.hist(treated_group['re78'], bins, alpha=0.5, label='treated')\n",
    "plt.hist(untreated_group['re78'], bins, alpha=0.5, label='untreated')\n",
    "plt.legend(loc='upper right')\n",
    "plt.show()"
   ]
  },
  {
   "cell_type": "code",
   "execution_count": 7,
   "metadata": {},
   "outputs": [
    {
     "data": {
      "image/png": "[encoded data removed]",
      "text/plain": [
       "<matplotlib.figure.Figure at 0x115a757b8>"
      ]
     },
     "metadata": {},
     "output_type": "display_data"
    }
   ],
   "source": [
    "def draw_hists(data1, data2, title, xlabel, ylabel, column):\n",
    "    fig, (ax1, ax2) = plt.subplots(1,2, figsize=(15,6), sharex=True, sharey=True)\n",
    "    data1.hist(column, bins=bins, label='treated', ax=ax1)\n",
    "    data2.hist(column, bins=bins, label='untreated', ax=ax2)\n",
    "    set_axis(ax1, True, title, xlabel)\n",
    "    set_axis(ax2, False, title, xlabel)\n",
    "    ax1.set_ylabel(ylabel)\n",
    "\n",
    "def set_axis(ax, treated, title, xlabel=None):\n",
    "    if treated:\n",
    "        ax.set_title('Treated '+ title)\n",
    "    else:\n",
    "        ax.set_title('Untreated ' + title)\n",
    "    if xlabel is not None:\n",
    "        ax.set_xlabel(xlabel)\n",
    "    return\n",
    "\n",
    "\n",
    "draw_hists(treated_group, untreated_group, 'subjects - 1978 real earnings distribution', \n",
    "          '1978 real earnings', 'Number of people', 're78')\n",
    "\n",
    "#TODO create function and set all configs for axis etc. for both histograms # Complete?"
   ]
  },
  {
   "cell_type": "markdown",
   "metadata": {
    "collapsed": true
   },
   "source": [
    "# TODO our naive conclusion\n",
    "#### Naive conclusion\n",
    "The straightforward conclusion is that the treatment is not so effective as the mean of the 1972 real earnings is lower for the treated group. The fact that the maximum value for the treated group is higher for the untreated group may be discarted as outliers."
   ]
  },
  {
   "cell_type": "markdown",
   "metadata": {},
   "source": [
    "#### 2. A closer look at the data\n",
    "\n",
    "You're not naive, of course (and even if you are, you've learned certain things in ADA), so you aren't content with a superficial analysis such as the above.\n",
    "You're aware of the dangers of observational studies, so you take a closer look at the data before jumping to conclusions.\n",
    "\n",
    "For each feature in the dataset, compare its distribution in the treated group with its distribution in the control group, using plots and numbers.\n",
    "As above, you may use the techniques we discussed in class for summarizing and comparing the distributions.\n",
    "\n",
    "What do you observe?\n",
    "Describe what your observations mean for the conclusions drawn by the naive \"researcher\" from his superficial analysis."
   ]
  },
  {
   "cell_type": "code",
   "execution_count": 8,
   "metadata": {
    "scrolled": true
   },
   "outputs": [
    {
     "data": {
      "text/html": [
       "<div>\n",
       "<style>\n",
       "    .dataframe thead tr:only-child th {\n",
       "        text-align: right;\n",
       "    }\n",
       "\n",
       "    .dataframe thead th {\n",
       "        text-align: left;\n",
       "    }\n",
       "\n",
       "    .dataframe tbody tr th {\n",
       "        vertical-align: top;\n",
       "    }\n",
       "</style>\n",
       "<table border=\"1\" class=\"dataframe\">\n",
       "  <thead>\n",
       "    <tr style=\"text-align: right;\">\n",
       "      <th></th>\n",
       "      <th>treat</th>\n",
       "      <th>age</th>\n",
       "      <th>educ</th>\n",
       "      <th>black</th>\n",
       "      <th>hispan</th>\n",
       "      <th>married</th>\n",
       "      <th>nodegree</th>\n",
       "      <th>re74</th>\n",
       "      <th>re75</th>\n",
       "      <th>re78</th>\n",
       "    </tr>\n",
       "  </thead>\n",
       "  <tbody>\n",
       "    <tr>\n",
       "      <th>count</th>\n",
       "      <td>185.0</td>\n",
       "      <td>185.000000</td>\n",
       "      <td>185.000000</td>\n",
       "      <td>185.000000</td>\n",
       "      <td>185.000000</td>\n",
       "      <td>185.000000</td>\n",
       "      <td>185.000000</td>\n",
       "      <td>185.000000</td>\n",
       "      <td>185.000000</td>\n",
       "      <td>185.000000</td>\n",
       "    </tr>\n",
       "    <tr>\n",
       "      <th>mean</th>\n",
       "      <td>1.0</td>\n",
       "      <td>25.816216</td>\n",
       "      <td>10.345946</td>\n",
       "      <td>0.843243</td>\n",
       "      <td>0.059459</td>\n",
       "      <td>0.189189</td>\n",
       "      <td>0.708108</td>\n",
       "      <td>2095.573689</td>\n",
       "      <td>1532.055314</td>\n",
       "      <td>6349.143530</td>\n",
       "    </tr>\n",
       "    <tr>\n",
       "      <th>std</th>\n",
       "      <td>0.0</td>\n",
       "      <td>7.155019</td>\n",
       "      <td>2.010650</td>\n",
       "      <td>0.364558</td>\n",
       "      <td>0.237124</td>\n",
       "      <td>0.392722</td>\n",
       "      <td>0.455867</td>\n",
       "      <td>4886.620353</td>\n",
       "      <td>3219.250870</td>\n",
       "      <td>7867.402218</td>\n",
       "    </tr>\n",
       "    <tr>\n",
       "      <th>min</th>\n",
       "      <td>1.0</td>\n",
       "      <td>17.000000</td>\n",
       "      <td>4.000000</td>\n",
       "      <td>0.000000</td>\n",
       "      <td>0.000000</td>\n",
       "      <td>0.000000</td>\n",
       "      <td>0.000000</td>\n",
       "      <td>0.000000</td>\n",
       "      <td>0.000000</td>\n",
       "      <td>0.000000</td>\n",
       "    </tr>\n",
       "    <tr>\n",
       "      <th>25%</th>\n",
       "      <td>1.0</td>\n",
       "      <td>20.000000</td>\n",
       "      <td>9.000000</td>\n",
       "      <td>1.000000</td>\n",
       "      <td>0.000000</td>\n",
       "      <td>0.000000</td>\n",
       "      <td>0.000000</td>\n",
       "      <td>0.000000</td>\n",
       "      <td>0.000000</td>\n",
       "      <td>485.229800</td>\n",
       "    </tr>\n",
       "    <tr>\n",
       "      <th>50%</th>\n",
       "      <td>1.0</td>\n",
       "      <td>25.000000</td>\n",
       "      <td>11.000000</td>\n",
       "      <td>1.000000</td>\n",
       "      <td>0.000000</td>\n",
       "      <td>0.000000</td>\n",
       "      <td>1.000000</td>\n",
       "      <td>0.000000</td>\n",
       "      <td>0.000000</td>\n",
       "      <td>4232.309000</td>\n",
       "    </tr>\n",
       "    <tr>\n",
       "      <th>75%</th>\n",
       "      <td>1.0</td>\n",
       "      <td>29.000000</td>\n",
       "      <td>12.000000</td>\n",
       "      <td>1.000000</td>\n",
       "      <td>0.000000</td>\n",
       "      <td>0.000000</td>\n",
       "      <td>1.000000</td>\n",
       "      <td>1291.468000</td>\n",
       "      <td>1817.284000</td>\n",
       "      <td>9642.999000</td>\n",
       "    </tr>\n",
       "    <tr>\n",
       "      <th>max</th>\n",
       "      <td>1.0</td>\n",
       "      <td>48.000000</td>\n",
       "      <td>16.000000</td>\n",
       "      <td>1.000000</td>\n",
       "      <td>1.000000</td>\n",
       "      <td>1.000000</td>\n",
       "      <td>1.000000</td>\n",
       "      <td>35040.070000</td>\n",
       "      <td>25142.240000</td>\n",
       "      <td>60307.930000</td>\n",
       "    </tr>\n",
       "  </tbody>\n",
       "</table>\n",
       "</div>"
      ],
      "text/plain": [
       "       treat         age        educ       black      hispan     married  \\\n",
       "count  185.0  185.000000  185.000000  185.000000  185.000000  185.000000   \n",
       "mean     1.0   25.816216   10.345946    0.843243    0.059459    0.189189   \n",
       "std      0.0    7.155019    2.010650    0.364558    0.237124    0.392722   \n",
       "min      1.0   17.000000    4.000000    0.000000    0.000000    0.000000   \n",
       "25%      1.0   20.000000    9.000000    1.000000    0.000000    0.000000   \n",
       "50%      1.0   25.000000   11.000000    1.000000    0.000000    0.000000   \n",
       "75%      1.0   29.000000   12.000000    1.000000    0.000000    0.000000   \n",
       "max      1.0   48.000000   16.000000    1.000000    1.000000    1.000000   \n",
       "\n",
       "         nodegree          re74          re75          re78  \n",
       "count  185.000000    185.000000    185.000000    185.000000  \n",
       "mean     0.708108   2095.573689   1532.055314   6349.143530  \n",
       "std      0.455867   4886.620353   3219.250870   7867.402218  \n",
       "min      0.000000      0.000000      0.000000      0.000000  \n",
       "25%      0.000000      0.000000      0.000000    485.229800  \n",
       "50%      1.000000      0.000000      0.000000   4232.309000  \n",
       "75%      1.000000   1291.468000   1817.284000   9642.999000  \n",
       "max      1.000000  35040.070000  25142.240000  60307.930000  "
      ]
     },
     "execution_count": 8,
     "metadata": {},
     "output_type": "execute_result"
    }
   ],
   "source": [
    "treated_group.describe()"
   ]
  },
  {
   "cell_type": "code",
   "execution_count": 9,
   "metadata": {},
   "outputs": [
    {
     "data": {
      "text/html": [
       "<div>\n",
       "<style>\n",
       "    .dataframe thead tr:only-child th {\n",
       "        text-align: right;\n",
       "    }\n",
       "\n",
       "    .dataframe thead th {\n",
       "        text-align: left;\n",
       "    }\n",
       "\n",
       "    .dataframe tbody tr th {\n",
       "        vertical-align: top;\n",
       "    }\n",
       "</style>\n",
       "<table border=\"1\" class=\"dataframe\">\n",
       "  <thead>\n",
       "    <tr style=\"text-align: right;\">\n",
       "      <th></th>\n",
       "      <th>treat</th>\n",
       "      <th>age</th>\n",
       "      <th>educ</th>\n",
       "      <th>black</th>\n",
       "      <th>hispan</th>\n",
       "      <th>married</th>\n",
       "      <th>nodegree</th>\n",
       "      <th>re74</th>\n",
       "      <th>re75</th>\n",
       "      <th>re78</th>\n",
       "    </tr>\n",
       "  </thead>\n",
       "  <tbody>\n",
       "    <tr>\n",
       "      <th>count</th>\n",
       "      <td>429.0</td>\n",
       "      <td>429.000000</td>\n",
       "      <td>429.000000</td>\n",
       "      <td>429.000000</td>\n",
       "      <td>429.000000</td>\n",
       "      <td>429.000000</td>\n",
       "      <td>429.000000</td>\n",
       "      <td>429.000000</td>\n",
       "      <td>429.000000</td>\n",
       "      <td>429.000000</td>\n",
       "    </tr>\n",
       "    <tr>\n",
       "      <th>mean</th>\n",
       "      <td>0.0</td>\n",
       "      <td>28.030303</td>\n",
       "      <td>10.235431</td>\n",
       "      <td>0.202797</td>\n",
       "      <td>0.142191</td>\n",
       "      <td>0.512821</td>\n",
       "      <td>0.596737</td>\n",
       "      <td>5619.236506</td>\n",
       "      <td>2466.484443</td>\n",
       "      <td>6984.169742</td>\n",
       "    </tr>\n",
       "    <tr>\n",
       "      <th>std</th>\n",
       "      <td>0.0</td>\n",
       "      <td>10.786653</td>\n",
       "      <td>2.855238</td>\n",
       "      <td>0.402552</td>\n",
       "      <td>0.349654</td>\n",
       "      <td>0.500419</td>\n",
       "      <td>0.491126</td>\n",
       "      <td>6788.750796</td>\n",
       "      <td>3291.996183</td>\n",
       "      <td>7294.161791</td>\n",
       "    </tr>\n",
       "    <tr>\n",
       "      <th>min</th>\n",
       "      <td>0.0</td>\n",
       "      <td>16.000000</td>\n",
       "      <td>0.000000</td>\n",
       "      <td>0.000000</td>\n",
       "      <td>0.000000</td>\n",
       "      <td>0.000000</td>\n",
       "      <td>0.000000</td>\n",
       "      <td>0.000000</td>\n",
       "      <td>0.000000</td>\n",
       "      <td>0.000000</td>\n",
       "    </tr>\n",
       "    <tr>\n",
       "      <th>25%</th>\n",
       "      <td>0.0</td>\n",
       "      <td>19.000000</td>\n",
       "      <td>9.000000</td>\n",
       "      <td>0.000000</td>\n",
       "      <td>0.000000</td>\n",
       "      <td>0.000000</td>\n",
       "      <td>0.000000</td>\n",
       "      <td>0.000000</td>\n",
       "      <td>0.000000</td>\n",
       "      <td>220.181300</td>\n",
       "    </tr>\n",
       "    <tr>\n",
       "      <th>50%</th>\n",
       "      <td>0.0</td>\n",
       "      <td>25.000000</td>\n",
       "      <td>11.000000</td>\n",
       "      <td>0.000000</td>\n",
       "      <td>0.000000</td>\n",
       "      <td>1.000000</td>\n",
       "      <td>1.000000</td>\n",
       "      <td>2547.047000</td>\n",
       "      <td>1086.726000</td>\n",
       "      <td>4975.505000</td>\n",
       "    </tr>\n",
       "    <tr>\n",
       "      <th>75%</th>\n",
       "      <td>0.0</td>\n",
       "      <td>35.000000</td>\n",
       "      <td>12.000000</td>\n",
       "      <td>0.000000</td>\n",
       "      <td>0.000000</td>\n",
       "      <td>1.000000</td>\n",
       "      <td>1.000000</td>\n",
       "      <td>9277.128000</td>\n",
       "      <td>3881.419000</td>\n",
       "      <td>11688.820000</td>\n",
       "    </tr>\n",
       "    <tr>\n",
       "      <th>max</th>\n",
       "      <td>0.0</td>\n",
       "      <td>55.000000</td>\n",
       "      <td>18.000000</td>\n",
       "      <td>1.000000</td>\n",
       "      <td>1.000000</td>\n",
       "      <td>1.000000</td>\n",
       "      <td>1.000000</td>\n",
       "      <td>25862.320000</td>\n",
       "      <td>18347.230000</td>\n",
       "      <td>25564.670000</td>\n",
       "    </tr>\n",
       "  </tbody>\n",
       "</table>\n",
       "</div>"
      ],
      "text/plain": [
       "       treat         age        educ       black      hispan     married  \\\n",
       "count  429.0  429.000000  429.000000  429.000000  429.000000  429.000000   \n",
       "mean     0.0   28.030303   10.235431    0.202797    0.142191    0.512821   \n",
       "std      0.0   10.786653    2.855238    0.402552    0.349654    0.500419   \n",
       "min      0.0   16.000000    0.000000    0.000000    0.000000    0.000000   \n",
       "25%      0.0   19.000000    9.000000    0.000000    0.000000    0.000000   \n",
       "50%      0.0   25.000000   11.000000    0.000000    0.000000    1.000000   \n",
       "75%      0.0   35.000000   12.000000    0.000000    0.000000    1.000000   \n",
       "max      0.0   55.000000   18.000000    1.000000    1.000000    1.000000   \n",
       "\n",
       "         nodegree          re74          re75          re78  \n",
       "count  429.000000    429.000000    429.000000    429.000000  \n",
       "mean     0.596737   5619.236506   2466.484443   6984.169742  \n",
       "std      0.491126   6788.750796   3291.996183   7294.161791  \n",
       "min      0.000000      0.000000      0.000000      0.000000  \n",
       "25%      0.000000      0.000000      0.000000    220.181300  \n",
       "50%      1.000000   2547.047000   1086.726000   4975.505000  \n",
       "75%      1.000000   9277.128000   3881.419000  11688.820000  \n",
       "max      1.000000  25862.320000  18347.230000  25564.670000  "
      ]
     },
     "execution_count": 9,
     "metadata": {},
     "output_type": "execute_result"
    }
   ],
   "source": [
    "untreated_group.describe()"
   ]
  },
  {
   "cell_type": "markdown",
   "metadata": {},
   "source": [
    "It's always easier to look at pictures than numbers, so let us start with continious data of age and years of education. We will build the box plots to observe that the treated group is generally younger and that the distribution of years of education is similar, except that the untreated group has a couple of outliers more."
   ]
  },
  {
   "cell_type": "code",
   "execution_count": 10,
   "metadata": {},
   "outputs": [
    {
     "data": {
      "image/png": "[encoded data removed]",
      "text/plain": [
       "<matplotlib.figure.Figure at 0x1127210b8>"
      ]
     },
     "metadata": {},
     "output_type": "display_data"
    }
   ],
   "source": [
    "def drawBoxPlot (data1, data2, title, col):\n",
    "    fig, (ax1, ax2) = plt.subplots(1,2, figsize=(6,6), sharex=True, sharey=True)\n",
    "    treated_group[col].plot.box(ax=ax1)\n",
    "    untreated_group[col].plot.box(ax=ax2)\n",
    "    set_axis(ax1, True, title)\n",
    "    set_axis(ax2, False, title)\n",
    "\n",
    "drawBoxPlot(treated_group, untreated_group, 'Age Distribution', 'age')"
   ]
  },
  {
   "cell_type": "code",
   "execution_count": 11,
   "metadata": {},
   "outputs": [
    {
     "data": {
      "image/png": "[encoded data removed]",
      "text/plain": [
       "<matplotlib.figure.Figure at 0x1159b9278>"
      ]
     },
     "metadata": {},
     "output_type": "display_data"
    }
   ],
   "source": [
    "drawBoxPlot(treated_group, untreated_group, 'Educ. Distribution', 'educ')"
   ]
  },
  {
   "cell_type": "markdown",
   "metadata": {},
   "source": [
    "Now let's have a look at the distribution of real earnings before the treatment."
   ]
  },
  {
   "cell_type": "code",
   "execution_count": 12,
   "metadata": {},
   "outputs": [
    {
     "data": {
      "image/png": "[encoded data removed]",
      "text/plain": [
       "<matplotlib.figure.Figure at 0x1167be320>"
      ]
     },
     "metadata": {},
     "output_type": "display_data"
    },
    {
     "data": {
      "image/png": "[encoded data removed]",
      "text/plain": [
       "<matplotlib.figure.Figure at 0x1167bee80>"
      ]
     },
     "metadata": {},
     "output_type": "display_data"
    }
   ],
   "source": [
    "drawBoxPlot(treated_group, untreated_group, 'RE 1974 Distribution', 're74')\n",
    "drawBoxPlot(treated_group, untreated_group, 'RE 1975 Distribution', 're75')"
   ]
  },
  {
   "cell_type": "markdown",
   "metadata": {},
   "source": [
    "Here is something interesting: before the trearment the treated group was earning significantly less then untreated group. Moreover there are a couple of outliers in the treated group that earned a lot more then the mean of the group, that might explain the outliers in the real earnings distribution after the treatment."
   ]
  },
  {
   "cell_type": "markdown",
   "metadata": {},
   "source": [
    "Below, we compare the percent of true/false values for features concerning race ('black' and 'hispan'), marriage and degree for each group and compare in bar charts.\n",
    "\n",
    "We also plot the distributions for the age, education and income prior to the experience to compare between the two groups.\n",
    "\n",
    "These observations will let us determine if the two groups are equivalently distributed."
   ]
  },
  {
   "cell_type": "code",
   "execution_count": 13,
   "metadata": {},
   "outputs": [
    {
     "name": "stdout",
     "output_type": "stream",
     "text": [
      "black percent for treated group: 84.32%\n",
      "black percent for untreated group: 20.28%\n",
      "\n"
     ]
    },
    {
     "data": {
      "image/png": "[encoded data removed]",
      "text/plain": [
       "<matplotlib.figure.Figure at 0x11631ea58>"
      ]
     },
     "metadata": {},
     "output_type": "display_data"
    },
    {
     "name": "stdout",
     "output_type": "stream",
     "text": [
      "hispan percent for treated group: 5.95%\n",
      "hispan percent for untreated group: 14.22%\n",
      "\n"
     ]
    },
    {
     "data": {
      "image/png": "[encoded data removed]",
      "text/plain": [
       "<matplotlib.figure.Figure at 0x115bc2828>"
      ]
     },
     "metadata": {},
     "output_type": "display_data"
    },
    {
     "name": "stdout",
     "output_type": "stream",
     "text": [
      "married percent for treated group: 18.92%\n",
      "married percent for untreated group: 51.28%\n",
      "\n"
     ]
    },
    {
     "data": {
      "image/png": "[encoded data removed]",
      "text/plain": [
       "<matplotlib.figure.Figure at 0x1160ce898>"
      ]
     },
     "metadata": {},
     "output_type": "display_data"
    },
    {
     "name": "stdout",
     "output_type": "stream",
     "text": [
      "nodegree percent for treated group: 70.81%\n",
      "nodegree percent for untreated group: 59.67%\n",
      "\n"
     ]
    },
    {
     "data": {
      "image/png": "[encoded data removed]",
      "text/plain": [
       "<matplotlib.figure.Figure at 0x1159daef0>"
      ]
     },
     "metadata": {},
     "output_type": "display_data"
    },
    {
     "data": {
      "text/plain": [
       "[None, None, None, None]"
      ]
     },
     "execution_count": 13,
     "metadata": {},
     "output_type": "execute_result"
    }
   ],
   "source": [
    "def percentage_comparison(treated_g, untreated_g, feature):\n",
    "    treated_percent = 100 * np.sum(treated_g[feature]) / treated_g[feature].size\n",
    "    untreated_percent = 100 * np.sum(untreated_g[feature]) / untreated_g[feature].size\n",
    "    print('{} percent for treated group: {:0.2f}%'.format(feature, treated_percent))\n",
    "    print('{} percent for untreated group: {:0.2f}%'.format(feature, untreated_percent))\n",
    "    print()\n",
    "    \n",
    "    x = [u'True', u'False']\n",
    "    y = [treated_percent, untreated_percent]\n",
    "    fig, ax = plt.subplots() \n",
    "    plt.bar([0,1], [treated_percent, untreated_percent])\n",
    "    plt.title(feature)\n",
    "    plt.xlabel(feature)\n",
    "    plt.ylabel('%')\n",
    "    \n",
    "    ax.set_ylim([0,100])\n",
    "    \n",
    "    plt.show()\n",
    "\n",
    "features_to_compare = ['black', 'hispan', 'married', 'nodegree']\n",
    "[percentage_comparison(treated_group, untreated_group, f) for f in features_to_compare]\n",
    "\n",
    "# TODO plot values above in small bar charts with yaxis 100% to compare visually\n",
    "# TODO plot in subplots side by side, nicer\n",
    "# Display bar value in each bar\n",
    "# TODO plot age distribution, plot years of education, display income before exp\n",
    "# TODO box plots?\n",
    "# TODO new column with 'race_other' (if black and hispan == 0)"
   ]
  },
  {
   "cell_type": "markdown",
   "metadata": {},
   "source": [
    "- Proportionally, the number of blacks in the control group is way higher than in the treated group.\n",
    "- There is also a disreptancy in the percentage of married people in each group\n",
    "\n",
    "\n",
    "These observations show that the treatment assignment isn't random and there is a huge bias between the two groups in some of the covariates, such as the number of blacks. This doesn't correspond to a randomized experiment. Such disruptancies cause major differences in the groups, which alone is enough to invalidate the naive conclusions made in part 1, or at least put the above findings into question."
   ]
  },
  {
   "cell_type": "markdown",
   "metadata": {},
   "source": [
    "#### 3. A propensity score model\n",
    "\n",
    "Use logistic regression to estimate propensity scores for all points in the dataset.\n",
    "You may use `sklearn` to fit the logistic regression model and apply it to each data point to obtain propensity scores:\n",
    "\n",
    "```python\n",
    "from sklearn import linear_model\n",
    "logistic = linear_model.LogisticRegression()\n",
    "```\n",
    "\n",
    "Recall that the propensity score of a data point represents its probability of receiving the treatment, based on its pre-treatment features (in this case, age, education, pre-treatment income, etc.).\n",
    "To brush up on propensity scores, you may read chapter 3.3 of the above-cited book by Rosenbaum or [this article](https://drive.google.com/file/d/0B4jctQY-uqhzTlpBaTBJRTJFVFE/view).\n",
    "\n",
    "Note: you do not need a train/test split here. Train and apply the model on the entire dataset. If you're wondering why this is the right thing to do in this situation, recall that the propensity score model is not used in order to make predictions about unseen data. Its sole purpose is to balance the dataset across treatment groups.\n",
    "(See p. 74 of Rosenbaum's book for an explanation why slight overfitting is even good for propensity scores.\n",
    "If you want even more information, read [this article](https://drive.google.com/file/d/0B4jctQY-uqhzTlpBaTBJRTJFVFE/view).)"
   ]
  },
  {
   "cell_type": "code",
   "execution_count": 14,
   "metadata": {},
   "outputs": [
    {
     "data": {
      "text/html": [
       "<div>\n",
       "<style>\n",
       "    .dataframe thead tr:only-child th {\n",
       "        text-align: right;\n",
       "    }\n",
       "\n",
       "    .dataframe thead th {\n",
       "        text-align: left;\n",
       "    }\n",
       "\n",
       "    .dataframe tbody tr th {\n",
       "        vertical-align: top;\n",
       "    }\n",
       "</style>\n",
       "<table border=\"1\" class=\"dataframe\">\n",
       "  <thead>\n",
       "    <tr style=\"text-align: right;\">\n",
       "      <th></th>\n",
       "      <th>treat</th>\n",
       "      <th>age</th>\n",
       "      <th>educ</th>\n",
       "      <th>black</th>\n",
       "      <th>hispan</th>\n",
       "      <th>married</th>\n",
       "      <th>nodegree</th>\n",
       "      <th>re74</th>\n",
       "      <th>re75</th>\n",
       "      <th>re78</th>\n",
       "      <th>prop_score</th>\n",
       "    </tr>\n",
       "    <tr>\n",
       "      <th>id</th>\n",
       "      <th></th>\n",
       "      <th></th>\n",
       "      <th></th>\n",
       "      <th></th>\n",
       "      <th></th>\n",
       "      <th></th>\n",
       "      <th></th>\n",
       "      <th></th>\n",
       "      <th></th>\n",
       "      <th></th>\n",
       "      <th></th>\n",
       "    </tr>\n",
       "  </thead>\n",
       "  <tbody>\n",
       "    <tr>\n",
       "      <th>NSW1</th>\n",
       "      <td>1</td>\n",
       "      <td>37</td>\n",
       "      <td>11</td>\n",
       "      <td>1</td>\n",
       "      <td>0</td>\n",
       "      <td>1</td>\n",
       "      <td>1</td>\n",
       "      <td>0.0</td>\n",
       "      <td>0.0</td>\n",
       "      <td>9930.0460</td>\n",
       "      <td>0.443350</td>\n",
       "    </tr>\n",
       "    <tr>\n",
       "      <th>NSW2</th>\n",
       "      <td>1</td>\n",
       "      <td>22</td>\n",
       "      <td>9</td>\n",
       "      <td>0</td>\n",
       "      <td>1</td>\n",
       "      <td>0</td>\n",
       "      <td>1</td>\n",
       "      <td>0.0</td>\n",
       "      <td>0.0</td>\n",
       "      <td>3595.8940</td>\n",
       "      <td>0.144660</td>\n",
       "    </tr>\n",
       "    <tr>\n",
       "      <th>NSW3</th>\n",
       "      <td>1</td>\n",
       "      <td>30</td>\n",
       "      <td>12</td>\n",
       "      <td>1</td>\n",
       "      <td>0</td>\n",
       "      <td>0</td>\n",
       "      <td>0</td>\n",
       "      <td>0.0</td>\n",
       "      <td>0.0</td>\n",
       "      <td>24909.4500</td>\n",
       "      <td>0.722355</td>\n",
       "    </tr>\n",
       "    <tr>\n",
       "      <th>NSW4</th>\n",
       "      <td>1</td>\n",
       "      <td>27</td>\n",
       "      <td>11</td>\n",
       "      <td>1</td>\n",
       "      <td>0</td>\n",
       "      <td>0</td>\n",
       "      <td>1</td>\n",
       "      <td>0.0</td>\n",
       "      <td>0.0</td>\n",
       "      <td>7506.1460</td>\n",
       "      <td>0.664151</td>\n",
       "    </tr>\n",
       "    <tr>\n",
       "      <th>NSW5</th>\n",
       "      <td>1</td>\n",
       "      <td>33</td>\n",
       "      <td>8</td>\n",
       "      <td>1</td>\n",
       "      <td>0</td>\n",
       "      <td>0</td>\n",
       "      <td>1</td>\n",
       "      <td>0.0</td>\n",
       "      <td>0.0</td>\n",
       "      <td>289.7899</td>\n",
       "      <td>0.698286</td>\n",
       "    </tr>\n",
       "  </tbody>\n",
       "</table>\n",
       "</div>"
      ],
      "text/plain": [
       "      treat  age  educ  black  hispan  married  nodegree  re74  re75  \\\n",
       "id                                                                     \n",
       "NSW1      1   37    11      1       0        1         1   0.0   0.0   \n",
       "NSW2      1   22     9      0       1        0         1   0.0   0.0   \n",
       "NSW3      1   30    12      1       0        0         0   0.0   0.0   \n",
       "NSW4      1   27    11      1       0        0         1   0.0   0.0   \n",
       "NSW5      1   33     8      1       0        0         1   0.0   0.0   \n",
       "\n",
       "            re78  prop_score  \n",
       "id                            \n",
       "NSW1   9930.0460    0.443350  \n",
       "NSW2   3595.8940    0.144660  \n",
       "NSW3  24909.4500    0.722355  \n",
       "NSW4   7506.1460    0.664151  \n",
       "NSW5    289.7899    0.698286  "
      ]
     },
     "execution_count": 14,
     "metadata": {},
     "output_type": "execute_result"
    }
   ],
   "source": [
    "logistic = LogisticRegression()\n",
    "\n",
    "confounders = ['age', 'educ', 'black', 'hispan', 'married', 'nodegree', 're74', 're75']\n",
    "#confounders = ['age', 'educ', 'hispan', 'married', 'nodegree', 're74', 're75']\n",
    "\n",
    "y = data['treat']\n",
    "X = data[confounders]\n",
    "logistic.fit(X, y)\n",
    "\n",
    "prop_score = [e for (_,e) in logistic.predict_proba(X)]\n",
    "\n",
    "data['prop_score'] = prop_score\n",
    "data.head()\n",
    "\n",
    "# TODO way to ignore re74 and re75 when zero? That would be possible only if we get rid of those lines all together\n",
    "# But then there is a problem See the comment below"
   ]
  },
  {
   "cell_type": "markdown",
   "metadata": {},
   "source": [
    "Which means, for example, that the second person in the above array has a 14.5% chance of being in the treated group."
   ]
  },
  {
   "cell_type": "markdown",
   "metadata": {},
   "source": [
    "\n",
    "#### 4. Balancing the dataset via matching\n",
    "\n",
    "Use the propensity scores to match each data point from the treated group with exactly one data point from the control group, while ensuring that each data point from the control group is matched with at most one data point from the treated group.\n",
    "(Hint: you may explore the `networkx` package in Python for predefined matching functions.)\n",
    "\n",
    "Your matching should maximize the similarity between matched subjects, as captured by their propensity scores.\n",
    "In other words, the sum (over all matched pairs) of absolute propensity-score differences between the two matched subjects should be minimized.\n",
    "\n",
    "After matching, you have as many treated as you have control subjects.\n",
    "Compare the outcomes (`re78`) between the two groups (treated and control).\n",
    "\n",
    "Also, compare again the feature-value distributions between the two groups, as you've done in part 2 above, but now only for the matched subjects.\n",
    "What do you observe?\n",
    "Are you closer to being able to draw valid conclusions now than you were before?"
   ]
  },
  {
   "cell_type": "code",
   "execution_count": 15,
   "metadata": {
    "scrolled": true
   },
   "outputs": [],
   "source": [
    "treat_prop = data[data['treat'] == 1]['prop_score']\n",
    "untreat_prop = data[data['treat'] == 0]['prop_score']\n",
    "\n",
    "#B = nx.complete_bipartite_graph(treat_prop.size, untreat_prop.size)\n",
    "\n",
    "B = nx.Graph()\n",
    "\n",
    "B.add_nodes_from(treat_prop.index, bipartite=0)\n",
    "B.add_nodes_from(untreat_prop.index, bipartite=1)\n",
    "\n",
    "for l_idx, l in treat_prop.iteritems():\n",
    "    for r_idx, r in untreat_prop.iteritems():\n",
    "        w = 1 - abs(l - r)\n",
    "        B.add_edge(l_idx, r_idx, weight=w)\n",
    "\n",
    "max_matching = nx.max_weight_matching(B, True)\n",
    "#max_matching\n",
    "\n",
    "# TODO is this matching correct? Histogram seems fishy, too many high values??\n",
    "# I think it;s bacause of the zero values in re74 and re75 But we can;t just get rid of them, as they entail\n",
    "# some meaning. The zero's may mean that there was no real imcome for that person that year. But then how likely is it?"
   ]
  },
  {
   "cell_type": "markdown",
   "metadata": {},
   "source": [
    "To check how good our matching performed, we compute the absolute difference between the two propensity scores for each pair in the matching and display a histogram of all the values."
   ]
  },
  {
   "cell_type": "code",
   "execution_count": 16,
   "metadata": {
    "scrolled": false
   },
   "outputs": [
    {
     "name": "stdout",
     "output_type": "stream",
     "text": [
      "Mean absolute propensity score: 0.19142319947248007\n"
     ]
    },
    {
     "data": {
      "image/png": "[encoded data removed]",
      "text/plain": [
       "<matplotlib.figure.Figure at 0x1161335c0>"
      ]
     },
     "metadata": {},
     "output_type": "display_data"
    }
   ],
   "source": [
    "def get_scores(matching):\n",
    "    (left, _) = bipartite.sets(B)\n",
    "    return [abs(treat_prop[l] - untreat_prop[matching[l]]) for l in left]\n",
    "\n",
    "abs_diffs = get_scores(max_matching)\n",
    "print('Mean absolute propensity score: {}'.format(np.mean(abs_diffs)))\n",
    "\n",
    "plt.hist(abs_diffs,bins=25)\n",
    "plt.title('Histogram of absolute propensity score difference for each pair in the matching')\n",
    "plt.xlabel('absolute difference in propensity score')\n",
    "plt.ylabel('# of elements')\n",
    "plt.show()"
   ]
  },
  {
   "cell_type": "markdown",
   "metadata": {},
   "source": [
    "As we can see, the algorithm found many good matchings, but there is a lot of pairs that have a big difference in propensity score, due to the fact that strictly each score has to be matched with one from the other group."
   ]
  },
  {
   "cell_type": "code",
   "execution_count": 17,
   "metadata": {},
   "outputs": [
    {
     "name": "stdout",
     "output_type": "stream",
     "text": [
      "Left (treated): 185\n",
      "Right (untreated): 429\n"
     ]
    }
   ],
   "source": [
    "#left side is the treated nodes, right side is untreated nodes (size)\n",
    "(left, right) = bipartite.sets(B)\n",
    "\n",
    "print('Left (treated): {}'.format(len(left)))\n",
    "print('Right (untreated): {}'.format(len(right)))"
   ]
  },
  {
   "cell_type": "markdown",
   "metadata": {},
   "source": [
    "The left side of the bipartite graph is the smallest, thus the matching contains all nodes on the left side (185) and has matched with 185 nodes on the right side (untreated patients)."
   ]
  },
  {
   "cell_type": "code",
   "execution_count": 18,
   "metadata": {},
   "outputs": [
    {
     "data": {
      "image/png": "[encoded data removed]",
      "text/plain": [
       "<matplotlib.figure.Figure at 0x11604c278>"
      ]
     },
     "metadata": {},
     "output_type": "display_data"
    }
   ],
   "source": [
    "treated_matched_index = left #are all matched\n",
    "untreated_matched_index = [max_matching[l] for l in left]\n",
    "len(untreated_matched_index)\n",
    "\n",
    "# Get only the matched proensity scores for each group\n",
    "matched_treated_group = data.loc[treated_matched_index]\n",
    "matched_untreated_group = data.loc[untreated_matched_index]\n",
    "\n",
    "draw_hists(matched_treated_group, matched_untreated_group, 'subjects - 1978 real earnings distribution', \n",
    "          '1978 real earnings', 'Number of people', 're78')"
   ]
  },
  {
   "cell_type": "markdown",
   "metadata": {},
   "source": [
    "Now, with the propensity score matching, we have an observational study and looking at the results of 1978 earnings, we could conclude that the treatment did work well for the outliers that earned a lot more than the rest. There is also less people with no income in the treated group."
   ]
  },
  {
   "cell_type": "code",
   "execution_count": 19,
   "metadata": {},
   "outputs": [
    {
     "name": "stdout",
     "output_type": "stream",
     "text": [
      "black percent for treated group: 84.32%\n",
      "black percent for untreated group: 47.03%\n",
      "\n"
     ]
    },
    {
     "data": {
      "image/png": "[encoded data removed]",
      "text/plain": [
       "<matplotlib.figure.Figure at 0x1161d69b0>"
      ]
     },
     "metadata": {},
     "output_type": "display_data"
    },
    {
     "name": "stdout",
     "output_type": "stream",
     "text": [
      "hispan percent for treated group: 5.95%\n",
      "hispan percent for untreated group: 11.89%\n",
      "\n"
     ]
    },
    {
     "data": {
      "image/png": "[encoded data removed]",
      "text/plain": [
       "<matplotlib.figure.Figure at 0x115e53fd0>"
      ]
     },
     "metadata": {},
     "output_type": "display_data"
    },
    {
     "name": "stdout",
     "output_type": "stream",
     "text": [
      "married percent for treated group: 18.92%\n",
      "married percent for untreated group: 16.76%\n",
      "\n"
     ]
    },
    {
     "data": {
      "image/png": "[encoded data removed]",
      "text/plain": [
       "<matplotlib.figure.Figure at 0x11789a2e8>"
      ]
     },
     "metadata": {},
     "output_type": "display_data"
    },
    {
     "name": "stdout",
     "output_type": "stream",
     "text": [
      "nodegree percent for treated group: 70.81%\n",
      "nodegree percent for untreated group: 62.70%\n",
      "\n"
     ]
    },
    {
     "data": {
      "image/png": "[encoded data removed]",
      "text/plain": [
       "<matplotlib.figure.Figure at 0x115e421d0>"
      ]
     },
     "metadata": {},
     "output_type": "display_data"
    },
    {
     "data": {
      "image/png": "[encoded data removed]",
      "text/plain": [
       "<matplotlib.figure.Figure at 0x1159052e8>"
      ]
     },
     "metadata": {},
     "output_type": "display_data"
    },
    {
     "data": {
      "image/png": "[encoded data removed]",
      "text/plain": [
       "<matplotlib.figure.Figure at 0x117b9fcf8>"
      ]
     },
     "metadata": {},
     "output_type": "display_data"
    },
    {
     "data": {
      "image/png": "[encoded data removed]",
      "text/plain": [
       "<matplotlib.figure.Figure at 0x117d58710>"
      ]
     },
     "metadata": {},
     "output_type": "display_data"
    },
    {
     "data": {
      "image/png": "[encoded data removed]",
      "text/plain": [
       "<matplotlib.figure.Figure at 0x117ea4dd8>"
      ]
     },
     "metadata": {},
     "output_type": "display_data"
    }
   ],
   "source": [
    "features_to_compare = ['black', 'hispan', 'married', 'nodegree']\n",
    "[percentage_comparison(matched_treated_group, matched_untreated_group, f) for f in features_to_compare]\n",
    "\n",
    "drawBoxPlot(matched_treated_group, matched_untreated_group, 'Age Distribution', 'age')\n",
    "drawBoxPlot(matched_treated_group, matched_untreated_group, 'Educ. Distribution', 'educ')\n",
    "drawBoxPlot(matched_treated_group, matched_untreated_group, 'RE 1974 Distribution', 're74')\n",
    "drawBoxPlot(matched_treated_group, matched_untreated_group, 'RE 1975 Distribution', 're75')\n"
   ]
  },
  {
   "cell_type": "markdown",
   "metadata": {},
   "source": [
    "\n",
    "Even though the number of blacks, for example, is still relatively different in each group, the differences are smaller for each feature and the groups look better distributed."
   ]
  },
  {
   "cell_type": "markdown",
   "metadata": {},
   "source": [
    "#### 5. Balancing the groups further\n",
    "\n",
    "Based on your comparison of feature-value distributions from part 4, are you fully satisfied with your matching?\n",
    "Would you say your dataset is sufficiently balanced?\n",
    "If not, in what ways could the \"balanced\" dataset you have obtained still not allow you to draw valid conclusions?\n",
    "\n",
    "Improve your matching by explicitly making sure that you match only subjects that have the same value for the problematic feature.\n",
    "Argue with numbers and plots that the two groups (treated and control) are now better balanced than after part 4.\n"
   ]
  },
  {
   "cell_type": "markdown",
   "metadata": {
    "collapsed": true
   },
   "source": [
    "Our matching in part 4 makes feature-values distributions somewhat better, but there is still considerable imbalance in such features as 'black', 'married' and a little bit in 'hispan'. Therefore we can't say our dataset is balanced.\n",
    "A possible way to improve the imbalance of our dataset is to prohibit cross-ratial matches. Therefore our next step is to correct the balance of our dataset by matching two datapoints only if thery are both black or non-black."
   ]
  },
  {
   "cell_type": "code",
   "execution_count": 20,
   "metadata": {},
   "outputs": [
    {
     "data": {
      "text/plain": [
       "{'NSW1': 'PSID27',\n",
       " 'NSW10': 'PSID40',\n",
       " 'NSW100': 'PSID274',\n",
       " 'NSW104': 'PSID374',\n",
       " 'NSW105': 'PSID388',\n",
       " 'NSW107': 'PSID158',\n",
       " 'NSW110': 'PSID368',\n",
       " 'NSW111': 'PSID420',\n",
       " 'NSW112': 'PSID205',\n",
       " 'NSW113': 'PSID352',\n",
       " 'NSW115': 'PSID46',\n",
       " 'NSW116': 'PSID227',\n",
       " 'NSW119': 'PSID196',\n",
       " 'NSW12': 'PSID381',\n",
       " 'NSW120': 'PSID15',\n",
       " 'NSW122': 'PSID110',\n",
       " 'NSW123': 'PSID333',\n",
       " 'NSW124': 'PSID194',\n",
       " 'NSW125': 'PSID103',\n",
       " 'NSW127': 'PSID159',\n",
       " 'NSW129': 'PSID313',\n",
       " 'NSW13': 'PSID269',\n",
       " 'NSW130': 'PSID326',\n",
       " 'NSW131': 'PSID406',\n",
       " 'NSW132': 'PSID423',\n",
       " 'NSW133': 'PSID99',\n",
       " 'NSW134': 'PSID238',\n",
       " 'NSW135': 'PSID41',\n",
       " 'NSW137': 'PSID166',\n",
       " 'NSW139': 'PSID98',\n",
       " 'NSW14': 'PSID217',\n",
       " 'NSW140': 'PSID409',\n",
       " 'NSW145': 'PSID156',\n",
       " 'NSW147': 'PSID291',\n",
       " 'NSW150': 'PSID330',\n",
       " 'NSW151': 'PSID337',\n",
       " 'NSW152': 'PSID293',\n",
       " 'NSW153': 'PSID268',\n",
       " 'NSW155': 'PSID354',\n",
       " 'NSW157': 'PSID157',\n",
       " 'NSW16': 'PSID412',\n",
       " 'NSW161': 'PSID335',\n",
       " 'NSW163': 'PSID96',\n",
       " 'NSW164': 'PSID419',\n",
       " 'NSW165': 'PSID134',\n",
       " 'NSW166': 'PSID102',\n",
       " 'NSW167': 'PSID167',\n",
       " 'NSW17': 'PSID218',\n",
       " 'NSW172': 'PSID5',\n",
       " 'NSW173': 'PSID312',\n",
       " 'NSW175': 'PSID94',\n",
       " 'NSW176': 'PSID416',\n",
       " 'NSW177': 'PSID199',\n",
       " 'NSW178': 'PSID8',\n",
       " 'NSW179': 'PSID170',\n",
       " 'NSW180': 'PSID131',\n",
       " 'NSW181': 'PSID308',\n",
       " 'NSW182': 'PSID300',\n",
       " 'NSW183': 'PSID69',\n",
       " 'NSW184': 'PSID331',\n",
       " 'NSW19': 'PSID370',\n",
       " 'NSW2': 'PSID395',\n",
       " 'NSW20': 'PSID256',\n",
       " 'NSW22': 'PSID272',\n",
       " 'NSW23': 'PSID239',\n",
       " 'NSW25': 'PSID411',\n",
       " 'NSW26': 'PSID24',\n",
       " 'NSW28': 'PSID341',\n",
       " 'NSW29': 'PSID367',\n",
       " 'NSW3': 'PSID387',\n",
       " 'NSW31': 'PSID392',\n",
       " 'NSW32': 'PSID191',\n",
       " 'NSW33': 'PSID59',\n",
       " 'NSW34': 'PSID386',\n",
       " 'NSW36': 'PSID187',\n",
       " 'NSW37': 'PSID356',\n",
       " 'NSW4': 'PSID179',\n",
       " 'NSW41': 'PSID373',\n",
       " 'NSW42': 'PSID270',\n",
       " 'NSW43': 'PSID140',\n",
       " 'NSW44': 'PSID393',\n",
       " 'NSW45': 'PSID277',\n",
       " 'NSW46': 'PSID6',\n",
       " 'NSW47': 'PSID376',\n",
       " 'NSW5': 'PSID355',\n",
       " 'NSW52': 'PSID97',\n",
       " 'NSW53': 'PSID389',\n",
       " 'NSW55': 'PSID408',\n",
       " 'NSW58': 'PSID428',\n",
       " 'NSW59': 'PSID260',\n",
       " 'NSW6': 'PSID399',\n",
       " 'NSW60': 'PSID91',\n",
       " 'NSW61': 'PSID398',\n",
       " 'NSW62': 'PSID372',\n",
       " 'NSW65': 'PSID228',\n",
       " 'NSW66': 'PSID253',\n",
       " 'NSW68': 'PSID192',\n",
       " 'NSW69': 'PSID380',\n",
       " 'NSW70': 'PSID266',\n",
       " 'NSW71': 'PSID400',\n",
       " 'NSW72': 'PSID345',\n",
       " 'NSW73': 'PSID189',\n",
       " 'NSW76': 'PSID353',\n",
       " 'NSW8': 'PSID226',\n",
       " 'NSW83': 'PSID184',\n",
       " 'NSW84': 'PSID118',\n",
       " 'NSW85': 'PSID234',\n",
       " 'NSW87': 'PSID183',\n",
       " 'NSW89': 'PSID213',\n",
       " 'NSW9': 'PSID231',\n",
       " 'NSW90': 'PSID173',\n",
       " 'NSW91': 'PSID375',\n",
       " 'NSW92': 'PSID401',\n",
       " 'NSW94': 'PSID278',\n",
       " 'NSW95': 'PSID48',\n",
       " 'NSW96': 'PSID385',\n",
       " 'PSID102': 'NSW166',\n",
       " 'PSID103': 'NSW125',\n",
       " 'PSID110': 'NSW122',\n",
       " 'PSID118': 'NSW84',\n",
       " 'PSID131': 'NSW180',\n",
       " 'PSID134': 'NSW165',\n",
       " 'PSID140': 'NSW43',\n",
       " 'PSID15': 'NSW120',\n",
       " 'PSID156': 'NSW145',\n",
       " 'PSID157': 'NSW157',\n",
       " 'PSID158': 'NSW107',\n",
       " 'PSID159': 'NSW127',\n",
       " 'PSID166': 'NSW137',\n",
       " 'PSID167': 'NSW167',\n",
       " 'PSID170': 'NSW179',\n",
       " 'PSID173': 'NSW90',\n",
       " 'PSID179': 'NSW4',\n",
       " 'PSID183': 'NSW87',\n",
       " 'PSID184': 'NSW83',\n",
       " 'PSID187': 'NSW36',\n",
       " 'PSID189': 'NSW73',\n",
       " 'PSID191': 'NSW32',\n",
       " 'PSID192': 'NSW68',\n",
       " 'PSID194': 'NSW124',\n",
       " 'PSID196': 'NSW119',\n",
       " 'PSID199': 'NSW177',\n",
       " 'PSID205': 'NSW112',\n",
       " 'PSID213': 'NSW89',\n",
       " 'PSID217': 'NSW14',\n",
       " 'PSID218': 'NSW17',\n",
       " 'PSID226': 'NSW8',\n",
       " 'PSID227': 'NSW116',\n",
       " 'PSID228': 'NSW65',\n",
       " 'PSID231': 'NSW9',\n",
       " 'PSID234': 'NSW85',\n",
       " 'PSID238': 'NSW134',\n",
       " 'PSID239': 'NSW23',\n",
       " 'PSID24': 'NSW26',\n",
       " 'PSID253': 'NSW66',\n",
       " 'PSID256': 'NSW20',\n",
       " 'PSID260': 'NSW59',\n",
       " 'PSID266': 'NSW70',\n",
       " 'PSID268': 'NSW153',\n",
       " 'PSID269': 'NSW13',\n",
       " 'PSID27': 'NSW1',\n",
       " 'PSID270': 'NSW42',\n",
       " 'PSID272': 'NSW22',\n",
       " 'PSID274': 'NSW100',\n",
       " 'PSID277': 'NSW45',\n",
       " 'PSID278': 'NSW94',\n",
       " 'PSID291': 'NSW147',\n",
       " 'PSID293': 'NSW152',\n",
       " 'PSID300': 'NSW182',\n",
       " 'PSID308': 'NSW181',\n",
       " 'PSID312': 'NSW173',\n",
       " 'PSID313': 'NSW129',\n",
       " 'PSID326': 'NSW130',\n",
       " 'PSID330': 'NSW150',\n",
       " 'PSID331': 'NSW184',\n",
       " 'PSID333': 'NSW123',\n",
       " 'PSID335': 'NSW161',\n",
       " 'PSID337': 'NSW151',\n",
       " 'PSID341': 'NSW28',\n",
       " 'PSID345': 'NSW72',\n",
       " 'PSID352': 'NSW113',\n",
       " 'PSID353': 'NSW76',\n",
       " 'PSID354': 'NSW155',\n",
       " 'PSID355': 'NSW5',\n",
       " 'PSID356': 'NSW37',\n",
       " 'PSID367': 'NSW29',\n",
       " 'PSID368': 'NSW110',\n",
       " 'PSID370': 'NSW19',\n",
       " 'PSID372': 'NSW62',\n",
       " 'PSID373': 'NSW41',\n",
       " 'PSID374': 'NSW104',\n",
       " 'PSID375': 'NSW91',\n",
       " 'PSID376': 'NSW47',\n",
       " 'PSID380': 'NSW69',\n",
       " 'PSID381': 'NSW12',\n",
       " 'PSID385': 'NSW96',\n",
       " 'PSID386': 'NSW34',\n",
       " 'PSID387': 'NSW3',\n",
       " 'PSID388': 'NSW105',\n",
       " 'PSID389': 'NSW53',\n",
       " 'PSID392': 'NSW31',\n",
       " 'PSID393': 'NSW44',\n",
       " 'PSID395': 'NSW2',\n",
       " 'PSID398': 'NSW61',\n",
       " 'PSID399': 'NSW6',\n",
       " 'PSID40': 'NSW10',\n",
       " 'PSID400': 'NSW71',\n",
       " 'PSID401': 'NSW92',\n",
       " 'PSID406': 'NSW131',\n",
       " 'PSID408': 'NSW55',\n",
       " 'PSID409': 'NSW140',\n",
       " 'PSID41': 'NSW135',\n",
       " 'PSID411': 'NSW25',\n",
       " 'PSID412': 'NSW16',\n",
       " 'PSID416': 'NSW176',\n",
       " 'PSID419': 'NSW164',\n",
       " 'PSID420': 'NSW111',\n",
       " 'PSID423': 'NSW132',\n",
       " 'PSID428': 'NSW58',\n",
       " 'PSID46': 'NSW115',\n",
       " 'PSID48': 'NSW95',\n",
       " 'PSID5': 'NSW172',\n",
       " 'PSID59': 'NSW33',\n",
       " 'PSID6': 'NSW46',\n",
       " 'PSID69': 'NSW183',\n",
       " 'PSID8': 'NSW178',\n",
       " 'PSID91': 'NSW60',\n",
       " 'PSID94': 'NSW175',\n",
       " 'PSID96': 'NSW163',\n",
       " 'PSID97': 'NSW52',\n",
       " 'PSID98': 'NSW139',\n",
       " 'PSID99': 'NSW133'}"
      ]
     },
     "execution_count": 20,
     "metadata": {},
     "output_type": "execute_result"
    }
   ],
   "source": [
    "treat_prop = data[data['treat'] == 1]['prop_score']\n",
    "untreat_prop = data[data['treat'] == 0]['prop_score']\n",
    "# We create a graph\n",
    "BB = nx.Graph()\n",
    "\n",
    "BB.add_nodes_from(treat_prop.index, bipartite=0)\n",
    "BB.add_nodes_from(untreat_prop.index, bipartite=1)\n",
    "\n",
    "for l_idx, l in treat_prop.iteritems():\n",
    "    for r_idx, r in untreat_prop.iteritems():\n",
    "        leftBlack = np.asscalar(data[data.index == l_idx]['black']);\n",
    "        rightBlack = np.asscalar(data[data.index == r_idx]['black']);\n",
    "        # Check and match only if the value of the 'black feature is the same\n",
    "        if (leftBlack == rightBlack): \n",
    "            # Since we are going to maximise the graph, ans we need the smallest differences, the weight assigned is \n",
    "            # - absolute differece\n",
    "            w = -(abs(l - r))\n",
    "            BB.add_edge(l_idx, r_idx, weight=w)\n",
    "\n",
    "max_matching = nx.max_weight_matching(BB, True)\n",
    "max_matching"
   ]
  },
  {
   "cell_type": "markdown",
   "metadata": {},
   "source": [
    "Now that the new matching is done, let's check how good it is.\n",
    "First we will build the histogram of the whole matchet dataset. We can already see that it's better then the naive approach. Separate histograms per group build for even stronger case."
   ]
  },
  {
   "cell_type": "code",
   "execution_count": 21,
   "metadata": {},
   "outputs": [
    {
     "name": "stdout",
     "output_type": "stream",
     "text": [
      "116\n",
      "Mean absolute propensity score: 0.007397052880326037\n"
     ]
    },
    {
     "data": {
      "image/png": "[encoded data removed]",
      "text/plain": [
       "<matplotlib.figure.Figure at 0x117b32828>"
      ]
     },
     "metadata": {},
     "output_type": "display_data"
    }
   ],
   "source": [
    "def get_scores_black(matching):\n",
    "    (left, right) = bipartite.sets(BB)\n",
    "    result = []\n",
    "    counter = 0\n",
    "    for l in left:\n",
    "        if l in matching.keys():\n",
    "            result.append(abs(treat_prop[l] - untreat_prop[matching[l]]))\n",
    "            counter = counter + 1\n",
    "    print(counter)\n",
    "    return result\n",
    "\n",
    "abs_diffs_black = get_scores_black(max_matching)\n",
    "print('Mean absolute propensity score: {}'.format(np.mean(abs_diffs_black)))\n",
    "plt.hist(abs_diffs_black,bins=25)\n",
    "plt.title('Histogram of absolute propensity score difference for each pair in the matching')\n",
    "plt.xlabel('absolute difference in propensity score')\n",
    "plt.ylabel('# of elements')\n",
    "plt.show()"
   ]
  },
  {
   "cell_type": "code",
   "execution_count": 22,
   "metadata": {},
   "outputs": [
    {
     "data": {
      "image/png": "[encoded data removed]",
      "text/plain": [
       "<matplotlib.figure.Figure at 0x1178bc3c8>"
      ]
     },
     "metadata": {},
     "output_type": "display_data"
    }
   ],
   "source": [
    "# Need to separate data manually as not everything got matched on the left of the bipartite graph\n",
    "(left, right) = bipartite.sets(BB)\n",
    "treated_matched_index = []\n",
    "untreated_matched_index = []\n",
    "for l in left:\n",
    "        if l in max_matching.keys():\n",
    "            treated_matched_index.append(l)\n",
    "            untreated_matched_index.append(max_matching[l])\n",
    "len(treated_matched_index)\n",
    "len(untreated_matched_index)\n",
    "\n",
    "# Get only the matched datapionts for each group\n",
    "matched_treated_group = data.loc[treated_matched_index]\n",
    "matched_untreated_group = data.loc[untreated_matched_index]\n",
    "\n",
    "matched_treated_group_by_black = matched_treated_group\n",
    "matched_untreated_group_by_black = matched_untreated_group\n",
    "\n",
    "draw_hists(matched_treated_group, matched_untreated_group, 'subjects - 1978 real earnings distribution', \n",
    "          '1978 real earnings', 'Number of people', 're78')"
   ]
  },
  {
   "cell_type": "markdown",
   "metadata": {},
   "source": [
    "Now that we have a rough idea about the quality of our new matching, let's check how matching on 'black' affected other feature values.\n",
    "Obviously we have same amount of 'black' in both groups, 'married' got very close to being the same, 'hispan' imbalance got turned around, and there seems to be no effect on the 'nodegree'.\n",
    "This could possibly lead us to believe that the 'black' and 'mariied' features depend on each other in some way. Later we will try to match on 'married' and see if it affects 'black'."
   ]
  },
  {
   "cell_type": "code",
   "execution_count": 23,
   "metadata": {},
   "outputs": [
    {
     "name": "stdout",
     "output_type": "stream",
     "text": [
      "black percent for treated group: 75.00%\n",
      "black percent for untreated group: 75.00%\n",
      "\n"
     ]
    },
    {
     "data": {
      "image/png": "[encoded data removed]",
      "text/plain": [
       "<matplotlib.figure.Figure at 0x117c2d198>"
      ]
     },
     "metadata": {},
     "output_type": "display_data"
    },
    {
     "name": "stdout",
     "output_type": "stream",
     "text": [
      "hispan percent for treated group: 9.48%\n",
      "hispan percent for untreated group: 5.17%\n",
      "\n"
     ]
    },
    {
     "data": {
      "image/png": "[encoded data removed]",
      "text/plain": [
       "<matplotlib.figure.Figure at 0x112721cf8>"
      ]
     },
     "metadata": {},
     "output_type": "display_data"
    },
    {
     "name": "stdout",
     "output_type": "stream",
     "text": [
      "married percent for treated group: 24.14%\n",
      "married percent for untreated group: 25.86%\n",
      "\n"
     ]
    },
    {
     "data": {
      "image/png": "[encoded data removed]",
      "text/plain": [
       "<matplotlib.figure.Figure at 0x115a22c50>"
      ]
     },
     "metadata": {},
     "output_type": "display_data"
    },
    {
     "name": "stdout",
     "output_type": "stream",
     "text": [
      "nodegree percent for treated group: 68.97%\n",
      "nodegree percent for untreated group: 62.93%\n",
      "\n"
     ]
    },
    {
     "data": {
      "image/png": "[encoded data removed]",
      "text/plain": [
       "<matplotlib.figure.Figure at 0x116531390>"
      ]
     },
     "metadata": {},
     "output_type": "display_data"
    },
    {
     "data": {
      "image/png": "[encoded data removed]",
      "text/plain": [
       "<matplotlib.figure.Figure at 0x1162e1470>"
      ]
     },
     "metadata": {},
     "output_type": "display_data"
    },
    {
     "data": {
      "image/png": "[encoded data removed]",
      "text/plain": [
       "<matplotlib.figure.Figure at 0x1162e14e0>"
      ]
     },
     "metadata": {},
     "output_type": "display_data"
    },
    {
     "data": {
      "image/png": "[encoded data removed]",
      "text/plain": [
       "<matplotlib.figure.Figure at 0x117bdfb38>"
      ]
     },
     "metadata": {},
     "output_type": "display_data"
    },
    {
     "data": {
      "image/png": "[encoded data removed]",
      "text/plain": [
       "<matplotlib.figure.Figure at 0x1187b58d0>"
      ]
     },
     "metadata": {},
     "output_type": "display_data"
    }
   ],
   "source": [
    "features_to_compare = ['black', 'hispan', 'married', 'nodegree']\n",
    "[percentage_comparison(matched_treated_group, matched_untreated_group, f) for f in features_to_compare]\n",
    "\n",
    "drawBoxPlot(matched_treated_group, matched_untreated_group, 'Age Distribution', 'age')\n",
    "drawBoxPlot(matched_treated_group, matched_untreated_group, 'Educ. Distribution', 'educ')\n",
    "drawBoxPlot(matched_treated_group, matched_untreated_group, 'RE 1974 Distribution', 're74')\n",
    "drawBoxPlot(matched_treated_group, matched_untreated_group, 'RE 1975 Distribution', 're75')"
   ]
  },
  {
   "cell_type": "markdown",
   "metadata": {},
   "source": [
    "Now as promissed let's look at matching based on 'married'. Will it affect the 'black' in the same way 'black' affected 'married'?"
   ]
  },
  {
   "cell_type": "code",
   "execution_count": 24,
   "metadata": {},
   "outputs": [
    {
     "data": {
      "text/plain": [
       "{'NSW1': 'PSID249',\n",
       " 'NSW10': 'PSID40',\n",
       " 'NSW100': 'PSID274',\n",
       " 'NSW101': 'PSID423',\n",
       " 'NSW102': 'PSID206',\n",
       " 'NSW103': 'PSID245',\n",
       " 'NSW104': 'PSID183',\n",
       " 'NSW105': 'PSID388',\n",
       " 'NSW106': 'PSID153',\n",
       " 'NSW107': 'PSID105',\n",
       " 'NSW108': 'PSID234',\n",
       " 'NSW109': 'PSID417',\n",
       " 'NSW11': 'PSID211',\n",
       " 'NSW110': 'PSID368',\n",
       " 'NSW111': 'PSID377',\n",
       " 'NSW112': 'PSID205',\n",
       " 'NSW113': 'PSID352',\n",
       " 'NSW114': 'PSID358',\n",
       " 'NSW115': 'PSID46',\n",
       " 'NSW116': 'PSID227',\n",
       " 'NSW117': 'PSID151',\n",
       " 'NSW118': 'PSID278',\n",
       " 'NSW119': 'PSID397',\n",
       " 'NSW12': 'PSID158',\n",
       " 'NSW120': 'PSID371',\n",
       " 'NSW121': 'PSID110',\n",
       " 'NSW122': 'PSID406',\n",
       " 'NSW123': 'PSID365',\n",
       " 'NSW124': 'PSID194',\n",
       " 'NSW125': 'PSID103',\n",
       " 'NSW126': 'PSID380',\n",
       " 'NSW127': 'PSID159',\n",
       " 'NSW128': 'PSID5',\n",
       " 'NSW129': 'PSID313',\n",
       " 'NSW13': 'PSID269',\n",
       " 'NSW130': 'PSID326',\n",
       " 'NSW131': 'PSID414',\n",
       " 'NSW132': 'PSID124',\n",
       " 'NSW133': 'PSID41',\n",
       " 'NSW134': 'PSID102',\n",
       " 'NSW135': 'PSID152',\n",
       " 'NSW136': 'PSID355',\n",
       " 'NSW137': 'PSID166',\n",
       " 'NSW138': 'PSID374',\n",
       " 'NSW139': 'PSID366',\n",
       " 'NSW14': 'PSID16',\n",
       " 'NSW140': 'PSID409',\n",
       " 'NSW141': 'PSID270',\n",
       " 'NSW142': 'PSID219',\n",
       " 'NSW143': 'PSID280',\n",
       " 'NSW144': 'PSID348',\n",
       " 'NSW145': 'PSID265',\n",
       " 'NSW146': 'PSID177',\n",
       " 'NSW147': 'PSID189',\n",
       " 'NSW148': 'PSID171',\n",
       " 'NSW149': 'PSID293',\n",
       " 'NSW15': 'PSID333',\n",
       " 'NSW150': 'PSID330',\n",
       " 'NSW151': 'PSID285',\n",
       " 'NSW152': 'PSID99',\n",
       " 'NSW153': 'PSID281',\n",
       " 'NSW154': 'PSID346',\n",
       " 'NSW155': 'PSID354',\n",
       " 'NSW156': 'PSID217',\n",
       " 'NSW157': 'PSID231',\n",
       " 'NSW158': 'PSID209',\n",
       " 'NSW159': 'PSID400',\n",
       " 'NSW16': 'PSID412',\n",
       " 'NSW160': 'PSID282',\n",
       " 'NSW161': 'PSID258',\n",
       " 'NSW162': 'PSID267',\n",
       " 'NSW163': 'PSID300',\n",
       " 'NSW164': 'PSID419',\n",
       " 'NSW165': 'PSID69',\n",
       " 'NSW166': 'PSID336',\n",
       " 'NSW167': 'PSID167',\n",
       " 'NSW168': 'PSID156',\n",
       " 'NSW169': 'PSID428',\n",
       " 'NSW17': 'PSID337',\n",
       " 'NSW170': 'PSID264',\n",
       " 'NSW171': 'PSID386',\n",
       " 'NSW172': 'PSID94',\n",
       " 'NSW173': 'PSID312',\n",
       " 'NSW174': 'PSID237',\n",
       " 'NSW175': 'PSID225',\n",
       " 'NSW176': 'PSID266',\n",
       " 'NSW177': 'PSID426',\n",
       " 'NSW178': 'PSID8',\n",
       " 'NSW179': 'PSID192',\n",
       " 'NSW18': 'PSID164',\n",
       " 'NSW180': 'PSID145',\n",
       " 'NSW181': 'PSID308',\n",
       " 'NSW182': 'PSID63',\n",
       " 'NSW183': 'PSID59',\n",
       " 'NSW184': 'PSID331',\n",
       " 'NSW185': 'PSID420',\n",
       " 'NSW19': 'PSID185',\n",
       " 'NSW2': 'PSID395',\n",
       " 'NSW20': 'PSID256',\n",
       " 'NSW21': 'PSID79',\n",
       " 'NSW22': 'PSID272',\n",
       " 'NSW23': 'PSID239',\n",
       " 'NSW24': 'PSID127',\n",
       " 'NSW25': 'PSID411',\n",
       " 'NSW26': 'PSID24',\n",
       " 'NSW27': 'PSID247',\n",
       " 'NSW28': 'PSID341',\n",
       " 'NSW29': 'PSID367',\n",
       " 'NSW3': 'PSID387',\n",
       " 'NSW30': 'PSID66',\n",
       " 'NSW31': 'PSID392',\n",
       " 'NSW32': 'PSID191',\n",
       " 'NSW33': 'PSID6',\n",
       " 'NSW34': 'PSID134',\n",
       " 'NSW35': 'PSID118',\n",
       " 'NSW36': 'PSID31',\n",
       " 'NSW37': 'PSID356',\n",
       " 'NSW38': 'PSID48',\n",
       " 'NSW39': 'PSID27',\n",
       " 'NSW4': 'PSID184',\n",
       " 'NSW40': 'PSID187',\n",
       " 'NSW41': 'PSID96',\n",
       " 'NSW42': 'PSID424',\n",
       " 'NSW43': 'PSID218',\n",
       " 'NSW44': 'PSID393',\n",
       " 'NSW45': 'PSID170',\n",
       " 'NSW46': 'PSID238',\n",
       " 'NSW47': 'PSID376',\n",
       " 'NSW48': 'PSID383',\n",
       " 'NSW49': 'PSID291',\n",
       " 'NSW5': 'PSID179',\n",
       " 'NSW50': 'PSID422',\n",
       " 'NSW51': 'PSID230',\n",
       " 'NSW52': 'PSID97',\n",
       " 'NSW53': 'PSID429',\n",
       " 'NSW54': 'PSID416',\n",
       " 'NSW55': 'PSID408',\n",
       " 'NSW56': 'PSID139',\n",
       " 'NSW57': 'PSID389',\n",
       " 'NSW58': 'PSID98',\n",
       " 'NSW59': 'PSID260',\n",
       " 'NSW6': 'PSID196',\n",
       " 'NSW60': 'PSID91',\n",
       " 'NSW61': 'PSID398',\n",
       " 'NSW62': 'PSID372',\n",
       " 'NSW63': 'PSID261',\n",
       " 'NSW64': 'PSID251',\n",
       " 'NSW65': 'PSID228',\n",
       " 'NSW66': 'PSID253',\n",
       " 'NSW67': 'PSID226',\n",
       " 'NSW68': 'PSID402',\n",
       " 'NSW69': 'PSID15',\n",
       " 'NSW7': 'PSID140',\n",
       " 'NSW70': 'PSID173',\n",
       " 'NSW71': 'PSID252',\n",
       " 'NSW72': 'PSID213',\n",
       " 'NSW73': 'PSID157',\n",
       " 'NSW74': 'PSID381',\n",
       " 'NSW75': 'PSID221',\n",
       " 'NSW76': 'PSID353',\n",
       " 'NSW77': 'PSID335',\n",
       " 'NSW78': 'PSID399',\n",
       " 'NSW79': 'PSID188',\n",
       " 'NSW8': 'PSID229',\n",
       " 'NSW80': 'PSID17',\n",
       " 'NSW81': 'PSID361',\n",
       " 'NSW82': 'PSID373',\n",
       " 'NSW83': 'PSID176',\n",
       " 'NSW84': 'PSID268',\n",
       " 'NSW85': 'PSID142',\n",
       " 'NSW86': 'PSID131',\n",
       " 'NSW87': 'PSID200',\n",
       " 'NSW88': 'PSID208',\n",
       " 'NSW89': 'PSID385',\n",
       " 'NSW9': 'PSID277',\n",
       " 'NSW90': 'PSID370',\n",
       " 'NSW91': 'PSID375',\n",
       " 'NSW92': 'PSID401',\n",
       " 'NSW93': 'PSID89',\n",
       " 'NSW94': 'PSID345',\n",
       " 'NSW95': 'PSID369',\n",
       " 'NSW96': 'PSID340',\n",
       " 'NSW97': 'PSID241',\n",
       " 'NSW98': 'PSID407',\n",
       " 'NSW99': 'PSID384',\n",
       " 'PSID102': 'NSW134',\n",
       " 'PSID103': 'NSW125',\n",
       " 'PSID105': 'NSW107',\n",
       " 'PSID110': 'NSW121',\n",
       " 'PSID118': 'NSW35',\n",
       " 'PSID124': 'NSW132',\n",
       " 'PSID127': 'NSW24',\n",
       " 'PSID131': 'NSW86',\n",
       " 'PSID134': 'NSW34',\n",
       " 'PSID139': 'NSW56',\n",
       " 'PSID140': 'NSW7',\n",
       " 'PSID142': 'NSW85',\n",
       " 'PSID145': 'NSW180',\n",
       " 'PSID15': 'NSW69',\n",
       " 'PSID151': 'NSW117',\n",
       " 'PSID152': 'NSW135',\n",
       " 'PSID153': 'NSW106',\n",
       " 'PSID156': 'NSW168',\n",
       " 'PSID157': 'NSW73',\n",
       " 'PSID158': 'NSW12',\n",
       " 'PSID159': 'NSW127',\n",
       " 'PSID16': 'NSW14',\n",
       " 'PSID164': 'NSW18',\n",
       " 'PSID166': 'NSW137',\n",
       " 'PSID167': 'NSW167',\n",
       " 'PSID17': 'NSW80',\n",
       " 'PSID170': 'NSW45',\n",
       " 'PSID171': 'NSW148',\n",
       " 'PSID173': 'NSW70',\n",
       " 'PSID176': 'NSW83',\n",
       " 'PSID177': 'NSW146',\n",
       " 'PSID179': 'NSW5',\n",
       " 'PSID183': 'NSW104',\n",
       " 'PSID184': 'NSW4',\n",
       " 'PSID185': 'NSW19',\n",
       " 'PSID187': 'NSW40',\n",
       " 'PSID188': 'NSW79',\n",
       " 'PSID189': 'NSW147',\n",
       " 'PSID191': 'NSW32',\n",
       " 'PSID192': 'NSW179',\n",
       " 'PSID194': 'NSW124',\n",
       " 'PSID196': 'NSW6',\n",
       " 'PSID200': 'NSW87',\n",
       " 'PSID205': 'NSW112',\n",
       " 'PSID206': 'NSW102',\n",
       " 'PSID208': 'NSW88',\n",
       " 'PSID209': 'NSW158',\n",
       " 'PSID211': 'NSW11',\n",
       " 'PSID213': 'NSW72',\n",
       " 'PSID217': 'NSW156',\n",
       " 'PSID218': 'NSW43',\n",
       " 'PSID219': 'NSW142',\n",
       " 'PSID221': 'NSW75',\n",
       " 'PSID225': 'NSW175',\n",
       " 'PSID226': 'NSW67',\n",
       " 'PSID227': 'NSW116',\n",
       " 'PSID228': 'NSW65',\n",
       " 'PSID229': 'NSW8',\n",
       " 'PSID230': 'NSW51',\n",
       " 'PSID231': 'NSW157',\n",
       " 'PSID234': 'NSW108',\n",
       " 'PSID237': 'NSW174',\n",
       " 'PSID238': 'NSW46',\n",
       " 'PSID239': 'NSW23',\n",
       " 'PSID24': 'NSW26',\n",
       " 'PSID241': 'NSW97',\n",
       " 'PSID245': 'NSW103',\n",
       " 'PSID247': 'NSW27',\n",
       " 'PSID249': 'NSW1',\n",
       " 'PSID251': 'NSW64',\n",
       " 'PSID252': 'NSW71',\n",
       " 'PSID253': 'NSW66',\n",
       " 'PSID256': 'NSW20',\n",
       " 'PSID258': 'NSW161',\n",
       " 'PSID260': 'NSW59',\n",
       " 'PSID261': 'NSW63',\n",
       " 'PSID264': 'NSW170',\n",
       " 'PSID265': 'NSW145',\n",
       " 'PSID266': 'NSW176',\n",
       " 'PSID267': 'NSW162',\n",
       " 'PSID268': 'NSW84',\n",
       " 'PSID269': 'NSW13',\n",
       " 'PSID27': 'NSW39',\n",
       " 'PSID270': 'NSW141',\n",
       " 'PSID272': 'NSW22',\n",
       " 'PSID274': 'NSW100',\n",
       " 'PSID277': 'NSW9',\n",
       " 'PSID278': 'NSW118',\n",
       " 'PSID280': 'NSW143',\n",
       " 'PSID281': 'NSW153',\n",
       " 'PSID282': 'NSW160',\n",
       " 'PSID285': 'NSW151',\n",
       " 'PSID291': 'NSW49',\n",
       " 'PSID293': 'NSW149',\n",
       " 'PSID300': 'NSW163',\n",
       " 'PSID308': 'NSW181',\n",
       " 'PSID31': 'NSW36',\n",
       " 'PSID312': 'NSW173',\n",
       " 'PSID313': 'NSW129',\n",
       " 'PSID326': 'NSW130',\n",
       " 'PSID330': 'NSW150',\n",
       " 'PSID331': 'NSW184',\n",
       " 'PSID333': 'NSW15',\n",
       " 'PSID335': 'NSW77',\n",
       " 'PSID336': 'NSW166',\n",
       " 'PSID337': 'NSW17',\n",
       " 'PSID340': 'NSW96',\n",
       " 'PSID341': 'NSW28',\n",
       " 'PSID345': 'NSW94',\n",
       " 'PSID346': 'NSW154',\n",
       " 'PSID348': 'NSW144',\n",
       " 'PSID352': 'NSW113',\n",
       " 'PSID353': 'NSW76',\n",
       " 'PSID354': 'NSW155',\n",
       " 'PSID355': 'NSW136',\n",
       " 'PSID356': 'NSW37',\n",
       " 'PSID358': 'NSW114',\n",
       " 'PSID361': 'NSW81',\n",
       " 'PSID365': 'NSW123',\n",
       " 'PSID366': 'NSW139',\n",
       " 'PSID367': 'NSW29',\n",
       " 'PSID368': 'NSW110',\n",
       " 'PSID369': 'NSW95',\n",
       " 'PSID370': 'NSW90',\n",
       " 'PSID371': 'NSW120',\n",
       " 'PSID372': 'NSW62',\n",
       " 'PSID373': 'NSW82',\n",
       " 'PSID374': 'NSW138',\n",
       " 'PSID375': 'NSW91',\n",
       " 'PSID376': 'NSW47',\n",
       " 'PSID377': 'NSW111',\n",
       " 'PSID380': 'NSW126',\n",
       " 'PSID381': 'NSW74',\n",
       " 'PSID383': 'NSW48',\n",
       " 'PSID384': 'NSW99',\n",
       " 'PSID385': 'NSW89',\n",
       " 'PSID386': 'NSW171',\n",
       " 'PSID387': 'NSW3',\n",
       " 'PSID388': 'NSW105',\n",
       " 'PSID389': 'NSW57',\n",
       " 'PSID392': 'NSW31',\n",
       " 'PSID393': 'NSW44',\n",
       " 'PSID395': 'NSW2',\n",
       " 'PSID397': 'NSW119',\n",
       " 'PSID398': 'NSW61',\n",
       " 'PSID399': 'NSW78',\n",
       " 'PSID40': 'NSW10',\n",
       " 'PSID400': 'NSW159',\n",
       " 'PSID401': 'NSW92',\n",
       " 'PSID402': 'NSW68',\n",
       " 'PSID406': 'NSW122',\n",
       " 'PSID407': 'NSW98',\n",
       " 'PSID408': 'NSW55',\n",
       " 'PSID409': 'NSW140',\n",
       " 'PSID41': 'NSW133',\n",
       " 'PSID411': 'NSW25',\n",
       " 'PSID412': 'NSW16',\n",
       " 'PSID414': 'NSW131',\n",
       " 'PSID416': 'NSW54',\n",
       " 'PSID417': 'NSW109',\n",
       " 'PSID419': 'NSW164',\n",
       " 'PSID420': 'NSW185',\n",
       " 'PSID422': 'NSW50',\n",
       " 'PSID423': 'NSW101',\n",
       " 'PSID424': 'NSW42',\n",
       " 'PSID426': 'NSW177',\n",
       " 'PSID428': 'NSW169',\n",
       " 'PSID429': 'NSW53',\n",
       " 'PSID46': 'NSW115',\n",
       " 'PSID48': 'NSW38',\n",
       " 'PSID5': 'NSW128',\n",
       " 'PSID59': 'NSW183',\n",
       " 'PSID6': 'NSW33',\n",
       " 'PSID63': 'NSW182',\n",
       " 'PSID66': 'NSW30',\n",
       " 'PSID69': 'NSW165',\n",
       " 'PSID79': 'NSW21',\n",
       " 'PSID8': 'NSW178',\n",
       " 'PSID89': 'NSW93',\n",
       " 'PSID91': 'NSW60',\n",
       " 'PSID94': 'NSW172',\n",
       " 'PSID96': 'NSW41',\n",
       " 'PSID97': 'NSW52',\n",
       " 'PSID98': 'NSW58',\n",
       " 'PSID99': 'NSW152'}"
      ]
     },
     "execution_count": 24,
     "metadata": {},
     "output_type": "execute_result"
    }
   ],
   "source": [
    "treat_prop = data[data['treat'] == 1]['prop_score']\n",
    "untreat_prop = data[data['treat'] == 0]['prop_score']\n",
    "\n",
    "#B = nx.complete_bipartite_graph(treat_prop.size, untreat_prop.size)\n",
    "\n",
    "BM = nx.Graph()\n",
    "\n",
    "BM.add_nodes_from(treat_prop.index, bipartite=0)\n",
    "BM.add_nodes_from(untreat_prop.index, bipartite=1)\n",
    "\n",
    "for l_idx, l in treat_prop.iteritems():\n",
    "    for r_idx, r in untreat_prop.iteritems():\n",
    "        leftMarried = np.asscalar(data[data.index == l_idx]['married']);\n",
    "        rightMarried = np.asscalar(data[data.index == r_idx]['married']);\n",
    "        if (leftMarried == rightMarried): \n",
    "            w = -(abs(l - r))\n",
    "            BM.add_edge(l_idx, r_idx, weight=w)\n",
    "\n",
    "max_matching = nx.max_weight_matching(BM, True)\n",
    "max_matching"
   ]
  },
  {
   "cell_type": "code",
   "execution_count": 25,
   "metadata": {},
   "outputs": [
    {
     "name": "stdout",
     "output_type": "stream",
     "text": [
      "185\n",
      "Mean absolute propensity score: 0.19543065181574923\n"
     ]
    },
    {
     "data": {
      "image/png": "[encoded data removed]",
      "text/plain": [
       "<matplotlib.figure.Figure at 0x117b79a58>"
      ]
     },
     "metadata": {},
     "output_type": "display_data"
    }
   ],
   "source": [
    "def get_scores_married(matching):\n",
    "    (left, right) = bipartite.sets(BM)\n",
    "    #print(left)\n",
    "    #print(right)\n",
    "    result = []\n",
    "    counter = 0\n",
    "    for l in left:\n",
    "        if l in matching.keys():\n",
    "            result.append(abs(treat_prop[l] - untreat_prop[matching[l]]))\n",
    "            counter = counter + 1\n",
    "    print(counter)\n",
    "    return result\n",
    "\n",
    "abs_diffs_black = get_scores_married(max_matching)\n",
    "print('Mean absolute propensity score: {}'.format(np.mean(abs_diffs_black)))\n",
    "plt.hist(abs_diffs_black,bins=25)\n",
    "plt.title('Histogram of absolute propensity score difference for each pair in the matching')\n",
    "plt.xlabel('absolute difference in propensity score')\n",
    "plt.ylabel('# of elements')\n",
    "plt.show()"
   ]
  },
  {
   "cell_type": "markdown",
   "metadata": {},
   "source": [
    "We can already observe a bump at the end of the histogram showing existance of some data point matchings for which the difference in propensity score is larger, which could mean poorer matching then on 'black'."
   ]
  },
  {
   "cell_type": "code",
   "execution_count": 26,
   "metadata": {},
   "outputs": [
    {
     "data": {
      "image/png": "[encoded data removed]",
      "text/plain": [
       "<matplotlib.figure.Figure at 0x116780b00>"
      ]
     },
     "metadata": {},
     "output_type": "display_data"
    }
   ],
   "source": [
    "# Need to separate data manually again as not everything got matched on the left of the bipartite graph\n",
    "(left, right) = bipartite.sets(BB)\n",
    "treated_matched_index = []\n",
    "untreated_matched_index = []\n",
    "for l in left:\n",
    "        if l in max_matching.keys():\n",
    "            treated_matched_index.append(l)\n",
    "            untreated_matched_index.append(max_matching[l])\n",
    "len(treated_matched_index)\n",
    "len(untreated_matched_index)\n",
    "\n",
    "# Get only the matched datapionts for each group\n",
    "matched_treated_group_by_married = data.loc[treated_matched_index]\n",
    "matched_untreated_group_by_married = data.loc[untreated_matched_index]\n",
    "\n",
    "draw_hists(matched_treated_group_by_married, matched_untreated_group_by_married, 'subjects - 1978 real earnings distribution', \n",
    "          '1978 real earnings', 'Number of people', 're78')"
   ]
  },
  {
   "cell_type": "code",
   "execution_count": 27,
   "metadata": {},
   "outputs": [
    {
     "name": "stdout",
     "output_type": "stream",
     "text": [
      "black percent for treated group: 84.32%\n",
      "black percent for untreated group: 47.03%\n",
      "\n"
     ]
    },
    {
     "data": {
      "image/png": "[encoded data removed]",
      "text/plain": [
       "<matplotlib.figure.Figure at 0x116816c18>"
      ]
     },
     "metadata": {},
     "output_type": "display_data"
    },
    {
     "name": "stdout",
     "output_type": "stream",
     "text": [
      "hispan percent for treated group: 5.95%\n",
      "hispan percent for untreated group: 12.43%\n",
      "\n"
     ]
    },
    {
     "data": {
      "image/png": "[encoded data removed]",
      "text/plain": [
       "<matplotlib.figure.Figure at 0x1190b4630>"
      ]
     },
     "metadata": {},
     "output_type": "display_data"
    },
    {
     "name": "stdout",
     "output_type": "stream",
     "text": [
      "married percent for treated group: 18.92%\n",
      "married percent for untreated group: 18.92%\n",
      "\n"
     ]
    },
    {
     "data": {
      "image/png": "[encoded data removed]",
      "text/plain": [
       "<matplotlib.figure.Figure at 0x11911d630>"
      ]
     },
     "metadata": {},
     "output_type": "display_data"
    },
    {
     "name": "stdout",
     "output_type": "stream",
     "text": [
      "nodegree percent for treated group: 70.81%\n",
      "nodegree percent for untreated group: 63.78%\n",
      "\n"
     ]
    },
    {
     "data": {
      "image/png": "[encoded data removed]",
      "text/plain": [
       "<matplotlib.figure.Figure at 0x115995710>"
      ]
     },
     "metadata": {},
     "output_type": "display_data"
    },
    {
     "data": {
      "image/png": "[encoded data removed]",
      "text/plain": [
       "<matplotlib.figure.Figure at 0x119271470>"
      ]
     },
     "metadata": {},
     "output_type": "display_data"
    },
    {
     "data": {
      "image/png": "[encoded data removed]",
      "text/plain": [
       "<matplotlib.figure.Figure at 0x119072550>"
      ]
     },
     "metadata": {},
     "output_type": "display_data"
    },
    {
     "data": {
      "image/png": "[encoded data removed]",
      "text/plain": [
       "<matplotlib.figure.Figure at 0x116531668>"
      ]
     },
     "metadata": {},
     "output_type": "display_data"
    },
    {
     "data": {
      "image/png": "[encoded data removed]",
      "text/plain": [
       "<matplotlib.figure.Figure at 0x118ec4cc0>"
      ]
     },
     "metadata": {},
     "output_type": "display_data"
    }
   ],
   "source": [
    "features_to_compare = ['black', 'hispan', 'married', 'nodegree']\n",
    "[percentage_comparison(matched_treated_group_by_married, matched_untreated_group_by_married, f) for f in features_to_compare]\n",
    "\n",
    "drawBoxPlot(matched_treated_group_by_married, matched_untreated_group_by_married, 'Age Distribution', 'age')\n",
    "drawBoxPlot(matched_treated_group_by_married, matched_untreated_group_by_married, 'Educ. Distribution', 'educ')\n",
    "drawBoxPlot(matched_treated_group_by_married, matched_untreated_group_by_married, 'RE 1974 Distribution', 're74')\n",
    "drawBoxPlot(matched_treated_group_by_married, matched_untreated_group_by_married, 'RE 1975 Distribution', 're75')"
   ]
  },
  {
   "cell_type": "markdown",
   "metadata": {},
   "source": [
    "As you may see, matching on 'married' does not guarantee a match on 'black', which could possibly indicate only one way dependance. Since the matching on 'married' is more imbalanced, we will continue with dataset matched on 'black' even if that reduces it significantly."
   ]
  },
  {
   "cell_type": "markdown",
   "metadata": {},
   "source": [
    "#### 6. A less naive analysis\n",
    "\n",
    "Compare the outcomes (`re78`) between treated and control subjects, as you've done in part 1, but now only for the matched dataset you've obtained from part 5.\n",
    "What do you conclude about the effectiveness of the job training program?"
   ]
  },
  {
   "cell_type": "code",
   "execution_count": 28,
   "metadata": {},
   "outputs": [
    {
     "data": {
      "text/html": [
       "<div>\n",
       "<style>\n",
       "    .dataframe thead tr:only-child th {\n",
       "        text-align: right;\n",
       "    }\n",
       "\n",
       "    .dataframe thead th {\n",
       "        text-align: left;\n",
       "    }\n",
       "\n",
       "    .dataframe tbody tr th {\n",
       "        vertical-align: top;\n",
       "    }\n",
       "</style>\n",
       "<table border=\"1\" class=\"dataframe\">\n",
       "  <thead>\n",
       "    <tr style=\"text-align: right;\">\n",
       "      <th></th>\n",
       "      <th>Treated</th>\n",
       "      <th>Untreated</th>\n",
       "    </tr>\n",
       "  </thead>\n",
       "  <tbody>\n",
       "    <tr>\n",
       "      <th>count</th>\n",
       "      <td>116.000000</td>\n",
       "      <td>116.000000</td>\n",
       "    </tr>\n",
       "    <tr>\n",
       "      <th>mean</th>\n",
       "      <td>7070.710510</td>\n",
       "      <td>5255.063148</td>\n",
       "    </tr>\n",
       "    <tr>\n",
       "      <th>std</th>\n",
       "      <td>8607.704795</td>\n",
       "      <td>6166.935322</td>\n",
       "    </tr>\n",
       "    <tr>\n",
       "      <th>min</th>\n",
       "      <td>0.000000</td>\n",
       "      <td>0.000000</td>\n",
       "    </tr>\n",
       "    <tr>\n",
       "      <th>25%</th>\n",
       "      <td>672.490925</td>\n",
       "      <td>0.000000</td>\n",
       "    </tr>\n",
       "    <tr>\n",
       "      <th>50%</th>\n",
       "      <td>5130.757500</td>\n",
       "      <td>2283.087500</td>\n",
       "    </tr>\n",
       "    <tr>\n",
       "      <th>75%</th>\n",
       "      <td>10011.045500</td>\n",
       "      <td>8340.658000</td>\n",
       "    </tr>\n",
       "    <tr>\n",
       "      <th>max</th>\n",
       "      <td>60307.930000</td>\n",
       "      <td>20243.380000</td>\n",
       "    </tr>\n",
       "    <tr>\n",
       "      <th>median</th>\n",
       "      <td>5130.757500</td>\n",
       "      <td>2283.087500</td>\n",
       "    </tr>\n",
       "  </tbody>\n",
       "</table>\n",
       "</div>"
      ],
      "text/plain": [
       "             Treated     Untreated\n",
       "count     116.000000    116.000000\n",
       "mean     7070.710510   5255.063148\n",
       "std      8607.704795   6166.935322\n",
       "min         0.000000      0.000000\n",
       "25%       672.490925      0.000000\n",
       "50%      5130.757500   2283.087500\n",
       "75%     10011.045500   8340.658000\n",
       "max     60307.930000  20243.380000\n",
       "median   5130.757500   2283.087500"
      ]
     },
     "execution_count": 28,
     "metadata": {},
     "output_type": "execute_result"
    }
   ],
   "source": [
    "matched_treated_desc = matched_treated_group_by_black['re78'].describe().rename(\"Treated\")\n",
    "matched_treated_desc.set_value('median', matched_treated_group_by_black['re78'].median())\n",
    "\n",
    "matched_untreated_desc = matched_untreated_group_by_black['re78'].describe().rename(\"Untreated\")\n",
    "matched_untreated_desc.set_value('median', matched_untreated_group_by_black['re78'].median())\n",
    "\n",
    "stats_df = pd.concat([matched_treated_desc, matched_untreated_desc], axis=1)\n",
    "stats_df"
   ]
  },
  {
   "cell_type": "code",
   "execution_count": 29,
   "metadata": {},
   "outputs": [
    {
     "data": {
      "text/plain": [
       "<matplotlib.text.Text at 0x115e65208>"
      ]
     },
     "execution_count": 29,
     "metadata": {},
     "output_type": "execute_result"
    },
    {
     "data": {
      "image/png": "[encoded data removed]",
      "text/plain": [
       "<matplotlib.figure.Figure at 0x117bfc080>"
      ]
     },
     "metadata": {},
     "output_type": "display_data"
    }
   ],
   "source": [
    "plt.figure(figsize=(12,1))\n",
    "plt.scatter(matched_treated_group_by_black['re78'], matched_treated_group_by_black['treat'], alpha=0.5)\n",
    "plt.scatter(matched_untreated_group_by_black['re78'], matched_untreated_group_by_black['treat'], alpha=0.5)\n",
    "plt.xlabel('real earnings in 1978')\n",
    "plt.ylabel('Participated in job training')"
   ]
  },
  {
   "cell_type": "code",
   "execution_count": 30,
   "metadata": {},
   "outputs": [
    {
     "data": {
      "image/png": "[encoded data removed]",
      "text/plain": [
       "<matplotlib.figure.Figure at 0x117c14780>"
      ]
     },
     "metadata": {},
     "output_type": "display_data"
    }
   ],
   "source": [
    "drawBoxPlot(matched_treated_group_by_black, matched_untreated_group_by_black, 'Real Earnings 78', 're78')"
   ]
  },
  {
   "cell_type": "code",
   "execution_count": 31,
   "metadata": {},
   "outputs": [
    {
     "data": {
      "image/png": "[encoded data removed]",
      "text/plain": [
       "<matplotlib.figure.Figure at 0x1190c09b0>"
      ]
     },
     "metadata": {},
     "output_type": "display_data"
    }
   ],
   "source": [
    "bins = np.linspace(0,70000, 50)\n",
    "\n",
    "plt.figure(figsize=(15,8))\n",
    "plt.hist(matched_treated_group_by_black['re78'], bins, alpha=0.5, label='treated')\n",
    "plt.hist(matched_untreated_group_by_black['re78'], bins, alpha=0.5, label='untreated')\n",
    "plt.legend(loc='upper right')\n",
    "plt.show()"
   ]
  },
  {
   "cell_type": "code",
   "execution_count": 32,
   "metadata": {},
   "outputs": [
    {
     "data": {
      "image/png": "[encoded data removed]",
      "text/plain": [
       "<matplotlib.figure.Figure at 0x119099cf8>"
      ]
     },
     "metadata": {},
     "output_type": "display_data"
    }
   ],
   "source": [
    "draw_hists(matched_treated_group_by_black, matched_untreated_group_by_black, 'subjects - 1978 real earnings distribution', \n",
    "          '1978 real earnings', 'Number of people', 're78')"
   ]
  },
  {
   "cell_type": "markdown",
   "metadata": {},
   "source": [
    "Now that the groups are realtively balanced, we may observe that the datapoints of the untreated group appear squished to the left unlike the datapoints for the treated group, which have their outliers further up the re78 axis. That and looking a the quirtile ranges, we may conclude that the treatment is effective."
   ]
  },
  {
   "cell_type": "markdown",
   "metadata": {},
   "source": [
    "## Question 2: Applied ML\n",
    "We are going to build a classifier of news to directly assign them to 20 news categories. Note that the pipeline that you will build in this exercise could be of great help during your project if you plan to work with text!\n"
   ]
  },
  {
   "cell_type": "markdown",
   "metadata": {},
   "source": [
    "#### 1\n",
    "Load the 20newsgroup dataset. It is, again, a classic dataset that can directly be loaded using sklearn ([link](http://scikit-learn.org/stable/datasets/twenty_newsgroups.html)).  \n",
    "[TF-IDF](https://en.wikipedia.org/wiki/Tf%E2%80%93idf), short for term frequencyâ€“inverse document frequency, is of great help when if comes to compute textual features. Indeed, it gives more importance to terms that are more specific to the considered articles (TF) but reduces the importance of terms that are very frequent in the entire corpus (IDF). Compute TF-IDF features for every article using [TfidfVectorizer](http://scikit-learn.org/stable/modules/generated/sklearn.feature_extraction.text.TfidfVectorizer.html). Then, split your dataset into a training, a testing and a validation set (10% for validation and 10% for testing). Each observation should be paired with its corresponding label (the article category)."
   ]
  },
  {
   "cell_type": "code",
   "execution_count": 33,
   "metadata": {},
   "outputs": [],
   "source": [
    "from sklearn.datasets import fetch_20newsgroups\n",
    "from pprint import pprint\n",
    "from sklearn.feature_extraction.text import TfidfVectorizer\n",
    "from sklearn.model_selection import train_test_split\n",
    "from sklearn.ensemble import RandomForestClassifier\n",
    "from sklearn.model_selection import GridSearchCV"
   ]
  },
  {
   "cell_type": "code",
   "execution_count": 34,
   "metadata": {},
   "outputs": [],
   "source": [
    "newsgroups_train = fetch_20newsgroups(subset='train')\n",
    "newsgroups_test = fetch_20newsgroups(subset=\"test\")\n",
    "\n",
    "#pprint(list(newsgroups_train.target_names))\n",
    "\n",
    "# .target contains category id\n",
    "# .target_name contains category name\n",
    "# .filenames contains file name\n",
    "# .data contains the text\n",
    "\n",
    "# TODO display result"
   ]
  },
  {
   "cell_type": "code",
   "execution_count": 35,
   "metadata": {},
   "outputs": [],
   "source": [
    "# Compute the tf-idf score for each data point\n",
    "vectorizer = TfidfVectorizer()\n",
    "vectors = vectorizer.fit_transform(newsgroups_train.data)\n",
    "tfidf_score = vectors.data"
   ]
  },
  {
   "cell_type": "markdown",
   "metadata": {},
   "source": [
    "In this problem the label of a data point is the news category assigned to it ('target' attribute in the newsgroup dataset) and the features are tf-idf values of the text of the news article."
   ]
  },
  {
   "cell_type": "code",
   "execution_count": 36,
   "metadata": {},
   "outputs": [
    {
     "name": "stdout",
     "output_type": "stream",
     "text": [
      "X Train / Test / Validation size : (9051, 130107) / (1132, 130107) / (1131, 130107)\n",
      "y Train / Test / Validation size : (9051,) / (1132,) / (1131,)\n"
     ]
    }
   ],
   "source": [
    "# We first split into 0.8 train, then split the remaining (0.2) into half test half validation set\n",
    "X = vectors\n",
    "y = newsgroups_train.target\n",
    "\n",
    "X_train, X_test, y_train, y_test = train_test_split(X, y, test_size=0.2, random_state=69)\n",
    "X_val, X_test, y_val, y_test = train_test_split(X_test, y_test, test_size=0.5, random_state=69)\n",
    "\n",
    "print('X Train / Test / Validation size : {} / {} / {}'.format(X_train.shape, X_test.shape, X_val.shape))\n",
    "print('y Train / Test / Validation size : {} / {} / {}'.format(y_train.shape, y_test.shape, y_val.shape))\n"
   ]
  },
  {
   "cell_type": "markdown",
   "metadata": {},
   "source": [
    "#### 2. \n",
    "Train a random forest on your training set. Try to fine-tune the parameters of your predictor on your validation set using a simple grid search on the number of estimator \"n_estimators\" and the max depth of the trees \"max_depth\". Then, display a confusion matrix of your classification pipeline. Lastly, once you assessed your model, inspect the `feature_importances_` attribute of your random forest and discuss the obtained results.\n",
    "\n"
   ]
  },
  {
   "cell_type": "code",
   "execution_count": 37,
   "metadata": {},
   "outputs": [
    {
     "data": {
      "text/plain": [
       "RandomForestClassifier(bootstrap=True, class_weight=None, criterion='gini',\n",
       "            max_depth=None, max_features='auto', max_leaf_nodes=None,\n",
       "            min_impurity_split=1e-07, min_samples_leaf=1,\n",
       "            min_samples_split=2, min_weight_fraction_leaf=0.0,\n",
       "            n_estimators=10, n_jobs=1, oob_score=False, random_state=5,\n",
       "            verbose=0, warm_start=False)"
      ]
     },
     "execution_count": 37,
     "metadata": {},
     "output_type": "execute_result"
    }
   ],
   "source": [
    "clf = RandomForestClassifier(random_state=5)\n",
    "clf.fit(X_train, y_train)"
   ]
  },
  {
   "cell_type": "code",
   "execution_count": 38,
   "metadata": {},
   "outputs": [
    {
     "name": "stdout",
     "output_type": "stream",
     "text": [
      "0.62%\n"
     ]
    }
   ],
   "source": [
    "def get_accuracy(y_pred):\n",
    "    y_diff = [y_pred == y_test]\n",
    "    y_correct = np.sum(y_diff) / y_pred.size\n",
    "    return y_correct\n",
    "\n",
    "y_pred = clf.predict(X_test)\n",
    "y_corr = get_accuracy(y_pred)\n",
    "print('{:0.2f}%'.format(y_corr))"
   ]
  },
  {
   "cell_type": "code",
   "execution_count": null,
   "metadata": {},
   "outputs": [],
   "source": [
    "n_estimators_range = np.logspace(1, 4, 2, dtype='int')\n",
    "max_depth_range = np.logspace(1, 4, 2, dtype='int')\n",
    "\n",
    "parameters = {'n_estimators':n_estimators_range,\n",
    "              'max_depth':max_depth_range }\n",
    "\n",
    "grid_search_clf = GridSearchCV(clf, parameters)"
   ]
  },
  {
   "cell_type": "code",
   "execution_count": null,
   "metadata": {},
   "outputs": [],
   "source": [
    "grid_search_clf.fit(X_train, y_train)"
   ]
  },
  {
   "cell_type": "code",
   "execution_count": null,
   "metadata": {},
   "outputs": [],
   "source": [
    "print(grid_search_clf.best_params_)\n",
    "#print(grid_search_clf.feature_importances_)\n",
    "\n"
   ]
  },
  {
   "cell_type": "code",
   "execution_count": null,
   "metadata": {},
   "outputs": [],
   "source": [
    "# TODO test with validation set "
   ]
  },
  {
   "cell_type": "code",
   "execution_count": null,
   "metadata": {},
   "outputs": [],
   "source": []
  }
 ],
 "metadata": {
  "kernelspec": {
   "display_name": "Python [conda root]",
   "language": "python",
   "name": "conda-root-py"
  },
  "language_info": {
   "codemirror_mode": {
    "name": "ipython",
    "version": 3
   },
   "file_extension": ".py",
   "mimetype": "text/x-python",
   "name": "python",
   "nbconvert_exporter": "python",
   "pygments_lexer": "ipython3",
   "version": "3.6.1"
  }
 },
 "nbformat": 4,
 "nbformat_minor": 2
}
