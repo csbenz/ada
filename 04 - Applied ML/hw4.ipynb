{
 "cells": [
  {
   "cell_type": "code",
   "execution_count": 1,
   "metadata": {
    "collapsed": true
   },
   "outputs": [],
   "source": [
    "import pandas as pd\n",
    "import numpy as np\n",
    "import matplotlib.pyplot as plt\n",
    "from sklearn.linear_model import LinearRegression, LogisticRegression\n",
    "#from sklearn.preprocessing import OneHotEncoder\n",
    "#from pandas.plotting import scatter_matrix\n",
    "#from sklearn.model_selection import cross_val_predict\n",
    "#from sklearn.model_selection import cross_val_score\n",
    "#import seaborn as sns\n",
    "import networkx as nx\n",
    "from networkx.algorithms import bipartite\n",
    "%matplotlib inline"
   ]
  },
  {
   "cell_type": "markdown",
   "metadata": {},
   "source": [
    "# Question 1"
   ]
  },
  {
   "cell_type": "markdown",
   "metadata": {},
   "source": [
    "#### 1. A naive analysis\n",
    "\n",
    "Compare the distribution of the outcome variable (`re78`) between the two groups, using plots and numbers.\n",
    "To summarize and compare the distributions, you may use the techniques we discussed in lectures 4 (\"Read the stats carefully\") and 6 (\"Data visualization\").\n",
    "\n",
    "What might a naive \"researcher\" conclude from this superficial analysis?"
   ]
  },
  {
   "cell_type": "code",
   "execution_count": 2,
   "metadata": {},
   "outputs": [
    {
     "data": {
      "text/html": [
       "<div>\n",
       "<style>\n",
       "    .dataframe thead tr:only-child th {\n",
       "        text-align: right;\n",
       "    }\n",
       "\n",
       "    .dataframe thead th {\n",
       "        text-align: left;\n",
       "    }\n",
       "\n",
       "    .dataframe tbody tr th {\n",
       "        vertical-align: top;\n",
       "    }\n",
       "</style>\n",
       "<table border=\"1\" class=\"dataframe\">\n",
       "  <thead>\n",
       "    <tr style=\"text-align: right;\">\n",
       "      <th></th>\n",
       "      <th>treat</th>\n",
       "      <th>age</th>\n",
       "      <th>educ</th>\n",
       "      <th>black</th>\n",
       "      <th>hispan</th>\n",
       "      <th>married</th>\n",
       "      <th>nodegree</th>\n",
       "      <th>re74</th>\n",
       "      <th>re75</th>\n",
       "      <th>re78</th>\n",
       "    </tr>\n",
       "    <tr>\n",
       "      <th>id</th>\n",
       "      <th></th>\n",
       "      <th></th>\n",
       "      <th></th>\n",
       "      <th></th>\n",
       "      <th></th>\n",
       "      <th></th>\n",
       "      <th></th>\n",
       "      <th></th>\n",
       "      <th></th>\n",
       "      <th></th>\n",
       "    </tr>\n",
       "  </thead>\n",
       "  <tbody>\n",
       "    <tr>\n",
       "      <th>NSW1</th>\n",
       "      <td>1</td>\n",
       "      <td>37</td>\n",
       "      <td>11</td>\n",
       "      <td>1</td>\n",
       "      <td>0</td>\n",
       "      <td>1</td>\n",
       "      <td>1</td>\n",
       "      <td>0.0</td>\n",
       "      <td>0.0</td>\n",
       "      <td>9930.0460</td>\n",
       "    </tr>\n",
       "    <tr>\n",
       "      <th>NSW2</th>\n",
       "      <td>1</td>\n",
       "      <td>22</td>\n",
       "      <td>9</td>\n",
       "      <td>0</td>\n",
       "      <td>1</td>\n",
       "      <td>0</td>\n",
       "      <td>1</td>\n",
       "      <td>0.0</td>\n",
       "      <td>0.0</td>\n",
       "      <td>3595.8940</td>\n",
       "    </tr>\n",
       "    <tr>\n",
       "      <th>NSW3</th>\n",
       "      <td>1</td>\n",
       "      <td>30</td>\n",
       "      <td>12</td>\n",
       "      <td>1</td>\n",
       "      <td>0</td>\n",
       "      <td>0</td>\n",
       "      <td>0</td>\n",
       "      <td>0.0</td>\n",
       "      <td>0.0</td>\n",
       "      <td>24909.4500</td>\n",
       "    </tr>\n",
       "    <tr>\n",
       "      <th>NSW4</th>\n",
       "      <td>1</td>\n",
       "      <td>27</td>\n",
       "      <td>11</td>\n",
       "      <td>1</td>\n",
       "      <td>0</td>\n",
       "      <td>0</td>\n",
       "      <td>1</td>\n",
       "      <td>0.0</td>\n",
       "      <td>0.0</td>\n",
       "      <td>7506.1460</td>\n",
       "    </tr>\n",
       "    <tr>\n",
       "      <th>NSW5</th>\n",
       "      <td>1</td>\n",
       "      <td>33</td>\n",
       "      <td>8</td>\n",
       "      <td>1</td>\n",
       "      <td>0</td>\n",
       "      <td>0</td>\n",
       "      <td>1</td>\n",
       "      <td>0.0</td>\n",
       "      <td>0.0</td>\n",
       "      <td>289.7899</td>\n",
       "    </tr>\n",
       "  </tbody>\n",
       "</table>\n",
       "</div>"
      ],
      "text/plain": [
       "      treat  age  educ  black  hispan  married  nodegree  re74  re75  \\\n",
       "id                                                                     \n",
       "NSW1      1   37    11      1       0        1         1   0.0   0.0   \n",
       "NSW2      1   22     9      0       1        0         1   0.0   0.0   \n",
       "NSW3      1   30    12      1       0        0         0   0.0   0.0   \n",
       "NSW4      1   27    11      1       0        0         1   0.0   0.0   \n",
       "NSW5      1   33     8      1       0        0         1   0.0   0.0   \n",
       "\n",
       "            re78  \n",
       "id                \n",
       "NSW1   9930.0460  \n",
       "NSW2   3595.8940  \n",
       "NSW3  24909.4500  \n",
       "NSW4   7506.1460  \n",
       "NSW5    289.7899  "
      ]
     },
     "execution_count": 2,
     "metadata": {},
     "output_type": "execute_result"
    }
   ],
   "source": [
    "data = pd.read_csv('lalonde.csv', index_col=0)\n",
    "\n",
    "data.head()"
   ]
  },
  {
   "cell_type": "code",
   "execution_count": 3,
   "metadata": {
    "collapsed": true
   },
   "outputs": [],
   "source": [
    "treated_group = data[data['treat'] == 1]\n",
    "untreated_group = data[data['treat'] == 0]"
   ]
  },
  {
   "cell_type": "code",
   "execution_count": 4,
   "metadata": {},
   "outputs": [
    {
     "data": {
      "text/html": [
       "<div>\n",
       "<style>\n",
       "    .dataframe thead tr:only-child th {\n",
       "        text-align: right;\n",
       "    }\n",
       "\n",
       "    .dataframe thead th {\n",
       "        text-align: left;\n",
       "    }\n",
       "\n",
       "    .dataframe tbody tr th {\n",
       "        vertical-align: top;\n",
       "    }\n",
       "</style>\n",
       "<table border=\"1\" class=\"dataframe\">\n",
       "  <thead>\n",
       "    <tr style=\"text-align: right;\">\n",
       "      <th></th>\n",
       "      <th>Treated</th>\n",
       "      <th>Unreated</th>\n",
       "    </tr>\n",
       "  </thead>\n",
       "  <tbody>\n",
       "    <tr>\n",
       "      <th>count</th>\n",
       "      <td>185.000000</td>\n",
       "      <td>429.000000</td>\n",
       "    </tr>\n",
       "    <tr>\n",
       "      <th>mean</th>\n",
       "      <td>6349.143530</td>\n",
       "      <td>6984.169742</td>\n",
       "    </tr>\n",
       "    <tr>\n",
       "      <th>std</th>\n",
       "      <td>7867.402218</td>\n",
       "      <td>7294.161791</td>\n",
       "    </tr>\n",
       "    <tr>\n",
       "      <th>min</th>\n",
       "      <td>0.000000</td>\n",
       "      <td>0.000000</td>\n",
       "    </tr>\n",
       "    <tr>\n",
       "      <th>25%</th>\n",
       "      <td>485.229800</td>\n",
       "      <td>220.181300</td>\n",
       "    </tr>\n",
       "    <tr>\n",
       "      <th>50%</th>\n",
       "      <td>4232.309000</td>\n",
       "      <td>4975.505000</td>\n",
       "    </tr>\n",
       "    <tr>\n",
       "      <th>75%</th>\n",
       "      <td>9642.999000</td>\n",
       "      <td>11688.820000</td>\n",
       "    </tr>\n",
       "    <tr>\n",
       "      <th>max</th>\n",
       "      <td>60307.930000</td>\n",
       "      <td>25564.670000</td>\n",
       "    </tr>\n",
       "    <tr>\n",
       "      <th>median</th>\n",
       "      <td>4232.309000</td>\n",
       "      <td>4975.505000</td>\n",
       "    </tr>\n",
       "  </tbody>\n",
       "</table>\n",
       "</div>"
      ],
      "text/plain": [
       "             Treated      Unreated\n",
       "count     185.000000    429.000000\n",
       "mean     6349.143530   6984.169742\n",
       "std      7867.402218   7294.161791\n",
       "min         0.000000      0.000000\n",
       "25%       485.229800    220.181300\n",
       "50%      4232.309000   4975.505000\n",
       "75%      9642.999000  11688.820000\n",
       "max     60307.930000  25564.670000\n",
       "median   4232.309000   4975.505000"
      ]
     },
     "execution_count": 4,
     "metadata": {},
     "output_type": "execute_result"
    }
   ],
   "source": [
    "'''\n",
    "print('Treated group statistics:')\n",
    "print(treated_group['re78'].describe())\n",
    "print('\\nMedian value for treated group:')\n",
    "print(treated_group['re78'].median())\n",
    "\n",
    "print('\\n\\nUntreated group statistics:')\n",
    "print(untreated_group['re78'].describe())\n",
    "print('\\nMedian value for untreated group:')\n",
    "print(untreated_group['re78'].median())\n",
    "'''\n",
    "\n",
    "treated_desc = treated_group['re78'].describe().rename(\"Treated\")\n",
    "treated_desc.set_value('median', treated_group['re78'].median())\n",
    "\n",
    "untreated_desc = untreated_group['re78'].describe().rename(\"Unreated\")\n",
    "untreated_desc.set_value('median', untreated_group['re78'].median())\n",
    "\n",
    "stats_df = pd.concat([treated_desc, untreated_desc], axis=1)\n",
    "stats_df"
   ]
  },
  {
   "cell_type": "markdown",
   "metadata": {},
   "source": [
    "Some observations:\n",
    "- The max earning value for the treated group is way higher than the max earning for the untreated group, but the mean and median values are higher for the untreated group, which leads us to think that the treated group overall didn't get better results, even though some outliers did get a very good outcome from the trainee program. We can also observe the higher standard deviation for the treated group, which goes in the same direction.\n",
    "\n",
    "Now lets display some plots of the distribution to visually see what it looks like."
   ]
  },
  {
   "cell_type": "code",
   "execution_count": 5,
   "metadata": {},
   "outputs": [
    {
     "data": {
      "text/plain": [
       "<matplotlib.text.Text at 0x7f44c2700d30>"
      ]
     },
     "execution_count": 5,
     "metadata": {},
     "output_type": "execute_result"
    },
    {
     "data": {
      "image/png": "[encoded data removed]",
      "text/plain": [
       "<matplotlib.figure.Figure at 0x7f44c2729940>"
      ]
     },
     "metadata": {},
     "output_type": "display_data"
    }
   ],
   "source": [
    "plt.figure(figsize=(12,1))\n",
    "plt.scatter(data['re78'], data['treat'], alpha=0.5)\n",
    "plt.xlabel('real earnings in 1978')\n",
    "plt.ylabel('Participated in job training')"
   ]
  },
  {
   "cell_type": "code",
   "execution_count": 6,
   "metadata": {},
   "outputs": [
    {
     "data": {
      "image/png": "[encoded data removed]",
      "text/plain": [
       "<matplotlib.figure.Figure at 0x7f44ba88f0f0>"
      ]
     },
     "metadata": {},
     "output_type": "display_data"
    }
   ],
   "source": [
    "bins = np.linspace(0,70000, 50)\n",
    "\n",
    "plt.figure(figsize=(15,8))\n",
    "plt.hist(treated_group['re78'], bins, alpha=0.5, label='treated')\n",
    "plt.hist(untreated_group['re78'], bins, alpha=0.5, label='untreated')\n",
    "plt.legend(loc='upper right')\n",
    "plt.show()"
   ]
  },
  {
   "cell_type": "code",
   "execution_count": 7,
   "metadata": {},
   "outputs": [
    {
     "data": {
      "text/plain": [
       "<matplotlib.text.Text at 0x7f44ba56e208>"
      ]
     },
     "execution_count": 7,
     "metadata": {},
     "output_type": "execute_result"
    },
    {
     "data": {
      "image/png": "[encoded data removed]",
      "text/plain": [
       "<matplotlib.figure.Figure at 0x7f44ba779da0>"
      ]
     },
     "metadata": {},
     "output_type": "display_data"
    }
   ],
   "source": [
    "def set_axis():\n",
    "    return\n",
    "\n",
    "\n",
    "fig, (ax1, ax2) = plt.subplots(1,2, figsize=(15,8), sharex=True, sharey=True)\n",
    "treated_group.hist('re78', bins=bins, label='treated', ax=ax1)\n",
    "untreated_group.hist('re78', bins=bins, label='untreated', ax=ax2)\n",
    "\n",
    "ax1.set_title('Treated subjects - 1978 real earnings distribution')\n",
    "ax1.set_xlabel('1978 real earnings')\n",
    "ax2.set_title('Untreated subjects - 1978 real earnings distribution')\n",
    "ax2.set_xlabel('1978 real earnings')\n",
    "\n",
    "#TODO create function and set all configs for axis etc. for both histograms"
   ]
  },
  {
   "cell_type": "code",
   "execution_count": 8,
   "metadata": {
    "collapsed": true
   },
   "outputs": [],
   "source": [
    "# TODO our naive conclusion"
   ]
  },
  {
   "cell_type": "markdown",
   "metadata": {},
   "source": [
    "#### 2. A closer look at the data\n",
    "\n",
    "You're not naive, of course (and even if you are, you've learned certain things in ADA), so you aren't content with a superficial analysis such as the above.\n",
    "You're aware of the dangers of observational studies, so you take a closer look at the data before jumping to conclusions.\n",
    "\n",
    "For each feature in the dataset, compare its distribution in the treated group with its distribution in the control group, using plots and numbers.\n",
    "As above, you may use the techniques we discussed in class for summarizing and comparing the distributions.\n",
    "\n",
    "What do you observe?\n",
    "Describe what your observations mean for the conclusions drawn by the naive \"researcher\" from his superficial analysis."
   ]
  },
  {
   "cell_type": "code",
   "execution_count": 9,
   "metadata": {
    "scrolled": true
   },
   "outputs": [
    {
     "data": {
      "text/html": [
       "<div>\n",
       "<style>\n",
       "    .dataframe thead tr:only-child th {\n",
       "        text-align: right;\n",
       "    }\n",
       "\n",
       "    .dataframe thead th {\n",
       "        text-align: left;\n",
       "    }\n",
       "\n",
       "    .dataframe tbody tr th {\n",
       "        vertical-align: top;\n",
       "    }\n",
       "</style>\n",
       "<table border=\"1\" class=\"dataframe\">\n",
       "  <thead>\n",
       "    <tr style=\"text-align: right;\">\n",
       "      <th></th>\n",
       "      <th>treat</th>\n",
       "      <th>age</th>\n",
       "      <th>educ</th>\n",
       "      <th>black</th>\n",
       "      <th>hispan</th>\n",
       "      <th>married</th>\n",
       "      <th>nodegree</th>\n",
       "      <th>re74</th>\n",
       "      <th>re75</th>\n",
       "      <th>re78</th>\n",
       "    </tr>\n",
       "  </thead>\n",
       "  <tbody>\n",
       "    <tr>\n",
       "      <th>count</th>\n",
       "      <td>185.0</td>\n",
       "      <td>185.000000</td>\n",
       "      <td>185.000000</td>\n",
       "      <td>185.000000</td>\n",
       "      <td>185.000000</td>\n",
       "      <td>185.000000</td>\n",
       "      <td>185.000000</td>\n",
       "      <td>185.000000</td>\n",
       "      <td>185.000000</td>\n",
       "      <td>185.000000</td>\n",
       "    </tr>\n",
       "    <tr>\n",
       "      <th>mean</th>\n",
       "      <td>1.0</td>\n",
       "      <td>25.816216</td>\n",
       "      <td>10.345946</td>\n",
       "      <td>0.843243</td>\n",
       "      <td>0.059459</td>\n",
       "      <td>0.189189</td>\n",
       "      <td>0.708108</td>\n",
       "      <td>2095.573689</td>\n",
       "      <td>1532.055314</td>\n",
       "      <td>6349.143530</td>\n",
       "    </tr>\n",
       "    <tr>\n",
       "      <th>std</th>\n",
       "      <td>0.0</td>\n",
       "      <td>7.155019</td>\n",
       "      <td>2.010650</td>\n",
       "      <td>0.364558</td>\n",
       "      <td>0.237124</td>\n",
       "      <td>0.392722</td>\n",
       "      <td>0.455867</td>\n",
       "      <td>4886.620353</td>\n",
       "      <td>3219.250870</td>\n",
       "      <td>7867.402218</td>\n",
       "    </tr>\n",
       "    <tr>\n",
       "      <th>min</th>\n",
       "      <td>1.0</td>\n",
       "      <td>17.000000</td>\n",
       "      <td>4.000000</td>\n",
       "      <td>0.000000</td>\n",
       "      <td>0.000000</td>\n",
       "      <td>0.000000</td>\n",
       "      <td>0.000000</td>\n",
       "      <td>0.000000</td>\n",
       "      <td>0.000000</td>\n",
       "      <td>0.000000</td>\n",
       "    </tr>\n",
       "    <tr>\n",
       "      <th>25%</th>\n",
       "      <td>1.0</td>\n",
       "      <td>20.000000</td>\n",
       "      <td>9.000000</td>\n",
       "      <td>1.000000</td>\n",
       "      <td>0.000000</td>\n",
       "      <td>0.000000</td>\n",
       "      <td>0.000000</td>\n",
       "      <td>0.000000</td>\n",
       "      <td>0.000000</td>\n",
       "      <td>485.229800</td>\n",
       "    </tr>\n",
       "    <tr>\n",
       "      <th>50%</th>\n",
       "      <td>1.0</td>\n",
       "      <td>25.000000</td>\n",
       "      <td>11.000000</td>\n",
       "      <td>1.000000</td>\n",
       "      <td>0.000000</td>\n",
       "      <td>0.000000</td>\n",
       "      <td>1.000000</td>\n",
       "      <td>0.000000</td>\n",
       "      <td>0.000000</td>\n",
       "      <td>4232.309000</td>\n",
       "    </tr>\n",
       "    <tr>\n",
       "      <th>75%</th>\n",
       "      <td>1.0</td>\n",
       "      <td>29.000000</td>\n",
       "      <td>12.000000</td>\n",
       "      <td>1.000000</td>\n",
       "      <td>0.000000</td>\n",
       "      <td>0.000000</td>\n",
       "      <td>1.000000</td>\n",
       "      <td>1291.468000</td>\n",
       "      <td>1817.284000</td>\n",
       "      <td>9642.999000</td>\n",
       "    </tr>\n",
       "    <tr>\n",
       "      <th>max</th>\n",
       "      <td>1.0</td>\n",
       "      <td>48.000000</td>\n",
       "      <td>16.000000</td>\n",
       "      <td>1.000000</td>\n",
       "      <td>1.000000</td>\n",
       "      <td>1.000000</td>\n",
       "      <td>1.000000</td>\n",
       "      <td>35040.070000</td>\n",
       "      <td>25142.240000</td>\n",
       "      <td>60307.930000</td>\n",
       "    </tr>\n",
       "  </tbody>\n",
       "</table>\n",
       "</div>"
      ],
      "text/plain": [
       "       treat         age        educ       black      hispan     married  \\\n",
       "count  185.0  185.000000  185.000000  185.000000  185.000000  185.000000   \n",
       "mean     1.0   25.816216   10.345946    0.843243    0.059459    0.189189   \n",
       "std      0.0    7.155019    2.010650    0.364558    0.237124    0.392722   \n",
       "min      1.0   17.000000    4.000000    0.000000    0.000000    0.000000   \n",
       "25%      1.0   20.000000    9.000000    1.000000    0.000000    0.000000   \n",
       "50%      1.0   25.000000   11.000000    1.000000    0.000000    0.000000   \n",
       "75%      1.0   29.000000   12.000000    1.000000    0.000000    0.000000   \n",
       "max      1.0   48.000000   16.000000    1.000000    1.000000    1.000000   \n",
       "\n",
       "         nodegree          re74          re75          re78  \n",
       "count  185.000000    185.000000    185.000000    185.000000  \n",
       "mean     0.708108   2095.573689   1532.055314   6349.143530  \n",
       "std      0.455867   4886.620353   3219.250870   7867.402218  \n",
       "min      0.000000      0.000000      0.000000      0.000000  \n",
       "25%      0.000000      0.000000      0.000000    485.229800  \n",
       "50%      1.000000      0.000000      0.000000   4232.309000  \n",
       "75%      1.000000   1291.468000   1817.284000   9642.999000  \n",
       "max      1.000000  35040.070000  25142.240000  60307.930000  "
      ]
     },
     "execution_count": 9,
     "metadata": {},
     "output_type": "execute_result"
    }
   ],
   "source": [
    "treated_group.describe()"
   ]
  },
  {
   "cell_type": "code",
   "execution_count": 10,
   "metadata": {},
   "outputs": [
    {
     "data": {
      "text/html": [
       "<div>\n",
       "<style>\n",
       "    .dataframe thead tr:only-child th {\n",
       "        text-align: right;\n",
       "    }\n",
       "\n",
       "    .dataframe thead th {\n",
       "        text-align: left;\n",
       "    }\n",
       "\n",
       "    .dataframe tbody tr th {\n",
       "        vertical-align: top;\n",
       "    }\n",
       "</style>\n",
       "<table border=\"1\" class=\"dataframe\">\n",
       "  <thead>\n",
       "    <tr style=\"text-align: right;\">\n",
       "      <th></th>\n",
       "      <th>treat</th>\n",
       "      <th>age</th>\n",
       "      <th>educ</th>\n",
       "      <th>black</th>\n",
       "      <th>hispan</th>\n",
       "      <th>married</th>\n",
       "      <th>nodegree</th>\n",
       "      <th>re74</th>\n",
       "      <th>re75</th>\n",
       "      <th>re78</th>\n",
       "    </tr>\n",
       "  </thead>\n",
       "  <tbody>\n",
       "    <tr>\n",
       "      <th>count</th>\n",
       "      <td>429.0</td>\n",
       "      <td>429.000000</td>\n",
       "      <td>429.000000</td>\n",
       "      <td>429.000000</td>\n",
       "      <td>429.000000</td>\n",
       "      <td>429.000000</td>\n",
       "      <td>429.000000</td>\n",
       "      <td>429.000000</td>\n",
       "      <td>429.000000</td>\n",
       "      <td>429.000000</td>\n",
       "    </tr>\n",
       "    <tr>\n",
       "      <th>mean</th>\n",
       "      <td>0.0</td>\n",
       "      <td>28.030303</td>\n",
       "      <td>10.235431</td>\n",
       "      <td>0.202797</td>\n",
       "      <td>0.142191</td>\n",
       "      <td>0.512821</td>\n",
       "      <td>0.596737</td>\n",
       "      <td>5619.236506</td>\n",
       "      <td>2466.484443</td>\n",
       "      <td>6984.169742</td>\n",
       "    </tr>\n",
       "    <tr>\n",
       "      <th>std</th>\n",
       "      <td>0.0</td>\n",
       "      <td>10.786653</td>\n",
       "      <td>2.855238</td>\n",
       "      <td>0.402552</td>\n",
       "      <td>0.349654</td>\n",
       "      <td>0.500419</td>\n",
       "      <td>0.491126</td>\n",
       "      <td>6788.750796</td>\n",
       "      <td>3291.996183</td>\n",
       "      <td>7294.161791</td>\n",
       "    </tr>\n",
       "    <tr>\n",
       "      <th>min</th>\n",
       "      <td>0.0</td>\n",
       "      <td>16.000000</td>\n",
       "      <td>0.000000</td>\n",
       "      <td>0.000000</td>\n",
       "      <td>0.000000</td>\n",
       "      <td>0.000000</td>\n",
       "      <td>0.000000</td>\n",
       "      <td>0.000000</td>\n",
       "      <td>0.000000</td>\n",
       "      <td>0.000000</td>\n",
       "    </tr>\n",
       "    <tr>\n",
       "      <th>25%</th>\n",
       "      <td>0.0</td>\n",
       "      <td>19.000000</td>\n",
       "      <td>9.000000</td>\n",
       "      <td>0.000000</td>\n",
       "      <td>0.000000</td>\n",
       "      <td>0.000000</td>\n",
       "      <td>0.000000</td>\n",
       "      <td>0.000000</td>\n",
       "      <td>0.000000</td>\n",
       "      <td>220.181300</td>\n",
       "    </tr>\n",
       "    <tr>\n",
       "      <th>50%</th>\n",
       "      <td>0.0</td>\n",
       "      <td>25.000000</td>\n",
       "      <td>11.000000</td>\n",
       "      <td>0.000000</td>\n",
       "      <td>0.000000</td>\n",
       "      <td>1.000000</td>\n",
       "      <td>1.000000</td>\n",
       "      <td>2547.047000</td>\n",
       "      <td>1086.726000</td>\n",
       "      <td>4975.505000</td>\n",
       "    </tr>\n",
       "    <tr>\n",
       "      <th>75%</th>\n",
       "      <td>0.0</td>\n",
       "      <td>35.000000</td>\n",
       "      <td>12.000000</td>\n",
       "      <td>0.000000</td>\n",
       "      <td>0.000000</td>\n",
       "      <td>1.000000</td>\n",
       "      <td>1.000000</td>\n",
       "      <td>9277.128000</td>\n",
       "      <td>3881.419000</td>\n",
       "      <td>11688.820000</td>\n",
       "    </tr>\n",
       "    <tr>\n",
       "      <th>max</th>\n",
       "      <td>0.0</td>\n",
       "      <td>55.000000</td>\n",
       "      <td>18.000000</td>\n",
       "      <td>1.000000</td>\n",
       "      <td>1.000000</td>\n",
       "      <td>1.000000</td>\n",
       "      <td>1.000000</td>\n",
       "      <td>25862.320000</td>\n",
       "      <td>18347.230000</td>\n",
       "      <td>25564.670000</td>\n",
       "    </tr>\n",
       "  </tbody>\n",
       "</table>\n",
       "</div>"
      ],
      "text/plain": [
       "       treat         age        educ       black      hispan     married  \\\n",
       "count  429.0  429.000000  429.000000  429.000000  429.000000  429.000000   \n",
       "mean     0.0   28.030303   10.235431    0.202797    0.142191    0.512821   \n",
       "std      0.0   10.786653    2.855238    0.402552    0.349654    0.500419   \n",
       "min      0.0   16.000000    0.000000    0.000000    0.000000    0.000000   \n",
       "25%      0.0   19.000000    9.000000    0.000000    0.000000    0.000000   \n",
       "50%      0.0   25.000000   11.000000    0.000000    0.000000    1.000000   \n",
       "75%      0.0   35.000000   12.000000    0.000000    0.000000    1.000000   \n",
       "max      0.0   55.000000   18.000000    1.000000    1.000000    1.000000   \n",
       "\n",
       "         nodegree          re74          re75          re78  \n",
       "count  429.000000    429.000000    429.000000    429.000000  \n",
       "mean     0.596737   5619.236506   2466.484443   6984.169742  \n",
       "std      0.491126   6788.750796   3291.996183   7294.161791  \n",
       "min      0.000000      0.000000      0.000000      0.000000  \n",
       "25%      0.000000      0.000000      0.000000    220.181300  \n",
       "50%      1.000000   2547.047000   1086.726000   4975.505000  \n",
       "75%      1.000000   9277.128000   3881.419000  11688.820000  \n",
       "max      1.000000  25862.320000  18347.230000  25564.670000  "
      ]
     },
     "execution_count": 10,
     "metadata": {},
     "output_type": "execute_result"
    }
   ],
   "source": [
    "untreated_group.describe()"
   ]
  },
  {
   "cell_type": "markdown",
   "metadata": {},
   "source": [
    "Below, we compare the percent of true/false values for features concerning race ('black' and 'hispan'), marriage and degree for each group and compare in bar charts.\n",
    "\n",
    "We also plot the distributions for the age, education and income prior to the experience to compare between the two groups.\n",
    "\n",
    "These observations will let us determine if the two groups are equivalently distributed."
   ]
  },
  {
   "cell_type": "code",
   "execution_count": 11,
   "metadata": {},
   "outputs": [
    {
     "name": "stdout",
     "output_type": "stream",
     "text": [
      "black percent for treated group: 84.32%\n",
      "black percent for untreated group: 20.28%\n",
      "\n"
     ]
    },
    {
     "data": {
      "image/png": "[encoded data removed]",
      "text/plain": [
       "<matplotlib.figure.Figure at 0x7f44ba40bf98>"
      ]
     },
     "metadata": {},
     "output_type": "display_data"
    },
    {
     "name": "stdout",
     "output_type": "stream",
     "text": [
      "hispan percent for treated group: 5.95%\n",
      "hispan percent for untreated group: 14.22%\n",
      "\n"
     ]
    },
    {
     "data": {
      "image/png": "[encoded data removed]",
      "text/plain": [
       "<matplotlib.figure.Figure at 0x7f44ba071748>"
      ]
     },
     "metadata": {},
     "output_type": "display_data"
    },
    {
     "name": "stdout",
     "output_type": "stream",
     "text": [
      "married percent for treated group: 18.92%\n",
      "married percent for untreated group: 51.28%\n",
      "\n"
     ]
    },
    {
     "data": {
      "image/png": "[encoded data removed]",
      "text/plain": [
       "<matplotlib.figure.Figure at 0x7f44b9f979b0>"
      ]
     },
     "metadata": {},
     "output_type": "display_data"
    },
    {
     "name": "stdout",
     "output_type": "stream",
     "text": [
      "nodegree percent for treated group: 70.81%\n",
      "nodegree percent for untreated group: 59.67%\n",
      "\n"
     ]
    },
    {
     "data": {
      "image/png": "[encoded data removed]",
      "text/plain": [
       "<matplotlib.figure.Figure at 0x7f44ba146320>"
      ]
     },
     "metadata": {},
     "output_type": "display_data"
    },
    {
     "data": {
      "text/plain": [
       "[None, None, None, None]"
      ]
     },
     "execution_count": 11,
     "metadata": {},
     "output_type": "execute_result"
    }
   ],
   "source": [
    "def percentage_comparison(treated_g, untreated_g, feature):\n",
    "    treated_percent = 100 * np.sum(treated_g[feature]) / treated_g[feature].size\n",
    "    untreated_percent = 100 * np.sum(untreated_g[feature]) / untreated_g[feature].size\n",
    "    print('{} percent for treated group: {:0.2f}%'.format(feature, treated_percent))\n",
    "    print('{} percent for untreated group: {:0.2f}%'.format(feature, untreated_percent))\n",
    "    print()\n",
    "    \n",
    "    x = [u'True', u'False']\n",
    "    y = [treated_percent, untreated_percent]\n",
    "    fig, ax = plt.subplots() \n",
    "    plt.bar([0,1], [treated_percent, untreated_percent])\n",
    "    plt.title(feature)\n",
    "    plt.xlabel(feature)\n",
    "    plt.ylabel('%')\n",
    "    \n",
    "    ax.set_ylim([0,100])\n",
    "    \n",
    "    plt.show()\n",
    "\n",
    "features_to_compare = ['black', 'hispan', 'married', 'nodegree']\n",
    "[percentage_comparison(treated_group, untreated_group, f) for f in features_to_compare]\n",
    "\n",
    "# TODO plot values above in small bar charts with yaxis 100% to compare visually\n",
    "# TODO plot in subplots side by side, nicer\n",
    "# Display bar value in each bar\n",
    "# TODO plot age distribution, plot years of education, display income before exp\n",
    "# TODO box plots?\n",
    "# TODO new column with 'race_other' (if black and hispan == 0)"
   ]
  },
  {
   "cell_type": "markdown",
   "metadata": {},
   "source": [
    "- Proportionally, the number of blacks in the control group is way higher than in the treated group.\n",
    "- There is also a disreptancy in the percentage of married people in each group\n",
    "\n",
    "\n",
    "These observations show that the treatment assignment isn't random and there is a huge bias between the two groups in some of the covariates, such as the number of blacks. This doesn't correspond to a randomized experiment. Such disruptancies cause major differences in the groups, which alone is enough to invalidate the naive conclusions made in part 1, or at least put the above findings into question."
   ]
  },
  {
   "cell_type": "markdown",
   "metadata": {},
   "source": [
    "#### 3. A propensity score model\n",
    "\n",
    "Use logistic regression to estimate propensity scores for all points in the dataset.\n",
    "You may use `sklearn` to fit the logistic regression model and apply it to each data point to obtain propensity scores:\n",
    "\n",
    "```python\n",
    "from sklearn import linear_model\n",
    "logistic = linear_model.LogisticRegression()\n",
    "```\n",
    "\n",
    "Recall that the propensity score of a data point represents its probability of receiving the treatment, based on its pre-treatment features (in this case, age, education, pre-treatment income, etc.).\n",
    "To brush up on propensity scores, you may read chapter 3.3 of the above-cited book by Rosenbaum or [this article](https://drive.google.com/file/d/0B4jctQY-uqhzTlpBaTBJRTJFVFE/view).\n",
    "\n",
    "Note: you do not need a train/test split here. Train and apply the model on the entire dataset. If you're wondering why this is the right thing to do in this situation, recall that the propensity score model is not used in order to make predictions about unseen data. Its sole purpose is to balance the dataset across treatment groups.\n",
    "(See p. 74 of Rosenbaum's book for an explanation why slight overfitting is even good for propensity scores.\n",
    "If you want even more information, read [this article](https://drive.google.com/file/d/0B4jctQY-uqhzTlpBaTBJRTJFVFE/view).)"
   ]
  },
  {
   "cell_type": "code",
   "execution_count": 12,
   "metadata": {},
   "outputs": [
    {
     "data": {
      "text/html": [
       "<div>\n",
       "<style>\n",
       "    .dataframe thead tr:only-child th {\n",
       "        text-align: right;\n",
       "    }\n",
       "\n",
       "    .dataframe thead th {\n",
       "        text-align: left;\n",
       "    }\n",
       "\n",
       "    .dataframe tbody tr th {\n",
       "        vertical-align: top;\n",
       "    }\n",
       "</style>\n",
       "<table border=\"1\" class=\"dataframe\">\n",
       "  <thead>\n",
       "    <tr style=\"text-align: right;\">\n",
       "      <th></th>\n",
       "      <th>treat</th>\n",
       "      <th>age</th>\n",
       "      <th>educ</th>\n",
       "      <th>black</th>\n",
       "      <th>hispan</th>\n",
       "      <th>married</th>\n",
       "      <th>nodegree</th>\n",
       "      <th>re74</th>\n",
       "      <th>re75</th>\n",
       "      <th>re78</th>\n",
       "      <th>prop_score</th>\n",
       "    </tr>\n",
       "    <tr>\n",
       "      <th>id</th>\n",
       "      <th></th>\n",
       "      <th></th>\n",
       "      <th></th>\n",
       "      <th></th>\n",
       "      <th></th>\n",
       "      <th></th>\n",
       "      <th></th>\n",
       "      <th></th>\n",
       "      <th></th>\n",
       "      <th></th>\n",
       "      <th></th>\n",
       "    </tr>\n",
       "  </thead>\n",
       "  <tbody>\n",
       "    <tr>\n",
       "      <th>NSW1</th>\n",
       "      <td>1</td>\n",
       "      <td>37</td>\n",
       "      <td>11</td>\n",
       "      <td>1</td>\n",
       "      <td>0</td>\n",
       "      <td>1</td>\n",
       "      <td>1</td>\n",
       "      <td>0.0</td>\n",
       "      <td>0.0</td>\n",
       "      <td>9930.0460</td>\n",
       "      <td>0.443350</td>\n",
       "    </tr>\n",
       "    <tr>\n",
       "      <th>NSW2</th>\n",
       "      <td>1</td>\n",
       "      <td>22</td>\n",
       "      <td>9</td>\n",
       "      <td>0</td>\n",
       "      <td>1</td>\n",
       "      <td>0</td>\n",
       "      <td>1</td>\n",
       "      <td>0.0</td>\n",
       "      <td>0.0</td>\n",
       "      <td>3595.8940</td>\n",
       "      <td>0.144660</td>\n",
       "    </tr>\n",
       "    <tr>\n",
       "      <th>NSW3</th>\n",
       "      <td>1</td>\n",
       "      <td>30</td>\n",
       "      <td>12</td>\n",
       "      <td>1</td>\n",
       "      <td>0</td>\n",
       "      <td>0</td>\n",
       "      <td>0</td>\n",
       "      <td>0.0</td>\n",
       "      <td>0.0</td>\n",
       "      <td>24909.4500</td>\n",
       "      <td>0.722355</td>\n",
       "    </tr>\n",
       "    <tr>\n",
       "      <th>NSW4</th>\n",
       "      <td>1</td>\n",
       "      <td>27</td>\n",
       "      <td>11</td>\n",
       "      <td>1</td>\n",
       "      <td>0</td>\n",
       "      <td>0</td>\n",
       "      <td>1</td>\n",
       "      <td>0.0</td>\n",
       "      <td>0.0</td>\n",
       "      <td>7506.1460</td>\n",
       "      <td>0.664151</td>\n",
       "    </tr>\n",
       "    <tr>\n",
       "      <th>NSW5</th>\n",
       "      <td>1</td>\n",
       "      <td>33</td>\n",
       "      <td>8</td>\n",
       "      <td>1</td>\n",
       "      <td>0</td>\n",
       "      <td>0</td>\n",
       "      <td>1</td>\n",
       "      <td>0.0</td>\n",
       "      <td>0.0</td>\n",
       "      <td>289.7899</td>\n",
       "      <td>0.698286</td>\n",
       "    </tr>\n",
       "  </tbody>\n",
       "</table>\n",
       "</div>"
      ],
      "text/plain": [
       "      treat  age  educ  black  hispan  married  nodegree  re74  re75  \\\n",
       "id                                                                     \n",
       "NSW1      1   37    11      1       0        1         1   0.0   0.0   \n",
       "NSW2      1   22     9      0       1        0         1   0.0   0.0   \n",
       "NSW3      1   30    12      1       0        0         0   0.0   0.0   \n",
       "NSW4      1   27    11      1       0        0         1   0.0   0.0   \n",
       "NSW5      1   33     8      1       0        0         1   0.0   0.0   \n",
       "\n",
       "            re78  prop_score  \n",
       "id                            \n",
       "NSW1   9930.0460    0.443350  \n",
       "NSW2   3595.8940    0.144660  \n",
       "NSW3  24909.4500    0.722355  \n",
       "NSW4   7506.1460    0.664151  \n",
       "NSW5    289.7899    0.698286  "
      ]
     },
     "execution_count": 12,
     "metadata": {},
     "output_type": "execute_result"
    }
   ],
   "source": [
    "logistic = LogisticRegression()\n",
    "\n",
    "confounders = ['age', 'educ', 'black', 'hispan', 'married', 'nodegree', 're74', 're75']\n",
    "\n",
    "y = data['treat']\n",
    "X = data[confounders]\n",
    "logistic.fit(X, y)\n",
    "\n",
    "prop_score = [e for (_,e) in logistic.predict_proba(X)]\n",
    "\n",
    "data['prop_score'] = prop_score\n",
    "data.head()\n",
    "\n",
    "# TODO way to ignore re74 and re75 when zero?"
   ]
  },
  {
   "cell_type": "markdown",
   "metadata": {},
   "source": [
    "Which means, for example, that the second person in the above array has a 14.5% chance of being in the treated group."
   ]
  },
  {
   "cell_type": "markdown",
   "metadata": {},
   "source": [
    "\n",
    "#### 4. Balancing the dataset via matching\n",
    "\n",
    "Use the propensity scores to match each data point from the treated group with exactly one data point from the control group, while ensuring that each data point from the control group is matched with at most one data point from the treated group.\n",
    "(Hint: you may explore the `networkx` package in Python for predefined matching functions.)\n",
    "\n",
    "Your matching should maximize the similarity between matched subjects, as captured by their propensity scores.\n",
    "In other words, the sum (over all matched pairs) of absolute propensity-score differences between the two matched subjects should be minimized.\n",
    "\n",
    "After matching, you have as many treated as you have control subjects.\n",
    "Compare the outcomes (`re78`) between the two groups (treated and control).\n",
    "\n",
    "Also, compare again the feature-value distributions between the two groups, as you've done in part 2 above, but now only for the matched subjects.\n",
    "What do you observe?\n",
    "Are you closer to being able to draw valid conclusions now than you were before?"
   ]
  },
  {
   "cell_type": "code",
   "execution_count": 13,
   "metadata": {
    "scrolled": true
   },
   "outputs": [
    {
     "data": {
      "text/plain": [
       "{'NSW1': 'PSID429',\n",
       " 'NSW10': 'PSID420',\n",
       " 'NSW100': 'PSID330',\n",
       " 'NSW101': 'PSID329',\n",
       " 'NSW102': 'PSID328',\n",
       " 'NSW103': 'PSID327',\n",
       " 'NSW104': 'PSID326',\n",
       " 'NSW105': 'PSID325',\n",
       " 'NSW106': 'PSID324',\n",
       " 'NSW107': 'PSID323',\n",
       " 'NSW108': 'PSID322',\n",
       " 'NSW109': 'PSID321',\n",
       " 'NSW11': 'PSID419',\n",
       " 'NSW110': 'PSID320',\n",
       " 'NSW111': 'PSID319',\n",
       " 'NSW112': 'PSID318',\n",
       " 'NSW113': 'PSID317',\n",
       " 'NSW114': 'PSID316',\n",
       " 'NSW115': 'PSID315',\n",
       " 'NSW116': 'PSID314',\n",
       " 'NSW117': 'PSID313',\n",
       " 'NSW118': 'PSID312',\n",
       " 'NSW119': 'PSID311',\n",
       " 'NSW12': 'PSID418',\n",
       " 'NSW120': 'PSID310',\n",
       " 'NSW121': 'PSID309',\n",
       " 'NSW122': 'PSID308',\n",
       " 'NSW123': 'PSID307',\n",
       " 'NSW124': 'PSID306',\n",
       " 'NSW125': 'PSID305',\n",
       " 'NSW126': 'PSID304',\n",
       " 'NSW127': 'PSID303',\n",
       " 'NSW128': 'PSID302',\n",
       " 'NSW129': 'PSID301',\n",
       " 'NSW13': 'PSID417',\n",
       " 'NSW130': 'PSID300',\n",
       " 'NSW131': 'PSID299',\n",
       " 'NSW132': 'PSID298',\n",
       " 'NSW133': 'PSID297',\n",
       " 'NSW134': 'PSID296',\n",
       " 'NSW135': 'PSID295',\n",
       " 'NSW136': 'PSID294',\n",
       " 'NSW137': 'PSID293',\n",
       " 'NSW138': 'PSID292',\n",
       " 'NSW139': 'PSID291',\n",
       " 'NSW14': 'PSID416',\n",
       " 'NSW140': 'PSID290',\n",
       " 'NSW141': 'PSID289',\n",
       " 'NSW142': 'PSID288',\n",
       " 'NSW143': 'PSID287',\n",
       " 'NSW144': 'PSID286',\n",
       " 'NSW145': 'PSID285',\n",
       " 'NSW146': 'PSID284',\n",
       " 'NSW147': 'PSID283',\n",
       " 'NSW148': 'PSID282',\n",
       " 'NSW149': 'PSID281',\n",
       " 'NSW15': 'PSID415',\n",
       " 'NSW150': 'PSID280',\n",
       " 'NSW151': 'PSID279',\n",
       " 'NSW152': 'PSID278',\n",
       " 'NSW153': 'PSID277',\n",
       " 'NSW154': 'PSID276',\n",
       " 'NSW155': 'PSID275',\n",
       " 'NSW156': 'PSID274',\n",
       " 'NSW157': 'PSID273',\n",
       " 'NSW158': 'PSID272',\n",
       " 'NSW159': 'PSID271',\n",
       " 'NSW16': 'PSID414',\n",
       " 'NSW160': 'PSID270',\n",
       " 'NSW161': 'PSID269',\n",
       " 'NSW162': 'PSID268',\n",
       " 'NSW163': 'PSID267',\n",
       " 'NSW164': 'PSID266',\n",
       " 'NSW165': 'PSID265',\n",
       " 'NSW166': 'PSID264',\n",
       " 'NSW167': 'PSID263',\n",
       " 'NSW168': 'PSID262',\n",
       " 'NSW169': 'PSID261',\n",
       " 'NSW17': 'PSID413',\n",
       " 'NSW170': 'PSID260',\n",
       " 'NSW171': 'PSID259',\n",
       " 'NSW172': 'PSID258',\n",
       " 'NSW173': 'PSID257',\n",
       " 'NSW174': 'PSID256',\n",
       " 'NSW175': 'PSID255',\n",
       " 'NSW176': 'PSID254',\n",
       " 'NSW177': 'PSID253',\n",
       " 'NSW178': 'PSID252',\n",
       " 'NSW179': 'PSID251',\n",
       " 'NSW18': 'PSID412',\n",
       " 'NSW180': 'PSID250',\n",
       " 'NSW181': 'PSID249',\n",
       " 'NSW182': 'PSID248',\n",
       " 'NSW183': 'PSID247',\n",
       " 'NSW184': 'PSID246',\n",
       " 'NSW185': 'PSID245',\n",
       " 'NSW19': 'PSID411',\n",
       " 'NSW2': 'PSID428',\n",
       " 'NSW20': 'PSID410',\n",
       " 'NSW21': 'PSID409',\n",
       " 'NSW22': 'PSID408',\n",
       " 'NSW23': 'PSID407',\n",
       " 'NSW24': 'PSID406',\n",
       " 'NSW25': 'PSID405',\n",
       " 'NSW26': 'PSID404',\n",
       " 'NSW27': 'PSID403',\n",
       " 'NSW28': 'PSID402',\n",
       " 'NSW29': 'PSID401',\n",
       " 'NSW3': 'PSID427',\n",
       " 'NSW30': 'PSID400',\n",
       " 'NSW31': 'PSID399',\n",
       " 'NSW32': 'PSID398',\n",
       " 'NSW33': 'PSID397',\n",
       " 'NSW34': 'PSID396',\n",
       " 'NSW35': 'PSID395',\n",
       " 'NSW36': 'PSID394',\n",
       " 'NSW37': 'PSID393',\n",
       " 'NSW38': 'PSID392',\n",
       " 'NSW39': 'PSID391',\n",
       " 'NSW4': 'PSID426',\n",
       " 'NSW40': 'PSID390',\n",
       " 'NSW41': 'PSID389',\n",
       " 'NSW42': 'PSID388',\n",
       " 'NSW43': 'PSID387',\n",
       " 'NSW44': 'PSID386',\n",
       " 'NSW45': 'PSID385',\n",
       " 'NSW46': 'PSID384',\n",
       " 'NSW47': 'PSID383',\n",
       " 'NSW48': 'PSID382',\n",
       " 'NSW49': 'PSID381',\n",
       " 'NSW5': 'PSID425',\n",
       " 'NSW50': 'PSID380',\n",
       " 'NSW51': 'PSID379',\n",
       " 'NSW52': 'PSID378',\n",
       " 'NSW53': 'PSID377',\n",
       " 'NSW54': 'PSID376',\n",
       " 'NSW55': 'PSID375',\n",
       " 'NSW56': 'PSID374',\n",
       " 'NSW57': 'PSID373',\n",
       " 'NSW58': 'PSID372',\n",
       " 'NSW59': 'PSID371',\n",
       " 'NSW6': 'PSID424',\n",
       " 'NSW60': 'PSID370',\n",
       " 'NSW61': 'PSID369',\n",
       " 'NSW62': 'PSID368',\n",
       " 'NSW63': 'PSID367',\n",
       " 'NSW64': 'PSID366',\n",
       " 'NSW65': 'PSID365',\n",
       " 'NSW66': 'PSID364',\n",
       " 'NSW67': 'PSID363',\n",
       " 'NSW68': 'PSID362',\n",
       " 'NSW69': 'PSID361',\n",
       " 'NSW7': 'PSID423',\n",
       " 'NSW70': 'PSID360',\n",
       " 'NSW71': 'PSID359',\n",
       " 'NSW72': 'PSID358',\n",
       " 'NSW73': 'PSID357',\n",
       " 'NSW74': 'PSID356',\n",
       " 'NSW75': 'PSID355',\n",
       " 'NSW76': 'PSID354',\n",
       " 'NSW77': 'PSID353',\n",
       " 'NSW78': 'PSID352',\n",
       " 'NSW79': 'PSID351',\n",
       " 'NSW8': 'PSID422',\n",
       " 'NSW80': 'PSID350',\n",
       " 'NSW81': 'PSID349',\n",
       " 'NSW82': 'PSID348',\n",
       " 'NSW83': 'PSID347',\n",
       " 'NSW84': 'PSID346',\n",
       " 'NSW85': 'PSID345',\n",
       " 'NSW86': 'PSID344',\n",
       " 'NSW87': 'PSID343',\n",
       " 'NSW88': 'PSID342',\n",
       " 'NSW89': 'PSID341',\n",
       " 'NSW9': 'PSID421',\n",
       " 'NSW90': 'PSID340',\n",
       " 'NSW91': 'PSID339',\n",
       " 'NSW92': 'PSID338',\n",
       " 'NSW93': 'PSID337',\n",
       " 'NSW94': 'PSID336',\n",
       " 'NSW95': 'PSID335',\n",
       " 'NSW96': 'PSID334',\n",
       " 'NSW97': 'PSID333',\n",
       " 'NSW98': 'PSID332',\n",
       " 'NSW99': 'PSID331',\n",
       " 'PSID245': 'NSW185',\n",
       " 'PSID246': 'NSW184',\n",
       " 'PSID247': 'NSW183',\n",
       " 'PSID248': 'NSW182',\n",
       " 'PSID249': 'NSW181',\n",
       " 'PSID250': 'NSW180',\n",
       " 'PSID251': 'NSW179',\n",
       " 'PSID252': 'NSW178',\n",
       " 'PSID253': 'NSW177',\n",
       " 'PSID254': 'NSW176',\n",
       " 'PSID255': 'NSW175',\n",
       " 'PSID256': 'NSW174',\n",
       " 'PSID257': 'NSW173',\n",
       " 'PSID258': 'NSW172',\n",
       " 'PSID259': 'NSW171',\n",
       " 'PSID260': 'NSW170',\n",
       " 'PSID261': 'NSW169',\n",
       " 'PSID262': 'NSW168',\n",
       " 'PSID263': 'NSW167',\n",
       " 'PSID264': 'NSW166',\n",
       " 'PSID265': 'NSW165',\n",
       " 'PSID266': 'NSW164',\n",
       " 'PSID267': 'NSW163',\n",
       " 'PSID268': 'NSW162',\n",
       " 'PSID269': 'NSW161',\n",
       " 'PSID270': 'NSW160',\n",
       " 'PSID271': 'NSW159',\n",
       " 'PSID272': 'NSW158',\n",
       " 'PSID273': 'NSW157',\n",
       " 'PSID274': 'NSW156',\n",
       " 'PSID275': 'NSW155',\n",
       " 'PSID276': 'NSW154',\n",
       " 'PSID277': 'NSW153',\n",
       " 'PSID278': 'NSW152',\n",
       " 'PSID279': 'NSW151',\n",
       " 'PSID280': 'NSW150',\n",
       " 'PSID281': 'NSW149',\n",
       " 'PSID282': 'NSW148',\n",
       " 'PSID283': 'NSW147',\n",
       " 'PSID284': 'NSW146',\n",
       " 'PSID285': 'NSW145',\n",
       " 'PSID286': 'NSW144',\n",
       " 'PSID287': 'NSW143',\n",
       " 'PSID288': 'NSW142',\n",
       " 'PSID289': 'NSW141',\n",
       " 'PSID290': 'NSW140',\n",
       " 'PSID291': 'NSW139',\n",
       " 'PSID292': 'NSW138',\n",
       " 'PSID293': 'NSW137',\n",
       " 'PSID294': 'NSW136',\n",
       " 'PSID295': 'NSW135',\n",
       " 'PSID296': 'NSW134',\n",
       " 'PSID297': 'NSW133',\n",
       " 'PSID298': 'NSW132',\n",
       " 'PSID299': 'NSW131',\n",
       " 'PSID300': 'NSW130',\n",
       " 'PSID301': 'NSW129',\n",
       " 'PSID302': 'NSW128',\n",
       " 'PSID303': 'NSW127',\n",
       " 'PSID304': 'NSW126',\n",
       " 'PSID305': 'NSW125',\n",
       " 'PSID306': 'NSW124',\n",
       " 'PSID307': 'NSW123',\n",
       " 'PSID308': 'NSW122',\n",
       " 'PSID309': 'NSW121',\n",
       " 'PSID310': 'NSW120',\n",
       " 'PSID311': 'NSW119',\n",
       " 'PSID312': 'NSW118',\n",
       " 'PSID313': 'NSW117',\n",
       " 'PSID314': 'NSW116',\n",
       " 'PSID315': 'NSW115',\n",
       " 'PSID316': 'NSW114',\n",
       " 'PSID317': 'NSW113',\n",
       " 'PSID318': 'NSW112',\n",
       " 'PSID319': 'NSW111',\n",
       " 'PSID320': 'NSW110',\n",
       " 'PSID321': 'NSW109',\n",
       " 'PSID322': 'NSW108',\n",
       " 'PSID323': 'NSW107',\n",
       " 'PSID324': 'NSW106',\n",
       " 'PSID325': 'NSW105',\n",
       " 'PSID326': 'NSW104',\n",
       " 'PSID327': 'NSW103',\n",
       " 'PSID328': 'NSW102',\n",
       " 'PSID329': 'NSW101',\n",
       " 'PSID330': 'NSW100',\n",
       " 'PSID331': 'NSW99',\n",
       " 'PSID332': 'NSW98',\n",
       " 'PSID333': 'NSW97',\n",
       " 'PSID334': 'NSW96',\n",
       " 'PSID335': 'NSW95',\n",
       " 'PSID336': 'NSW94',\n",
       " 'PSID337': 'NSW93',\n",
       " 'PSID338': 'NSW92',\n",
       " 'PSID339': 'NSW91',\n",
       " 'PSID340': 'NSW90',\n",
       " 'PSID341': 'NSW89',\n",
       " 'PSID342': 'NSW88',\n",
       " 'PSID343': 'NSW87',\n",
       " 'PSID344': 'NSW86',\n",
       " 'PSID345': 'NSW85',\n",
       " 'PSID346': 'NSW84',\n",
       " 'PSID347': 'NSW83',\n",
       " 'PSID348': 'NSW82',\n",
       " 'PSID349': 'NSW81',\n",
       " 'PSID350': 'NSW80',\n",
       " 'PSID351': 'NSW79',\n",
       " 'PSID352': 'NSW78',\n",
       " 'PSID353': 'NSW77',\n",
       " 'PSID354': 'NSW76',\n",
       " 'PSID355': 'NSW75',\n",
       " 'PSID356': 'NSW74',\n",
       " 'PSID357': 'NSW73',\n",
       " 'PSID358': 'NSW72',\n",
       " 'PSID359': 'NSW71',\n",
       " 'PSID360': 'NSW70',\n",
       " 'PSID361': 'NSW69',\n",
       " 'PSID362': 'NSW68',\n",
       " 'PSID363': 'NSW67',\n",
       " 'PSID364': 'NSW66',\n",
       " 'PSID365': 'NSW65',\n",
       " 'PSID366': 'NSW64',\n",
       " 'PSID367': 'NSW63',\n",
       " 'PSID368': 'NSW62',\n",
       " 'PSID369': 'NSW61',\n",
       " 'PSID370': 'NSW60',\n",
       " 'PSID371': 'NSW59',\n",
       " 'PSID372': 'NSW58',\n",
       " 'PSID373': 'NSW57',\n",
       " 'PSID374': 'NSW56',\n",
       " 'PSID375': 'NSW55',\n",
       " 'PSID376': 'NSW54',\n",
       " 'PSID377': 'NSW53',\n",
       " 'PSID378': 'NSW52',\n",
       " 'PSID379': 'NSW51',\n",
       " 'PSID380': 'NSW50',\n",
       " 'PSID381': 'NSW49',\n",
       " 'PSID382': 'NSW48',\n",
       " 'PSID383': 'NSW47',\n",
       " 'PSID384': 'NSW46',\n",
       " 'PSID385': 'NSW45',\n",
       " 'PSID386': 'NSW44',\n",
       " 'PSID387': 'NSW43',\n",
       " 'PSID388': 'NSW42',\n",
       " 'PSID389': 'NSW41',\n",
       " 'PSID390': 'NSW40',\n",
       " 'PSID391': 'NSW39',\n",
       " 'PSID392': 'NSW38',\n",
       " 'PSID393': 'NSW37',\n",
       " 'PSID394': 'NSW36',\n",
       " 'PSID395': 'NSW35',\n",
       " 'PSID396': 'NSW34',\n",
       " 'PSID397': 'NSW33',\n",
       " 'PSID398': 'NSW32',\n",
       " 'PSID399': 'NSW31',\n",
       " 'PSID400': 'NSW30',\n",
       " 'PSID401': 'NSW29',\n",
       " 'PSID402': 'NSW28',\n",
       " 'PSID403': 'NSW27',\n",
       " 'PSID404': 'NSW26',\n",
       " 'PSID405': 'NSW25',\n",
       " 'PSID406': 'NSW24',\n",
       " 'PSID407': 'NSW23',\n",
       " 'PSID408': 'NSW22',\n",
       " 'PSID409': 'NSW21',\n",
       " 'PSID410': 'NSW20',\n",
       " 'PSID411': 'NSW19',\n",
       " 'PSID412': 'NSW18',\n",
       " 'PSID413': 'NSW17',\n",
       " 'PSID414': 'NSW16',\n",
       " 'PSID415': 'NSW15',\n",
       " 'PSID416': 'NSW14',\n",
       " 'PSID417': 'NSW13',\n",
       " 'PSID418': 'NSW12',\n",
       " 'PSID419': 'NSW11',\n",
       " 'PSID420': 'NSW10',\n",
       " 'PSID421': 'NSW9',\n",
       " 'PSID422': 'NSW8',\n",
       " 'PSID423': 'NSW7',\n",
       " 'PSID424': 'NSW6',\n",
       " 'PSID425': 'NSW5',\n",
       " 'PSID426': 'NSW4',\n",
       " 'PSID427': 'NSW3',\n",
       " 'PSID428': 'NSW2',\n",
       " 'PSID429': 'NSW1'}"
      ]
     },
     "execution_count": 13,
     "metadata": {},
     "output_type": "execute_result"
    }
   ],
   "source": [
    "treat_prop = data[data['treat'] == 1]['prop_score']\n",
    "untreat_prop = data[data['treat'] == 0]['prop_score']\n",
    "\n",
    "#B = nx.complete_bipartite_graph(treat_prop.size, untreat_prop.size)\n",
    "\n",
    "B = nx.Graph()\n",
    "\n",
    "B.add_nodes_from(treat_prop.index, bipartite=0)\n",
    "B.add_nodes_from(untreat_prop.index, bipartite=1)\n",
    "\n",
    "for l_idx, l in treat_prop.iteritems():\n",
    "    for r_idx, r in untreat_prop.iteritems():\n",
    "        w = abs(l - r)\n",
    "        B.add_edge(l_idx, r_idx, weigth=w)\n",
    "\n",
    "max_matching = nx.max_weight_matching(B, True)\n",
    "max_matching\n",
    "\n",
    "# TODO is this matching correct? Histogram seems fishy, too many high values??"
   ]
  },
  {
   "cell_type": "markdown",
   "metadata": {},
   "source": [
    "To check how good our matching performed, we compute the absolute difference between the two propensity scores for each pair in the matching and display a histogram of all the values."
   ]
  },
  {
   "cell_type": "code",
   "execution_count": 14,
   "metadata": {
    "scrolled": false
   },
   "outputs": [
    {
     "name": "stdout",
     "output_type": "stream",
     "text": [
      "Mean absolute propensity score: 0.38115684565223446\n"
     ]
    },
    {
     "data": {
      "image/png": "[encoded data removed]",
      "text/plain": [
       "<matplotlib.figure.Figure at 0x7f44ba5a7160>"
      ]
     },
     "metadata": {},
     "output_type": "display_data"
    }
   ],
   "source": [
    "def get_scores(matching):\n",
    "    (left, _) = bipartite.sets(B)\n",
    "    return [abs(treat_prop[l] - untreat_prop[matching[l]]) for l in left]\n",
    "\n",
    "abs_diffs = get_scores(max_matching)\n",
    "print('Mean absolute propensity score: {}'.format(np.mean(abs_diffs)))\n",
    "\n",
    "plt.hist(abs_diffs,bins=25)\n",
    "plt.title('Histogram of absolute propensity score difference for each pair in the matching')\n",
    "plt.xlabel('absolute difference in propensity score')\n",
    "plt.ylabel('# of elements')\n",
    "plt.show()"
   ]
  },
  {
   "cell_type": "markdown",
   "metadata": {},
   "source": [
    "As we can see, the algorithm found many good matchings, but there is a lot of pairs that have a big difference in propensity score, due to the fact that strictly each score has to be matched with one from the other group."
   ]
  },
  {
   "cell_type": "code",
   "execution_count": 15,
   "metadata": {},
   "outputs": [
    {
     "name": "stdout",
     "output_type": "stream",
     "text": [
      "Left (treated): 185\n",
      "Right (untreated): 429\n"
     ]
    }
   ],
   "source": [
    "#left side is the treated nodes, right side is untreated nodes (size)\n",
    "(left, right) = bipartite.sets(B)\n",
    "\n",
    "print('Left (treated): {}'.format(len(left)))\n",
    "print('Right (untreated): {}'.format(len(right)))"
   ]
  },
  {
   "cell_type": "markdown",
   "metadata": {},
   "source": [
    "The left side of the bipartite graph is the smallest, thus the matching contains all nodes on the left side (185) and has matched with 185 nodes on the right side (untreated patients)."
   ]
  },
  {
   "cell_type": "code",
   "execution_count": 16,
   "metadata": {},
   "outputs": [
    {
     "data": {
      "text/plain": [
       "array([<matplotlib.axes._subplots.AxesSubplot object at 0x7f44ba662278>], dtype=object)"
      ]
     },
     "execution_count": 16,
     "metadata": {},
     "output_type": "execute_result"
    },
    {
     "data": {
      "image/png": "[encoded data removed]",
      "text/plain": [
       "<matplotlib.figure.Figure at 0x7f44ba6d0518>"
      ]
     },
     "metadata": {},
     "output_type": "display_data"
    }
   ],
   "source": [
    "treated_matched_index = left #are all matched\n",
    "untreated_matched_index = [max_matching[l] for l in left]\n",
    "len(untreated_matched_index)\n",
    "\n",
    "# Get only the matched proensity scores for each group\n",
    "matched_treated_group = data.loc[treated_matched_index]\n",
    "matched_untreated_group = data.loc[untreated_matched_index]\n",
    "\n",
    "\n",
    "fig, (ax1, ax2) = plt.subplots(1,2, figsize=(15,6), sharex=True, sharey=True)\n",
    "matched_treated_group.hist('re78', bins=bins, label='treated', ax=ax1)\n",
    "matched_untreated_group.hist('re78', bins=bins, label='untreated', ax=ax2)\n",
    "\n",
    "# TODO can do a function to display these two histograms as we reuse code\n",
    "# TODO add axis labels and title"
   ]
  },
  {
   "cell_type": "markdown",
   "metadata": {},
   "source": [
    "Now, with the propensity score matching, we have an observational study and looking at the results of 1978 earnings, we could conclude that the treatment did work well for the outliers that earned a lot more than the rest. There is also less people with no income in the treated group."
   ]
  },
  {
   "cell_type": "code",
   "execution_count": 17,
   "metadata": {},
   "outputs": [
    {
     "name": "stdout",
     "output_type": "stream",
     "text": [
      "black percent for treated group: 84.32%\n",
      "black percent for untreated group: 27.57%\n",
      "\n"
     ]
    },
    {
     "data": {
      "image/png": "[encoded data removed]",
      "text/plain": [
       "<matplotlib.figure.Figure at 0x7f44ba713898>"
      ]
     },
     "metadata": {},
     "output_type": "display_data"
    },
    {
     "name": "stdout",
     "output_type": "stream",
     "text": [
      "hispan percent for treated group: 5.95%\n",
      "hispan percent for untreated group: 11.89%\n",
      "\n"
     ]
    },
    {
     "data": {
      "image/png": "[encoded data removed]",
      "text/plain": [
       "<matplotlib.figure.Figure at 0x7f44ba8d3400>"
      ]
     },
     "metadata": {},
     "output_type": "display_data"
    },
    {
     "name": "stdout",
     "output_type": "stream",
     "text": [
      "married percent for treated group: 18.92%\n",
      "married percent for untreated group: 41.08%\n",
      "\n"
     ]
    },
    {
     "data": {
      "image/png": "[encoded data removed]",
      "text/plain": [
       "<matplotlib.figure.Figure at 0x7f44ba4b49e8>"
      ]
     },
     "metadata": {},
     "output_type": "display_data"
    },
    {
     "name": "stdout",
     "output_type": "stream",
     "text": [
      "nodegree percent for treated group: 70.81%\n",
      "nodegree percent for untreated group: 65.41%\n",
      "\n"
     ]
    },
    {
     "data": {
      "image/png": "[encoded data removed]",
      "text/plain": [
       "<matplotlib.figure.Figure at 0x7f44ba1182e8>"
      ]
     },
     "metadata": {},
     "output_type": "display_data"
    },
    {
     "data": {
      "text/plain": [
       "[None, None, None, None]"
      ]
     },
     "execution_count": 17,
     "metadata": {},
     "output_type": "execute_result"
    }
   ],
   "source": [
    "features_to_compare = ['black', 'hispan', 'married', 'nodegree']\n",
    "[percentage_comparison(matched_treated_group, matched_untreated_group, f) for f in features_to_compare]\n",
    "\n",
    "# TODO other features, like above"
   ]
  },
  {
   "cell_type": "markdown",
   "metadata": {},
   "source": [
    "\n",
    "Even though the number of blacks, for example, is still relatively different in each group, the differences are smaller for each feature and the groups look better distributed."
   ]
  },
  {
   "cell_type": "markdown",
   "metadata": {},
   "source": [
    "#### 5. Balancing the groups further\n",
    "\n",
    "Based on your comparison of feature-value distributions from part 4, are you fully satisfied with your matching?\n",
    "Would you say your dataset is sufficiently balanced?\n",
    "If not, in what ways could the \"balanced\" dataset you have obtained still not allow you to draw valid conclusions?\n",
    "\n",
    "Improve your matching by explicitly making sure that you match only subjects that have the same value for the problematic feature.\n",
    "Argue with numbers and plots that the two groups (treated and control) are now better balanced than after part 4.\n"
   ]
  },
  {
   "cell_type": "code",
   "execution_count": 18,
   "metadata": {
    "collapsed": true
   },
   "outputs": [],
   "source": [
    "# TODO"
   ]
  },
  {
   "cell_type": "markdown",
   "metadata": {},
   "source": [
    "#### 6. A less naive analysis\n",
    "\n",
    "Compare the outcomes (`re78`) between treated and control subjects, as you've done in part 1, but now only for the matched dataset you've obtained from part 5.\n",
    "What do you conclude about the effectiveness of the job training program?"
   ]
  },
  {
   "cell_type": "code",
   "execution_count": 19,
   "metadata": {
    "collapsed": true
   },
   "outputs": [],
   "source": [
    "# TODO"
   ]
  },
  {
   "cell_type": "markdown",
   "metadata": {},
   "source": [
    "## Question 2: Applied ML\n",
    "We are going to build a classifier of news to directly assign them to 20 news categories. Note that the pipeline that you will build in this exercise could be of great help during your project if you plan to work with text!\n"
   ]
  },
  {
   "cell_type": "markdown",
   "metadata": {},
   "source": [
    "#### 1\n",
    "Load the 20newsgroup dataset. It is, again, a classic dataset that can directly be loaded using sklearn ([link](http://scikit-learn.org/stable/datasets/twenty_newsgroups.html)).  \n",
    "[TF-IDF](https://en.wikipedia.org/wiki/Tf%E2%80%93idf), short for term frequencyâ€“inverse document frequency, is of great help when if comes to compute textual features. Indeed, it gives more importance to terms that are more specific to the considered articles (TF) but reduces the importance of terms that are very frequent in the entire corpus (IDF). Compute TF-IDF features for every article using [TfidfVectorizer](http://scikit-learn.org/stable/modules/generated/sklearn.feature_extraction.text.TfidfVectorizer.html). Then, split your dataset into a training, a testing and a validation set (10% for validation and 10% for testing). Each observation should be paired with its corresponding label (the article category)."
   ]
  },
  {
   "cell_type": "code",
   "execution_count": 20,
   "metadata": {
    "collapsed": true
   },
   "outputs": [],
   "source": [
    "from sklearn.datasets import fetch_20newsgroups\n",
    "from pprint import pprint\n",
    "from sklearn.feature_extraction.text import TfidfVectorizer\n",
    "from sklearn.model_selection import train_test_split\n",
    "from sklearn.ensemble import RandomForestClassifier\n",
    "from sklearn.model_selection import GridSearchCV"
   ]
  },
  {
   "cell_type": "code",
   "execution_count": 21,
   "metadata": {
    "collapsed": true
   },
   "outputs": [],
   "source": [
    "newsgroups_train = fetch_20newsgroups(subset='train')\n",
    "newsgroups_test = fetch_20newsgroups(subset=\"test\")\n",
    "\n",
    "#pprint(list(newsgroups_train.target_names))\n",
    "\n",
    "# .target contains category id\n",
    "# .target_name contains category name\n",
    "# .filenames contains file name\n",
    "# .data contains the text\n",
    "\n",
    "# TODO display result"
   ]
  },
  {
   "cell_type": "code",
   "execution_count": 22,
   "metadata": {
    "collapsed": true
   },
   "outputs": [],
   "source": [
    "# Compute the tf-idf score for each data point\n",
    "vectorizer = TfidfVectorizer()\n",
    "vectors = vectorizer.fit_transform(newsgroups_train.data)\n",
    "tfidf_score = vectors.data"
   ]
  },
  {
   "cell_type": "markdown",
   "metadata": {},
   "source": [
    "In this problem the label of a data point is the news category assigned to it ('target' attribute in the newsgroup dataset) and the features are tf-idf values of the text of the news article."
   ]
  },
  {
   "cell_type": "code",
   "execution_count": 23,
   "metadata": {},
   "outputs": [
    {
     "name": "stdout",
     "output_type": "stream",
     "text": [
      "X Train / Test / Validation size : (9051, 130107) / (1132, 130107) / (1131, 130107)\n",
      "y Train / Test / Validation size : (9051,) / (1132,) / (1131,)\n"
     ]
    }
   ],
   "source": [
    "# We first split into 0.8 train, then split the remaining (0.2) into half test half validation set\n",
    "X = vectors\n",
    "y = newsgroups_train.target\n",
    "\n",
    "X_train, X_test, y_train, y_test = train_test_split(X, y, test_size=0.2, random_state=69)\n",
    "X_val, X_test, y_val, y_test = train_test_split(X_test, y_test, test_size=0.5, random_state=69)\n",
    "\n",
    "print('X Train / Test / Validation size : {} / {} / {}'.format(X_train.shape, X_test.shape, X_val.shape))\n",
    "print('y Train / Test / Validation size : {} / {} / {}'.format(y_train.shape, y_test.shape, y_val.shape))\n"
   ]
  },
  {
   "cell_type": "markdown",
   "metadata": {},
   "source": [
    "#### 2. \n",
    "Train a random forest on your training set. Try to fine-tune the parameters of your predictor on your validation set using a simple grid search on the number of estimator \"n_estimators\" and the max depth of the trees \"max_depth\". Then, display a confusion matrix of your classification pipeline. Lastly, once you assessed your model, inspect the `feature_importances_` attribute of your random forest and discuss the obtained results.\n",
    "\n"
   ]
  },
  {
   "cell_type": "code",
   "execution_count": 24,
   "metadata": {},
   "outputs": [
    {
     "data": {
      "text/plain": [
       "RandomForestClassifier(bootstrap=True, class_weight=None, criterion='gini',\n",
       "            max_depth=None, max_features='auto', max_leaf_nodes=None,\n",
       "            min_impurity_decrease=0.0, min_impurity_split=None,\n",
       "            min_samples_leaf=1, min_samples_split=2,\n",
       "            min_weight_fraction_leaf=0.0, n_estimators=10, n_jobs=1,\n",
       "            oob_score=False, random_state=5, verbose=0, warm_start=False)"
      ]
     },
     "execution_count": 24,
     "metadata": {},
     "output_type": "execute_result"
    }
   ],
   "source": [
    "clf = RandomForestClassifier(random_state=5)\n",
    "clf.fit(X_train, y_train)"
   ]
  },
  {
   "cell_type": "code",
   "execution_count": 25,
   "metadata": {},
   "outputs": [
    {
     "name": "stdout",
     "output_type": "stream",
     "text": [
      "0.62%\n"
     ]
    }
   ],
   "source": [
    "def get_accuracy(y_pred):\n",
    "    y_diff = [y_pred == y_test]\n",
    "    y_correct = np.sum(y_diff) / y_pred.size\n",
    "    return y_correct\n",
    "\n",
    "y_pred = clf.predict(X_test)\n",
    "y_corr = get_accuracy(y_pred)\n",
    "print('{:0.2f}%'.format(y_corr))"
   ]
  },
  {
   "cell_type": "code",
   "execution_count": 42,
   "metadata": {},
   "outputs": [],
   "source": [
    "n_estimators_range = np.logspace(1, 4, 2, dtype='int')\n",
    "max_depth_range = np.logspace(1, 4, 2, dtype='int')\n",
    "\n",
    "parameters = {'n_estimators':n_estimators_range,\n",
    "              'max_depth':max_depth_range }\n",
    "\n",
    "grid_search_clf = GridSearchCV(clf, parameters)"
   ]
  },
  {
   "cell_type": "code",
   "execution_count": 44,
   "metadata": {},
   "outputs": [],
   "source": [
    "grid_search_clf.fit(X_train, y_train)"
   ]
  },
  {
   "cell_type": "code",
   "execution_count": 41,
   "metadata": {},
   "outputs": [
    {
     "name": "stdout",
     "output_type": "stream",
     "text": [
      "{'max_depth': 10000, 'n_estimators': 10}\n"
     ]
    }
   ],
   "source": [
    "print(grid_search_clf.best_params_)\n",
    "#print(grid_search_clf.feature_importances_)\n",
    "\n"
   ]
  },
  {
   "cell_type": "code",
   "execution_count": null,
   "metadata": {
    "collapsed": true
   },
   "outputs": [],
   "source": [
    "# TODO test with validation set "
   ]
  }
 ],
 "metadata": {
  "kernelspec": {
   "display_name": "Python [conda root]",
   "language": "python",
   "name": "conda-root-py"
  },
  "language_info": {
   "codemirror_mode": {
    "name": "ipython",
    "version": 3
   },
   "file_extension": ".py",
   "mimetype": "text/x-python",
   "name": "python",
   "nbconvert_exporter": "python",
   "pygments_lexer": "ipython3",
   "version": "3.6.2"
  }
 },
 "nbformat": 4,
 "nbformat_minor": 2
}
