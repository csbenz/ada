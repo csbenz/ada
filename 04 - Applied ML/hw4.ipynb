{
 "cells": [
  {
   "cell_type": "code",
   "execution_count": 1,
   "metadata": {},
   "outputs": [],
   "source": [
    "import pandas as pd\n",
    "import numpy as np\n",
    "import matplotlib.pyplot as plt\n",
    "from sklearn.linear_model import LinearRegression, LogisticRegression\n",
    "#from sklearn.preprocessing import OneHotEncoder\n",
    "#from pandas.plotting import scatter_matrix\n",
    "#from sklearn.model_selection import cross_val_predict\n",
    "#from sklearn.model_selection import cross_val_score\n",
    "#import seaborn as sns\n",
    "import networkx as nx\n",
    "from networkx.algorithms import bipartite\n",
    "%matplotlib inline"
   ]
  },
  {
   "cell_type": "markdown",
   "metadata": {},
   "source": [
    "# Question 1"
   ]
  },
  {
   "cell_type": "markdown",
   "metadata": {},
   "source": [
    "#### 1. A naive analysis\n",
    "\n",
    "Compare the distribution of the outcome variable (`re78`) between the two groups, using plots and numbers.\n",
    "To summarize and compare the distributions, you may use the techniques we discussed in lectures 4 (\"Read the stats carefully\") and 6 (\"Data visualization\").\n",
    "\n",
    "What might a naive \"researcher\" conclude from this superficial analysis?"
   ]
  },
  {
   "cell_type": "code",
   "execution_count": 2,
   "metadata": {},
   "outputs": [
    {
     "data": {
      "text/html": [
       "<div>\n",
       "<style>\n",
       "    .dataframe thead tr:only-child th {\n",
       "        text-align: right;\n",
       "    }\n",
       "\n",
       "    .dataframe thead th {\n",
       "        text-align: left;\n",
       "    }\n",
       "\n",
       "    .dataframe tbody tr th {\n",
       "        vertical-align: top;\n",
       "    }\n",
       "</style>\n",
       "<table border=\"1\" class=\"dataframe\">\n",
       "  <thead>\n",
       "    <tr style=\"text-align: right;\">\n",
       "      <th></th>\n",
       "      <th>treat</th>\n",
       "      <th>age</th>\n",
       "      <th>educ</th>\n",
       "      <th>black</th>\n",
       "      <th>hispan</th>\n",
       "      <th>married</th>\n",
       "      <th>nodegree</th>\n",
       "      <th>re74</th>\n",
       "      <th>re75</th>\n",
       "      <th>re78</th>\n",
       "    </tr>\n",
       "    <tr>\n",
       "      <th>id</th>\n",
       "      <th></th>\n",
       "      <th></th>\n",
       "      <th></th>\n",
       "      <th></th>\n",
       "      <th></th>\n",
       "      <th></th>\n",
       "      <th></th>\n",
       "      <th></th>\n",
       "      <th></th>\n",
       "      <th></th>\n",
       "    </tr>\n",
       "  </thead>\n",
       "  <tbody>\n",
       "    <tr>\n",
       "      <th>NSW1</th>\n",
       "      <td>1</td>\n",
       "      <td>37</td>\n",
       "      <td>11</td>\n",
       "      <td>1</td>\n",
       "      <td>0</td>\n",
       "      <td>1</td>\n",
       "      <td>1</td>\n",
       "      <td>0.0</td>\n",
       "      <td>0.0</td>\n",
       "      <td>9930.0460</td>\n",
       "    </tr>\n",
       "    <tr>\n",
       "      <th>NSW2</th>\n",
       "      <td>1</td>\n",
       "      <td>22</td>\n",
       "      <td>9</td>\n",
       "      <td>0</td>\n",
       "      <td>1</td>\n",
       "      <td>0</td>\n",
       "      <td>1</td>\n",
       "      <td>0.0</td>\n",
       "      <td>0.0</td>\n",
       "      <td>3595.8940</td>\n",
       "    </tr>\n",
       "    <tr>\n",
       "      <th>NSW3</th>\n",
       "      <td>1</td>\n",
       "      <td>30</td>\n",
       "      <td>12</td>\n",
       "      <td>1</td>\n",
       "      <td>0</td>\n",
       "      <td>0</td>\n",
       "      <td>0</td>\n",
       "      <td>0.0</td>\n",
       "      <td>0.0</td>\n",
       "      <td>24909.4500</td>\n",
       "    </tr>\n",
       "    <tr>\n",
       "      <th>NSW4</th>\n",
       "      <td>1</td>\n",
       "      <td>27</td>\n",
       "      <td>11</td>\n",
       "      <td>1</td>\n",
       "      <td>0</td>\n",
       "      <td>0</td>\n",
       "      <td>1</td>\n",
       "      <td>0.0</td>\n",
       "      <td>0.0</td>\n",
       "      <td>7506.1460</td>\n",
       "    </tr>\n",
       "    <tr>\n",
       "      <th>NSW5</th>\n",
       "      <td>1</td>\n",
       "      <td>33</td>\n",
       "      <td>8</td>\n",
       "      <td>1</td>\n",
       "      <td>0</td>\n",
       "      <td>0</td>\n",
       "      <td>1</td>\n",
       "      <td>0.0</td>\n",
       "      <td>0.0</td>\n",
       "      <td>289.7899</td>\n",
       "    </tr>\n",
       "  </tbody>\n",
       "</table>\n",
       "</div>"
      ],
      "text/plain": [
       "      treat  age  educ  black  hispan  married  nodegree  re74  re75  \\\n",
       "id                                                                     \n",
       "NSW1      1   37    11      1       0        1         1   0.0   0.0   \n",
       "NSW2      1   22     9      0       1        0         1   0.0   0.0   \n",
       "NSW3      1   30    12      1       0        0         0   0.0   0.0   \n",
       "NSW4      1   27    11      1       0        0         1   0.0   0.0   \n",
       "NSW5      1   33     8      1       0        0         1   0.0   0.0   \n",
       "\n",
       "            re78  \n",
       "id                \n",
       "NSW1   9930.0460  \n",
       "NSW2   3595.8940  \n",
       "NSW3  24909.4500  \n",
       "NSW4   7506.1460  \n",
       "NSW5    289.7899  "
      ]
     },
     "execution_count": 2,
     "metadata": {},
     "output_type": "execute_result"
    }
   ],
   "source": [
    "data = pd.read_csv('lalonde.csv', index_col=0)\n",
    "\n",
    "data.head()"
   ]
  },
  {
   "cell_type": "code",
   "execution_count": 3,
   "metadata": {},
   "outputs": [],
   "source": [
    "treated_group = data[data['treat'] == 1]\n",
    "untreated_group = data[data['treat'] == 0]"
   ]
  },
  {
   "cell_type": "code",
   "execution_count": 4,
   "metadata": {},
   "outputs": [
    {
     "data": {
      "text/html": [
       "<div>\n",
       "<style>\n",
       "    .dataframe thead tr:only-child th {\n",
       "        text-align: right;\n",
       "    }\n",
       "\n",
       "    .dataframe thead th {\n",
       "        text-align: left;\n",
       "    }\n",
       "\n",
       "    .dataframe tbody tr th {\n",
       "        vertical-align: top;\n",
       "    }\n",
       "</style>\n",
       "<table border=\"1\" class=\"dataframe\">\n",
       "  <thead>\n",
       "    <tr style=\"text-align: right;\">\n",
       "      <th></th>\n",
       "      <th>Treated</th>\n",
       "      <th>Unreated</th>\n",
       "    </tr>\n",
       "  </thead>\n",
       "  <tbody>\n",
       "    <tr>\n",
       "      <th>count</th>\n",
       "      <td>185.000000</td>\n",
       "      <td>429.000000</td>\n",
       "    </tr>\n",
       "    <tr>\n",
       "      <th>mean</th>\n",
       "      <td>6349.143530</td>\n",
       "      <td>6984.169742</td>\n",
       "    </tr>\n",
       "    <tr>\n",
       "      <th>std</th>\n",
       "      <td>7867.402218</td>\n",
       "      <td>7294.161791</td>\n",
       "    </tr>\n",
       "    <tr>\n",
       "      <th>min</th>\n",
       "      <td>0.000000</td>\n",
       "      <td>0.000000</td>\n",
       "    </tr>\n",
       "    <tr>\n",
       "      <th>25%</th>\n",
       "      <td>485.229800</td>\n",
       "      <td>220.181300</td>\n",
       "    </tr>\n",
       "    <tr>\n",
       "      <th>50%</th>\n",
       "      <td>4232.309000</td>\n",
       "      <td>4975.505000</td>\n",
       "    </tr>\n",
       "    <tr>\n",
       "      <th>75%</th>\n",
       "      <td>9642.999000</td>\n",
       "      <td>11688.820000</td>\n",
       "    </tr>\n",
       "    <tr>\n",
       "      <th>max</th>\n",
       "      <td>60307.930000</td>\n",
       "      <td>25564.670000</td>\n",
       "    </tr>\n",
       "    <tr>\n",
       "      <th>median</th>\n",
       "      <td>4232.309000</td>\n",
       "      <td>4975.505000</td>\n",
       "    </tr>\n",
       "  </tbody>\n",
       "</table>\n",
       "</div>"
      ],
      "text/plain": [
       "             Treated      Unreated\n",
       "count     185.000000    429.000000\n",
       "mean     6349.143530   6984.169742\n",
       "std      7867.402218   7294.161791\n",
       "min         0.000000      0.000000\n",
       "25%       485.229800    220.181300\n",
       "50%      4232.309000   4975.505000\n",
       "75%      9642.999000  11688.820000\n",
       "max     60307.930000  25564.670000\n",
       "median   4232.309000   4975.505000"
      ]
     },
     "execution_count": 4,
     "metadata": {},
     "output_type": "execute_result"
    }
   ],
   "source": [
    "'''\n",
    "print('Treated group statistics:')\n",
    "print(treated_group['re78'].describe())\n",
    "print('\\nMedian value for treated group:')\n",
    "print(treated_group['re78'].median())\n",
    "\n",
    "print('\\n\\nUntreated group statistics:')\n",
    "print(untreated_group['re78'].describe())\n",
    "print('\\nMedian value for untreated group:')\n",
    "print(untreated_group['re78'].median())\n",
    "'''\n",
    "\n",
    "treated_desc = treated_group['re78'].describe().rename(\"Treated\")\n",
    "treated_desc.set_value('median', treated_group['re78'].median())\n",
    "\n",
    "untreated_desc = untreated_group['re78'].describe().rename(\"Unreated\")\n",
    "untreated_desc.set_value('median', untreated_group['re78'].median())\n",
    "\n",
    "stats_df = pd.concat([treated_desc, untreated_desc], axis=1)\n",
    "stats_df"
   ]
  },
  {
   "cell_type": "markdown",
   "metadata": {},
   "source": [
    "Some observations:\n",
    "- The max earning value for the treated group is way higher than the max earning for the untreated group, but the mean and median values are higher for the untreated group, which leads us to think that the treated group overall didn't get better results, even though some outliers did get a very good outcome from the trainee program. We can also observe the higher standard deviation for the treated group, which goes in the same direction.\n",
    "\n",
    "Now lets display some plots of the distribution to visually see what it looks like."
   ]
  },
  {
   "cell_type": "code",
   "execution_count": 5,
   "metadata": {},
   "outputs": [
    {
     "data": {
      "text/plain": [
       "<matplotlib.text.Text at 0x11cc4e160>"
      ]
     },
     "execution_count": 5,
     "metadata": {},
     "output_type": "execute_result"
    },
    {
     "data": {
      "image/png": "[encoded data removed]",
      "text/plain": [
       "<matplotlib.figure.Figure at 0x11cbde898>"
      ]
     },
     "metadata": {},
     "output_type": "display_data"
    }
   ],
   "source": [
    "plt.figure(figsize=(12,1))\n",
    "plt.scatter(data['re78'], data['treat'], alpha=0.5)\n",
    "plt.xlabel('real earnings in 1978')\n",
    "plt.ylabel('Participated in job training')"
   ]
  },
  {
   "cell_type": "code",
   "execution_count": 6,
   "metadata": {},
   "outputs": [
    {
     "data": {
      "image/png": "[encoded data removed]",
      "text/plain": [
       "<matplotlib.figure.Figure at 0x11fdbeeb8>"
      ]
     },
     "metadata": {},
     "output_type": "display_data"
    }
   ],
   "source": [
    "bins = np.linspace(0,70000, 50)\n",
    "\n",
    "plt.figure(figsize=(15,8))\n",
    "plt.hist(treated_group['re78'], bins, alpha=0.5, label='treated')\n",
    "plt.hist(untreated_group['re78'], bins, alpha=0.5, label='untreated')\n",
    "plt.legend(loc='upper right')\n",
    "plt.show()"
   ]
  },
  {
   "cell_type": "code",
   "execution_count": 7,
   "metadata": {},
   "outputs": [
    {
     "data": {
      "image/png": "[encoded data removed]",
      "text/plain": [
       "<matplotlib.figure.Figure at 0x11ff46a58>"
      ]
     },
     "metadata": {},
     "output_type": "display_data"
    }
   ],
   "source": [
    "def draw_hists(data1, data2, title, xlabel, ylabel, column):\n",
    "    fig, (ax1, ax2) = plt.subplots(1,2, figsize=(15,6), sharex=True, sharey=True)\n",
    "    data1.hist(column, bins=bins, label='treated', ax=ax1)\n",
    "    data2.hist(column, bins=bins, label='untreated', ax=ax2)\n",
    "    set_axis(ax1, True, title, xlabel)\n",
    "    set_axis(ax2, False, title, xlabel)\n",
    "    ax1.set_ylabel(ylabel)\n",
    "\n",
    "def set_axis(ax, treated, title, xlabel=None):\n",
    "    if treated:\n",
    "        ax.set_title('Treated '+ title)\n",
    "    else:\n",
    "        ax.set_title('Untreated ' + title)\n",
    "    if xlabel is not None:\n",
    "        ax.set_xlabel(xlabel)\n",
    "    return\n",
    "\n",
    "\n",
    "draw_hists(treated_group, untreated_group, 'subjects - 1978 real earnings distribution', \n",
    "          '1978 real earnings', 'Number of people', 're78')\n",
    "\n",
    "#TODO create function and set all configs for axis etc. for both histograms # Complete?"
   ]
  },
  {
   "cell_type": "markdown",
   "metadata": {
    "collapsed": true
   },
   "source": [
    "# TODO our naive conclusion\n",
    "#### Naive conclusion\n",
    "The straightforward conclusion is that the treatment is not so effective as the mean of the 1972 real earnings is lower for the treated group. The fact that the maximum value for the treated group is higher for the untreated group may be discarted as outliers."
   ]
  },
  {
   "cell_type": "markdown",
   "metadata": {},
   "source": [
    "#### 2. A closer look at the data\n",
    "\n",
    "You're not naive, of course (and even if you are, you've learned certain things in ADA), so you aren't content with a superficial analysis such as the above.\n",
    "You're aware of the dangers of observational studies, so you take a closer look at the data before jumping to conclusions.\n",
    "\n",
    "For each feature in the dataset, compare its distribution in the treated group with its distribution in the control group, using plots and numbers.\n",
    "As above, you may use the techniques we discussed in class for summarizing and comparing the distributions.\n",
    "\n",
    "What do you observe?\n",
    "Describe what your observations mean for the conclusions drawn by the naive \"researcher\" from his superficial analysis."
   ]
  },
  {
   "cell_type": "code",
   "execution_count": 8,
   "metadata": {
    "scrolled": true
   },
   "outputs": [
    {
     "data": {
      "text/html": [
       "<div>\n",
       "<style>\n",
       "    .dataframe thead tr:only-child th {\n",
       "        text-align: right;\n",
       "    }\n",
       "\n",
       "    .dataframe thead th {\n",
       "        text-align: left;\n",
       "    }\n",
       "\n",
       "    .dataframe tbody tr th {\n",
       "        vertical-align: top;\n",
       "    }\n",
       "</style>\n",
       "<table border=\"1\" class=\"dataframe\">\n",
       "  <thead>\n",
       "    <tr style=\"text-align: right;\">\n",
       "      <th></th>\n",
       "      <th>treat</th>\n",
       "      <th>age</th>\n",
       "      <th>educ</th>\n",
       "      <th>black</th>\n",
       "      <th>hispan</th>\n",
       "      <th>married</th>\n",
       "      <th>nodegree</th>\n",
       "      <th>re74</th>\n",
       "      <th>re75</th>\n",
       "      <th>re78</th>\n",
       "    </tr>\n",
       "  </thead>\n",
       "  <tbody>\n",
       "    <tr>\n",
       "      <th>count</th>\n",
       "      <td>185.0</td>\n",
       "      <td>185.000000</td>\n",
       "      <td>185.000000</td>\n",
       "      <td>185.000000</td>\n",
       "      <td>185.000000</td>\n",
       "      <td>185.000000</td>\n",
       "      <td>185.000000</td>\n",
       "      <td>185.000000</td>\n",
       "      <td>185.000000</td>\n",
       "      <td>185.000000</td>\n",
       "    </tr>\n",
       "    <tr>\n",
       "      <th>mean</th>\n",
       "      <td>1.0</td>\n",
       "      <td>25.816216</td>\n",
       "      <td>10.345946</td>\n",
       "      <td>0.843243</td>\n",
       "      <td>0.059459</td>\n",
       "      <td>0.189189</td>\n",
       "      <td>0.708108</td>\n",
       "      <td>2095.573689</td>\n",
       "      <td>1532.055314</td>\n",
       "      <td>6349.143530</td>\n",
       "    </tr>\n",
       "    <tr>\n",
       "      <th>std</th>\n",
       "      <td>0.0</td>\n",
       "      <td>7.155019</td>\n",
       "      <td>2.010650</td>\n",
       "      <td>0.364558</td>\n",
       "      <td>0.237124</td>\n",
       "      <td>0.392722</td>\n",
       "      <td>0.455867</td>\n",
       "      <td>4886.620353</td>\n",
       "      <td>3219.250870</td>\n",
       "      <td>7867.402218</td>\n",
       "    </tr>\n",
       "    <tr>\n",
       "      <th>min</th>\n",
       "      <td>1.0</td>\n",
       "      <td>17.000000</td>\n",
       "      <td>4.000000</td>\n",
       "      <td>0.000000</td>\n",
       "      <td>0.000000</td>\n",
       "      <td>0.000000</td>\n",
       "      <td>0.000000</td>\n",
       "      <td>0.000000</td>\n",
       "      <td>0.000000</td>\n",
       "      <td>0.000000</td>\n",
       "    </tr>\n",
       "    <tr>\n",
       "      <th>25%</th>\n",
       "      <td>1.0</td>\n",
       "      <td>20.000000</td>\n",
       "      <td>9.000000</td>\n",
       "      <td>1.000000</td>\n",
       "      <td>0.000000</td>\n",
       "      <td>0.000000</td>\n",
       "      <td>0.000000</td>\n",
       "      <td>0.000000</td>\n",
       "      <td>0.000000</td>\n",
       "      <td>485.229800</td>\n",
       "    </tr>\n",
       "    <tr>\n",
       "      <th>50%</th>\n",
       "      <td>1.0</td>\n",
       "      <td>25.000000</td>\n",
       "      <td>11.000000</td>\n",
       "      <td>1.000000</td>\n",
       "      <td>0.000000</td>\n",
       "      <td>0.000000</td>\n",
       "      <td>1.000000</td>\n",
       "      <td>0.000000</td>\n",
       "      <td>0.000000</td>\n",
       "      <td>4232.309000</td>\n",
       "    </tr>\n",
       "    <tr>\n",
       "      <th>75%</th>\n",
       "      <td>1.0</td>\n",
       "      <td>29.000000</td>\n",
       "      <td>12.000000</td>\n",
       "      <td>1.000000</td>\n",
       "      <td>0.000000</td>\n",
       "      <td>0.000000</td>\n",
       "      <td>1.000000</td>\n",
       "      <td>1291.468000</td>\n",
       "      <td>1817.284000</td>\n",
       "      <td>9642.999000</td>\n",
       "    </tr>\n",
       "    <tr>\n",
       "      <th>max</th>\n",
       "      <td>1.0</td>\n",
       "      <td>48.000000</td>\n",
       "      <td>16.000000</td>\n",
       "      <td>1.000000</td>\n",
       "      <td>1.000000</td>\n",
       "      <td>1.000000</td>\n",
       "      <td>1.000000</td>\n",
       "      <td>35040.070000</td>\n",
       "      <td>25142.240000</td>\n",
       "      <td>60307.930000</td>\n",
       "    </tr>\n",
       "  </tbody>\n",
       "</table>\n",
       "</div>"
      ],
      "text/plain": [
       "       treat         age        educ       black      hispan     married  \\\n",
       "count  185.0  185.000000  185.000000  185.000000  185.000000  185.000000   \n",
       "mean     1.0   25.816216   10.345946    0.843243    0.059459    0.189189   \n",
       "std      0.0    7.155019    2.010650    0.364558    0.237124    0.392722   \n",
       "min      1.0   17.000000    4.000000    0.000000    0.000000    0.000000   \n",
       "25%      1.0   20.000000    9.000000    1.000000    0.000000    0.000000   \n",
       "50%      1.0   25.000000   11.000000    1.000000    0.000000    0.000000   \n",
       "75%      1.0   29.000000   12.000000    1.000000    0.000000    0.000000   \n",
       "max      1.0   48.000000   16.000000    1.000000    1.000000    1.000000   \n",
       "\n",
       "         nodegree          re74          re75          re78  \n",
       "count  185.000000    185.000000    185.000000    185.000000  \n",
       "mean     0.708108   2095.573689   1532.055314   6349.143530  \n",
       "std      0.455867   4886.620353   3219.250870   7867.402218  \n",
       "min      0.000000      0.000000      0.000000      0.000000  \n",
       "25%      0.000000      0.000000      0.000000    485.229800  \n",
       "50%      1.000000      0.000000      0.000000   4232.309000  \n",
       "75%      1.000000   1291.468000   1817.284000   9642.999000  \n",
       "max      1.000000  35040.070000  25142.240000  60307.930000  "
      ]
     },
     "execution_count": 8,
     "metadata": {},
     "output_type": "execute_result"
    }
   ],
   "source": [
    "treated_group.describe()"
   ]
  },
  {
   "cell_type": "code",
   "execution_count": 9,
   "metadata": {},
   "outputs": [
    {
     "data": {
      "text/html": [
       "<div>\n",
       "<style>\n",
       "    .dataframe thead tr:only-child th {\n",
       "        text-align: right;\n",
       "    }\n",
       "\n",
       "    .dataframe thead th {\n",
       "        text-align: left;\n",
       "    }\n",
       "\n",
       "    .dataframe tbody tr th {\n",
       "        vertical-align: top;\n",
       "    }\n",
       "</style>\n",
       "<table border=\"1\" class=\"dataframe\">\n",
       "  <thead>\n",
       "    <tr style=\"text-align: right;\">\n",
       "      <th></th>\n",
       "      <th>treat</th>\n",
       "      <th>age</th>\n",
       "      <th>educ</th>\n",
       "      <th>black</th>\n",
       "      <th>hispan</th>\n",
       "      <th>married</th>\n",
       "      <th>nodegree</th>\n",
       "      <th>re74</th>\n",
       "      <th>re75</th>\n",
       "      <th>re78</th>\n",
       "    </tr>\n",
       "  </thead>\n",
       "  <tbody>\n",
       "    <tr>\n",
       "      <th>count</th>\n",
       "      <td>429.0</td>\n",
       "      <td>429.000000</td>\n",
       "      <td>429.000000</td>\n",
       "      <td>429.000000</td>\n",
       "      <td>429.000000</td>\n",
       "      <td>429.000000</td>\n",
       "      <td>429.000000</td>\n",
       "      <td>429.000000</td>\n",
       "      <td>429.000000</td>\n",
       "      <td>429.000000</td>\n",
       "    </tr>\n",
       "    <tr>\n",
       "      <th>mean</th>\n",
       "      <td>0.0</td>\n",
       "      <td>28.030303</td>\n",
       "      <td>10.235431</td>\n",
       "      <td>0.202797</td>\n",
       "      <td>0.142191</td>\n",
       "      <td>0.512821</td>\n",
       "      <td>0.596737</td>\n",
       "      <td>5619.236506</td>\n",
       "      <td>2466.484443</td>\n",
       "      <td>6984.169742</td>\n",
       "    </tr>\n",
       "    <tr>\n",
       "      <th>std</th>\n",
       "      <td>0.0</td>\n",
       "      <td>10.786653</td>\n",
       "      <td>2.855238</td>\n",
       "      <td>0.402552</td>\n",
       "      <td>0.349654</td>\n",
       "      <td>0.500419</td>\n",
       "      <td>0.491126</td>\n",
       "      <td>6788.750796</td>\n",
       "      <td>3291.996183</td>\n",
       "      <td>7294.161791</td>\n",
       "    </tr>\n",
       "    <tr>\n",
       "      <th>min</th>\n",
       "      <td>0.0</td>\n",
       "      <td>16.000000</td>\n",
       "      <td>0.000000</td>\n",
       "      <td>0.000000</td>\n",
       "      <td>0.000000</td>\n",
       "      <td>0.000000</td>\n",
       "      <td>0.000000</td>\n",
       "      <td>0.000000</td>\n",
       "      <td>0.000000</td>\n",
       "      <td>0.000000</td>\n",
       "    </tr>\n",
       "    <tr>\n",
       "      <th>25%</th>\n",
       "      <td>0.0</td>\n",
       "      <td>19.000000</td>\n",
       "      <td>9.000000</td>\n",
       "      <td>0.000000</td>\n",
       "      <td>0.000000</td>\n",
       "      <td>0.000000</td>\n",
       "      <td>0.000000</td>\n",
       "      <td>0.000000</td>\n",
       "      <td>0.000000</td>\n",
       "      <td>220.181300</td>\n",
       "    </tr>\n",
       "    <tr>\n",
       "      <th>50%</th>\n",
       "      <td>0.0</td>\n",
       "      <td>25.000000</td>\n",
       "      <td>11.000000</td>\n",
       "      <td>0.000000</td>\n",
       "      <td>0.000000</td>\n",
       "      <td>1.000000</td>\n",
       "      <td>1.000000</td>\n",
       "      <td>2547.047000</td>\n",
       "      <td>1086.726000</td>\n",
       "      <td>4975.505000</td>\n",
       "    </tr>\n",
       "    <tr>\n",
       "      <th>75%</th>\n",
       "      <td>0.0</td>\n",
       "      <td>35.000000</td>\n",
       "      <td>12.000000</td>\n",
       "      <td>0.000000</td>\n",
       "      <td>0.000000</td>\n",
       "      <td>1.000000</td>\n",
       "      <td>1.000000</td>\n",
       "      <td>9277.128000</td>\n",
       "      <td>3881.419000</td>\n",
       "      <td>11688.820000</td>\n",
       "    </tr>\n",
       "    <tr>\n",
       "      <th>max</th>\n",
       "      <td>0.0</td>\n",
       "      <td>55.000000</td>\n",
       "      <td>18.000000</td>\n",
       "      <td>1.000000</td>\n",
       "      <td>1.000000</td>\n",
       "      <td>1.000000</td>\n",
       "      <td>1.000000</td>\n",
       "      <td>25862.320000</td>\n",
       "      <td>18347.230000</td>\n",
       "      <td>25564.670000</td>\n",
       "    </tr>\n",
       "  </tbody>\n",
       "</table>\n",
       "</div>"
      ],
      "text/plain": [
       "       treat         age        educ       black      hispan     married  \\\n",
       "count  429.0  429.000000  429.000000  429.000000  429.000000  429.000000   \n",
       "mean     0.0   28.030303   10.235431    0.202797    0.142191    0.512821   \n",
       "std      0.0   10.786653    2.855238    0.402552    0.349654    0.500419   \n",
       "min      0.0   16.000000    0.000000    0.000000    0.000000    0.000000   \n",
       "25%      0.0   19.000000    9.000000    0.000000    0.000000    0.000000   \n",
       "50%      0.0   25.000000   11.000000    0.000000    0.000000    1.000000   \n",
       "75%      0.0   35.000000   12.000000    0.000000    0.000000    1.000000   \n",
       "max      0.0   55.000000   18.000000    1.000000    1.000000    1.000000   \n",
       "\n",
       "         nodegree          re74          re75          re78  \n",
       "count  429.000000    429.000000    429.000000    429.000000  \n",
       "mean     0.596737   5619.236506   2466.484443   6984.169742  \n",
       "std      0.491126   6788.750796   3291.996183   7294.161791  \n",
       "min      0.000000      0.000000      0.000000      0.000000  \n",
       "25%      0.000000      0.000000      0.000000    220.181300  \n",
       "50%      1.000000   2547.047000   1086.726000   4975.505000  \n",
       "75%      1.000000   9277.128000   3881.419000  11688.820000  \n",
       "max      1.000000  25862.320000  18347.230000  25564.670000  "
      ]
     },
     "execution_count": 9,
     "metadata": {},
     "output_type": "execute_result"
    }
   ],
   "source": [
    "untreated_group.describe()"
   ]
  },
  {
   "cell_type": "markdown",
   "metadata": {},
   "source": [
    "It's always easier to look at pictures than numbers, so let us start with continious data of age and years of education. We will build the box plots to observe that the treated group is generally younger and that the distribution of years of education is similar, except that the untreated group has a couple of outliers more."
   ]
  },
  {
   "cell_type": "code",
   "execution_count": 10,
   "metadata": {},
   "outputs": [
    {
     "data": {
      "image/png": "[encoded data removed]",
      "text/plain": [
       "<matplotlib.figure.Figure at 0x11fef5eb8>"
      ]
     },
     "metadata": {},
     "output_type": "display_data"
    }
   ],
   "source": [
    "def drawBoxPlot (data1, data2, title, col):\n",
    "    fig, (ax1, ax2) = plt.subplots(1,2, figsize=(6,6), sharex=True, sharey=True)\n",
    "    treated_group[col].plot.box(ax=ax1)\n",
    "    untreated_group[col].plot.box(ax=ax2)\n",
    "    set_axis(ax1, True, title)\n",
    "    set_axis(ax2, False, title)\n",
    "\n",
    "drawBoxPlot(treated_group, untreated_group, 'Age Distribution', 'age')"
   ]
  },
  {
   "cell_type": "code",
   "execution_count": 11,
   "metadata": {},
   "outputs": [
    {
     "data": {
      "image/png": "[encoded data removed]",
      "text/plain": [
       "<matplotlib.figure.Figure at 0x12081ba20>"
      ]
     },
     "metadata": {},
     "output_type": "display_data"
    }
   ],
   "source": [
    "drawBoxPlot(treated_group, untreated_group, 'Educ. Distribution', 'educ')"
   ]
  },
  {
   "cell_type": "markdown",
   "metadata": {},
   "source": [
    "Now let's have a look at the distribution of real earnings before the treatment."
   ]
  },
  {
   "cell_type": "code",
   "execution_count": 12,
   "metadata": {},
   "outputs": [
    {
     "data": {
      "image/png": "[encoded data removed]",
      "text/plain": [
       "<matplotlib.figure.Figure at 0x120c89978>"
      ]
     },
     "metadata": {},
     "output_type": "display_data"
    },
    {
     "data": {
      "image/png": "[encoded data removed]",
      "text/plain": [
       "<matplotlib.figure.Figure at 0x120c892b0>"
      ]
     },
     "metadata": {},
     "output_type": "display_data"
    }
   ],
   "source": [
    "drawBoxPlot(treated_group, untreated_group, 'RE 1974 Distribution', 're74')\n",
    "drawBoxPlot(treated_group, untreated_group, 'RE 1975 Distribution', 're75')"
   ]
  },
  {
   "cell_type": "markdown",
   "metadata": {},
   "source": [
    "Here is something interesting: before the trearment the treated group was earning significantly less then untreated group. Moreover there are a couple of outliers in the treated group that earned a lot more then the mean of the group, that might explain the outliers in the real earnings distribution after the treatment."
   ]
  },
  {
   "cell_type": "markdown",
   "metadata": {},
   "source": [
    "Below, we compare the percent of true/false values for features concerning race ('black' and 'hispan'), marriage and degree for each group and compare in bar charts.\n",
    "\n",
    "We also plot the distributions for the age, education and income prior to the experience to compare between the two groups.\n",
    "\n",
    "These observations will let us determine if the two groups are equivalently distributed."
   ]
  },
  {
   "cell_type": "code",
   "execution_count": 13,
   "metadata": {},
   "outputs": [
    {
     "name": "stdout",
     "output_type": "stream",
     "text": [
      "black percent for treated group: 84.32%\n",
      "black percent for untreated group: 20.28%\n",
      "\n"
     ]
    },
    {
     "data": {
      "image/png": "[encoded data removed]",
      "text/plain": [
       "<matplotlib.figure.Figure at 0x12035d128>"
      ]
     },
     "metadata": {},
     "output_type": "display_data"
    },
    {
     "name": "stdout",
     "output_type": "stream",
     "text": [
      "hispan percent for treated group: 5.95%\n",
      "hispan percent for untreated group: 14.22%\n",
      "\n"
     ]
    },
    {
     "data": {
      "image/png": "[encoded data removed]",
      "text/plain": [
       "<matplotlib.figure.Figure at 0x1205228d0>"
      ]
     },
     "metadata": {},
     "output_type": "display_data"
    },
    {
     "name": "stdout",
     "output_type": "stream",
     "text": [
      "married percent for treated group: 18.92%\n",
      "married percent for untreated group: 51.28%\n",
      "\n"
     ]
    },
    {
     "data": {
      "image/png": "[encoded data removed]",
      "text/plain": [
       "<matplotlib.figure.Figure at 0x11feb9160>"
      ]
     },
     "metadata": {},
     "output_type": "display_data"
    },
    {
     "name": "stdout",
     "output_type": "stream",
     "text": [
      "nodegree percent for treated group: 70.81%\n",
      "nodegree percent for untreated group: 59.67%\n",
      "\n"
     ]
    },
    {
     "data": {
      "image/png": "[encoded data removed]",
      "text/plain": [
       "<matplotlib.figure.Figure at 0x11fe6cf28>"
      ]
     },
     "metadata": {},
     "output_type": "display_data"
    },
    {
     "data": {
      "text/plain": [
       "[None, None, None, None]"
      ]
     },
     "execution_count": 13,
     "metadata": {},
     "output_type": "execute_result"
    }
   ],
   "source": [
    "def percentage_comparison(treated_g, untreated_g, feature):\n",
    "    treated_percent = 100 * np.sum(treated_g[feature]) / treated_g[feature].size\n",
    "    untreated_percent = 100 * np.sum(untreated_g[feature]) / untreated_g[feature].size\n",
    "    print('{} percent for treated group: {:0.2f}%'.format(feature, treated_percent))\n",
    "    print('{} percent for untreated group: {:0.2f}%'.format(feature, untreated_percent))\n",
    "    print()\n",
    "    \n",
    "    x = [u'True', u'False']\n",
    "    y = [treated_percent, untreated_percent]\n",
    "    fig, ax = plt.subplots() \n",
    "    plt.bar([0,1], [treated_percent, untreated_percent])\n",
    "    plt.title(feature)\n",
    "    plt.xlabel(feature)\n",
    "    plt.ylabel('%')\n",
    "    \n",
    "    ax.set_ylim([0,100])\n",
    "    \n",
    "    plt.show()\n",
    "\n",
    "features_to_compare = ['black', 'hispan', 'married', 'nodegree']\n",
    "[percentage_comparison(treated_group, untreated_group, f) for f in features_to_compare]\n",
    "\n",
    "# TODO plot values above in small bar charts with yaxis 100% to compare visually\n",
    "# TODO plot in subplots side by side, nicer\n",
    "# Display bar value in each bar\n",
    "# TODO plot age distribution, plot years of education, display income before exp\n",
    "# TODO box plots?\n",
    "# TODO new column with 'race_other' (if black and hispan == 0)"
   ]
  },
  {
   "cell_type": "markdown",
   "metadata": {},
   "source": [
    "- Proportionally, the number of blacks in the control group is way higher than in the treated group.\n",
    "- There is also a disreptancy in the percentage of married people in each group\n",
    "\n",
    "\n",
    "These observations show that the treatment assignment isn't random and there is a huge bias between the two groups in some of the covariates, such as the number of blacks. This doesn't correspond to a randomized experiment. Such disruptancies cause major differences in the groups, which alone is enough to invalidate the naive conclusions made in part 1, or at least put the above findings into question."
   ]
  },
  {
   "cell_type": "markdown",
   "metadata": {},
   "source": [
    "#### 3. A propensity score model\n",
    "\n",
    "Use logistic regression to estimate propensity scores for all points in the dataset.\n",
    "You may use `sklearn` to fit the logistic regression model and apply it to each data point to obtain propensity scores:\n",
    "\n",
    "```python\n",
    "from sklearn import linear_model\n",
    "logistic = linear_model.LogisticRegression()\n",
    "```\n",
    "\n",
    "Recall that the propensity score of a data point represents its probability of receiving the treatment, based on its pre-treatment features (in this case, age, education, pre-treatment income, etc.).\n",
    "To brush up on propensity scores, you may read chapter 3.3 of the above-cited book by Rosenbaum or [this article](https://drive.google.com/file/d/0B4jctQY-uqhzTlpBaTBJRTJFVFE/view).\n",
    "\n",
    "Note: you do not need a train/test split here. Train and apply the model on the entire dataset. If you're wondering why this is the right thing to do in this situation, recall that the propensity score model is not used in order to make predictions about unseen data. Its sole purpose is to balance the dataset across treatment groups.\n",
    "(See p. 74 of Rosenbaum's book for an explanation why slight overfitting is even good for propensity scores.\n",
    "If you want even more information, read [this article](https://drive.google.com/file/d/0B4jctQY-uqhzTlpBaTBJRTJFVFE/view).)"
   ]
  },
  {
   "cell_type": "code",
   "execution_count": 35,
   "metadata": {},
   "outputs": [
    {
     "data": {
      "text/html": [
       "<div>\n",
       "<style>\n",
       "    .dataframe thead tr:only-child th {\n",
       "        text-align: right;\n",
       "    }\n",
       "\n",
       "    .dataframe thead th {\n",
       "        text-align: left;\n",
       "    }\n",
       "\n",
       "    .dataframe tbody tr th {\n",
       "        vertical-align: top;\n",
       "    }\n",
       "</style>\n",
       "<table border=\"1\" class=\"dataframe\">\n",
       "  <thead>\n",
       "    <tr style=\"text-align: right;\">\n",
       "      <th></th>\n",
       "      <th>treat</th>\n",
       "      <th>age</th>\n",
       "      <th>educ</th>\n",
       "      <th>black</th>\n",
       "      <th>hispan</th>\n",
       "      <th>married</th>\n",
       "      <th>nodegree</th>\n",
       "      <th>re74</th>\n",
       "      <th>re75</th>\n",
       "      <th>re78</th>\n",
       "      <th>prop_score</th>\n",
       "    </tr>\n",
       "    <tr>\n",
       "      <th>id</th>\n",
       "      <th></th>\n",
       "      <th></th>\n",
       "      <th></th>\n",
       "      <th></th>\n",
       "      <th></th>\n",
       "      <th></th>\n",
       "      <th></th>\n",
       "      <th></th>\n",
       "      <th></th>\n",
       "      <th></th>\n",
       "      <th></th>\n",
       "    </tr>\n",
       "  </thead>\n",
       "  <tbody>\n",
       "    <tr>\n",
       "      <th>NSW1</th>\n",
       "      <td>1</td>\n",
       "      <td>37</td>\n",
       "      <td>11</td>\n",
       "      <td>1</td>\n",
       "      <td>0</td>\n",
       "      <td>1</td>\n",
       "      <td>1</td>\n",
       "      <td>0.0</td>\n",
       "      <td>0.0</td>\n",
       "      <td>9930.0460</td>\n",
       "      <td>0.443350</td>\n",
       "    </tr>\n",
       "    <tr>\n",
       "      <th>NSW2</th>\n",
       "      <td>1</td>\n",
       "      <td>22</td>\n",
       "      <td>9</td>\n",
       "      <td>0</td>\n",
       "      <td>1</td>\n",
       "      <td>0</td>\n",
       "      <td>1</td>\n",
       "      <td>0.0</td>\n",
       "      <td>0.0</td>\n",
       "      <td>3595.8940</td>\n",
       "      <td>0.144660</td>\n",
       "    </tr>\n",
       "    <tr>\n",
       "      <th>NSW3</th>\n",
       "      <td>1</td>\n",
       "      <td>30</td>\n",
       "      <td>12</td>\n",
       "      <td>1</td>\n",
       "      <td>0</td>\n",
       "      <td>0</td>\n",
       "      <td>0</td>\n",
       "      <td>0.0</td>\n",
       "      <td>0.0</td>\n",
       "      <td>24909.4500</td>\n",
       "      <td>0.722355</td>\n",
       "    </tr>\n",
       "    <tr>\n",
       "      <th>NSW4</th>\n",
       "      <td>1</td>\n",
       "      <td>27</td>\n",
       "      <td>11</td>\n",
       "      <td>1</td>\n",
       "      <td>0</td>\n",
       "      <td>0</td>\n",
       "      <td>1</td>\n",
       "      <td>0.0</td>\n",
       "      <td>0.0</td>\n",
       "      <td>7506.1460</td>\n",
       "      <td>0.664151</td>\n",
       "    </tr>\n",
       "    <tr>\n",
       "      <th>NSW5</th>\n",
       "      <td>1</td>\n",
       "      <td>33</td>\n",
       "      <td>8</td>\n",
       "      <td>1</td>\n",
       "      <td>0</td>\n",
       "      <td>0</td>\n",
       "      <td>1</td>\n",
       "      <td>0.0</td>\n",
       "      <td>0.0</td>\n",
       "      <td>289.7899</td>\n",
       "      <td>0.698286</td>\n",
       "    </tr>\n",
       "  </tbody>\n",
       "</table>\n",
       "</div>"
      ],
      "text/plain": [
       "      treat  age  educ  black  hispan  married  nodegree  re74  re75  \\\n",
       "id                                                                     \n",
       "NSW1      1   37    11      1       0        1         1   0.0   0.0   \n",
       "NSW2      1   22     9      0       1        0         1   0.0   0.0   \n",
       "NSW3      1   30    12      1       0        0         0   0.0   0.0   \n",
       "NSW4      1   27    11      1       0        0         1   0.0   0.0   \n",
       "NSW5      1   33     8      1       0        0         1   0.0   0.0   \n",
       "\n",
       "            re78  prop_score  \n",
       "id                            \n",
       "NSW1   9930.0460    0.443350  \n",
       "NSW2   3595.8940    0.144660  \n",
       "NSW3  24909.4500    0.722355  \n",
       "NSW4   7506.1460    0.664151  \n",
       "NSW5    289.7899    0.698286  "
      ]
     },
     "execution_count": 35,
     "metadata": {},
     "output_type": "execute_result"
    }
   ],
   "source": [
    "logistic = LogisticRegression()\n",
    "\n",
    "confounders = ['age', 'educ', 'black', 'hispan', 'married', 'nodegree', 're74', 're75']\n",
    "#confounders = ['age', 'educ', 'hispan', 'married', 'nodegree', 're74', 're75']\n",
    "\n",
    "y = data['treat']\n",
    "X = data[confounders]\n",
    "logistic.fit(X, y)\n",
    "\n",
    "prop_score = [e for (_,e) in logistic.predict_proba(X)]\n",
    "\n",
    "data['prop_score'] = prop_score\n",
    "data.head()\n",
    "\n",
    "# TODO way to ignore re74 and re75 when zero? That would be possible only if we get rid of those lines all together\n",
    "# But then there is a problem See the comment below"
   ]
  },
  {
   "cell_type": "markdown",
   "metadata": {},
   "source": [
    "Which means, for example, that the second person in the above array has a 14.5% chance of being in the treated group."
   ]
  },
  {
   "cell_type": "markdown",
   "metadata": {},
   "source": [
    "\n",
    "#### 4. Balancing the dataset via matching\n",
    "\n",
    "Use the propensity scores to match each data point from the treated group with exactly one data point from the control group, while ensuring that each data point from the control group is matched with at most one data point from the treated group.\n",
    "(Hint: you may explore the `networkx` package in Python for predefined matching functions.)\n",
    "\n",
    "Your matching should maximize the similarity between matched subjects, as captured by their propensity scores.\n",
    "In other words, the sum (over all matched pairs) of absolute propensity-score differences between the two matched subjects should be minimized.\n",
    "\n",
    "After matching, you have as many treated as you have control subjects.\n",
    "Compare the outcomes (`re78`) between the two groups (treated and control).\n",
    "\n",
    "Also, compare again the feature-value distributions between the two groups, as you've done in part 2 above, but now only for the matched subjects.\n",
    "What do you observe?\n",
    "Are you closer to being able to draw valid conclusions now than you were before?"
   ]
  },
  {
   "cell_type": "code",
   "execution_count": 36,
   "metadata": {
    "scrolled": true
   },
   "outputs": [],
   "source": [
    "treat_prop = data[data['treat'] == 1]['prop_score']\n",
    "untreat_prop = data[data['treat'] == 0]['prop_score']\n",
    "\n",
    "#B = nx.complete_bipartite_graph(treat_prop.size, untreat_prop.size)\n",
    "\n",
    "B = nx.Graph()\n",
    "\n",
    "B.add_nodes_from(treat_prop.index, bipartite=0)\n",
    "B.add_nodes_from(untreat_prop.index, bipartite=1)\n",
    "\n",
    "for l_idx, l in treat_prop.iteritems():\n",
    "    for r_idx, r in untreat_prop.iteritems():\n",
    "        w = 1 - abs(l - r)\n",
    "        B.add_edge(l_idx, r_idx, weigth=w)\n",
    "\n",
    "max_matching = nx.max_weight_matching(B, True)\n",
    "#max_matching\n",
    "\n",
    "# TODO is this matching correct? Histogram seems fishy, too many high values??\n",
    "# I think it;s bacause of the zero values in re74 and re75 But we can;t just get rid of them, as they entail\n",
    "# some meaning. The zero's may mean that there was no real imcome for that person that year. But then how likely is it?"
   ]
  },
  {
   "cell_type": "markdown",
   "metadata": {},
   "source": [
    "To check how good our matching performed, we compute the absolute difference between the two propensity scores for each pair in the matching and display a histogram of all the values."
   ]
  },
  {
   "cell_type": "code",
   "execution_count": 37,
   "metadata": {
    "scrolled": false
   },
   "outputs": [
    {
     "name": "stdout",
     "output_type": "stream",
     "text": [
      "Mean absolute propensity score: 0.38115684853063264\n"
     ]
    },
    {
     "data": {
      "image/png": "[encoded data removed]",
      "text/plain": [
       "<matplotlib.figure.Figure at 0x1259d32b0>"
      ]
     },
     "metadata": {},
     "output_type": "display_data"
    }
   ],
   "source": [
    "def get_scores(matching):\n",
    "    (left, _) = bipartite.sets(B)\n",
    "    return [abs(treat_prop[l] - untreat_prop[matching[l]]) for l in left]\n",
    "\n",
    "abs_diffs = get_scores(max_matching)\n",
    "print('Mean absolute propensity score: {}'.format(np.mean(abs_diffs)))\n",
    "\n",
    "plt.hist(abs_diffs,bins=25)\n",
    "plt.title('Histogram of absolute propensity score difference for each pair in the matching')\n",
    "plt.xlabel('absolute difference in propensity score')\n",
    "plt.ylabel('# of elements')\n",
    "plt.show()"
   ]
  },
  {
   "cell_type": "markdown",
   "metadata": {},
   "source": [
    "As we can see, the algorithm found many good matchings, but there is a lot of pairs that have a big difference in propensity score, due to the fact that strictly each score has to be matched with one from the other group."
   ]
  },
  {
   "cell_type": "code",
   "execution_count": 17,
   "metadata": {},
   "outputs": [
    {
     "name": "stdout",
     "output_type": "stream",
     "text": [
      "Left (treated): 185\n",
      "Right (untreated): 429\n"
     ]
    }
   ],
   "source": [
    "#left side is the treated nodes, right side is untreated nodes (size)\n",
    "(left, right) = bipartite.sets(B)\n",
    "\n",
    "print('Left (treated): {}'.format(len(left)))\n",
    "print('Right (untreated): {}'.format(len(right)))"
   ]
  },
  {
   "cell_type": "markdown",
   "metadata": {},
   "source": [
    "The left side of the bipartite graph is the smallest, thus the matching contains all nodes on the left side (185) and has matched with 185 nodes on the right side (untreated patients)."
   ]
  },
  {
   "cell_type": "code",
   "execution_count": 18,
   "metadata": {},
   "outputs": [
    {
     "data": {
      "image/png": "[encoded data removed]",
      "text/plain": [
       "<matplotlib.figure.Figure at 0x11fef5b38>"
      ]
     },
     "metadata": {},
     "output_type": "display_data"
    }
   ],
   "source": [
    "treated_matched_index = left #are all matched\n",
    "untreated_matched_index = [max_matching[l] for l in left]\n",
    "len(untreated_matched_index)\n",
    "\n",
    "# Get only the matched proensity scores for each group\n",
    "matched_treated_group = data.loc[treated_matched_index]\n",
    "matched_untreated_group = data.loc[untreated_matched_index]\n",
    "\n",
    "draw_hists(matched_treated_group, matched_untreated_group, 'subjects - 1978 real earnings distribution', \n",
    "          '1978 real earnings', 'Number of people', 're78')"
   ]
  },
  {
   "cell_type": "markdown",
   "metadata": {},
   "source": [
    "Now, with the propensity score matching, we have an observational study and looking at the results of 1978 earnings, we could conclude that the treatment did work well for the outliers that earned a lot more than the rest. There is also less people with no income in the treated group."
   ]
  },
  {
   "cell_type": "code",
   "execution_count": 19,
   "metadata": {},
   "outputs": [
    {
     "name": "stdout",
     "output_type": "stream",
     "text": [
      "black percent for treated group: 84.32%\n",
      "black percent for untreated group: 27.57%\n",
      "\n"
     ]
    },
    {
     "data": {
      "image/png": "[encoded data removed]",
      "text/plain": [
       "<matplotlib.figure.Figure at 0x12309df98>"
      ]
     },
     "metadata": {},
     "output_type": "display_data"
    },
    {
     "name": "stdout",
     "output_type": "stream",
     "text": [
      "hispan percent for treated group: 5.95%\n",
      "hispan percent for untreated group: 11.89%\n",
      "\n"
     ]
    },
    {
     "data": {
      "image/png": "[encoded data removed]",
      "text/plain": [
       "<matplotlib.figure.Figure at 0x1205677f0>"
      ]
     },
     "metadata": {},
     "output_type": "display_data"
    },
    {
     "name": "stdout",
     "output_type": "stream",
     "text": [
      "married percent for treated group: 18.92%\n",
      "married percent for untreated group: 41.08%\n",
      "\n"
     ]
    },
    {
     "data": {
      "image/png": "[encoded data removed]",
      "text/plain": [
       "<matplotlib.figure.Figure at 0x120c9a550>"
      ]
     },
     "metadata": {},
     "output_type": "display_data"
    },
    {
     "name": "stdout",
     "output_type": "stream",
     "text": [
      "nodegree percent for treated group: 70.81%\n",
      "nodegree percent for untreated group: 65.41%\n",
      "\n"
     ]
    },
    {
     "data": {
      "image/png": "[encoded data removed]",
      "text/plain": [
       "<matplotlib.figure.Figure at 0x11cc54438>"
      ]
     },
     "metadata": {},
     "output_type": "display_data"
    },
    {
     "data": {
      "text/plain": [
       "[None, None, None, None]"
      ]
     },
     "execution_count": 19,
     "metadata": {},
     "output_type": "execute_result"
    }
   ],
   "source": [
    "features_to_compare = ['black', 'hispan', 'married', 'nodegree']\n",
    "[percentage_comparison(matched_treated_group, matched_untreated_group, f) for f in features_to_compare]\n",
    "\n",
    "# TODO other features, like above"
   ]
  },
  {
   "cell_type": "markdown",
   "metadata": {},
   "source": [
    "\n",
    "Even though the number of blacks, for example, is still relatively different in each group, the differences are smaller for each feature and the groups look better distributed."
   ]
  },
  {
   "cell_type": "markdown",
   "metadata": {},
   "source": [
    "#### 5. Balancing the groups further\n",
    "\n",
    "Based on your comparison of feature-value distributions from part 4, are you fully satisfied with your matching?\n",
    "Would you say your dataset is sufficiently balanced?\n",
    "If not, in what ways could the \"balanced\" dataset you have obtained still not allow you to draw valid conclusions?\n",
    "\n",
    "Improve your matching by explicitly making sure that you match only subjects that have the same value for the problematic feature.\n",
    "Argue with numbers and plots that the two groups (treated and control) are now better balanced than after part 4.\n"
   ]
  },
  {
   "cell_type": "markdown",
   "metadata": {
    "collapsed": true
   },
   "source": [
    "# TODO\n",
    "the problem is imbalance of the black people. The matching is still not that good, we can see it on the histogram. Need to match either two blacks or two non-blacks"
   ]
  },
  {
   "cell_type": "code",
   "execution_count": 20,
   "metadata": {},
   "outputs": [
    {
     "name": "stdout",
     "output_type": "stream",
     "text": [
      "{'NSW156', 'NSW113', 'NSW57', 'NSW86', 'NSW18', 'NSW138', 'NSW32', 'NSW45', 'NSW66', 'NSW88', 'NSW16', 'NSW27', 'NSW69', 'NSW78', 'NSW92', 'NSW131', 'NSW23', 'NSW24', 'NSW97', 'NSW35', 'NSW49', 'NSW122', 'NSW166', 'NSW132', 'NSW90', 'NSW13', 'NSW12', 'NSW4', 'NSW104', 'NSW29', 'NSW124', 'NSW173', 'NSW168', 'NSW128', 'NSW152', 'NSW87', 'NSW118', 'NSW60', 'NSW164', 'NSW137', 'NSW146', 'NSW9', 'NSW134', 'NSW73', 'NSW59', 'NSW41', 'NSW129', 'NSW109', 'NSW143', 'NSW19', 'NSW5', 'NSW101', 'NSW71', 'NSW115', 'NSW48', 'NSW149', 'NSW15', 'NSW151', 'NSW53', 'NSW62', 'NSW84', 'NSW158', 'NSW81', 'NSW44', 'NSW76', 'NSW114', 'NSW125', 'NSW74', 'NSW161', 'NSW34', 'NSW50', 'NSW160', 'NSW36', 'NSW147', 'NSW142', 'NSW130', 'NSW52', 'NSW82', 'NSW99', 'NSW106', 'NSW42', 'NSW185', 'NSW51', 'NSW93', 'NSW111', 'NSW119', 'NSW6', 'NSW25', 'NSW170', 'NSW107', 'NSW121', 'NSW140', 'NSW91', 'NSW167', 'NSW43', 'NSW89', 'NSW98', 'NSW8', 'NSW108', 'NSW72', 'NSW180', 'NSW95', 'NSW56', 'NSW135', 'NSW144', 'NSW120', 'NSW112', 'NSW47', 'NSW1', 'NSW117', 'NSW177', 'NSW11', 'NSW165', 'NSW77', 'NSW63', 'NSW171', 'NSW136', 'NSW2', 'NSW123', 'NSW153', 'NSW116', 'NSW65', 'NSW22', 'NSW46', 'NSW3', 'NSW127', 'NSW183', 'NSW20', 'NSW68', 'NSW70', 'NSW28', 'NSW172', 'NSW33', 'NSW67', 'NSW154', 'NSW40', 'NSW181', 'NSW54', 'NSW26', 'NSW83', 'NSW61', 'NSW75', 'NSW103', 'NSW110', 'NSW150', 'NSW55', 'NSW178', 'NSW80', 'NSW7', 'NSW21', 'NSW37', 'NSW17', 'NSW155', 'NSW14', 'NSW139', 'NSW169', 'NSW39', 'NSW79', 'NSW100', 'NSW102', 'NSW38', 'NSW148', 'NSW182', 'NSW126', 'NSW85', 'NSW176', 'NSW96', 'NSW184', 'NSW145', 'NSW31', 'NSW162', 'NSW133', 'NSW58', 'NSW64', 'NSW163', 'NSW10', 'NSW175', 'NSW105', 'NSW30', 'NSW141', 'NSW157', 'NSW159', 'NSW179', 'NSW94', 'NSW174'}\n",
      "-----------------------------------\n",
      "{'PSID3', 'PSID270', 'PSID12', 'PSID298', 'PSID345', 'PSID144', 'PSID210', 'PSID60', 'PSID90', 'PSID226', 'PSID303', 'PSID332', 'PSID47', 'PSID380', 'PSID400', 'PSID427', 'PSID277', 'PSID387', 'PSID4', 'PSID91', 'PSID151', 'PSID31', 'PSID33', 'PSID377', 'PSID362', 'PSID217', 'PSID418', 'PSID235', 'PSID185', 'PSID396', 'PSID2', 'PSID414', 'PSID100', 'PSID319', 'PSID232', 'PSID117', 'PSID77', 'PSID145', 'PSID294', 'PSID224', 'PSID14', 'PSID313', 'PSID15', 'PSID168', 'PSID415', 'PSID227', 'PSID112', 'PSID74', 'PSID287', 'PSID256', 'PSID208', 'PSID121', 'PSID419', 'PSID365', 'PSID357', 'PSID353', 'PSID164', 'PSID110', 'PSID378', 'PSID230', 'PSID245', 'PSID70', 'PSID295', 'PSID98', 'PSID223', 'PSID78', 'PSID57', 'PSID323', 'PSID266', 'PSID333', 'PSID21', 'PSID356', 'PSID149', 'PSID95', 'PSID386', 'PSID138', 'PSID97', 'PSID240', 'PSID17', 'PSID264', 'PSID391', 'PSID424', 'PSID300', 'PSID154', 'PSID133', 'PSID406', 'PSID26', 'PSID63', 'PSID75', 'PSID94', 'PSID141', 'PSID252', 'PSID53', 'PSID268', 'PSID1', 'PSID218', 'PSID247', 'PSID116', 'PSID212', 'PSID160', 'PSID169', 'PSID364', 'PSID317', 'PSID6', 'PSID322', 'PSID162', 'PSID146', 'PSID373', 'PSID291', 'PSID250', 'PSID152', 'PSID292', 'PSID248', 'PSID8', 'PSID174', 'PSID428', 'PSID139', 'PSID147', 'PSID302', 'PSID347', 'PSID310', 'PSID383', 'PSID79', 'PSID159', 'PSID23', 'PSID417', 'PSID28', 'PSID134', 'PSID165', 'PSID341', 'PSID236', 'PSID49', 'PSID71', 'PSID171', 'PSID354', 'PSID58', 'PSID22', 'PSID255', 'PSID286', 'PSID360', 'PSID156', 'PSID363', 'PSID166', 'PSID140', 'PSID382', 'PSID261', 'PSID351', 'PSID172', 'PSID371', 'PSID407', 'PSID59', 'PSID211', 'PSID46', 'PSID35', 'PSID13', 'PSID336', 'PSID177', 'PSID190', 'PSID11', 'PSID41', 'PSID201', 'PSID215', 'PSID394', 'PSID244', 'PSID80', 'PSID334', 'PSID325', 'PSID423', 'PSID61', 'PSID107', 'PSID318', 'PSID331', 'PSID182', 'PSID238', 'PSID234', 'PSID402', 'PSID421', 'PSID161', 'PSID301', 'PSID37', 'PSID40', 'PSID10', 'PSID99', 'PSID342', 'PSID410', 'PSID269', 'PSID272', 'PSID45', 'PSID109', 'PSID202', 'PSID137', 'PSID129', 'PSID205', 'PSID183', 'PSID281', 'PSID263', 'PSID18', 'PSID206', 'PSID178', 'PSID321', 'PSID155', 'PSID76', 'PSID229', 'PSID69', 'PSID350', 'PSID254', 'PSID257', 'PSID111', 'PSID385', 'PSID311', 'PSID239', 'PSID170', 'PSID56', 'PSID24', 'PSID409', 'PSID314', 'PSID124', 'PSID93', 'PSID200', 'PSID262', 'PSID253', 'PSID83', 'PSID375', 'PSID127', 'PSID290', 'PSID398', 'PSID136', 'PSID251', 'PSID283', 'PSID203', 'PSID7', 'PSID335', 'PSID66', 'PSID196', 'PSID130', 'PSID195', 'PSID221', 'PSID65', 'PSID390', 'PSID191', 'PSID338', 'PSID48', 'PSID39', 'PSID82', 'PSID374', 'PSID204', 'PSID405', 'PSID425', 'PSID216', 'PSID214', 'PSID305', 'PSID44', 'PSID329', 'PSID29', 'PSID275', 'PSID326', 'PSID368', 'PSID384', 'PSID150', 'PSID213', 'PSID101', 'PSID158', 'PSID237', 'PSID330', 'PSID81', 'PSID30', 'PSID135', 'PSID273', 'PSID243', 'PSID19', 'PSID96', 'PSID27', 'PSID72', 'PSID126', 'PSID108', 'PSID180', 'PSID348', 'PSID188', 'PSID20', 'PSID395', 'PSID52', 'PSID87', 'PSID38', 'PSID343', 'PSID103', 'PSID143', 'PSID50', 'PSID148', 'PSID32', 'PSID73', 'PSID372', 'PSID260', 'PSID299', 'PSID115', 'PSID242', 'PSID258', 'PSID86', 'PSID105', 'PSID279', 'PSID339', 'PSID361', 'PSID186', 'PSID289', 'PSID411', 'PSID349', 'PSID85', 'PSID271', 'PSID403', 'PSID420', 'PSID119', 'PSID131', 'PSID312', 'PSID324', 'PSID67', 'PSID209', 'PSID194', 'PSID399', 'PSID304', 'PSID167', 'PSID157', 'PSID184', 'PSID153', 'PSID267', 'PSID163', 'PSID393', 'PSID416', 'PSID265', 'PSID346', 'PSID175', 'PSID114', 'PSID307', 'PSID68', 'PSID62', 'PSID173', 'PSID193', 'PSID222', 'PSID412', 'PSID408', 'PSID64', 'PSID376', 'PSID228', 'PSID413', 'PSID106', 'PSID358', 'PSID132', 'PSID308', 'PSID122', 'PSID181', 'PSID337', 'PSID246', 'PSID197', 'PSID187', 'PSID34', 'PSID220', 'PSID284', 'PSID296', 'PSID366', 'PSID36', 'PSID306', 'PSID274', 'PSID315', 'PSID379', 'PSID189', 'PSID84', 'PSID120', 'PSID16', 'PSID192', 'PSID225', 'PSID207', 'PSID233', 'PSID369', 'PSID327', 'PSID429', 'PSID404', 'PSID344', 'PSID426', 'PSID43', 'PSID316', 'PSID55', 'PSID42', 'PSID249', 'PSID176', 'PSID123', 'PSID259', 'PSID401', 'PSID231', 'PSID293', 'PSID381', 'PSID25', 'PSID118', 'PSID88', 'PSID198', 'PSID352', 'PSID297', 'PSID288', 'PSID392', 'PSID54', 'PSID285', 'PSID388', 'PSID340', 'PSID219', 'PSID128', 'PSID5', 'PSID9', 'PSID320', 'PSID113', 'PSID276', 'PSID355', 'PSID370', 'PSID367', 'PSID278', 'PSID179', 'PSID397', 'PSID282', 'PSID241', 'PSID51', 'PSID359', 'PSID125', 'PSID389', 'PSID280', 'PSID102', 'PSID92', 'PSID104', 'PSID199', 'PSID328', 'PSID309', 'PSID89', 'PSID142', 'PSID422'}\n"
     ]
    }
   ],
   "source": [
    "treat_prop = data[data['treat'] == 1]['prop_score']\n",
    "untreat_prop = data[data['treat'] == 0]['prop_score']\n",
    "\n",
    "#B = nx.complete_bipartite_graph(treat_prop.size, untreat_prop.size)\n",
    "\n",
    "BB = nx.Graph()\n",
    "\n",
    "BB.add_nodes_from(treat_prop.index, bipartite=0)\n",
    "BB.add_nodes_from(untreat_prop.index, bipartite=1)\n",
    "\n",
    "for l_idx, l in treat_prop.iteritems():\n",
    "    for r_idx, r in untreat_prop.iteritems():\n",
    "        leftBlack = np.asscalar(data[data.index == l_idx]['black']);\n",
    "        rightBlack = np.asscalar(data[data.index == r_idx]['black']);\n",
    "        if (leftBlack == rightBlack): \n",
    "            w = 1-(abs(l - r))\n",
    "            BB.add_edge(l_idx, r_idx, weigth=w)\n",
    "        else:\n",
    "            BB.add_edge(l_idx, r_idx, weigth=0)\n",
    "\n",
    "max_matching = nx.max_weight_matching(BB, True)\n",
    "#max_matching\n",
    "(left, right) = bipartite.sets(BB)\n",
    "print(left)\n",
    "print(\"-----------------------------------\")\n",
    "print(right)\n",
    "\n"
   ]
  },
  {
   "cell_type": "code",
   "execution_count": 89,
   "metadata": {},
   "outputs": [
    {
     "name": "stdout",
     "output_type": "stream",
     "text": [
      "Mean absolute propensity score: 0.38115684604291544\n"
     ]
    },
    {
     "data": {
      "image/png": "[encoded data removed]",
      "text/plain": [
       "<matplotlib.figure.Figure at 0x120f57400>"
      ]
     },
     "metadata": {},
     "output_type": "display_data"
    }
   ],
   "source": [
    "def get_scores_black(matching):\n",
    "    (left, right) = bipartite.sets(BB)\n",
    "    #print(left)\n",
    "    #print(right)\n",
    "    return [abs(treat_prop[l] - untreat_prop[matching[l]]) for l in left]\n",
    "\n",
    "#print(BB.number_of_nodes)\n",
    "#print(max_matching_black)\n",
    "#print(bipartite.sets(BB))\n",
    "\n",
    "abs_diffs_black = get_scores_black(max_matching)\n",
    "print('Mean absolute propensity score: {}'.format(np.mean(abs_diffs_black)))\n",
    "\n",
    "plt.hist(abs_diffs_black,bins=25)\n",
    "plt.title('Histogram of absolute propensity score difference for each pair in the matching')\n",
    "plt.xlabel('absolute difference in propensity score')\n",
    "plt.ylabel('# of elements')\n",
    "plt.show()"
   ]
  },
  {
   "cell_type": "markdown",
   "metadata": {},
   "source": [
    "#### 6. A less naive analysis\n",
    "\n",
    "Compare the outcomes (`re78`) between treated and control subjects, as you've done in part 1, but now only for the matched dataset you've obtained from part 5.\n",
    "What do you conclude about the effectiveness of the job training program?"
   ]
  },
  {
   "cell_type": "code",
   "execution_count": null,
   "metadata": {},
   "outputs": [],
   "source": [
    "# TODO"
   ]
  },
  {
   "cell_type": "markdown",
   "metadata": {},
   "source": [
    "## Question 2: Applied ML\n",
    "We are going to build a classifier of news to directly assign them to 20 news categories. Note that the pipeline that you will build in this exercise could be of great help during your project if you plan to work with text!\n"
   ]
  },
  {
   "cell_type": "markdown",
   "metadata": {},
   "source": [
    "#### 1\n",
    "Load the 20newsgroup dataset. It is, again, a classic dataset that can directly be loaded using sklearn ([link](http://scikit-learn.org/stable/datasets/twenty_newsgroups.html)).  \n",
    "[TF-IDF](https://en.wikipedia.org/wiki/Tf%E2%80%93idf), short for term frequencyâ€“inverse document frequency, is of great help when if comes to compute textual features. Indeed, it gives more importance to terms that are more specific to the considered articles (TF) but reduces the importance of terms that are very frequent in the entire corpus (IDF). Compute TF-IDF features for every article using [TfidfVectorizer](http://scikit-learn.org/stable/modules/generated/sklearn.feature_extraction.text.TfidfVectorizer.html). Then, split your dataset into a training, a testing and a validation set (10% for validation and 10% for testing). Each observation should be paired with its corresponding label (the article category)."
   ]
  },
  {
   "cell_type": "code",
   "execution_count": null,
   "metadata": {},
   "outputs": [],
   "source": [
    "from sklearn.datasets import fetch_20newsgroups\n",
    "from pprint import pprint\n",
    "from sklearn.feature_extraction.text import TfidfVectorizer\n",
    "from sklearn.model_selection import train_test_split\n",
    "from sklearn.ensemble import RandomForestClassifier\n",
    "from sklearn.model_selection import GridSearchCV"
   ]
  },
  {
   "cell_type": "code",
   "execution_count": null,
   "metadata": {},
   "outputs": [],
   "source": [
    "newsgroups_train = fetch_20newsgroups(subset='train')\n",
    "newsgroups_test = fetch_20newsgroups(subset=\"test\")\n",
    "\n",
    "#pprint(list(newsgroups_train.target_names))\n",
    "\n",
    "# .target contains category id\n",
    "# .target_name contains category name\n",
    "# .filenames contains file name\n",
    "# .data contains the text\n",
    "\n",
    "# TODO display result"
   ]
  },
  {
   "cell_type": "code",
   "execution_count": null,
   "metadata": {},
   "outputs": [],
   "source": [
    "# Compute the tf-idf score for each data point\n",
    "vectorizer = TfidfVectorizer()\n",
    "vectors = vectorizer.fit_transform(newsgroups_train.data)\n",
    "tfidf_score = vectors.data"
   ]
  },
  {
   "cell_type": "markdown",
   "metadata": {},
   "source": [
    "In this problem the label of a data point is the news category assigned to it ('target' attribute in the newsgroup dataset) and the features are tf-idf values of the text of the news article."
   ]
  },
  {
   "cell_type": "code",
   "execution_count": null,
   "metadata": {},
   "outputs": [],
   "source": [
    "# We first split into 0.8 train, then split the remaining (0.2) into half test half validation set\n",
    "X = vectors\n",
    "y = newsgroups_train.target\n",
    "\n",
    "X_train, X_test, y_train, y_test = train_test_split(X, y, test_size=0.2, random_state=69)\n",
    "X_val, X_test, y_val, y_test = train_test_split(X_test, y_test, test_size=0.5, random_state=69)\n",
    "\n",
    "print('X Train / Test / Validation size : {} / {} / {}'.format(X_train.shape, X_test.shape, X_val.shape))\n",
    "print('y Train / Test / Validation size : {} / {} / {}'.format(y_train.shape, y_test.shape, y_val.shape))\n"
   ]
  },
  {
   "cell_type": "markdown",
   "metadata": {},
   "source": [
    "#### 2. \n",
    "Train a random forest on your training set. Try to fine-tune the parameters of your predictor on your validation set using a simple grid search on the number of estimator \"n_estimators\" and the max depth of the trees \"max_depth\". Then, display a confusion matrix of your classification pipeline. Lastly, once you assessed your model, inspect the `feature_importances_` attribute of your random forest and discuss the obtained results.\n",
    "\n"
   ]
  },
  {
   "cell_type": "code",
   "execution_count": null,
   "metadata": {},
   "outputs": [],
   "source": [
    "clf = RandomForestClassifier(random_state=5)\n",
    "clf.fit(X_train, y_train)"
   ]
  },
  {
   "cell_type": "code",
   "execution_count": null,
   "metadata": {},
   "outputs": [],
   "source": [
    "def get_accuracy(y_pred):\n",
    "    y_diff = [y_pred == y_test]\n",
    "    y_correct = np.sum(y_diff) / y_pred.size\n",
    "    return y_correct\n",
    "\n",
    "y_pred = clf.predict(X_test)\n",
    "y_corr = get_accuracy(y_pred)\n",
    "print('{:0.2f}%'.format(y_corr))"
   ]
  },
  {
   "cell_type": "code",
   "execution_count": null,
   "metadata": {},
   "outputs": [],
   "source": [
    "n_estimators_range = np.logspace(1, 4, 2, dtype='int')\n",
    "max_depth_range = np.logspace(1, 4, 2, dtype='int')\n",
    "\n",
    "parameters = {'n_estimators':n_estimators_range,\n",
    "              'max_depth':max_depth_range }\n",
    "\n",
    "grid_search_clf = GridSearchCV(clf, parameters)"
   ]
  },
  {
   "cell_type": "code",
   "execution_count": null,
   "metadata": {},
   "outputs": [],
   "source": [
    "grid_search_clf.fit(X_train, y_train)"
   ]
  },
  {
   "cell_type": "code",
   "execution_count": null,
   "metadata": {},
   "outputs": [],
   "source": [
    "print(grid_search_clf.best_params_)\n",
    "#print(grid_search_clf.feature_importances_)\n",
    "\n"
   ]
  },
  {
   "cell_type": "code",
   "execution_count": null,
   "metadata": {},
   "outputs": [],
   "source": [
    "# TODO test with validation set "
   ]
  },
  {
   "cell_type": "code",
   "execution_count": null,
   "metadata": {},
   "outputs": [],
   "source": []
  }
 ],
 "metadata": {
  "kernelspec": {
   "display_name": "Python [conda root]",
   "language": "python",
   "name": "conda-root-py"
  },
  "language_info": {
   "codemirror_mode": {
    "name": "ipython",
    "version": 3
   },
   "file_extension": ".py",
   "mimetype": "text/x-python",
   "name": "python",
   "nbconvert_exporter": "python",
   "pygments_lexer": "ipython3",
   "version": "3.6.1"
  }
 },
 "nbformat": 4,
 "nbformat_minor": 2
}
