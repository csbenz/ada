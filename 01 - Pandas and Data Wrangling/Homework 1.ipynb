{
 "cells": [
  {
   "cell_type": "markdown",
   "metadata": {},
   "source": [
    "# Table of Contents\n",
    " <p><div class=\"lev1\"><a href=\"#Task-1.-Compiling-Ebola-Data\"><span class=\"toc-item-num\">Task 1.&nbsp;&nbsp;</span>Compiling Ebola Data</a></div>\n",
    " <div class=\"lev1\"><a href=\"#Task-2.-RNA-Sequences\"><span class=\"toc-item-num\">Task 2.&nbsp;&nbsp;</span>RNA Sequences</a></div>\n",
    " <div class=\"lev1\"><a href=\"#Task-3.-Class-War-in-Titanic\"><span class=\"toc-item-num\">Task 3.&nbsp;&nbsp;</span>Class War in Titanic</a></div></p>"
   ]
  },
  {
   "cell_type": "code",
   "execution_count": 318,
   "metadata": {
    "collapsed": true
   },
   "outputs": [],
   "source": [
    "import pandas as pd\n",
    "import numpy as np\n",
    "import glob\n",
    "pd.options.mode.chained_assignment = None  # default='warn', Mutes warnings when copying a slice from a DataFrame.\n",
    "DATA_FOLDER = 'Data' # Use the data folder provided in Tutorial 02 - Intro to Pandas."
   ]
  },
  {
   "cell_type": "markdown",
   "metadata": {},
   "source": [
    "## Task 1. Compiling Ebola Data\n",
    "\n",
    "The `DATA_FOLDER/ebola` folder contains summarized reports of Ebola cases from three countries (Guinea, Liberia and Sierra Leone) during the recent outbreak of the disease in West Africa. For each country, there are daily reports that contain various information about the outbreak in several cities in each country.\n",
    "\n",
    "Use pandas to import these data files into a single `Dataframe`.\n",
    "Using this `DataFrame`, calculate for *each country*, the *daily average* per year of *new cases* and *deaths*.\n",
    "Make sure you handle all the different expressions for *new cases* and *deaths* that are used in the reports."
   ]
  },
  {
   "cell_type": "code",
   "execution_count": 319,
   "metadata": {
    "collapsed": false
   },
   "outputs": [],
   "source": [
    "# Set the folder path\n",
    "guineaFolderPath = DATA_FOLDER + '/ebola/guinea_data'\n",
    "liberiaFolderPath = DATA_FOLDER + '/ebola/liberia_data'\n",
    "slFolderPath = DATA_FOLDER + '/ebola/sl_data'"
   ]
  },
  {
   "cell_type": "markdown",
   "metadata": {},
   "source": [
    "#### Data preparation"
   ]
  },
  {
   "cell_type": "code",
   "execution_count": 320,
   "metadata": {
    "collapsed": false,
    "scrolled": true
   },
   "outputs": [],
   "source": [
    "#Year average\n",
    "yearAverage = pd.DataFrame(columns=['country', 'new_cases', 'new_deaths'])\n",
    "\n",
    "#get all data from the Guinea folder\n",
    "#allGuineaFiles = glob.glob(guineaFolderPath + \"/*.csv\")\n",
    "#guineaFram = pd.concat((pd.read_csv(f) for f in allGuineaFiles))"
   ]
  },
  {
   "cell_type": "markdown",
   "metadata": {},
   "source": [
    "#### Needed data\n",
    "We have to keep track of the date, the description and the total of case\n",
    "\n",
    "We count as new case:\n",
    "-  New cases of confirmed\n",
    "\n",
    "We count as new death:\n",
    "-  New deaths registered  \n",
    "-  New deaths registered today (confirmed)\n",
    "\n",
    "#### Guinea\n",
    "Each file corresponding to one day"
   ]
  },
  {
   "cell_type": "code",
   "execution_count": 321,
   "metadata": {
    "collapsed": false
   },
   "outputs": [],
   "source": [
    "#Daily data\n",
    "dailyData = pd.DataFrame(columns=['date', 'country', 'new_cases', 'new_deaths'])\n",
    "\n",
    "for filename in glob.glob(guineaFolderPath + \"/*.csv\"):\n",
    "    df = pd.read_csv(filename, index_col='Description')\n",
    "    \n",
    "    casesRow = df.loc[\"New cases of confirmed\"]\n",
    "    case = casesRow['Totals']\n",
    "    \n",
    "    try:\n",
    "        deathRow = df.loc[\"New deaths registered today (confirmed)\"]\n",
    "    except KeyError:\n",
    "        deathRow = df.loc[\"New deaths registered\"]\n",
    "    death = deathRow['Totals']\n",
    "    \n",
    "    date = deathRow['Date']\n",
    "    \n",
    "    dailyData = dailyData.append({\n",
    "            'date': date,\n",
    "            'country': 'Guinea',\n",
    "            'new_cases': case,\n",
    "            'new_deaths': death,\n",
    "        }, ignore_index=True)\n",
    "#set the column to the correct type\n",
    "dailyData['new_cases'] = pd.to_numeric(dailyData['new_cases'])\n",
    "dailyData['new_deaths'] = pd.to_numeric(dailyData['new_deaths'])\n",
    "dailyData['date'] = pd.to_datetime(dailyData['date'])\n",
    "\n",
    "#compute the average per year and add it to the dataframe\n",
    "temp = dailyData.groupby(dailyData['date'].dt.year).sum().divide(dailyData.shape[0])\n",
    "temp['country'] = 'Guinea'    \n",
    "frames = [yearAverage, temp]\n",
    "yearAverage = pd.concat(frames)"
   ]
  },
  {
   "cell_type": "markdown",
   "metadata": {},
   "source": [
    "#### Liberia\n",
    "Same logic as Guinea\n",
    "\n",
    "We count as new case:\n",
    "-  New case/s (confirmed)\n",
    "\n",
    "We count as new death:\n",
    "-  Newly reported deaths"
   ]
  },
  {
   "cell_type": "code",
   "execution_count": 322,
   "metadata": {
    "collapsed": false
   },
   "outputs": [],
   "source": [
    "#Daily data\n",
    "dailyData = pd.DataFrame(columns=['date', 'country', 'new_cases', 'new_deaths'])\n",
    "\n",
    "for filename in glob.glob(liberiaFolderPath + \"/*.csv\"):\n",
    "    df = pd.read_csv(filename, index_col='Variable')\n",
    "    \n",
    "    casesRow = df.loc[\"New case/s (confirmed)\"]\n",
    "    case = casesRow['National']\n",
    "    \n",
    "    \n",
    "    deathRow = df.loc[\"Newly reported deaths\"]    \n",
    "    death = deathRow['National']\n",
    "    \n",
    "    date = deathRow['Date']\n",
    "    \n",
    "    dailyData = dailyData.append({\n",
    "            'date': date,\n",
    "            'country': 'Liberia',\n",
    "            'new_cases': case,\n",
    "            'new_deaths': death,\n",
    "        }, ignore_index=True)\n",
    "#set the column to the correct type\n",
    "dailyData['new_cases'] = pd.to_numeric(dailyData['new_cases'])\n",
    "dailyData['new_deaths'] = pd.to_numeric(dailyData['new_deaths'])\n",
    "dailyData['date'] = pd.to_datetime(dailyData['date'])\n",
    "\n",
    "#compute the average per year and add it to the dataframe\n",
    "temp = dailyData.groupby(dailyData['date'].dt.year).sum().divide(dailyData.shape[0])\n",
    "temp['country'] = 'Liberia'\n",
    "frames = [yearAverage, temp]\n",
    "yearAverage = pd.concat(frames)"
   ]
  },
  {
   "cell_type": "markdown",
   "metadata": {},
   "source": [
    "#### Sri Lanka\n",
    "Same logic as Guinea and Liberia\n",
    "\n",
    "We count as new case:\n",
    "-  new_confirmed\n",
    "\n",
    "We count as new death:\n",
    "-  etc_new_deaths"
   ]
  },
  {
   "cell_type": "code",
   "execution_count": 323,
   "metadata": {
    "collapsed": false
   },
   "outputs": [],
   "source": [
    "#Daily data\n",
    "dailyData = pd.DataFrame(columns=['date', 'country', 'new_cases', 'new_deaths'])\n",
    "\n",
    "for filename in glob.glob(slFolderPath + \"/*.csv\"):\n",
    "    df = pd.read_csv(filename, index_col='variable')\n",
    "    \n",
    "    casesRow = df.loc[\"new_confirmed\"]\n",
    "    case = casesRow['National']\n",
    "    \n",
    "    \n",
    "    deathRow = df.loc[\"etc_new_deaths\"]    \n",
    "    death = deathRow['National']\n",
    "    \n",
    "    date = deathRow['date']\n",
    "    \n",
    "    dailyData = dailyData.append({\n",
    "            'date': date,\n",
    "            'country': 'Sri Lanka',\n",
    "            'new_cases': case,\n",
    "            'new_deaths': death,\n",
    "        }, ignore_index=True)\n",
    "#set the column to the correct type\n",
    "dailyData['new_cases'] = pd.to_numeric(dailyData['new_cases'])\n",
    "dailyData['new_deaths'] = pd.to_numeric(dailyData['new_deaths'])\n",
    "dailyData['date'] = pd.to_datetime(dailyData['date'])\n",
    "\n",
    "#compute the average per year and add it to the dataframe\n",
    "temp = dailyData.groupby(dailyData['date'].dt.year).sum().divide(dailyData.shape[0])\n",
    "temp['country'] = 'Sri Lanka'\n",
    "frames = [yearAverage, temp]\n",
    "yearAverage = pd.concat(frames)"
   ]
  },
  {
   "cell_type": "markdown",
   "metadata": {},
   "source": [
    "#### Final result\n",
    "The final resulte give the year as index and the daily average per year of new cases and new deaths for each country"
   ]
  },
  {
   "cell_type": "code",
   "execution_count": 324,
   "metadata": {
    "collapsed": false
   },
   "outputs": [
    {
     "data": {
      "text/html": [
       "<div>\n",
       "<table border=\"1\" class=\"dataframe\">\n",
       "  <thead>\n",
       "    <tr style=\"text-align: right;\">\n",
       "      <th></th>\n",
       "      <th>country</th>\n",
       "      <th>new_cases</th>\n",
       "      <th>new_deaths</th>\n",
       "    </tr>\n",
       "  </thead>\n",
       "  <tbody>\n",
       "    <tr>\n",
       "      <th>2014</th>\n",
       "      <td>Guinea</td>\n",
       "      <td>12.545455</td>\n",
       "      <td>4.045455</td>\n",
       "    </tr>\n",
       "    <tr>\n",
       "      <th>2014</th>\n",
       "      <td>Liberia</td>\n",
       "      <td>176.600000</td>\n",
       "      <td>20.380000</td>\n",
       "    </tr>\n",
       "    <tr>\n",
       "      <th>2014</th>\n",
       "      <td>Sri Lanka</td>\n",
       "      <td>42.504854</td>\n",
       "      <td>1.262136</td>\n",
       "    </tr>\n",
       "  </tbody>\n",
       "</table>\n",
       "</div>"
      ],
      "text/plain": [
       "        country   new_cases  new_deaths\n",
       "2014     Guinea   12.545455    4.045455\n",
       "2014    Liberia  176.600000   20.380000\n",
       "2014  Sri Lanka   42.504854    1.262136"
      ]
     },
     "execution_count": 324,
     "metadata": {},
     "output_type": "execute_result"
    }
   ],
   "source": [
    "yearAverage"
   ]
  },
  {
   "cell_type": "markdown",
   "metadata": {},
   "source": [
    "## Task 2. RNA Sequences\n",
    "\n",
    "In the `DATA_FOLDER/microbiome` subdirectory, there are 9 spreadsheets of microbiome data that was acquired from high-throughput RNA sequencing procedures, along with a 10<sup>th</sup> file that describes the content of each. \n",
    "\n",
    "Use pandas to import the first 9 spreadsheets into a single `DataFrame`.\n",
    "Then, add the metadata information from the 10<sup>th</sup> spreadsheet as columns in the combined `DataFrame`.\n",
    "Make sure that the final `DataFrame` has a unique index and all the `NaN` values have been replaced by the tag `unknown`."
   ]
  },
  {
   "cell_type": "code",
   "execution_count": null,
   "metadata": {
    "collapsed": true
   },
   "outputs": [],
   "source": [
    "# Write your answer here"
   ]
  },
  {
   "cell_type": "markdown",
   "metadata": {},
   "source": [
    "## Task 3. Class War in Titanic\n",
    "\n",
    "Use pandas to import the data file `Data/titanic.xls`. It contains data on all the passengers that travelled on the Titanic."
   ]
  },
  {
   "cell_type": "code",
   "execution_count": null,
   "metadata": {
    "collapsed": true
   },
   "outputs": [],
   "source": [
    "from IPython.core.display import HTML\n",
    "HTML(filename=DATA_FOLDER+'/titanic.html')"
   ]
  },
  {
   "cell_type": "markdown",
   "metadata": {},
   "source": [
    "For each of the following questions state clearly your assumptions and discuss your findings:\n",
    "1. Describe the *type* and the *value range* of each attribute. Indicate and transform the attributes that can be `Categorical`. \n",
    "2. Plot histograms for the *travel class*, *embarkation port*, *sex* and *age* attributes. For the latter one, use *discrete decade intervals*. \n",
    "3. Calculate the proportion of passengers by *cabin floor*. Present your results in a *pie chart*.\n",
    "4. For each *travel class*, calculate the proportion of the passengers that survived. Present your results in *pie charts*.\n",
    "5. Calculate the proportion of the passengers that survived by *travel class* and *sex*. Present your results in *a single histogram*.\n",
    "6. Create 2 equally populated *age categories* and calculate survival proportions by *age category*, *travel class* and *sex*. Present your results in a `DataFrame` with unique index."
   ]
  },
  {
   "cell_type": "code",
   "execution_count": null,
   "metadata": {
    "collapsed": true
   },
   "outputs": [],
   "source": [
    "# Write your answer here"
   ]
  }
 ],
 "metadata": {
  "anaconda-cloud": {},
  "kernelspec": {
   "display_name": "Python [conda root]",
   "language": "python",
   "name": "conda-root-py"
  },
  "language_info": {
   "codemirror_mode": {
    "name": "ipython",
    "version": 3
   },
   "file_extension": ".py",
   "mimetype": "text/x-python",
   "name": "python",
   "nbconvert_exporter": "python",
   "pygments_lexer": "ipython3",
   "version": "3.5.2"
  }
 },
 "nbformat": 4,
 "nbformat_minor": 2
}
