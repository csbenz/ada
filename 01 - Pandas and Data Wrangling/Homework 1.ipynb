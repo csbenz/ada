{
 "cells": [
  {
   "cell_type": "markdown",
   "metadata": {},
   "source": [
    "# Table of Contents\n",
    " <p><div class=\"lev1\"><a href=\"#Task-1.-Compiling-Ebola-Data\"><span class=\"toc-item-num\">Task 1.&nbsp;&nbsp;</span>Compiling Ebola Data</a></div>\n",
    " <div class=\"lev1\"><a href=\"#Task-2.-RNA-Sequences\"><span class=\"toc-item-num\">Task 2.&nbsp;&nbsp;</span>RNA Sequences</a></div>\n",
    " <div class=\"lev1\"><a href=\"#Task-3.-Class-War-in-Titanic\"><span class=\"toc-item-num\">Task 3.&nbsp;&nbsp;</span>Class War in Titanic</a></div></p>"
   ]
  },
  {
   "cell_type": "code",
   "execution_count": 4,
   "metadata": {
    "collapsed": true
   },
   "outputs": [],
   "source": [
    "import pandas as pd\n",
    "import numpy as np\n",
    "import glob\n",
    "pd.options.mode.chained_assignment = None  # default='warn', Mutes warnings when copying a slice from a DataFrame.\n",
    "DATA_FOLDER = 'Data' # Use the data folder provided in Tutorial 02 - Intro to Pandas."
   ]
  },
  {
   "cell_type": "markdown",
   "metadata": {},
   "source": [
    "## Task 1. Compiling Ebola Data\n",
    "\n",
    "The `DATA_FOLDER/ebola` folder contains summarized reports of Ebola cases from three countries (Guinea, Liberia and Sierra Leone) during the recent outbreak of the disease in West Africa. For each country, there are daily reports that contain various information about the outbreak in several cities in each country.\n",
    "\n",
    "Use pandas to import these data files into a single `Dataframe`.\n",
    "Using this `DataFrame`, calculate for *each country*, the *daily average* per year of *new cases* and *deaths*.\n",
    "Make sure you handle all the different expressions for *new cases* and *deaths* that are used in the reports."
   ]
  },
  {
   "cell_type": "code",
   "execution_count": 5,
   "metadata": {
    "collapsed": false
   },
   "outputs": [],
   "source": [
    "# Set the folder path\n",
    "guineaFolderPath = DATA_FOLDER + '/ebola/guinea_data'\n",
    "liberiaFolderPath = DATA_FOLDER + '/ebola/liberia_data'\n",
    "slFolderPath = DATA_FOLDER + '/ebola/sl_data'"
   ]
  },
  {
   "cell_type": "markdown",
   "metadata": {},
   "source": [
    "### Load all data\n",
    "\n"
   ]
  },
  {
   "cell_type": "code",
   "execution_count": 17,
   "metadata": {
    "collapsed": false
   },
   "outputs": [
    {
     "data": {
      "text/plain": [
       "Total new cases registered so far                           22\n",
       "Total cases of suspects                                     22\n",
       "Total deaths of suspects                                    22\n",
       "Cumulative (confirmed + probable + suspects)                22\n",
       "Number of contacts to follow today                          22\n",
       "Total deaths (confirmed + probables + suspects)             22\n",
       "Total cases of confirmed                                    22\n",
       "New cases of probables                                      22\n",
       "Total deaths of confirmed                                   22\n",
       "Total cases of probables                                    22\n",
       "Total contacts registered from start date                   22\n",
       "New cases of confirmed                                      22\n",
       "New cases of suspects                                       22\n",
       "Total deaths of probables                                   22\n",
       "Number of contacts followed today                           21\n",
       "Total number of exits from CTE                              21\n",
       "Number of samples under test                                21\n",
       "Total samples tested                                        21\n",
       "Total suspected non-class cases                             21\n",
       "New admits to CTE so far                                    21\n",
       "Total number of hospitalized cases in CTE                   21\n",
       "Number of contacts lost to follow up                        21\n",
       "Number of contacts out of the track 21 days                 21\n",
       "Total case of confirmed among health workers                21\n",
       "New deaths registered                                       21\n",
       "New cases of confirmed among health workers                 21\n",
       "Fatality rate for confirmed and probables                   21\n",
       "Number of samples collected today                           21\n",
       "New contacts registered so far                              21\n",
       "Total number of admissions to CTE                           21\n",
       "Total deaths registered among health workers                21\n",
       "New deaths registered among health workers                  21\n",
       "Total of deaths in confirmed cases in CTE                    1\n",
       "Number of patients tested                                    1\n",
       "Number of suspects cases among health workers                1\n",
       "Number of deaths of confirmed cases among health workers     1\n",
       "Number of female confirmed cases                             1\n",
       "Number of female suspects cases                              1\n",
       "Number of male probables cases                               1\n",
       "Number of male suspects cases                                1\n",
       "Number of probables cases among health workers               1\n",
       "New deaths registered today (probables)                      1\n",
       "Number of contacts followed yesterday                        1\n",
       "Total PEC center today (confirmed)                           1\n",
       "Number of male confirmed cases                               1\n",
       "Total PEC center today                                       1\n",
       "Total number of male cases                                   1\n",
       "New deaths registered today                                  1\n",
       "Number of deaths of probables cases among health workers     1\n",
       "Number of death of confirmed cases among health workers      1\n",
       "Total number of female cases                                 1\n",
       "Number of confirmed cases among health workers               1\n",
       "Total PEC center today (suspects)                            1\n",
       "New deaths registered today (suspects)                       1\n",
       "Number of contacts out of track                              1\n",
       "Total PEC center today (probables)                           1\n",
       "Number of female probables cases                             1\n",
       "New deaths registered today (confirmed)                      1\n",
       "Number of samples collected                                  1\n",
       "Total of cured in confirmed cases in CTE                     1\n",
       "Name: Description, dtype: int64"
      ]
     },
     "execution_count": 17,
     "metadata": {},
     "output_type": "execute_result"
    }
   ],
   "source": [
    "#get all data from the Guinea folder\n",
    "allGuineaFiles = glob.glob(guineaFolderPath + \"/*.csv\")\n",
    "guineaFram = pd.concat((pd.read_csv(f) for f in allGuineaFiles))\n",
    "\n",
    "#Get the different name of the column\n",
    "guineaTitle = list(guineaFram.columns.values)\n",
    "#guineaFram.columns.values\n",
    "\n",
    "#get the different description and how many time it occures\n",
    "guineaDescrCount = guineaFram['Description'].value_counts()"
   ]
  },
  {
   "cell_type": "code",
   "execution_count": 34,
   "metadata": {
    "collapsed": false
   },
   "outputs": [],
   "source": [
    "#get all data from Liberia folder\n",
    "allLiberiaFiles = glob.glob(liberiaFolderPath + \"/*.csv\")\n",
    "liberiaFram = pd.concat((pd.read_csv(f) for f in allLiberiaFiles))"
   ]
  },
  {
   "cell_type": "code",
   "execution_count": 46,
   "metadata": {
    "collapsed": false
   },
   "outputs": [],
   "source": [
    "#get all data from Sierra Leone folder\n",
    "allSLFiles = glob.glob(slFolderPath + \"/*.csv\")\n",
    "slFram = pd.concat((pd.read_csv(f) for f in allSLFiles))"
   ]
  },
  {
   "cell_type": "markdown",
   "metadata": {},
   "source": [
    "## Task 2. RNA Sequences\n",
    "\n",
    "In the `DATA_FOLDER/microbiome` subdirectory, there are 9 spreadsheets of microbiome data that was acquired from high-throughput RNA sequencing procedures, along with a 10<sup>th</sup> file that describes the content of each. \n",
    "\n",
    "Use pandas to import the first 9 spreadsheets into a single `DataFrame`.\n",
    "Then, add the metadata information from the 10<sup>th</sup> spreadsheet as columns in the combined `DataFrame`.\n",
    "Make sure that the final `DataFrame` has a unique index and all the `NaN` values have been replaced by the tag `unknown`."
   ]
  },
  {
   "cell_type": "code",
   "execution_count": null,
   "metadata": {
    "collapsed": true
   },
   "outputs": [],
   "source": [
    "# Write your answer here"
   ]
  },
  {
   "cell_type": "markdown",
   "metadata": {},
   "source": [
    "## Task 3. Class War in Titanic\n",
    "\n",
    "Use pandas to import the data file `Data/titanic.xls`. It contains data on all the passengers that travelled on the Titanic."
   ]
  },
  {
   "cell_type": "code",
   "execution_count": null,
   "metadata": {
    "collapsed": true
   },
   "outputs": [],
   "source": [
    "from IPython.core.display import HTML\n",
    "HTML(filename=DATA_FOLDER+'/titanic.html')"
   ]
  },
  {
   "cell_type": "markdown",
   "metadata": {},
   "source": [
    "For each of the following questions state clearly your assumptions and discuss your findings:\n",
    "1. Describe the *type* and the *value range* of each attribute. Indicate and transform the attributes that can be `Categorical`. \n",
    "2. Plot histograms for the *travel class*, *embarkation port*, *sex* and *age* attributes. For the latter one, use *discrete decade intervals*. \n",
    "3. Calculate the proportion of passengers by *cabin floor*. Present your results in a *pie chart*.\n",
    "4. For each *travel class*, calculate the proportion of the passengers that survived. Present your results in *pie charts*.\n",
    "5. Calculate the proportion of the passengers that survived by *travel class* and *sex*. Present your results in *a single histogram*.\n",
    "6. Create 2 equally populated *age categories* and calculate survival proportions by *age category*, *travel class* and *sex*. Present your results in a `DataFrame` with unique index."
   ]
  },
  {
   "cell_type": "code",
   "execution_count": null,
   "metadata": {
    "collapsed": true
   },
   "outputs": [],
   "source": [
    "# Write your answer here"
   ]
  }
 ],
 "metadata": {
  "anaconda-cloud": {},
  "kernelspec": {
   "display_name": "Python [conda root]",
   "language": "python",
   "name": "conda-root-py"
  },
  "language_info": {
   "codemirror_mode": {
    "name": "ipython",
    "version": 3
   },
   "file_extension": ".py",
   "mimetype": "text/x-python",
   "name": "python",
   "nbconvert_exporter": "python",
   "pygments_lexer": "ipython3",
   "version": "3.5.2"
  }
 },
 "nbformat": 4,
 "nbformat_minor": 2
}
