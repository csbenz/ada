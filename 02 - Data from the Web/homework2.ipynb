{
 "cells": [
  {
   "cell_type": "code",
   "execution_count": 1,
   "metadata": {
    "collapsed": true
   },
   "outputs": [],
   "source": [
    "# Import libraries\n",
    "import requests\n",
    "from bs4 import BeautifulSoup\n",
    "import pandas as pd\n",
    "import numpy as np\n",
    "import json\n",
    "import sys\n",
    "\n",
    "%matplotlib inline"
   ]
  },
  {
   "cell_type": "markdown",
   "metadata": {},
   "source": [
    "# Part 1\n",
    "\n",
    "Task: Obtain the 200 top-ranking universities in www.topuniversities.com ([ranking 2018](https://www.topuniversities.com/university-rankings/world-university-rankings/2018)). In particular, extract the following fields for each university: name, rank, country and region, number of faculty members (international and total) and number of students (international and total). Some information is not available in the main list and you have to find them in the [details page](https://www.topuniversities.com/universities/ecole-polytechnique-fédérale-de-lausanne-epfl).\n",
    "Store the resulting dataset in a pandas DataFrame and answer the following questions:\n",
    "- Which are the best universities in term of: (a) ratio between faculty members and students, (b) ratio of international students?\n",
    "- Answer the previous question aggregating the data by (c) country and (d) region.\n",
    "\n",
    "Plot your data using bar charts and describe briefly what you observed."
   ]
  },
  {
   "cell_type": "code",
   "execution_count": 2,
   "metadata": {
    "collapsed": true
   },
   "outputs": [],
   "source": [
    "#Number of top universities to take into consideration throughout the process\n",
    "n_top = 200"
   ]
  },
  {
   "cell_type": "code",
   "execution_count": 3,
   "metadata": {
    "collapsed": true
   },
   "outputs": [],
   "source": [
    "base_url = 'https://www.topuniversities.com'\n",
    "ranking_url = 'https://www.topuniversities.com/sites/default/files/qs-rankings-data/357051.txt'"
   ]
  },
  {
   "cell_type": "code",
   "execution_count": 4,
   "metadata": {
    "collapsed": true
   },
   "outputs": [],
   "source": [
    "detail_keys = ['total faculty', 'inter faculty', 'total student', 'total inter']\n",
    "\n",
    "#From  a String, extract only the digits and return as an int\n",
    "def extract_int(s):\n",
    "    return int(''.join(c for c in s if c.isdigit()))\n",
    "\n",
    "# Get the details of a uni from the details page and return a dictionary containing the values for the 4 above keys\n",
    "def get_topU_details(uni_url):\n",
    "    details_url = base_url + uni_url\n",
    "    \n",
    "    r = requests.get(details_url)\n",
    "    soup = BeautifulSoup(r.text, 'html.parser')\n",
    "    \n",
    "    # Find the divs containing the numbers in the html page\n",
    "    divs = [soup.find('div', detail_key) for detail_key in detail_keys]\n",
    "    divs = [div.find('div', class_='number') if div != None else None for div in divs]\n",
    "    numbers = [extract_int(div.text) if div != None else 0 for div in divs]\n",
    "  \n",
    "    #Finally we zip the numbers with their respective key names\n",
    "    details = dict(zip(detail_keys, numbers))\n",
    "    \n",
    "    return details"
   ]
  },
  {
   "cell_type": "code",
   "execution_count": 5,
   "metadata": {},
   "outputs": [
    {
     "data": {
      "text/html": [
       "<div>\n",
       "<style>\n",
       "    .dataframe thead tr:only-child th {\n",
       "        text-align: right;\n",
       "    }\n",
       "\n",
       "    .dataframe thead th {\n",
       "        text-align: left;\n",
       "    }\n",
       "\n",
       "    .dataframe tbody tr th {\n",
       "        vertical-align: top;\n",
       "    }\n",
       "</style>\n",
       "<table border=\"1\" class=\"dataframe\">\n",
       "  <thead>\n",
       "    <tr style=\"text-align: right;\">\n",
       "      <th></th>\n",
       "      <th>country</th>\n",
       "      <th>inter faculty</th>\n",
       "      <th>rank_display</th>\n",
       "      <th>region</th>\n",
       "      <th>title</th>\n",
       "      <th>total faculty</th>\n",
       "      <th>total inter</th>\n",
       "      <th>total student</th>\n",
       "    </tr>\n",
       "  </thead>\n",
       "  <tbody>\n",
       "    <tr>\n",
       "      <th>0</th>\n",
       "      <td>United States</td>\n",
       "      <td>1679</td>\n",
       "      <td>1</td>\n",
       "      <td>North America</td>\n",
       "      <td>Massachusetts Institute of Technology (MIT)</td>\n",
       "      <td>2982</td>\n",
       "      <td>3717</td>\n",
       "      <td>11067</td>\n",
       "    </tr>\n",
       "    <tr>\n",
       "      <th>1</th>\n",
       "      <td>United States</td>\n",
       "      <td>2042</td>\n",
       "      <td>2</td>\n",
       "      <td>North America</td>\n",
       "      <td>Stanford University</td>\n",
       "      <td>4285</td>\n",
       "      <td>3611</td>\n",
       "      <td>15878</td>\n",
       "    </tr>\n",
       "    <tr>\n",
       "      <th>2</th>\n",
       "      <td>United States</td>\n",
       "      <td>1311</td>\n",
       "      <td>3</td>\n",
       "      <td>North America</td>\n",
       "      <td>Harvard University</td>\n",
       "      <td>4350</td>\n",
       "      <td>5266</td>\n",
       "      <td>22429</td>\n",
       "    </tr>\n",
       "    <tr>\n",
       "      <th>3</th>\n",
       "      <td>United States</td>\n",
       "      <td>350</td>\n",
       "      <td>4</td>\n",
       "      <td>North America</td>\n",
       "      <td>California Institute of Technology (Caltech)</td>\n",
       "      <td>953</td>\n",
       "      <td>647</td>\n",
       "      <td>2255</td>\n",
       "    </tr>\n",
       "    <tr>\n",
       "      <th>4</th>\n",
       "      <td>United Kingdom</td>\n",
       "      <td>2278</td>\n",
       "      <td>5</td>\n",
       "      <td>Europe</td>\n",
       "      <td>University of Cambridge</td>\n",
       "      <td>5490</td>\n",
       "      <td>6699</td>\n",
       "      <td>18770</td>\n",
       "    </tr>\n",
       "  </tbody>\n",
       "</table>\n",
       "</div>"
      ],
      "text/plain": [
       "          country  inter faculty rank_display         region  \\\n",
       "0   United States           1679            1  North America   \n",
       "1   United States           2042            2  North America   \n",
       "2   United States           1311            3  North America   \n",
       "3   United States            350            4  North America   \n",
       "4  United Kingdom           2278            5         Europe   \n",
       "\n",
       "                                          title  total faculty  total inter  \\\n",
       "0   Massachusetts Institute of Technology (MIT)           2982         3717   \n",
       "1                           Stanford University           4285         3611   \n",
       "2                            Harvard University           4350         5266   \n",
       "3  California Institute of Technology (Caltech)            953          647   \n",
       "4                       University of Cambridge           5490         6699   \n",
       "\n",
       "   total student  \n",
       "0          11067  \n",
       "1          15878  \n",
       "2          22429  \n",
       "3           2255  \n",
       "4          18770  "
      ]
     },
     "execution_count": 5,
     "metadata": {},
     "output_type": "execute_result"
    }
   ],
   "source": [
    "r = requests.get(ranking_url)\n",
    "\n",
    "if(r.status_code != requests.codes.ok):\n",
    "    sys.exit('Could not contact webpage {0}'.format(ranking_url))\n",
    "    \n",
    "rank_data = r.json()[\"data\"][:n_top]\n",
    "\n",
    "#keys we want to extract and keep. We treat ranks differently because we have to do a special operation on them\n",
    "keys = ['title','country','region']\n",
    "\n",
    "country_to_region_map = {}\n",
    "rankings_dico = []\n",
    "for uni in rank_data:    \n",
    "    values = dict([(key, uni[key]) for key in keys if key in uni])\n",
    "    values['rank_display'] = uni['rank_display'].strip(\"=\")\n",
    "    \n",
    "    #Get the details and add them to the values\n",
    "    details = get_topU_details(uni['url'])\n",
    "    values.update(details)\n",
    "    \n",
    "    rankings_dico.append(values)\n",
    "    \n",
    "    # Build the country to region map\n",
    "    country_to_region_map[values['country']] = values['region']\n",
    "\n",
    "# We manually add two countries that are missing and that we need afterwards\n",
    "country_to_region_map['Luxembourg'] = 'Europe'\n",
    "country_to_region_map['Russian Federation'] = 'Asia'\n",
    "\n",
    "rankings = pd.DataFrame(rankings_dico)\n",
    "rankings.head()"
   ]
  },
  {
   "cell_type": "code",
   "execution_count": 6,
   "metadata": {
    "collapsed": true
   },
   "outputs": [],
   "source": [
    "# Computes the two demanded ratios and plots the best universities in a bar chart\n",
    "def plot_top_by_ratio(rankings_df, x_title, x_key='title'):\n",
    "    #Drop any existing ratios if they exist\n",
    "    rankings_df.drop(['ratio_a','ratio_b'], errors='ignore')\n",
    "    \n",
    "    # Create new columns that containthe calculated ratios\n",
    "    rankings_df['ratio_a'] = rankings_df['total faculty'] / rankings_df['total student']\n",
    "    rankings_df['ratio_b'] = rankings_df['total inter'] / rankings_df['total student']\n",
    "\n",
    "    # Sort and keep the top 10\n",
    "    best_a = rankings_df.sort_values(by='ratio_a',ascending=False).head(10)\n",
    "    best_b = rankings_df.sort_values(by='ratio_b',ascending=False).head(10)\n",
    "\n",
    "    # Plot\n",
    "    best_a.plot(kind='bar', x=x_key, y='ratio_a', legend=None, title='Best ' + x_title + ' in term of ratio between faculty members and students')\n",
    "    best_b.plot(kind='bar', x=x_key, y='ratio_b', legend=None, title='Best ' + x_title + ' in term of ratio of international students')"
   ]
  },
  {
   "cell_type": "code",
   "execution_count": 7,
   "metadata": {},
   "outputs": [
    {
     "data": {
      "image/png": "[encoded data removed]",
      "text/plain": [
       "<matplotlib.figure.Figure at 0x7f75e3b0bdd8>"
      ]
     },
     "metadata": {},
     "output_type": "display_data"
    },
    {
     "data": {
      "image/png": "[encoded data removed]",
      "text/plain": [
       "<matplotlib.figure.Figure at 0x7f75e3b0bf60>"
      ]
     },
     "metadata": {},
     "output_type": "display_data"
    }
   ],
   "source": [
    "plot_top_by_ratio(rankings, 'universities', 'title')"
   ]
  },
  {
   "cell_type": "markdown",
   "metadata": {},
   "source": [
    "We can observe above that the best universities for the described ratios are the California Institute of Technology and the London School of Economis and Political Science."
   ]
  },
  {
   "cell_type": "code",
   "execution_count": 8,
   "metadata": {
    "scrolled": false
   },
   "outputs": [
    {
     "data": {
      "image/png": "[encoded data removed]",
      "text/plain": [
       "<matplotlib.figure.Figure at 0x7f75e3b3bb70>"
      ]
     },
     "metadata": {},
     "output_type": "display_data"
    },
    {
     "data": {
      "image/png": "[encoded data removed]",
      "text/plain": [
       "<matplotlib.figure.Figure at 0x7f75e331cc18>"
      ]
     },
     "metadata": {},
     "output_type": "display_data"
    }
   ],
   "source": [
    "# We group by country and then give to the function that will recalculate ratios and plot\n",
    "rankings_by_country = rankings.groupby('country').agg(np.sum)\n",
    "rankings_by_country.reset_index(inplace=True) \n",
    "\n",
    "plot_top_by_ratio(rankings_by_country, 'country', 'country')"
   ]
  },
  {
   "cell_type": "markdown",
   "metadata": {},
   "source": [
    "The best countries for the described ratios are Russia and Australia, as can be seen in the graph above."
   ]
  },
  {
   "cell_type": "code",
   "execution_count": 9,
   "metadata": {
    "scrolled": false
   },
   "outputs": [
    {
     "data": {
      "image/png": "[encoded data removed]",
      "text/plain": [
       "<matplotlib.figure.Figure at 0x7f75e32fce10>"
      ]
     },
     "metadata": {},
     "output_type": "display_data"
    },
    {
     "data": {
      "image/png": "[encoded data removed]",
      "text/plain": [
       "<matplotlib.figure.Figure at 0x7f75e4350a90>"
      ]
     },
     "metadata": {},
     "output_type": "display_data"
    }
   ],
   "source": [
    "rankings_by_region = rankings.groupby('region').agg(np.sum)\n",
    "rankings_by_region.reset_index(inplace=True) \n",
    "\n",
    "plot_top_by_ratio(rankings_by_region, 'region', 'region')"
   ]
  },
  {
   "cell_type": "markdown",
   "metadata": {},
   "source": [
    "Concerning the regions, the best are Asia and Oceania respectively for the two demanded ratios. The difference of international students ratio between regions is quite large, and the results can be quite surprising: Oceania comes before Europe, and Africa before Asia, for example."
   ]
  },
  {
   "cell_type": "markdown",
   "metadata": {},
   "source": [
    "# Part 2\n",
    "\n",
    "Obtain the 200 top-ranking universities in www.timeshighereducation.com ([ranking 2018](http://timeshighereducation.com/world-university-rankings/2018/world-ranking)). Repeat the analysis of the previous point and discuss briefly what you observed."
   ]
  },
  {
   "cell_type": "code",
   "execution_count": 10,
   "metadata": {
    "collapsed": true
   },
   "outputs": [],
   "source": [
    "times_ranking_url = 'https://www.timeshighereducation.com/sites/default/files/the_data_rankings/world_university_rankings_2018_limit0_369a9045a203e176392b9fb8f8c1cb2a.json'\n"
   ]
  },
  {
   "cell_type": "code",
   "execution_count": 11,
   "metadata": {},
   "outputs": [
    {
     "data": {
      "text/html": [
       "<div>\n",
       "<style>\n",
       "    .dataframe thead tr:only-child th {\n",
       "        text-align: right;\n",
       "    }\n",
       "\n",
       "    .dataframe thead th {\n",
       "        text-align: left;\n",
       "    }\n",
       "\n",
       "    .dataframe tbody tr th {\n",
       "        vertical-align: top;\n",
       "    }\n",
       "</style>\n",
       "<table border=\"1\" class=\"dataframe\">\n",
       "  <thead>\n",
       "    <tr style=\"text-align: right;\">\n",
       "      <th></th>\n",
       "      <th>country</th>\n",
       "      <th>rank_display</th>\n",
       "      <th>region</th>\n",
       "      <th>title</th>\n",
       "      <th>total faculty</th>\n",
       "      <th>total inter</th>\n",
       "      <th>total student</th>\n",
       "    </tr>\n",
       "  </thead>\n",
       "  <tbody>\n",
       "    <tr>\n",
       "      <th>0</th>\n",
       "      <td>United Kingdom</td>\n",
       "      <td>1</td>\n",
       "      <td>Europe</td>\n",
       "      <td>University of Oxford</td>\n",
       "      <td>1822.232143</td>\n",
       "      <td>7755</td>\n",
       "      <td>20409</td>\n",
       "    </tr>\n",
       "    <tr>\n",
       "      <th>1</th>\n",
       "      <td>United Kingdom</td>\n",
       "      <td>2</td>\n",
       "      <td>Europe</td>\n",
       "      <td>University of Cambridge</td>\n",
       "      <td>1687.064220</td>\n",
       "      <td>6436</td>\n",
       "      <td>18389</td>\n",
       "    </tr>\n",
       "    <tr>\n",
       "      <th>2</th>\n",
       "      <td>United States</td>\n",
       "      <td>3</td>\n",
       "      <td>North America</td>\n",
       "      <td>California Institute of Technology</td>\n",
       "      <td>339.846154</td>\n",
       "      <td>596</td>\n",
       "      <td>2209</td>\n",
       "    </tr>\n",
       "    <tr>\n",
       "      <th>3</th>\n",
       "      <td>United States</td>\n",
       "      <td>3</td>\n",
       "      <td>North America</td>\n",
       "      <td>Stanford University</td>\n",
       "      <td>2112.666667</td>\n",
       "      <td>3485</td>\n",
       "      <td>15845</td>\n",
       "    </tr>\n",
       "    <tr>\n",
       "      <th>4</th>\n",
       "      <td>United States</td>\n",
       "      <td>5</td>\n",
       "      <td>North America</td>\n",
       "      <td>Massachusetts Institute of Technology</td>\n",
       "      <td>1284.712644</td>\n",
       "      <td>3800</td>\n",
       "      <td>11177</td>\n",
       "    </tr>\n",
       "  </tbody>\n",
       "</table>\n",
       "</div>"
      ],
      "text/plain": [
       "          country rank_display         region  \\\n",
       "0  United Kingdom            1         Europe   \n",
       "1  United Kingdom            2         Europe   \n",
       "2   United States            3  North America   \n",
       "3   United States            3  North America   \n",
       "4   United States            5  North America   \n",
       "\n",
       "                                   title  total faculty  total inter  \\\n",
       "0                   University of Oxford    1822.232143         7755   \n",
       "1                University of Cambridge    1687.064220         6436   \n",
       "2     California Institute of Technology     339.846154          596   \n",
       "3                    Stanford University    2112.666667         3485   \n",
       "4  Massachusetts Institute of Technology    1284.712644         3800   \n",
       "\n",
       "   total student  \n",
       "0          20409  \n",
       "1          18389  \n",
       "2           2209  \n",
       "3          15845  \n",
       "4          11177  "
      ]
     },
     "execution_count": 11,
     "metadata": {},
     "output_type": "execute_result"
    }
   ],
   "source": [
    "# We repeat the same process for the Times ranking\n",
    "times_r = requests.get(times_ranking_url)\n",
    "\n",
    "if(times_r.status_code != requests.codes.ok):\n",
    "    sys.exit('Could not contact webpage {0}'.format(times_ranking_url))\n",
    "    \n",
    "times_rank_data = times_r.json()[\"data\"][:n_top]\n",
    "\n",
    "times_rankings_dico = []\n",
    "for uni in times_rank_data:\n",
    "    values = dict()\n",
    "    values['title'] = uni['name']\n",
    "    values['country'] = uni['location']\n",
    "    values['rank_display'] = uni['rank'].strip(\"=\")\n",
    "    values['region'] = country_to_region_map.get(values['country'], \"Unknown\")\n",
    "    \n",
    "    values['total student'] = extract_int(uni['stats_number_students'])\n",
    "    \n",
    "    values['total inter'] = int(values['total student'] * extract_int(uni['stats_pc_intl_students']) / 100)\n",
    "    values['total faculty'] = values['total student'] * (1.0 / float(uni['stats_student_staff_ratio']))\n",
    "    #we don't need the number of international in the faculty, and can't calculate it anyway\n",
    "    \n",
    "    times_rankings_dico.append(values)\n",
    "\n",
    "times_rankings = pd.DataFrame(times_rankings_dico)\n",
    "times_rankings.head()"
   ]
  },
  {
   "cell_type": "code",
   "execution_count": 12,
   "metadata": {
    "scrolled": false
   },
   "outputs": [
    {
     "data": {
      "image/png": "[encoded data removed]",
      "text/plain": [
       "<matplotlib.figure.Figure at 0x7f75e3a9aac8>"
      ]
     },
     "metadata": {},
     "output_type": "display_data"
    },
    {
     "data": {
      "image/png": "[encoded data removed]",
      "text/plain": [
       "<matplotlib.figure.Figure at 0x7f75e3a9ada0>"
      ]
     },
     "metadata": {},
     "output_type": "display_data"
    }
   ],
   "source": [
    "plot_top_by_ratio(times_rankings, 'universities', 'title')"
   ]
  },
  {
   "cell_type": "markdown",
   "metadata": {},
   "source": [
    "The best unis are the Vanderbilt University and the London School of Economis and Political Science. Caltech isn't even in the first top 10, while it was first in the other ranking."
   ]
  },
  {
   "cell_type": "code",
   "execution_count": 13,
   "metadata": {
    "scrolled": false
   },
   "outputs": [
    {
     "data": {
      "image/png": "[encoded data removed]",
      "text/plain": [
       "<matplotlib.figure.Figure at 0x7f75e3781828>"
      ]
     },
     "metadata": {},
     "output_type": "display_data"
    },
    {
     "data": {
      "image/png": "[encoded data removed]",
      "text/plain": [
       "<matplotlib.figure.Figure at 0x7f75e42d18d0>"
      ]
     },
     "metadata": {},
     "output_type": "display_data"
    }
   ],
   "source": [
    "# We group by country and then give to the function that will recalculate ratios and plot\n",
    "times_rankings_by_country = times_rankings.groupby('country').agg(np.sum)\n",
    "times_rankings_by_country.reset_index(inplace=True) \n",
    "\n",
    "plot_top_by_ratio(times_rankings_by_country, 'country', 'country')"
   ]
  },
  {
   "cell_type": "markdown",
   "metadata": {},
   "source": [
    "The best countries are Denmark and Luxembourg respectively. We see that Luxembourg is by far the first in terms of international students, which can be explained by the small number of total students in the university."
   ]
  },
  {
   "cell_type": "code",
   "execution_count": 14,
   "metadata": {},
   "outputs": [
    {
     "data": {
      "image/png": "[encoded data removed]",
      "text/plain": [
       "<matplotlib.figure.Figure at 0x7f75e3e8cc18>"
      ]
     },
     "metadata": {},
     "output_type": "display_data"
    },
    {
     "data": {
      "image/png": "[encoded data removed]",
      "text/plain": [
       "<matplotlib.figure.Figure at 0x7f75e35560f0>"
      ]
     },
     "metadata": {},
     "output_type": "display_data"
    }
   ],
   "source": [
    "times_rankings_by_region = times_rankings.groupby('region').agg(np.sum)\n",
    "times_rankings_by_region.reset_index(inplace=True) \n",
    "\n",
    "plot_top_by_ratio(times_rankings_by_region, 'region', 'region')"
   ]
  },
  {
   "cell_type": "markdown",
   "metadata": {},
   "source": [
    "The best regions are Africa and Oceania."
   ]
  },
  {
   "cell_type": "markdown",
   "metadata": {},
   "source": [
    "# Part 3\n",
    "Merge the two DataFrames created in questions 1 and 2 using university names. Match universities' names as well as you can, and explain your strategy. Keep track of the original position in both rankings.\n"
   ]
  },
  {
   "cell_type": "markdown",
   "metadata": {},
   "source": [
    "We describe our best method below. We also tried merging using a distance function on the uni names, but the results were less concluant. Please see the end of the notebook for the first method we tried (using distance function)."
   ]
  },
  {
   "cell_type": "code",
   "execution_count": 15,
   "metadata": {
    "collapsed": true
   },
   "outputs": [],
   "source": [
    "# We first merge by exact corresponding uni titles, then look at the remaining ones that haven't been merged.\n",
    "merged_ranking = pd.merge(rankings, times_rankings, how='outer', on='title', indicator=True, suffixes=('_topU', '_times'))\n",
    "\n",
    "#Reorder the columns lexicographically so that corresponding columns are side-by-side for easier comparison\n",
    "merged_ranking.sort_index(axis=1, inplace=True)\n",
    "\n",
    "#print('Number of merged universities: ' + str(len(merged_ranking)) + ' / ' + str(len(rankings)))\n",
    "topU_only = merged_ranking[merged_ranking['_merge'] == 'left_only']\n",
    "times_only = merged_ranking[merged_ranking['_merge'] == 'right_only']\n",
    "both = merged_ranking[merged_ranking['_merge'] == 'both']"
   ]
  },
  {
   "cell_type": "code",
   "execution_count": 16,
   "metadata": {
    "scrolled": false
   },
   "outputs": [
    {
     "data": {
      "text/html": [
       "<div>\n",
       "<style>\n",
       "    .dataframe thead tr:only-child th {\n",
       "        text-align: right;\n",
       "    }\n",
       "\n",
       "    .dataframe thead th {\n",
       "        text-align: left;\n",
       "    }\n",
       "\n",
       "    .dataframe tbody tr th {\n",
       "        vertical-align: top;\n",
       "    }\n",
       "</style>\n",
       "<table border=\"1\" class=\"dataframe\">\n",
       "  <thead>\n",
       "    <tr style=\"text-align: right;\">\n",
       "      <th></th>\n",
       "      <th>_merge</th>\n",
       "      <th>country_times</th>\n",
       "      <th>country_topU</th>\n",
       "      <th>inter faculty</th>\n",
       "      <th>rank_display_times</th>\n",
       "      <th>rank_display_topU</th>\n",
       "      <th>ratio_a_times</th>\n",
       "      <th>ratio_a_topU</th>\n",
       "      <th>ratio_b_times</th>\n",
       "      <th>ratio_b_topU</th>\n",
       "      <th>region_times</th>\n",
       "      <th>region_topU</th>\n",
       "      <th>title</th>\n",
       "      <th>total faculty_times</th>\n",
       "      <th>total faculty_topU</th>\n",
       "      <th>total inter_times</th>\n",
       "      <th>total inter_topU</th>\n",
       "      <th>total student_times</th>\n",
       "      <th>total student_topU</th>\n",
       "    </tr>\n",
       "  </thead>\n",
       "  <tbody>\n",
       "    <tr>\n",
       "      <th>200</th>\n",
       "      <td>right_only</td>\n",
       "      <td>United States</td>\n",
       "      <td>NaN</td>\n",
       "      <td>NaN</td>\n",
       "      <td>3</td>\n",
       "      <td>NaN</td>\n",
       "      <td>0.153846</td>\n",
       "      <td>NaN</td>\n",
       "      <td>0.269805</td>\n",
       "      <td>NaN</td>\n",
       "      <td>North America</td>\n",
       "      <td>NaN</td>\n",
       "      <td>California Institute of Technology</td>\n",
       "      <td>339.846154</td>\n",
       "      <td>NaN</td>\n",
       "      <td>596.0</td>\n",
       "      <td>NaN</td>\n",
       "      <td>2209.0</td>\n",
       "      <td>NaN</td>\n",
       "    </tr>\n",
       "    <tr>\n",
       "      <th>201</th>\n",
       "      <td>right_only</td>\n",
       "      <td>United States</td>\n",
       "      <td>NaN</td>\n",
       "      <td>NaN</td>\n",
       "      <td>5</td>\n",
       "      <td>NaN</td>\n",
       "      <td>0.114943</td>\n",
       "      <td>NaN</td>\n",
       "      <td>0.339984</td>\n",
       "      <td>NaN</td>\n",
       "      <td>North America</td>\n",
       "      <td>NaN</td>\n",
       "      <td>Massachusetts Institute of Technology</td>\n",
       "      <td>1284.712644</td>\n",
       "      <td>NaN</td>\n",
       "      <td>3800.0</td>\n",
       "      <td>NaN</td>\n",
       "      <td>11177.0</td>\n",
       "      <td>NaN</td>\n",
       "    </tr>\n",
       "    <tr>\n",
       "      <th>202</th>\n",
       "      <td>right_only</td>\n",
       "      <td>Switzerland</td>\n",
       "      <td>NaN</td>\n",
       "      <td>NaN</td>\n",
       "      <td>10</td>\n",
       "      <td>NaN</td>\n",
       "      <td>0.068493</td>\n",
       "      <td>NaN</td>\n",
       "      <td>0.379972</td>\n",
       "      <td>NaN</td>\n",
       "      <td>Europe</td>\n",
       "      <td>NaN</td>\n",
       "      <td>ETH Zurich – Swiss Federal Institute of Techno...</td>\n",
       "      <td>1317.328767</td>\n",
       "      <td>NaN</td>\n",
       "      <td>7308.0</td>\n",
       "      <td>NaN</td>\n",
       "      <td>19233.0</td>\n",
       "      <td>NaN</td>\n",
       "    </tr>\n",
       "    <tr>\n",
       "      <th>203</th>\n",
       "      <td>right_only</td>\n",
       "      <td>United States</td>\n",
       "      <td>NaN</td>\n",
       "      <td>NaN</td>\n",
       "      <td>15</td>\n",
       "      <td>NaN</td>\n",
       "      <td>0.104167</td>\n",
       "      <td>NaN</td>\n",
       "      <td>0.169989</td>\n",
       "      <td>NaN</td>\n",
       "      <td>North America</td>\n",
       "      <td>NaN</td>\n",
       "      <td>University of California, Los Angeles</td>\n",
       "      <td>4091.562500</td>\n",
       "      <td>NaN</td>\n",
       "      <td>6677.0</td>\n",
       "      <td>NaN</td>\n",
       "      <td>39279.0</td>\n",
       "      <td>NaN</td>\n",
       "    </tr>\n",
       "    <tr>\n",
       "      <th>204</th>\n",
       "      <td>right_only</td>\n",
       "      <td>United Kingdom</td>\n",
       "      <td>NaN</td>\n",
       "      <td>NaN</td>\n",
       "      <td>16</td>\n",
       "      <td>NaN</td>\n",
       "      <td>0.095238</td>\n",
       "      <td>NaN</td>\n",
       "      <td>0.489968</td>\n",
       "      <td>NaN</td>\n",
       "      <td>Europe</td>\n",
       "      <td>NaN</td>\n",
       "      <td>University College London</td>\n",
       "      <td>2886.095238</td>\n",
       "      <td>NaN</td>\n",
       "      <td>14848.0</td>\n",
       "      <td>NaN</td>\n",
       "      <td>30304.0</td>\n",
       "      <td>NaN</td>\n",
       "    </tr>\n",
       "  </tbody>\n",
       "</table>\n",
       "</div>"
      ],
      "text/plain": [
       "         _merge   country_times country_topU  inter faculty  \\\n",
       "200  right_only   United States          NaN            NaN   \n",
       "201  right_only   United States          NaN            NaN   \n",
       "202  right_only     Switzerland          NaN            NaN   \n",
       "203  right_only   United States          NaN            NaN   \n",
       "204  right_only  United Kingdom          NaN            NaN   \n",
       "\n",
       "    rank_display_times rank_display_topU  ratio_a_times  ratio_a_topU  \\\n",
       "200                  3               NaN       0.153846           NaN   \n",
       "201                  5               NaN       0.114943           NaN   \n",
       "202                 10               NaN       0.068493           NaN   \n",
       "203                 15               NaN       0.104167           NaN   \n",
       "204                 16               NaN       0.095238           NaN   \n",
       "\n",
       "     ratio_b_times  ratio_b_topU   region_times region_topU  \\\n",
       "200       0.269805           NaN  North America         NaN   \n",
       "201       0.339984           NaN  North America         NaN   \n",
       "202       0.379972           NaN         Europe         NaN   \n",
       "203       0.169989           NaN  North America         NaN   \n",
       "204       0.489968           NaN         Europe         NaN   \n",
       "\n",
       "                                                 title  total faculty_times  \\\n",
       "200                 California Institute of Technology           339.846154   \n",
       "201              Massachusetts Institute of Technology          1284.712644   \n",
       "202  ETH Zurich – Swiss Federal Institute of Techno...          1317.328767   \n",
       "203              University of California, Los Angeles          4091.562500   \n",
       "204                          University College London          2886.095238   \n",
       "\n",
       "     total faculty_topU  total inter_times  total inter_topU  \\\n",
       "200                 NaN              596.0               NaN   \n",
       "201                 NaN             3800.0               NaN   \n",
       "202                 NaN             7308.0               NaN   \n",
       "203                 NaN             6677.0               NaN   \n",
       "204                 NaN            14848.0               NaN   \n",
       "\n",
       "     total student_times  total student_topU  \n",
       "200               2209.0                 NaN  \n",
       "201              11177.0                 NaN  \n",
       "202              19233.0                 NaN  \n",
       "203              39279.0                 NaN  \n",
       "204              30304.0                 NaN  "
      ]
     },
     "execution_count": 16,
     "metadata": {},
     "output_type": "execute_result"
    }
   ],
   "source": [
    "# These are the unis from Times that didn't find a perfect match\n",
    "times_only.head()\n",
    "\n",
    "# We can do the same for Top Universities with 'topU_only.head()'"
   ]
  },
  {
   "cell_type": "markdown",
   "metadata": {},
   "source": [
    "We observe that in most cases that were not merged, the uni titles have additional abbreviations, or some characters are a bit different (such as the dash in ETH Zurich). We decide to remove the special characters from the titles, make them all lowercase, and then check if the titles in each dataframe contain each other.\n",
    "\n",
    "We check if one of the normalized titles is contained in another, and if so, we consider it a match. Note that when there are multiple matches, like with 'The Chinese University of Hong Kong (CUHK)' and 'University of Hong Kong', we ignore the match, but this happens only once for all unis. We could additionally compute a difference function between the conflicting matches to resolve the issue.\n"
   ]
  },
  {
   "cell_type": "code",
   "execution_count": 17,
   "metadata": {
    "collapsed": true
   },
   "outputs": [],
   "source": [
    "#Add a column 'n_title' with a lowercase-only title that was stripped of its special characters and spaces\n",
    "def add_normalize_title(df):\n",
    "    n_titles = df['title']\n",
    "    n_titles = n_titles.str.replace('[^a-zA-Z]', '')\n",
    "    n_titles = n_titles.str.lower()\n",
    "\n",
    "    df['n_title'] = n_titles"
   ]
  },
  {
   "cell_type": "code",
   "execution_count": 18,
   "metadata": {
    "scrolled": true
   },
   "outputs": [
    {
     "name": "stderr",
     "output_type": "stream",
     "text": [
      "/home/christo/anaconda3/lib/python3.6/site-packages/ipykernel/__main__.py:7: SettingWithCopyWarning: \n",
      "A value is trying to be set on a copy of a slice from a DataFrame.\n",
      "Try using .loc[row_indexer,col_indexer] = value instead\n",
      "\n",
      "See the caveats in the documentation: http://pandas.pydata.org/pandas-docs/stable/indexing.html#indexing-view-versus-copy\n"
     ]
    }
   ],
   "source": [
    "add_normalize_title(topU_only)\n",
    "add_normalize_title(times_only)"
   ]
  },
  {
   "cell_type": "code",
   "execution_count": 19,
   "metadata": {},
   "outputs": [
    {
     "data": {
      "text/plain": [
       "0          massachusettsinstituteoftechnologymit\n",
       "3         californiainstituteoftechnologycaltech\n",
       "6                     ucluniversitycollegelondon\n",
       "9     ethzurichswissfederalinstituteoftechnology\n",
       "10    nanyangtechnologicaluniversitysingaporentu\n",
       "Name: n_title, dtype: object"
      ]
     },
     "execution_count": 19,
     "metadata": {},
     "output_type": "execute_result"
    }
   ],
   "source": [
    "# This is what the new column looks like\n",
    "topU_only['n_title'].head()"
   ]
  },
  {
   "cell_type": "code",
   "execution_count": 20,
   "metadata": {},
   "outputs": [],
   "source": [
    "# This method compares pairs of uni names, and if one of the unis in a pair is contained in the other, it adds\n",
    "# a new row to our merged table 'both'.\n",
    "def find_title_contain(left, right):\n",
    "    global both\n",
    "    for (index_topU,uni_name) in left['n_title'].iteritems():\n",
    "        # create an array of booleans indicating if the uni name is contained in one of the other uni names\n",
    "        contains = right['n_title'].str.contains(uni_name)\n",
    "\n",
    "        # we merge and add the row only if there's an unique match.\n",
    "        if np.sum(contains) == 1:\n",
    "            #print('Found unique match! :D for ' + uni_name)\n",
    "            index_times = contains.index[contains == True].tolist()[0]\n",
    "\n",
    "            topU_part = left.loc[[index_topU]].squeeze().dropna(how='all').drop(['title'])\n",
    "            times_part = right.loc[[index_times]].squeeze().dropna(how='all')\n",
    "\n",
    "            # Create a row with both uni details\n",
    "            joined = topU_part.append(times_part)\n",
    "            joined.drop(['_merge', 'n_title'], inplace=True)\n",
    "\n",
    "            # Add thw row to our big table 'both'\n",
    "            both.loc[-1] = joined\n",
    "            both.reset_index(drop=True,inplace=True)\n",
    "            both = both.drop('_merge',  errors='ignore',axis=1)\n",
    "            \n",
    "            left = left.drop(index_topU)\n",
    "            right = right.drop(index_times)\n",
    "\n",
    "        #elif np.sum(contains) > 1:\n",
    "            #print('Found multiple matches :O for ' + uni_name)\n",
    "       # else:\n",
    "            #print('Found no match :( for ' + uni_name)"
   ]
  },
  {
   "cell_type": "code",
   "execution_count": 21,
   "metadata": {
    "scrolled": true
   },
   "outputs": [
    {
     "name": "stderr",
     "output_type": "stream",
     "text": [
      "/home/christo/anaconda3/lib/python3.6/site-packages/ipykernel/__main__.py:22: SettingWithCopyWarning: \n",
      "A value is trying to be set on a copy of a slice from a DataFrame\n",
      "\n",
      "See the caveats in the documentation: http://pandas.pydata.org/pandas-docs/stable/indexing.html#indexing-view-versus-copy\n"
     ]
    }
   ],
   "source": [
    "find_title_contain(topU_only, times_only)\n",
    "find_title_contain(times_only, topU_only)"
   ]
  },
  {
   "cell_type": "markdown",
   "metadata": {},
   "source": [
    "We now have a merged dataframe with details of both websites. We were able to merge 147 universities with our method. As described earlier, we also tried another method that can be found at the end of the notebook."
   ]
  },
  {
   "cell_type": "code",
   "execution_count": 22,
   "metadata": {
    "scrolled": false
   },
   "outputs": [
    {
     "data": {
      "text/html": [
       "<div>\n",
       "<style>\n",
       "    .dataframe thead tr:only-child th {\n",
       "        text-align: right;\n",
       "    }\n",
       "\n",
       "    .dataframe thead th {\n",
       "        text-align: left;\n",
       "    }\n",
       "\n",
       "    .dataframe tbody tr th {\n",
       "        vertical-align: top;\n",
       "    }\n",
       "</style>\n",
       "<table border=\"1\" class=\"dataframe\">\n",
       "  <thead>\n",
       "    <tr style=\"text-align: right;\">\n",
       "      <th></th>\n",
       "      <th>country_times</th>\n",
       "      <th>country_topU</th>\n",
       "      <th>inter faculty</th>\n",
       "      <th>rank_display_times</th>\n",
       "      <th>rank_display_topU</th>\n",
       "      <th>ratio_a_times</th>\n",
       "      <th>ratio_a_topU</th>\n",
       "      <th>ratio_b_times</th>\n",
       "      <th>ratio_b_topU</th>\n",
       "      <th>region_times</th>\n",
       "      <th>region_topU</th>\n",
       "      <th>title</th>\n",
       "      <th>total faculty_times</th>\n",
       "      <th>total faculty_topU</th>\n",
       "      <th>total inter_times</th>\n",
       "      <th>total inter_topU</th>\n",
       "      <th>total student_times</th>\n",
       "      <th>total student_topU</th>\n",
       "    </tr>\n",
       "  </thead>\n",
       "  <tbody>\n",
       "    <tr>\n",
       "      <th>0</th>\n",
       "      <td>United States</td>\n",
       "      <td>United States</td>\n",
       "      <td>2042.0</td>\n",
       "      <td>3</td>\n",
       "      <td>2</td>\n",
       "      <td>0.133333</td>\n",
       "      <td>0.269870</td>\n",
       "      <td>0.219943</td>\n",
       "      <td>0.227422</td>\n",
       "      <td>North America</td>\n",
       "      <td>North America</td>\n",
       "      <td>Stanford University</td>\n",
       "      <td>2112.666667</td>\n",
       "      <td>4285.0</td>\n",
       "      <td>3485.0</td>\n",
       "      <td>3611.0</td>\n",
       "      <td>15845.0</td>\n",
       "      <td>15878.0</td>\n",
       "    </tr>\n",
       "    <tr>\n",
       "      <th>1</th>\n",
       "      <td>United States</td>\n",
       "      <td>United States</td>\n",
       "      <td>1311.0</td>\n",
       "      <td>6</td>\n",
       "      <td>3</td>\n",
       "      <td>0.112360</td>\n",
       "      <td>0.193945</td>\n",
       "      <td>0.259963</td>\n",
       "      <td>0.234785</td>\n",
       "      <td>North America</td>\n",
       "      <td>North America</td>\n",
       "      <td>Harvard University</td>\n",
       "      <td>2283.820225</td>\n",
       "      <td>4350.0</td>\n",
       "      <td>5284.0</td>\n",
       "      <td>5266.0</td>\n",
       "      <td>20326.0</td>\n",
       "      <td>22429.0</td>\n",
       "    </tr>\n",
       "    <tr>\n",
       "      <th>2</th>\n",
       "      <td>United Kingdom</td>\n",
       "      <td>United Kingdom</td>\n",
       "      <td>2278.0</td>\n",
       "      <td>2</td>\n",
       "      <td>5</td>\n",
       "      <td>0.091743</td>\n",
       "      <td>0.292488</td>\n",
       "      <td>0.349992</td>\n",
       "      <td>0.356899</td>\n",
       "      <td>Europe</td>\n",
       "      <td>Europe</td>\n",
       "      <td>University of Cambridge</td>\n",
       "      <td>1687.064220</td>\n",
       "      <td>5490.0</td>\n",
       "      <td>6436.0</td>\n",
       "      <td>6699.0</td>\n",
       "      <td>18389.0</td>\n",
       "      <td>18770.0</td>\n",
       "    </tr>\n",
       "    <tr>\n",
       "      <th>3</th>\n",
       "      <td>United Kingdom</td>\n",
       "      <td>United Kingdom</td>\n",
       "      <td>2964.0</td>\n",
       "      <td>1</td>\n",
       "      <td>6</td>\n",
       "      <td>0.089286</td>\n",
       "      <td>0.342292</td>\n",
       "      <td>0.379979</td>\n",
       "      <td>0.372870</td>\n",
       "      <td>Europe</td>\n",
       "      <td>Europe</td>\n",
       "      <td>University of Oxford</td>\n",
       "      <td>1822.232143</td>\n",
       "      <td>6750.0</td>\n",
       "      <td>7755.0</td>\n",
       "      <td>7353.0</td>\n",
       "      <td>20409.0</td>\n",
       "      <td>19720.0</td>\n",
       "    </tr>\n",
       "    <tr>\n",
       "      <th>4</th>\n",
       "      <td>United Kingdom</td>\n",
       "      <td>United Kingdom</td>\n",
       "      <td>2071.0</td>\n",
       "      <td>8</td>\n",
       "      <td>8</td>\n",
       "      <td>0.087719</td>\n",
       "      <td>0.244251</td>\n",
       "      <td>0.549978</td>\n",
       "      <td>0.543567</td>\n",
       "      <td>Europe</td>\n",
       "      <td>Europe</td>\n",
       "      <td>Imperial College London</td>\n",
       "      <td>1390.964912</td>\n",
       "      <td>3930.0</td>\n",
       "      <td>8721.0</td>\n",
       "      <td>8746.0</td>\n",
       "      <td>15857.0</td>\n",
       "      <td>16090.0</td>\n",
       "    </tr>\n",
       "  </tbody>\n",
       "</table>\n",
       "</div>"
      ],
      "text/plain": [
       "    country_times    country_topU  inter faculty rank_display_times  \\\n",
       "0   United States   United States         2042.0                  3   \n",
       "1   United States   United States         1311.0                  6   \n",
       "2  United Kingdom  United Kingdom         2278.0                  2   \n",
       "3  United Kingdom  United Kingdom         2964.0                  1   \n",
       "4  United Kingdom  United Kingdom         2071.0                  8   \n",
       "\n",
       "  rank_display_topU  ratio_a_times  ratio_a_topU  ratio_b_times  ratio_b_topU  \\\n",
       "0                 2       0.133333      0.269870       0.219943      0.227422   \n",
       "1                 3       0.112360      0.193945       0.259963      0.234785   \n",
       "2                 5       0.091743      0.292488       0.349992      0.356899   \n",
       "3                 6       0.089286      0.342292       0.379979      0.372870   \n",
       "4                 8       0.087719      0.244251       0.549978      0.543567   \n",
       "\n",
       "    region_times    region_topU                    title  total faculty_times  \\\n",
       "0  North America  North America      Stanford University          2112.666667   \n",
       "1  North America  North America       Harvard University          2283.820225   \n",
       "2         Europe         Europe  University of Cambridge          1687.064220   \n",
       "3         Europe         Europe     University of Oxford          1822.232143   \n",
       "4         Europe         Europe  Imperial College London          1390.964912   \n",
       "\n",
       "   total faculty_topU  total inter_times  total inter_topU  \\\n",
       "0              4285.0             3485.0            3611.0   \n",
       "1              4350.0             5284.0            5266.0   \n",
       "2              5490.0             6436.0            6699.0   \n",
       "3              6750.0             7755.0            7353.0   \n",
       "4              3930.0             8721.0            8746.0   \n",
       "\n",
       "   total student_times  total student_topU  \n",
       "0              15845.0             15878.0  \n",
       "1              20326.0             22429.0  \n",
       "2              18389.0             18770.0  \n",
       "3              20409.0             19720.0  \n",
       "4              15857.0             16090.0  "
      ]
     },
     "execution_count": 22,
     "metadata": {},
     "output_type": "execute_result"
    }
   ],
   "source": [
    "both.head()"
   ]
  },
  {
   "cell_type": "markdown",
   "metadata": {},
   "source": [
    "# Part 4\n",
    "Find useful insights in the data by performing an exploratory analysis. Can you find a strong correlation between any pair of variables in the dataset you just created? Example: when a university is strong in its international dimension, can you observe a consistency both for students and faculty members?"
   ]
  },
  {
   "cell_type": "code",
   "execution_count": 23,
   "metadata": {},
   "outputs": [
    {
     "data": {
      "text/html": [
       "<div>\n",
       "<style>\n",
       "    .dataframe thead tr:only-child th {\n",
       "        text-align: right;\n",
       "    }\n",
       "\n",
       "    .dataframe thead th {\n",
       "        text-align: left;\n",
       "    }\n",
       "\n",
       "    .dataframe tbody tr th {\n",
       "        vertical-align: top;\n",
       "    }\n",
       "</style>\n",
       "<table border=\"1\" class=\"dataframe\">\n",
       "  <thead>\n",
       "    <tr style=\"text-align: right;\">\n",
       "      <th></th>\n",
       "      <th>inter faculty</th>\n",
       "      <th>ratio_a_times</th>\n",
       "      <th>ratio_a_topU</th>\n",
       "      <th>ratio_b_times</th>\n",
       "      <th>ratio_b_topU</th>\n",
       "      <th>total faculty_times</th>\n",
       "      <th>total faculty_topU</th>\n",
       "      <th>total inter_times</th>\n",
       "      <th>total inter_topU</th>\n",
       "      <th>total student_times</th>\n",
       "      <th>total student_topU</th>\n",
       "    </tr>\n",
       "  </thead>\n",
       "  <tbody>\n",
       "    <tr>\n",
       "      <th>inter faculty</th>\n",
       "      <td>1.000000</td>\n",
       "      <td>NaN</td>\n",
       "      <td>NaN</td>\n",
       "      <td>NaN</td>\n",
       "      <td>NaN</td>\n",
       "      <td>NaN</td>\n",
       "      <td>0.657178</td>\n",
       "      <td>0.523798</td>\n",
       "      <td>0.582364</td>\n",
       "      <td>NaN</td>\n",
       "      <td>NaN</td>\n",
       "    </tr>\n",
       "    <tr>\n",
       "      <th>ratio_a_times</th>\n",
       "      <td>NaN</td>\n",
       "      <td>1.00000</td>\n",
       "      <td>0.70174</td>\n",
       "      <td>NaN</td>\n",
       "      <td>NaN</td>\n",
       "      <td>NaN</td>\n",
       "      <td>NaN</td>\n",
       "      <td>NaN</td>\n",
       "      <td>NaN</td>\n",
       "      <td>NaN</td>\n",
       "      <td>NaN</td>\n",
       "    </tr>\n",
       "    <tr>\n",
       "      <th>ratio_a_topU</th>\n",
       "      <td>NaN</td>\n",
       "      <td>0.70174</td>\n",
       "      <td>1.00000</td>\n",
       "      <td>NaN</td>\n",
       "      <td>NaN</td>\n",
       "      <td>NaN</td>\n",
       "      <td>NaN</td>\n",
       "      <td>NaN</td>\n",
       "      <td>NaN</td>\n",
       "      <td>NaN</td>\n",
       "      <td>NaN</td>\n",
       "    </tr>\n",
       "    <tr>\n",
       "      <th>ratio_b_times</th>\n",
       "      <td>NaN</td>\n",
       "      <td>NaN</td>\n",
       "      <td>NaN</td>\n",
       "      <td>1.000000</td>\n",
       "      <td>0.954239</td>\n",
       "      <td>NaN</td>\n",
       "      <td>NaN</td>\n",
       "      <td>0.512505</td>\n",
       "      <td>NaN</td>\n",
       "      <td>NaN</td>\n",
       "      <td>NaN</td>\n",
       "    </tr>\n",
       "    <tr>\n",
       "      <th>ratio_b_topU</th>\n",
       "      <td>NaN</td>\n",
       "      <td>NaN</td>\n",
       "      <td>NaN</td>\n",
       "      <td>0.954239</td>\n",
       "      <td>1.000000</td>\n",
       "      <td>NaN</td>\n",
       "      <td>NaN</td>\n",
       "      <td>0.534772</td>\n",
       "      <td>0.520189</td>\n",
       "      <td>NaN</td>\n",
       "      <td>NaN</td>\n",
       "    </tr>\n",
       "    <tr>\n",
       "      <th>total faculty_times</th>\n",
       "      <td>NaN</td>\n",
       "      <td>NaN</td>\n",
       "      <td>NaN</td>\n",
       "      <td>NaN</td>\n",
       "      <td>NaN</td>\n",
       "      <td>1.000000</td>\n",
       "      <td>0.702133</td>\n",
       "      <td>NaN</td>\n",
       "      <td>NaN</td>\n",
       "      <td>0.565559</td>\n",
       "      <td>NaN</td>\n",
       "    </tr>\n",
       "    <tr>\n",
       "      <th>total faculty_topU</th>\n",
       "      <td>0.657178</td>\n",
       "      <td>NaN</td>\n",
       "      <td>NaN</td>\n",
       "      <td>NaN</td>\n",
       "      <td>NaN</td>\n",
       "      <td>0.702133</td>\n",
       "      <td>1.000000</td>\n",
       "      <td>NaN</td>\n",
       "      <td>NaN</td>\n",
       "      <td>0.587118</td>\n",
       "      <td>0.609727</td>\n",
       "    </tr>\n",
       "    <tr>\n",
       "      <th>total inter_times</th>\n",
       "      <td>0.523798</td>\n",
       "      <td>NaN</td>\n",
       "      <td>NaN</td>\n",
       "      <td>0.512505</td>\n",
       "      <td>0.534772</td>\n",
       "      <td>NaN</td>\n",
       "      <td>NaN</td>\n",
       "      <td>1.000000</td>\n",
       "      <td>0.890727</td>\n",
       "      <td>0.562585</td>\n",
       "      <td>0.539496</td>\n",
       "    </tr>\n",
       "    <tr>\n",
       "      <th>total inter_topU</th>\n",
       "      <td>0.582364</td>\n",
       "      <td>NaN</td>\n",
       "      <td>NaN</td>\n",
       "      <td>NaN</td>\n",
       "      <td>0.520189</td>\n",
       "      <td>NaN</td>\n",
       "      <td>NaN</td>\n",
       "      <td>0.890727</td>\n",
       "      <td>1.000000</td>\n",
       "      <td>0.566048</td>\n",
       "      <td>0.638468</td>\n",
       "    </tr>\n",
       "    <tr>\n",
       "      <th>total student_times</th>\n",
       "      <td>NaN</td>\n",
       "      <td>NaN</td>\n",
       "      <td>NaN</td>\n",
       "      <td>NaN</td>\n",
       "      <td>NaN</td>\n",
       "      <td>0.565559</td>\n",
       "      <td>0.587118</td>\n",
       "      <td>0.562585</td>\n",
       "      <td>0.566048</td>\n",
       "      <td>1.000000</td>\n",
       "      <td>0.947985</td>\n",
       "    </tr>\n",
       "    <tr>\n",
       "      <th>total student_topU</th>\n",
       "      <td>NaN</td>\n",
       "      <td>NaN</td>\n",
       "      <td>NaN</td>\n",
       "      <td>NaN</td>\n",
       "      <td>NaN</td>\n",
       "      <td>NaN</td>\n",
       "      <td>0.609727</td>\n",
       "      <td>0.539496</td>\n",
       "      <td>0.638468</td>\n",
       "      <td>0.947985</td>\n",
       "      <td>1.000000</td>\n",
       "    </tr>\n",
       "  </tbody>\n",
       "</table>\n",
       "</div>"
      ],
      "text/plain": [
       "                     inter faculty  ratio_a_times  ratio_a_topU  \\\n",
       "inter faculty             1.000000            NaN           NaN   \n",
       "ratio_a_times                  NaN        1.00000       0.70174   \n",
       "ratio_a_topU                   NaN        0.70174       1.00000   \n",
       "ratio_b_times                  NaN            NaN           NaN   \n",
       "ratio_b_topU                   NaN            NaN           NaN   \n",
       "total faculty_times            NaN            NaN           NaN   \n",
       "total faculty_topU        0.657178            NaN           NaN   \n",
       "total inter_times         0.523798            NaN           NaN   \n",
       "total inter_topU          0.582364            NaN           NaN   \n",
       "total student_times            NaN            NaN           NaN   \n",
       "total student_topU             NaN            NaN           NaN   \n",
       "\n",
       "                     ratio_b_times  ratio_b_topU  total faculty_times  \\\n",
       "inter faculty                  NaN           NaN                  NaN   \n",
       "ratio_a_times                  NaN           NaN                  NaN   \n",
       "ratio_a_topU                   NaN           NaN                  NaN   \n",
       "ratio_b_times             1.000000      0.954239                  NaN   \n",
       "ratio_b_topU              0.954239      1.000000                  NaN   \n",
       "total faculty_times            NaN           NaN             1.000000   \n",
       "total faculty_topU             NaN           NaN             0.702133   \n",
       "total inter_times         0.512505      0.534772                  NaN   \n",
       "total inter_topU               NaN      0.520189                  NaN   \n",
       "total student_times            NaN           NaN             0.565559   \n",
       "total student_topU             NaN           NaN                  NaN   \n",
       "\n",
       "                     total faculty_topU  total inter_times  total inter_topU  \\\n",
       "inter faculty                  0.657178           0.523798          0.582364   \n",
       "ratio_a_times                       NaN                NaN               NaN   \n",
       "ratio_a_topU                        NaN                NaN               NaN   \n",
       "ratio_b_times                       NaN           0.512505               NaN   \n",
       "ratio_b_topU                        NaN           0.534772          0.520189   \n",
       "total faculty_times            0.702133                NaN               NaN   \n",
       "total faculty_topU             1.000000                NaN               NaN   \n",
       "total inter_times                   NaN           1.000000          0.890727   \n",
       "total inter_topU                    NaN           0.890727          1.000000   \n",
       "total student_times            0.587118           0.562585          0.566048   \n",
       "total student_topU             0.609727           0.539496          0.638468   \n",
       "\n",
       "                     total student_times  total student_topU  \n",
       "inter faculty                        NaN                 NaN  \n",
       "ratio_a_times                        NaN                 NaN  \n",
       "ratio_a_topU                         NaN                 NaN  \n",
       "ratio_b_times                        NaN                 NaN  \n",
       "ratio_b_topU                         NaN                 NaN  \n",
       "total faculty_times             0.565559                 NaN  \n",
       "total faculty_topU              0.587118            0.609727  \n",
       "total inter_times               0.562585            0.539496  \n",
       "total inter_topU                0.566048            0.638468  \n",
       "total student_times             1.000000            0.947985  \n",
       "total student_topU              0.947985            1.000000  "
      ]
     },
     "execution_count": 23,
     "metadata": {},
     "output_type": "execute_result"
    }
   ],
   "source": [
    "c = both.corr()\n",
    "\n",
    "c[c > 0.5]"
   ]
  },
  {
   "cell_type": "markdown",
   "metadata": {},
   "source": [
    "# Part 5\n",
    "Can you find the best university taking in consideration both rankings? Explain your approach."
   ]
  },
  {
   "cell_type": "code",
   "execution_count": 24,
   "metadata": {},
   "outputs": [
    {
     "data": {
      "text/plain": [
       "'Stanford University'"
      ]
     },
     "execution_count": 24,
     "metadata": {},
     "output_type": "execute_result"
    }
   ],
   "source": [
    "both['tot_rank'] = pd.to_numeric(both['rank_display_times']) + pd.to_numeric(both['rank_display_topU'])\n",
    "both.sort_values(by='tot_rank')['title'][0]"
   ]
  }
 ],
 "metadata": {
  "kernelspec": {
   "display_name": "Python [conda root]",
   "language": "python",
   "name": "conda-root-py"
  },
  "language_info": {
   "codemirror_mode": {
    "name": "ipython",
    "version": 3
   },
   "file_extension": ".py",
   "mimetype": "text/x-python",
   "name": "python",
   "nbconvert_exporter": "python",
   "pygments_lexer": "ipython3",
   "version": "3.6.2"
  }
 },
 "nbformat": 4,
 "nbformat_minor": 2
}
