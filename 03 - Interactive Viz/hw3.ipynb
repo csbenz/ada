{
 "cells": [
  {
   "cell_type": "code",
   "execution_count": 1,
   "metadata": {
    "collapsed": true
   },
   "outputs": [],
   "source": [
    "import folium\n",
    "import pandas as pd\n",
    "import numpy as np\n",
    "import os\n",
    "import json"
   ]
  },
  {
   "cell_type": "code",
   "execution_count": 2,
   "metadata": {},
   "outputs": [
    {
     "data": {
      "text/html": [
       "<div>\n",
       "<style>\n",
       "    .dataframe thead tr:only-child th {\n",
       "        text-align: right;\n",
       "    }\n",
       "\n",
       "    .dataframe thead th {\n",
       "        text-align: left;\n",
       "    }\n",
       "\n",
       "    .dataframe tbody tr th {\n",
       "        vertical-align: top;\n",
       "    }\n",
       "</style>\n",
       "<table border=\"1\" class=\"dataframe\">\n",
       "  <thead>\n",
       "    <tr style=\"text-align: right;\">\n",
       "      <th></th>\n",
       "      <th>2016</th>\n",
       "    </tr>\n",
       "    <tr>\n",
       "      <th>country_code</th>\n",
       "      <th></th>\n",
       "    </tr>\n",
       "  </thead>\n",
       "  <tbody>\n",
       "    <tr>\n",
       "      <th>AT</th>\n",
       "      <td>5.8</td>\n",
       "    </tr>\n",
       "  </tbody>\n",
       "</table>\n",
       "</div>"
      ],
      "text/plain": [
       "              2016 \n",
       "country_code       \n",
       "AT              5.8"
      ]
     },
     "execution_count": 2,
     "metadata": {},
     "output_type": "execute_result"
    }
   ],
   "source": [
    "europe_data_path =  os.path.join('data', 'tepsr_wc170.tsv')\n",
    "europe_data_original = pd.DataFrame.from_csv(europe_data_path, sep='\\t')\n",
    "\n",
    "\n",
    "europe_data = europe_data_original.copy()\n",
    "\n",
    "# Keeps only digits and dots from a string\n",
    "def clean_number(n):\n",
    "    return ''.join(c for c in str(n) if c.isdigit() or c == '.')\n",
    "\n",
    "# Keep only rows for age group 20-64 and drop other age ranges\n",
    "europe_data = europe_data.filter(regex='^PC,T,Y20-64,TOTAL', axis=0)\n",
    "\n",
    "# Clean the values, as some contain letters\n",
    "europe_data = europe_data.applymap(lambda x: clean_number(x))\n",
    "\n",
    "# Rename the indexes to keep only the country code\n",
    "europe_data.index = europe_data.index.to_series().str.replace(r'PC,T,Y20-64,TOTAL,(\\w+)', r'\\1')\n",
    "europe_data.index.name = 'country_code'\n",
    "\n",
    "# Keep only the 2016 column, which is the most recent data\n",
    "europe_data = europe_data[['2016 ']]\n",
    "\n",
    "# Useless below?\n",
    "europe_data = europe_data.fillna('0.0').astype('float')\n",
    "\n",
    "europe_data = europe_data.head(1)\n",
    "\n",
    "europe_data.head()"
   ]
  },
  {
   "cell_type": "code",
   "execution_count": 3,
   "metadata": {},
   "outputs": [
    {
     "ename": "IndexError",
     "evalue": "list index out of range",
     "output_type": "error",
     "traceback": [
      "\u001b[1;31m---------------------------------------------------------------------------\u001b[0m",
      "\u001b[1;31mIndexError\u001b[0m                                Traceback (most recent call last)",
      "\u001b[1;32m<ipython-input-3-cd3e28482d05>\u001b[0m in \u001b[0;36m<module>\u001b[1;34m()\u001b[0m\n\u001b[0;32m     16\u001b[0m                    \u001b[0mkey_on\u001b[0m\u001b[1;33m=\u001b[0m\u001b[1;34m'features.properties.FIPS'\u001b[0m\u001b[1;33m,\u001b[0m\u001b[1;33m\u001b[0m\u001b[0m\n\u001b[0;32m     17\u001b[0m                    \u001b[0mfill_color\u001b[0m\u001b[1;33m=\u001b[0m\u001b[1;34m'YlGn'\u001b[0m\u001b[1;33m,\u001b[0m \u001b[0mfill_opacity\u001b[0m\u001b[1;33m=\u001b[0m\u001b[1;36m0.7\u001b[0m\u001b[1;33m,\u001b[0m \u001b[0mline_opacity\u001b[0m\u001b[1;33m=\u001b[0m\u001b[1;36m0.2\u001b[0m\u001b[1;33m,\u001b[0m\u001b[1;33m\u001b[0m\u001b[0m\n\u001b[1;32m---> 18\u001b[1;33m                    legend_name='Unemployment rate')\n\u001b[0m\u001b[0;32m     19\u001b[0m \u001b[1;33m\u001b[0m\u001b[0m\n\u001b[0;32m     20\u001b[0m \u001b[0meurope_map\u001b[0m\u001b[1;33m\u001b[0m\u001b[0m\n",
      "\u001b[1;32mD:\\Program\\Anaconda3\\lib\\site-packages\\folium\\folium.py\u001b[0m in \u001b[0;36mchoropleth\u001b[1;34m(self, geo_data, data, columns, key_on, threshold_scale, fill_color, fill_opacity, line_color, line_weight, line_opacity, name, legend_name, topojson, reset, smooth_factor, highlight)\u001b[0m\n\u001b[0;32m    250\u001b[0m         \u001b[1;32mif\u001b[0m \u001b[0mhasattr\u001b[0m\u001b[1;33m(\u001b[0m\u001b[0mdata\u001b[0m\u001b[1;33m,\u001b[0m \u001b[1;34m'set_index'\u001b[0m\u001b[1;33m)\u001b[0m\u001b[1;33m:\u001b[0m\u001b[1;33m\u001b[0m\u001b[0m\n\u001b[0;32m    251\u001b[0m             \u001b[1;31m# This is a pd.DataFrame\u001b[0m\u001b[1;33m\u001b[0m\u001b[1;33m\u001b[0m\u001b[0m\n\u001b[1;32m--> 252\u001b[1;33m             \u001b[0mcolor_data\u001b[0m \u001b[1;33m=\u001b[0m \u001b[0mdata\u001b[0m\u001b[1;33m.\u001b[0m\u001b[0mset_index\u001b[0m\u001b[1;33m(\u001b[0m\u001b[0mcolumns\u001b[0m\u001b[1;33m[\u001b[0m\u001b[1;36m0\u001b[0m\u001b[1;33m]\u001b[0m\u001b[1;33m)\u001b[0m\u001b[1;33m[\u001b[0m\u001b[0mcolumns\u001b[0m\u001b[1;33m[\u001b[0m\u001b[1;36m1\u001b[0m\u001b[1;33m]\u001b[0m\u001b[1;33m]\u001b[0m\u001b[1;33m.\u001b[0m\u001b[0mto_dict\u001b[0m\u001b[1;33m(\u001b[0m\u001b[1;33m)\u001b[0m\u001b[1;33m\u001b[0m\u001b[0m\n\u001b[0m\u001b[0;32m    253\u001b[0m         \u001b[1;32melif\u001b[0m \u001b[0mhasattr\u001b[0m\u001b[1;33m(\u001b[0m\u001b[0mdata\u001b[0m\u001b[1;33m,\u001b[0m \u001b[1;34m'to_dict'\u001b[0m\u001b[1;33m)\u001b[0m\u001b[1;33m:\u001b[0m\u001b[1;33m\u001b[0m\u001b[0m\n\u001b[0;32m    254\u001b[0m             \u001b[1;31m# This is a pd.Series\u001b[0m\u001b[1;33m\u001b[0m\u001b[1;33m\u001b[0m\u001b[0m\n",
      "\u001b[1;31mIndexError\u001b[0m: list index out of range"
     ]
    }
   ],
   "source": [
    "#europe_topojson_path = os.path.join('topojson', 'europe.topojson.json')\n",
    "europe_topojson_path = os.path.join('topojson', 'europe.geojson')\n",
    "\n",
    "europe_topojson = json.load(open(europe_topojson_path))\n",
    "europe_map = folium.Map(\n",
    "    location=[53.5775, 23.106111],\n",
    "    tiles='cartodbpositron',\n",
    "    #tiles='Mapbox Bright',\n",
    "    zoom_start=4\n",
    ")\n",
    "\n",
    "folium.GeoJson(europe_topojson).add_to(europe_map)\n",
    "\n",
    "europe_map.choropleth(geo_data=europe_topojson, data=europe_data,\n",
    "                   columns=['2016 '],\n",
    "                   key_on='features.properties.FIPS',\n",
    "                   fill_color='YlGn', fill_opacity=0.7, line_opacity=0.2,\n",
    "                   legend_name='Unemployment rate')\n",
    "\n",
    "europe_map"
   ]
  },
  {
   "cell_type": "markdown",
   "metadata": {},
   "source": [
    "As we couldn't load properly the Json for the swiss, we find a new one on the following  address:\n",
    "https://github.com/rsandstroem/IPythonNotebooks/blob/master/GeoMapsFoliumDemo/switzerland.geojson\n",
    "\n",
    "Getting the Switzerland unemployement data from the provided website was a bit tricky. We first had to specify the encoding to utf-16. And also manually edit the csv file to remove the \"month\" and \"total\" element which appears to be a second layer of header which we don't need."
   ]
  },
  {
   "cell_type": "code",
   "execution_count": 117,
   "metadata": {},
   "outputs": [
    {
     "ename": "SyntaxError",
     "evalue": "invalid syntax (<ipython-input-117-cc871c113782>, line 34)",
     "output_type": "error",
     "traceback": [
      "\u001b[1;36m  File \u001b[1;32m\"<ipython-input-117-cc871c113782>\"\u001b[1;36m, line \u001b[1;32m34\u001b[0m\n\u001b[1;33m    print(feature)\u001b[0m\n\u001b[1;37m        ^\u001b[0m\n\u001b[1;31mSyntaxError\u001b[0m\u001b[1;31m:\u001b[0m invalid syntax\n"
     ]
    }
   ],
   "source": [
    "from branca.colormap import linear\n",
    "\n",
    "#Set the path and load the Json data\n",
    "swiss_topojson_path = os.path.join('topojson', 'ch-cantons.topojson.json')\n",
    "swiss_topojson = json.load(open(swiss_topojson_path))\n",
    "\n",
    "#Load the map with a correct zoom on Switzerland\n",
    "swiss_map = folium.Map(location = [46.8, 8.33], tiles = 'MapBox Bright', zoom_start = 7)\n",
    "\n",
    "#Load the Switzerland unemployement's data\n",
    "swiss_unemployement_Sept2017 = os.path.join('data', 'swiss_unemployement_2.csv')\n",
    "swiss_unemployement = pd.read_csv(swiss_unemployement_Sept2017, sep=';', encoding=\"utf-16\")\n",
    "swiss_unemployement = swiss_unemployement.drop('Mesures', 1).drop('Taux de chômage.1', 1).drop('Chômeurs inscrits.1', 1).drop(\"Demandeurs d'emploi.1\", 1).drop(\"Demandeurs d'emploi non chômeurs.1\", 1)\n",
    "\n",
    "#Create a dictionnary in order to map a \"canton\" to its unemployement rate \n",
    "swiss_unemp_dict = swiss_unemployement.set_index(\"Canton\")[\"Taux de chômage\"]\n",
    "\n",
    "#Create a colormap\n",
    "colormap = linear.YlGn.scale(0, swiss_unemployement[\"Taux de chômage\"].max())\n",
    "print(colormap(5.0))\n",
    "\n",
    "#Create a dictionnary of color based on our \"canton\" - unemployement rate dictionnary\n",
    "color_dict = {key: colormap(swiss_unemp_dict[key]) for key in swiss_unemp_dict.keys()}\n",
    "#Add the Json data to the map\n",
    "folium.GeoJson(\n",
    "    swiss_topojson,\n",
    "    style_function=lambda feature: {\n",
    "        \n",
    "        #'fillColor': color_dict[feature[\"id\"]],\n",
    "        'fillColor': '#ff0000',\n",
    "        'color': 'black',\n",
    "        'weight': 1,\n",
    "        'dashArray': '5, 5'\n",
    "    }\n",
    "\n",
    ").add_to(swiss_map)\n",
    "\n",
    "folium.LayerControl().add_to(swiss_map)\n",
    "#save the map as an html element to show it on GitHub\n",
    "#swiss_map.save(os.path.join('results', 'GeoJSON_SwissMap_1.html'))\n",
    "\n",
    "swiss_map"
   ]
  },
  {
   "cell_type": "code",
   "execution_count": 122,
   "metadata": {
    "scrolled": true
   },
   "outputs": [
    {
     "name": "stdout",
     "output_type": "stream",
     "text": [
      "#086436\n"
     ]
    },
    {
     "ename": "TypeError",
     "evalue": "__init__() missing 1 required positional argument: 'object_path'",
     "output_type": "error",
     "traceback": [
      "\u001b[1;31m---------------------------------------------------------------------------\u001b[0m",
      "\u001b[1;31mTypeError\u001b[0m                                 Traceback (most recent call last)",
      "\u001b[1;32m<ipython-input-122-2e89ba400144>\u001b[0m in \u001b[0;36m<module>\u001b[1;34m()\u001b[0m\n\u001b[0;32m     23\u001b[0m \u001b[0mcolor_dict\u001b[0m \u001b[1;33m=\u001b[0m \u001b[1;33m{\u001b[0m\u001b[0mkey\u001b[0m\u001b[1;33m:\u001b[0m \u001b[0mcolormap\u001b[0m\u001b[1;33m(\u001b[0m\u001b[0mswiss_unemp_dict\u001b[0m\u001b[1;33m[\u001b[0m\u001b[0mkey\u001b[0m\u001b[1;33m]\u001b[0m\u001b[1;33m)\u001b[0m \u001b[1;32mfor\u001b[0m \u001b[0mkey\u001b[0m \u001b[1;32min\u001b[0m \u001b[0mswiss_unemp_dict\u001b[0m\u001b[1;33m.\u001b[0m\u001b[0mkeys\u001b[0m\u001b[1;33m(\u001b[0m\u001b[1;33m)\u001b[0m\u001b[1;33m}\u001b[0m\u001b[1;33m\u001b[0m\u001b[0m\n\u001b[0;32m     24\u001b[0m \u001b[1;33m\u001b[0m\u001b[0m\n\u001b[1;32m---> 25\u001b[1;33m \u001b[0mfolium\u001b[0m\u001b[1;33m.\u001b[0m\u001b[0mTopoJson\u001b[0m\u001b[1;33m(\u001b[0m\u001b[0mswiss_topojson\u001b[0m\u001b[1;33m)\u001b[0m\u001b[1;33m.\u001b[0m\u001b[0madd_to\u001b[0m\u001b[1;33m(\u001b[0m\u001b[0mswiss_map\u001b[0m\u001b[1;33m)\u001b[0m\u001b[1;33m\u001b[0m\u001b[0m\n\u001b[0m\u001b[0;32m     26\u001b[0m \u001b[1;33m\u001b[0m\u001b[0m\n\u001b[0;32m     27\u001b[0m \u001b[0mswiss_map\u001b[0m\u001b[1;33m\u001b[0m\u001b[0m\n",
      "\u001b[1;31mTypeError\u001b[0m: __init__() missing 1 required positional argument: 'object_path'"
     ]
    }
   ],
   "source": [
    "from branca.colormap import linear\n",
    "\n",
    "#Set the path and load the Json data\n",
    "swiss_topojson_path = os.path.join('topojson', 'ch-cantons.topojson.json')\n",
    "swiss_topojson = json.load(open(swiss_topojson_path))\n",
    "\n",
    "#Load the map with a correct zoom on Switzerland\n",
    "swiss_map = folium.Map(location = [46.8, 8.33], tiles='Mapbox Bright', zoom_start = 7)\n",
    "\n",
    "#Load the Switzerland unemployement's data\n",
    "swiss_unemployement_Sept2017 = os.path.join('data', 'swiss_unemployement_2.csv')\n",
    "swiss_unemployement = pd.read_csv(swiss_unemployement_Sept2017, sep=';', encoding=\"utf-16\")\n",
    "swiss_unemployement = swiss_unemployement.drop('Mesures', 1).drop('Taux de chômage.1', 1).drop('Chômeurs inscrits.1', 1).drop(\"Demandeurs d'emploi.1\", 1).drop(\"Demandeurs d'emploi non chômeurs.1\", 1)\n",
    "\n",
    "#Create a dictionnary in order to map a \"canton\" to its unemployement rate \n",
    "swiss_unemp_dict = swiss_unemployement.set_index(\"Canton\")[\"Taux de chômage\"]\n",
    "\n",
    "#Create a colormap\n",
    "colormap = linear.YlGn.scale(0, swiss_unemployement[\"Taux de chômage\"].max())\n",
    "print(colormap(5.0))\n",
    "\n",
    "#Create a dictionnary of color based on our \"canton\" - unemployement rate dictionnary\n",
    "color_dict = {key: colormap(swiss_unemp_dict[key]) for key in swiss_unemp_dict.keys()}\n",
    "\n",
    "folium.TopoJson(swiss_topojson).add_to(swiss_map)\n",
    "\n",
    "swiss_map"
   ]
  },
  {
   "cell_type": "code",
   "execution_count": null,
   "metadata": {
    "collapsed": true
   },
   "outputs": [],
   "source": []
  },
  {
   "cell_type": "code",
   "execution_count": null,
   "metadata": {
    "collapsed": true
   },
   "outputs": [],
   "source": []
  }
 ],
 "metadata": {
  "kernelspec": {
   "display_name": "Python 3",
   "language": "python",
   "name": "python3"
  },
  "language_info": {
   "codemirror_mode": {
    "name": "ipython",
    "version": 3
   },
   "file_extension": ".py",
   "mimetype": "text/x-python",
   "name": "python",
   "nbconvert_exporter": "python",
   "pygments_lexer": "ipython3",
   "version": "3.6.1"
  }
 },
 "nbformat": 4,
 "nbformat_minor": 2
}
